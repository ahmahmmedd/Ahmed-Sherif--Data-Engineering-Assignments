{
  "nbformat": 4,
  "nbformat_minor": 0,
  "metadata": {
    "colab": {
      "provenance": []
    },
    "kernelspec": {
      "name": "python3",
      "display_name": "Python 3"
    },
    "language_info": {
      "name": "python"
    }
  },
  "cells": [
    {
      "cell_type": "code",
      "execution_count": 1,
      "metadata": {
        "id": "aosu3mKeonKW"
      },
      "outputs": [],
      "source": [
        "from pyspark.sql import SparkSession\n",
        "\n",
        "spark = SparkSession.builder \\\n",
        "    .appName(\"SparkSQL\") \\\n",
        "    .config(\"spark.sql.catalogImplementation\", \"hive\") \\\n",
        "    .enableHiveSupport() \\\n",
        "    .getOrCreate()"
      ]
    },
    {
      "cell_type": "markdown",
      "source": [
        "**Database & Table Tasks**\n",
        "\n",
        "Create a new database named sales_db."
      ],
      "metadata": {
        "id": "_9Ts76r4o0Ep"
      }
    },
    {
      "cell_type": "code",
      "source": [
        "spark.sql(\"create database salesdb\")"
      ],
      "metadata": {
        "colab": {
          "base_uri": "https://localhost:8080/"
        },
        "id": "dHZ5rTceo28t",
        "outputId": "6fa789a9-2874-4271-827e-13d35b64d7b7"
      },
      "execution_count": 2,
      "outputs": [
        {
          "output_type": "execute_result",
          "data": {
            "text/plain": [
              "DataFrame[]"
            ]
          },
          "metadata": {},
          "execution_count": 2
        }
      ]
    },
    {
      "cell_type": "markdown",
      "source": [
        "2. Set the current database to sales_db."
      ],
      "metadata": {
        "id": "vKvt--rto-6s"
      }
    },
    {
      "cell_type": "code",
      "source": [
        "spark.sql(\"use salesdb\")"
      ],
      "metadata": {
        "colab": {
          "base_uri": "https://localhost:8080/"
        },
        "id": "gqyAYJu3pDse",
        "outputId": "2bf8e6d3-f276-457c-9b3d-5c99335348b6"
      },
      "execution_count": 3,
      "outputs": [
        {
          "output_type": "execute_result",
          "data": {
            "text/plain": [
              "DataFrame[]"
            ]
          },
          "metadata": {},
          "execution_count": 3
        }
      ]
    },
    {
      "cell_type": "markdown",
      "source": [
        "3. Create table product_sales"
      ],
      "metadata": {
        "id": "P5t_T_WFpG1J"
      }
    },
    {
      "cell_type": "code",
      "source": [
        "spark.sql(\"\"\"\n",
        "create table product_sales (\n",
        "ProductID int,\n",
        "ProductName varchar(30),\n",
        "Category string,\n",
        "Price double,\n",
        "Quantity int,\n",
        "SaleDate date)\"\"\")"
      ],
      "metadata": {
        "colab": {
          "base_uri": "https://localhost:8080/"
        },
        "id": "Hp9rtPsbpPun",
        "outputId": "3f64968f-bb83-44e0-96aa-e78fe3d9aa5c"
      },
      "execution_count": 4,
      "outputs": [
        {
          "output_type": "execute_result",
          "data": {
            "text/plain": [
              "DataFrame[]"
            ]
          },
          "metadata": {},
          "execution_count": 4
        }
      ]
    },
    {
      "cell_type": "markdown",
      "source": [
        "4. Insert at least 5 rows into product_sales"
      ],
      "metadata": {
        "id": "BuvSwk37pTpW"
      }
    },
    {
      "cell_type": "code",
      "source": [
        "spark.sql(\"\"\"\n",
        "insert into product_sales values\n",
        "    (1, 'Smartwatch', 'electronics', 999.99, 2, cast('2025-01-15' as date)),\n",
        "    (2, 'Mobile', 'electronics', 799.99, 3, cast('2023-05-12' as date)),\n",
        "    (3, 'Spoon', 'Utensil', 249.99, 5, cast('2025-11-12' as date)),\n",
        "    (4, 'coffee maker', 'appliances', 129.99, 4, cast('2025-01-24' as date)),\n",
        "    (5, 'Car', 'Vehicle', 200, 6, cast('2024-01-19' as date))\"\"\")"
      ],
      "metadata": {
        "colab": {
          "base_uri": "https://localhost:8080/"
        },
        "id": "PZDFOH14pl9D",
        "outputId": "2a95d5c2-74d1-4e0d-b2cc-d7459ad0c7a7"
      },
      "execution_count": 6,
      "outputs": [
        {
          "output_type": "execute_result",
          "data": {
            "text/plain": [
              "DataFrame[]"
            ]
          },
          "metadata": {},
          "execution_count": 6
        }
      ]
    },
    {
      "cell_type": "markdown",
      "source": [
        " **Query Tasks**\n",
        " 5. Select all records from product_sales."
      ],
      "metadata": {
        "id": "HT4W7uPIqjKF"
      }
    },
    {
      "cell_type": "code",
      "source": [
        "spark.sql(\"select * from product_sales\").show()"
      ],
      "metadata": {
        "colab": {
          "base_uri": "https://localhost:8080/"
        },
        "id": "Knm0OftoqmdZ",
        "outputId": "6c7559d8-c54d-486b-d775-c72ee42f73b4"
      },
      "execution_count": 8,
      "outputs": [
        {
          "output_type": "stream",
          "name": "stdout",
          "text": [
            "+---------+------------+-----------+------+--------+----------+\n",
            "|ProductID| ProductName|   Category| Price|Quantity|  SaleDate|\n",
            "+---------+------------+-----------+------+--------+----------+\n",
            "|        1|  Smartwatch|electronics|999.99|       2|2025-01-15|\n",
            "|        2|      Mobile|electronics|799.99|       3|2023-05-12|\n",
            "|        3|       Spoon|    Utensil|249.99|       5|2025-11-12|\n",
            "|        4|coffee maker| appliances|129.99|       4|2025-01-24|\n",
            "|        5|         Car|    Vehicle| 200.0|       6|2024-01-19|\n",
            "+---------+------------+-----------+------+--------+----------+\n",
            "\n"
          ]
        }
      ]
    },
    {
      "cell_type": "markdown",
      "source": [
        "6. Retrieve products where price is above 500"
      ],
      "metadata": {
        "id": "yoiKLdMorEhs"
      }
    },
    {
      "cell_type": "code",
      "source": [
        "spark.sql(\"select * from product_sales where price > 500\").show()"
      ],
      "metadata": {
        "colab": {
          "base_uri": "https://localhost:8080/"
        },
        "id": "Z9Q_7MKOrH7K",
        "outputId": "6ebe9a62-13f9-49c9-9026-91ca1208328f"
      },
      "execution_count": 9,
      "outputs": [
        {
          "output_type": "stream",
          "name": "stdout",
          "text": [
            "+---------+-----------+-----------+------+--------+----------+\n",
            "|ProductID|ProductName|   Category| Price|Quantity|  SaleDate|\n",
            "+---------+-----------+-----------+------+--------+----------+\n",
            "|        1| Smartwatch|electronics|999.99|       2|2025-01-15|\n",
            "|        2|     Mobile|electronics|799.99|       3|2023-05-12|\n",
            "+---------+-----------+-----------+------+--------+----------+\n",
            "\n"
          ]
        }
      ]
    },
    {
      "cell_type": "markdown",
      "source": [
        "7. Calculate total sale amount (Price * Quantity) for each product"
      ],
      "metadata": {
        "id": "U0JwWuaBrXDX"
      }
    },
    {
      "cell_type": "code",
      "source": [
        "spark.sql(\"\"\"\n",
        "Select ProductID, ProductName, Price, Quantity, (Price * Quantity) AS TotalAmount\n",
        "from product_sales\"\"\").show()"
      ],
      "metadata": {
        "colab": {
          "base_uri": "https://localhost:8080/"
        },
        "id": "aoas3gg2rcYm",
        "outputId": "06f40eb0-b27e-40f1-a2e4-9802dba4ba72"
      },
      "execution_count": 10,
      "outputs": [
        {
          "output_type": "stream",
          "name": "stdout",
          "text": [
            "+---------+------------+------+--------+------------------+\n",
            "|ProductID| ProductName| Price|Quantity|       TotalAmount|\n",
            "+---------+------------+------+--------+------------------+\n",
            "|        1|  Smartwatch|999.99|       2|           1999.98|\n",
            "|        2|      Mobile|799.99|       3|2399.9700000000003|\n",
            "|        3|       Spoon|249.99|       5|           1249.95|\n",
            "|        4|coffee maker|129.99|       4|            519.96|\n",
            "|        5|         Car| 200.0|       6|            1200.0|\n",
            "+---------+------------+------+--------+------------------+\n",
            "\n"
          ]
        }
      ]
    },
    {
      "cell_type": "markdown",
      "source": [
        "8. Find the number of products sold in each Category"
      ],
      "metadata": {
        "id": "fM5k7Juirrui"
      }
    },
    {
      "cell_type": "code",
      "source": [
        "spark.sql(\"\"\"select Category, count(*) as ProductCount\n",
        "from product_sales\n",
        "GROUP BY Category\"\"\").show()"
      ],
      "metadata": {
        "colab": {
          "base_uri": "https://localhost:8080/"
        },
        "id": "9yEAIyraruan",
        "outputId": "ccabac1c-b091-41f4-c0e7-fbdfd6675020"
      },
      "execution_count": 14,
      "outputs": [
        {
          "output_type": "stream",
          "name": "stdout",
          "text": [
            "+-----------+------------+\n",
            "|   Category|ProductCount|\n",
            "+-----------+------------+\n",
            "|electronics|           2|\n",
            "|    Utensil|           1|\n",
            "| appliances|           1|\n",
            "|    Vehicle|           1|\n",
            "+-----------+------------+\n",
            "\n"
          ]
        }
      ]
    },
    {
      "cell_type": "markdown",
      "source": [
        "Q9. Sort products by total sales in descending order"
      ],
      "metadata": {
        "id": "r8ZPR7_CsQVv"
      }
    },
    {
      "cell_type": "code",
      "source": [
        "spark.sql(\"\"\"\n",
        "select productid, productname, (price * quantity) as totalsales\n",
        "from product_sales\n",
        "order by totalsales desc\"\"\").show()"
      ],
      "metadata": {
        "colab": {
          "base_uri": "https://localhost:8080/"
        },
        "id": "R5s9K0CpsEr6",
        "outputId": "1125eaa2-9372-493c-841d-9d0fbe87ddb4"
      },
      "execution_count": 16,
      "outputs": [
        {
          "output_type": "stream",
          "name": "stdout",
          "text": [
            "+---------+------------+------------------+\n",
            "|productid| productname|        totalsales|\n",
            "+---------+------------+------------------+\n",
            "|        2|      Mobile|2399.9700000000003|\n",
            "|        1|  Smartwatch|           1999.98|\n",
            "|        3|       Spoon|           1249.95|\n",
            "|        5|         Car|            1200.0|\n",
            "|        4|coffee maker|            519.96|\n",
            "+---------+------------+------------------+\n",
            "\n"
          ]
        }
      ]
    },
    {
      "cell_type": "markdown",
      "source": [
        "**Temporary View Tasks**\n",
        "\n",
        "Q10. Create a PySpark DataFrame with dummy product data"
      ],
      "metadata": {
        "id": "5nEDiHuusnf6"
      }
    },
    {
      "cell_type": "code",
      "source": [
        "from pyspark.sql import Row\n",
        "data = [\n",
        "    Row(OrderID=101, ProductID=1, Quantity=2),\n",
        "    Row(OrderID=102, ProductID=2, Quantity=1),\n",
        "    Row(OrderID=103, ProductID=3, Quantity=3),\n",
        "    Row(OrderID=104, ProductID=4, Quantity=2),\n",
        "    Row(OrderID=105, ProductID=5, Quantity=1)\n",
        "]\n",
        "df = spark.createDataFrame(data)\n",
        "\n",
        "# 11) Register it as a temporary view called temp_orders\n",
        "df.createOrReplaceTempView(\"temp_orders\")\n",
        "\n",
        "# 12) Run a SQL query to filter temp_orders where quantity > 1\n",
        "spark.sql(\"SELECT * from temp_orders where Quantity > 1\").show()"
      ],
      "metadata": {
        "colab": {
          "base_uri": "https://localhost:8080/"
        },
        "id": "EcpksG_ssrZZ",
        "outputId": "e89144e6-5aa6-481a-93d3-cfaac8667e2f"
      },
      "execution_count": 20,
      "outputs": [
        {
          "output_type": "stream",
          "name": "stdout",
          "text": [
            "+-------+---------+--------+\n",
            "|OrderID|ProductID|Quantity|\n",
            "+-------+---------+--------+\n",
            "|    101|        1|       2|\n",
            "|    103|        3|       3|\n",
            "|    104|        4|       2|\n",
            "+-------+---------+--------+\n",
            "\n"
          ]
        }
      ]
    },
    {
      "cell_type": "markdown",
      "source": [
        "**Global View Tasks**"
      ],
      "metadata": {
        "id": "kh5YPrt6tQ0E"
      }
    },
    {
      "cell_type": "code",
      "source": [
        "# 13. Create a global temp view from a PySpark DataFrame named global_orders\n",
        "df.createOrReplaceGlobalTempView(\"global_orders\")\n",
        "\n",
        "# 14. Run a SQL query on the global view from another notebook cell/session\n",
        "spark.sql(\"select * from global_temp.global_orders\").show()"
      ],
      "metadata": {
        "colab": {
          "base_uri": "https://localhost:8080/"
        },
        "id": "g_qG4scWtW-z",
        "outputId": "f2f24362-7456-4d88-f347-34afddf1ba1c"
      },
      "execution_count": 22,
      "outputs": [
        {
          "output_type": "stream",
          "name": "stdout",
          "text": [
            "+-------+---------+--------+\n",
            "|OrderID|ProductID|Quantity|\n",
            "+-------+---------+--------+\n",
            "|    101|        1|       2|\n",
            "|    102|        2|       1|\n",
            "|    103|        3|       3|\n",
            "|    104|        4|       2|\n",
            "|    105|        5|       1|\n",
            "+-------+---------+--------+\n",
            "\n"
          ]
        }
      ]
    },
    {
      "cell_type": "markdown",
      "source": [
        "**Join Tasks**"
      ],
      "metadata": {
        "id": "A5PxWfULtjhX"
      }
    },
    {
      "cell_type": "code",
      "source": [
        "#15. Create a second table customer_details with: CustomerID, Name, Gender, City, SignupDate\n",
        "spark.sql(\"\"\"\n",
        "create table customer_details (\n",
        "customerid int,\n",
        "name string,\n",
        "gender string,\n",
        "city string,\n",
        "signupdate date)\"\"\")\n",
        "# 16. Insert at least 3 records into customer_details\n",
        "spark.sql(\"\"\"\n",
        "insert into customer_details values\n",
        "(1, 'Fathima Zahira', 'Female', 'new york', cast('2024-01-01' as date)),\n",
        "(2, 'Rizza', 'female', 'los angeles', cast('2025-11-12' as date)),\n",
        "(3, 'bobby knuckles', 'male', 'chicago', cast('2023-11-05' as date))\"\"\")\n",
        "\n",
        "# 17. Write a SQL join between product_sales and customer_details\n",
        "spark.sql(\"\"\"\n",
        "select p.productid,p.productname,c.name as customername,c.city\n",
        "from product_sales p\n",
        "join customer_details c on p.productid = c.customerid\"\"\").show()\n",
        "\n",
        "# 18. List customers who bought more than 2 products\n",
        "spark.sql(\"\"\"\n",
        "select c.customerid,c.name, sum(p.quantity) as totalproducts\n",
        "from customer_details c\n",
        "join product_sales p on c.customerid = p.productid\n",
        "group by c.customerid, c.name\n",
        "having sum(p.quantity) > 2 \"\"\").show()"
      ],
      "metadata": {
        "colab": {
          "base_uri": "https://localhost:8080/"
        },
        "id": "WfxGMMnntkw-",
        "outputId": "554d882e-f9c4-4224-9e00-0b28250442dc"
      },
      "execution_count": 29,
      "outputs": [
        {
          "output_type": "stream",
          "name": "stdout",
          "text": [
            "++\n",
            "||\n",
            "++\n",
            "++\n",
            "\n",
            "+---------+-----------+--------------+-----------+\n",
            "|productid|productname|  customername|       city|\n",
            "+---------+-----------+--------------+-----------+\n",
            "|        1| Smartwatch|Fathima Zahira|   new york|\n",
            "|        2|     Mobile|         Rizza|los angeles|\n",
            "|        3|      Spoon|bobby knuckles|    chicago|\n",
            "+---------+-----------+--------------+-----------+\n",
            "\n",
            "+----------+--------------+-------------+\n",
            "|customerid|          name|totalproducts|\n",
            "+----------+--------------+-------------+\n",
            "|         2|         Rizza|            3|\n",
            "|         3|bobby knuckles|            5|\n",
            "+----------+--------------+-------------+\n",
            "\n"
          ]
        }
      ]
    },
    {
      "cell_type": "markdown",
      "source": [
        " **View & Summary Tasks**"
      ],
      "metadata": {
        "id": "fu1hY41LwJwl"
      }
    },
    {
      "cell_type": "code",
      "source": [
        "#19. Create a SQL view sales_summary that includes: ProductName, Price, Quantity, Total = Price * Quantity\n",
        "spark.sql(\"\"\"\n",
        "create or replace view sales_summary as\n",
        "select productname, price, quantity, (price * quantity) as total\n",
        "from product_sales\"\"\")\n",
        "\n",
        "#20. Query the view for records with Total > 1000 .\n",
        "spark.sql(\"select * from sales_summary where total > 1000\").show()"
      ],
      "metadata": {
        "colab": {
          "base_uri": "https://localhost:8080/"
        },
        "id": "ON_YSOqLwN8x",
        "outputId": "6f1376a1-b06a-484f-e1c6-91249ebcc62a"
      },
      "execution_count": 31,
      "outputs": [
        {
          "output_type": "stream",
          "name": "stdout",
          "text": [
            "+-----------+------+--------+------------------+\n",
            "|productname| price|quantity|             total|\n",
            "+-----------+------+--------+------------------+\n",
            "| Smartwatch|999.99|       2|           1999.98|\n",
            "|     Mobile|799.99|       3|2399.9700000000003|\n",
            "|      Spoon|249.99|       5|           1249.95|\n",
            "|        Car| 200.0|       6|            1200.0|\n",
            "+-----------+------+--------+------------------+\n",
            "\n"
          ]
        }
      ]
    },
    {
      "cell_type": "markdown",
      "source": [
        "**Clean Up Tasks**"
      ],
      "metadata": {
        "id": "1L-DtozMwwEY"
      }
    },
    {
      "cell_type": "code",
      "source": [
        "#21. Drop the view sales_summary .\n",
        "spark.sql(\"drop view if exists sales_summary\")\n",
        "#22. Drop the tables product_sales and customer_details .\n",
        "spark.sql(\"drop table if exists product_sales\")\n",
        "spark.sql(\"drop table if exists customer_details\")\n",
        "#23. Drop the database sales_db .\n",
        "spark.sql(\"drop database if exists sales_db\")"
      ],
      "metadata": {
        "colab": {
          "base_uri": "https://localhost:8080/"
        },
        "id": "b50Mw2ASwtdJ",
        "outputId": "bc557bbb-4c2b-4232-d9a7-0c23a97b79cc"
      },
      "execution_count": 32,
      "outputs": [
        {
          "output_type": "execute_result",
          "data": {
            "text/plain": [
              "DataFrame[]"
            ]
          },
          "metadata": {},
          "execution_count": 32
        }
      ]
    }
  ]
}