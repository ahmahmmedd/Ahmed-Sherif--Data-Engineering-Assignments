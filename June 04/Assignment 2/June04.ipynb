{
  "nbformat": 4,
  "nbformat_minor": 0,
  "metadata": {
    "colab": {
      "provenance": []
    },
    "kernelspec": {
      "name": "python3",
      "display_name": "Python 3"
    },
    "language_info": {
      "name": "python"
    }
  },
  "cells": [
    {
      "cell_type": "code",
      "execution_count": 3,
      "metadata": {
        "id": "tJYzkChfLsjy"
      },
      "outputs": [],
      "source": [
        "from pyspark.sql import SparkSession\n",
        "from pyspark.sql.functions import expr\n",
        "spark = SparkSession.builder.appName(\"PracticeProject\").enableHiveSupport().getOrCreate()\n",
        "\n",
        "customers_data = [ (101, 'Ali', 'ali@gmail.com', 'Mumbai', '2022-05-10'),\n",
        "(102, 'Neha', 'neha@yahoo.com', 'Delhi', '2023-01-15'),\n",
        "(103, 'Ravi', 'ravi@hotmail.com', 'Bangalore', '2021-11-01'),\n",
        "(104, 'Sneha', 'sneha@outlook.com', 'Hyderabad', '2020-07-22'),\n",
        "(105, 'Amit', 'amit@gmail.com', 'Chennai', '2023-03-10'), ]\n",
        "\n",
        "orders_data = [ (1, 101, 'Laptop', 'Electronics', 2, 50000.0, '2024-01-10'),\n",
        "(2, 101, 'Mouse', 'Electronics', 1, 1200.0, '2024-01-15'),\n",
        "(3, 102, 'Tablet', 'Electronics', 1, 20000.0, '2024-02-01'),\n",
        "(4, 103, 'Bookshelf', 'Furniture', 1, 3500.0, '2024-02-10'),\n",
        "(5, 104, 'Mixer', 'Appliances', 1, 5000.0, '2024-02-15'),\n",
        "(6, 105, 'Notebook', 'Stationery', 5, 500.0, '2024-03-01'),\n",
        "(7, 102, 'Phone', 'Electronics', 1, 30000.0, '2024-03-02'), ]\n",
        "\n",
        "customers_df = spark.createDataFrame(customers_data, [\"CustomerID\", \"Name\", \"Email\", \"City\", \"SignupDate\"])\n",
        "orders_df = spark.createDataFrame(orders_data, [\"OrderID\", \"CustomerID\", \"Product\", \"Category\", \"Quantity\", \"Price\", \"OrderDate\"])\n",
        "spark.sql(\"create database sales\")\n",
        "spark.sql(\"use sales\")\n",
        "customers_df.write.mode(\"overwrite\").saveAsTable(\"sales.customers\")\n",
        "orders_df.write.mode(\"overwrite\").saveAsTable(\"sales.orders\")"
      ]
    },
    {
      "cell_type": "markdown",
      "source": [
        "**SECTION A: PySpark DataFrame Tasks**"
      ],
      "metadata": {
        "id": "iFg9OTywQJqs"
      }
    },
    {
      "cell_type": "code",
      "source": [
        "#1. Add a column TotalAmount = Price * Quantity to the order_df\n",
        "from pyspark.sql.functions import col\n",
        "orders_df = orders_df.withColumn(\"TotalAmount\", col(\"Price\") * col(\"Quantity\"))\n",
        "orders_df.show()\n",
        "\n",
        "#2. Filter all orders with TotalAmount > 10000 .\n",
        "a= orders_df.filter(col(\"TotalAmount\") > 10000)\n",
        "a.show()\n",
        "\n",
        "#3. Standardize the City field in orders_df . customers_df (e.g., lowercase).\n",
        "from pyspark.sql.functions import lower\n",
        "customers_df = customers_df.withColumn(\"City\", lower(col(\"City\")))\n",
        "customers_df.show()\n",
        "\n",
        "#4. Extract year from OrderDate and add a new column OrderYear .\n",
        "from pyspark.sql.functions import year\n",
        "order_df = orders_df.withColumn(\"OrderYear\", year(col(\"OrderDate\")))\n",
        "order_df.show()\n",
        "\n",
        "#5. Fill null values in any column of your choice with defaults.\n",
        "b = orders_df.fillna({\"Quantity\": 0})\n",
        "b.show()\n",
        "\n",
        "#6. Use when/otherwise to categorize orders: <5000 : \"Low\" 5000-20000 : \"Medium\" >20000 : \"High\"\n",
        "from pyspark.sql.functions import when\n",
        "c = orders_df.withColumn(\"OrderCategory\",\n",
        "when(col(\"TotalAmount\") < 5000, \"Low\")\n",
        ".when((col(\"TotalAmount\") >= 5000) & (col(\"TotalAmount\") <= 20000), \"Medium\")\n",
        ".otherwise(\"High\"))\n",
        "c.show()"
      ],
      "metadata": {
        "colab": {
          "base_uri": "https://localhost:8080/"
        },
        "id": "xjL6IWF5QOc_",
        "outputId": "c274fc03-714b-40b4-f626-2ce17bd784b3"
      },
      "execution_count": 4,
      "outputs": [
        {
          "output_type": "stream",
          "name": "stdout",
          "text": [
            "+-------+----------+---------+-----------+--------+-------+----------+-----------+\n",
            "|OrderID|CustomerID|  Product|   Category|Quantity|  Price| OrderDate|TotalAmount|\n",
            "+-------+----------+---------+-----------+--------+-------+----------+-----------+\n",
            "|      1|       101|   Laptop|Electronics|       2|50000.0|2024-01-10|   100000.0|\n",
            "|      2|       101|    Mouse|Electronics|       1| 1200.0|2024-01-15|     1200.0|\n",
            "|      3|       102|   Tablet|Electronics|       1|20000.0|2024-02-01|    20000.0|\n",
            "|      4|       103|Bookshelf|  Furniture|       1| 3500.0|2024-02-10|     3500.0|\n",
            "|      5|       104|    Mixer| Appliances|       1| 5000.0|2024-02-15|     5000.0|\n",
            "|      6|       105| Notebook| Stationery|       5|  500.0|2024-03-01|     2500.0|\n",
            "|      7|       102|    Phone|Electronics|       1|30000.0|2024-03-02|    30000.0|\n",
            "+-------+----------+---------+-----------+--------+-------+----------+-----------+\n",
            "\n",
            "+-------+----------+-------+-----------+--------+-------+----------+-----------+\n",
            "|OrderID|CustomerID|Product|   Category|Quantity|  Price| OrderDate|TotalAmount|\n",
            "+-------+----------+-------+-----------+--------+-------+----------+-----------+\n",
            "|      1|       101| Laptop|Electronics|       2|50000.0|2024-01-10|   100000.0|\n",
            "|      3|       102| Tablet|Electronics|       1|20000.0|2024-02-01|    20000.0|\n",
            "|      7|       102|  Phone|Electronics|       1|30000.0|2024-03-02|    30000.0|\n",
            "+-------+----------+-------+-----------+--------+-------+----------+-----------+\n",
            "\n",
            "+----------+-----+-----------------+---------+----------+\n",
            "|CustomerID| Name|            Email|     City|SignupDate|\n",
            "+----------+-----+-----------------+---------+----------+\n",
            "|       101|  Ali|    ali@gmail.com|   mumbai|2022-05-10|\n",
            "|       102| Neha|   neha@yahoo.com|    delhi|2023-01-15|\n",
            "|       103| Ravi| ravi@hotmail.com|bangalore|2021-11-01|\n",
            "|       104|Sneha|sneha@outlook.com|hyderabad|2020-07-22|\n",
            "|       105| Amit|   amit@gmail.com|  chennai|2023-03-10|\n",
            "+----------+-----+-----------------+---------+----------+\n",
            "\n",
            "+-------+----------+---------+-----------+--------+-------+----------+-----------+---------+\n",
            "|OrderID|CustomerID|  Product|   Category|Quantity|  Price| OrderDate|TotalAmount|OrderYear|\n",
            "+-------+----------+---------+-----------+--------+-------+----------+-----------+---------+\n",
            "|      1|       101|   Laptop|Electronics|       2|50000.0|2024-01-10|   100000.0|     2024|\n",
            "|      2|       101|    Mouse|Electronics|       1| 1200.0|2024-01-15|     1200.0|     2024|\n",
            "|      3|       102|   Tablet|Electronics|       1|20000.0|2024-02-01|    20000.0|     2024|\n",
            "|      4|       103|Bookshelf|  Furniture|       1| 3500.0|2024-02-10|     3500.0|     2024|\n",
            "|      5|       104|    Mixer| Appliances|       1| 5000.0|2024-02-15|     5000.0|     2024|\n",
            "|      6|       105| Notebook| Stationery|       5|  500.0|2024-03-01|     2500.0|     2024|\n",
            "|      7|       102|    Phone|Electronics|       1|30000.0|2024-03-02|    30000.0|     2024|\n",
            "+-------+----------+---------+-----------+--------+-------+----------+-----------+---------+\n",
            "\n",
            "+-------+----------+---------+-----------+--------+-------+----------+-----------+\n",
            "|OrderID|CustomerID|  Product|   Category|Quantity|  Price| OrderDate|TotalAmount|\n",
            "+-------+----------+---------+-----------+--------+-------+----------+-----------+\n",
            "|      1|       101|   Laptop|Electronics|       2|50000.0|2024-01-10|   100000.0|\n",
            "|      2|       101|    Mouse|Electronics|       1| 1200.0|2024-01-15|     1200.0|\n",
            "|      3|       102|   Tablet|Electronics|       1|20000.0|2024-02-01|    20000.0|\n",
            "|      4|       103|Bookshelf|  Furniture|       1| 3500.0|2024-02-10|     3500.0|\n",
            "|      5|       104|    Mixer| Appliances|       1| 5000.0|2024-02-15|     5000.0|\n",
            "|      6|       105| Notebook| Stationery|       5|  500.0|2024-03-01|     2500.0|\n",
            "|      7|       102|    Phone|Electronics|       1|30000.0|2024-03-02|    30000.0|\n",
            "+-------+----------+---------+-----------+--------+-------+----------+-----------+\n",
            "\n",
            "+-------+----------+---------+-----------+--------+-------+----------+-----------+-------------+\n",
            "|OrderID|CustomerID|  Product|   Category|Quantity|  Price| OrderDate|TotalAmount|OrderCategory|\n",
            "+-------+----------+---------+-----------+--------+-------+----------+-----------+-------------+\n",
            "|      1|       101|   Laptop|Electronics|       2|50000.0|2024-01-10|   100000.0|         High|\n",
            "|      2|       101|    Mouse|Electronics|       1| 1200.0|2024-01-15|     1200.0|          Low|\n",
            "|      3|       102|   Tablet|Electronics|       1|20000.0|2024-02-01|    20000.0|       Medium|\n",
            "|      4|       103|Bookshelf|  Furniture|       1| 3500.0|2024-02-10|     3500.0|          Low|\n",
            "|      5|       104|    Mixer| Appliances|       1| 5000.0|2024-02-15|     5000.0|       Medium|\n",
            "|      6|       105| Notebook| Stationery|       5|  500.0|2024-03-01|     2500.0|          Low|\n",
            "|      7|       102|    Phone|Electronics|       1|30000.0|2024-03-02|    30000.0|         High|\n",
            "+-------+----------+---------+-----------+--------+-------+----------+-----------+-------------+\n",
            "\n"
          ]
        }
      ]
    },
    {
      "cell_type": "markdown",
      "source": [
        "**SECTION B: Spark SQL Tasks**"
      ],
      "metadata": {
        "id": "FlgZjpcZRkyZ"
      }
    },
    {
      "cell_type": "code",
      "source": [
        "#7. Run a SQL query to list all orders made by “Ali”.\n",
        "spark.sql(\"\"\"\n",
        "select o.* FROM sales.orders o\n",
        "join sales.customers c on o.CustomerID = c.CustomerID\n",
        "where c.Name = 'Ali'\"\"\").show()\n",
        "\n",
        "#8. Get total spending by each customer using SQL.\n",
        "spark.sql(\"\"\"\n",
        "select c.CustomerID, c.Name, SUM(o.Price * o.Quantity) as TotalSpending\n",
        "from sales.orders o\n",
        "join sales.customers c on o.CustomerID = c.CustomerID\n",
        "group by c.CustomerID, c.Name\n",
        "order by TotalSpending desc\"\"\").show()\n",
        "\n",
        "#9. Find out which category made the highest total revenue.\n",
        "spark.sql(\"\"\"\n",
        "select Category, SUM(Price * Quantity) as TotalRevenue\n",
        "from sales.orders\n",
        "group by Category\n",
        "order by TotalRevenue desc limit 1\"\"\").show()\n",
        "\n",
        "#10. Create a view customer_orders showing CustomerName, Product, TotalAmount .\n",
        "spark.sql(\"\"\"\n",
        "create or replace view customer_orders as\n",
        "select c.Name as CustomerName, o.Product, (o.Price * o.Quantity) as TotalAmount\n",
        "from sales.orders o\n",
        "join sales.customers c on o.CustomerID = c.CustomerID\"\"\")\n",
        "\n",
        "#11. Query the view for products ordered after Feb 2024.\n",
        "spark.sql(\"\"\"\n",
        "select * from customer_orders co\n",
        "join sales.orders o on co.Product = o.Product\n",
        "where o.OrderDate >= '2024-03-01'\"\"\").show()"
      ],
      "metadata": {
        "colab": {
          "base_uri": "https://localhost:8080/"
        },
        "id": "KvdSQDhoRjzA",
        "outputId": "77aa826a-5716-4f92-ef72-1fcf88274074"
      },
      "execution_count": 5,
      "outputs": [
        {
          "output_type": "stream",
          "name": "stdout",
          "text": [
            "+-------+----------+-------+-----------+--------+-------+----------+\n",
            "|OrderID|CustomerID|Product|   Category|Quantity|  Price| OrderDate|\n",
            "+-------+----------+-------+-----------+--------+-------+----------+\n",
            "|      1|       101| Laptop|Electronics|       2|50000.0|2024-01-10|\n",
            "|      2|       101|  Mouse|Electronics|       1| 1200.0|2024-01-15|\n",
            "+-------+----------+-------+-----------+--------+-------+----------+\n",
            "\n",
            "+----------+-----+-------------+\n",
            "|CustomerID| Name|TotalSpending|\n",
            "+----------+-----+-------------+\n",
            "|       101|  Ali|     101200.0|\n",
            "|       102| Neha|      50000.0|\n",
            "|       104|Sneha|       5000.0|\n",
            "|       103| Ravi|       3500.0|\n",
            "|       105| Amit|       2500.0|\n",
            "+----------+-----+-------------+\n",
            "\n",
            "+-----------+------------+\n",
            "|   Category|TotalRevenue|\n",
            "+-----------+------------+\n",
            "|Electronics|    151200.0|\n",
            "+-----------+------------+\n",
            "\n",
            "+------------+--------+-----------+-------+----------+--------+-----------+--------+-------+----------+\n",
            "|CustomerName| Product|TotalAmount|OrderID|CustomerID| Product|   Category|Quantity|  Price| OrderDate|\n",
            "+------------+--------+-----------+-------+----------+--------+-----------+--------+-------+----------+\n",
            "|        Amit|Notebook|     2500.0|      6|       105|Notebook| Stationery|       5|  500.0|2024-03-01|\n",
            "|        Neha|   Phone|    30000.0|      7|       102|   Phone|Electronics|       1|30000.0|2024-03-02|\n",
            "+------------+--------+-----------+-------+----------+--------+-----------+--------+-------+----------+\n",
            "\n"
          ]
        }
      ]
    },
    {
      "cell_type": "markdown",
      "source": [
        "**SECTION C: Advanced Practice**"
      ],
      "metadata": {
        "id": "R-nlbtE8WUES"
      }
    },
    {
      "cell_type": "code",
      "source": [
        "#12. Create a Global Temp View from customers_df , then query it using (SELECT * FROM global_temp.customers WHERE City = 'Mumbai'; ):\n",
        "customers_df.createOrReplaceGlobalTempView(\"customers\")\n",
        "spark.sql(\"select * from global_temp.customers where City = 'mumbai';\").show()\n",
        "\n",
        "#13. Save the transformed orders_df (with TotalAmount) to a Parquet file.\n",
        "orders_df.write.parquet(\"orders_with_total.parquet\", mode=\"overwrite\")\n",
        "\n",
        "#14. Read back the Parquet file and count how many orders are in it.\n",
        "parquet_df = spark.read.parquet(\"orders_with_total.parquet\")\n",
        "print(f\"Total orders: {parquet_df.count()}\")"
      ],
      "metadata": {
        "colab": {
          "base_uri": "https://localhost:8080/"
        },
        "id": "PHhV0GN8WWUF",
        "outputId": "cf9cfc32-94a7-422a-e398-f4b5d934aa16"
      },
      "execution_count": 12,
      "outputs": [
        {
          "output_type": "stream",
          "name": "stdout",
          "text": [
            "+----------+----+-------------+------+----------+--------------+---------------+\n",
            "|CustomerID|Name|        Email|  City|SignupDate|   MaskedEmail|CustomerAgeDays|\n",
            "+----------+----+-------------+------+----------+--------------+---------------+\n",
            "|       101| Ali|ali@gmail.com|mumbai|2022-05-10|a***@gmail.com|           1121|\n",
            "+----------+----+-------------+------+----------+--------------+---------------+\n",
            "\n",
            "Total orders: 7\n"
          ]
        }
      ]
    },
    {
      "cell_type": "markdown",
      "source": [
        "SECTION D: UDF + Built-in Function Tasks"
      ],
      "metadata": {
        "id": "58B9XyspW_rq"
      }
    },
    {
      "cell_type": "code",
      "source": [
        "#15. Write a UDF that masks emails like: ali@gmail.com → a***@gmail.com .\n",
        "from pyspark.sql.functions import udf\n",
        "from pyspark.sql.types import StringType\n",
        "\n",
        "def mask_email(email):\n",
        "    if '@' in email:\n",
        "        name, domain = email.split('@')\n",
        "        return f\"{name[0]}***@{domain}\"\n",
        "    return email\n",
        "masked = udf(mask_email, StringType())\n",
        "customers_df = customers_df.withColumn(\"MaskedEmail\", masked(col(\"Email\")))\n",
        "customers_df.select(\"CustomerID\", \"Name\", \"MaskedEmail\", \"City\", \"SignupDate\").show()\n",
        "\n",
        "#16. Use concat_ws() to create a full label like: 17. Use 'Ali from Mumbai'\n",
        "from pyspark.sql.functions import concat_ws, lit\n",
        "cust_df = customers_df.withColumn(\"FullLabel\",\n",
        "    concat_ws(\" \", col(\"Name\"), lit(\"from\"), col(\"City\")))\n",
        "cust_df.show()\n",
        "\n",
        "#17. Use regexp_replace() to remove special characters from product names\n",
        "from pyspark.sql.functions import regexp_replace\n",
        "orders_df = orders_df.withColumn(\"CleanProduct\",\n",
        "    regexp_replace(col(\"Product\"), \"[^a-zA-Z0-9]\", \"\"))\n",
        "orders_df.show()\n",
        "\n",
        "#18. Use to_date() and datediff() to calculate customer age in days (from SignupDate to today).\n",
        "from pyspark.sql.functions import datediff, current_date, to_date\n",
        "customers_df = customers_df.withColumn(\"SignupDate\", to_date(col(\"SignupDate\")))\n",
        "customers_df = customers_df.withColumn(\"CustomerAgeDays\",\n",
        "    datediff(current_date(), col(\"SignupDate\")))\n",
        "customers_df.show()"
      ],
      "metadata": {
        "colab": {
          "base_uri": "https://localhost:8080/"
        },
        "id": "A1n9-6d3XDaf",
        "outputId": "00223b18-451c-4655-d384-3d6369e901e6"
      },
      "execution_count": 13,
      "outputs": [
        {
          "output_type": "stream",
          "name": "stdout",
          "text": [
            "+----------+-----+----------------+---------+----------+\n",
            "|CustomerID| Name|     MaskedEmail|     City|SignupDate|\n",
            "+----------+-----+----------------+---------+----------+\n",
            "|       101|  Ali|  a***@gmail.com|   mumbai|2022-05-10|\n",
            "|       102| Neha|  n***@yahoo.com|    delhi|2023-01-15|\n",
            "|       103| Ravi|r***@hotmail.com|bangalore|2021-11-01|\n",
            "|       104|Sneha|s***@outlook.com|hyderabad|2020-07-22|\n",
            "|       105| Amit|  a***@gmail.com|  chennai|2023-03-10|\n",
            "+----------+-----+----------------+---------+----------+\n",
            "\n",
            "+----------+-----+-----------------+---------+----------+----------------+---------------+--------------------+\n",
            "|CustomerID| Name|            Email|     City|SignupDate|     MaskedEmail|CustomerAgeDays|           FullLabel|\n",
            "+----------+-----+-----------------+---------+----------+----------------+---------------+--------------------+\n",
            "|       101|  Ali|    ali@gmail.com|   mumbai|2022-05-10|  a***@gmail.com|           1121|     Ali from mumbai|\n",
            "|       102| Neha|   neha@yahoo.com|    delhi|2023-01-15|  n***@yahoo.com|            871|     Neha from delhi|\n",
            "|       103| Ravi| ravi@hotmail.com|bangalore|2021-11-01|r***@hotmail.com|           1311| Ravi from bangalore|\n",
            "|       104|Sneha|sneha@outlook.com|hyderabad|2020-07-22|s***@outlook.com|           1778|Sneha from hyderabad|\n",
            "|       105| Amit|   amit@gmail.com|  chennai|2023-03-10|  a***@gmail.com|            817|   Amit from chennai|\n",
            "+----------+-----+-----------------+---------+----------+----------------+---------------+--------------------+\n",
            "\n",
            "+-------+----------+---------+-----------+--------+-------+----------+-----------+------------+\n",
            "|OrderID|CustomerID|  Product|   Category|Quantity|  Price| OrderDate|TotalAmount|CleanProduct|\n",
            "+-------+----------+---------+-----------+--------+-------+----------+-----------+------------+\n",
            "|      1|       101|   Laptop|Electronics|       2|50000.0|2024-01-10|   100000.0|      Laptop|\n",
            "|      2|       101|    Mouse|Electronics|       1| 1200.0|2024-01-15|     1200.0|       Mouse|\n",
            "|      3|       102|   Tablet|Electronics|       1|20000.0|2024-02-01|    20000.0|      Tablet|\n",
            "|      4|       103|Bookshelf|  Furniture|       1| 3500.0|2024-02-10|     3500.0|   Bookshelf|\n",
            "|      5|       104|    Mixer| Appliances|       1| 5000.0|2024-02-15|     5000.0|       Mixer|\n",
            "|      6|       105| Notebook| Stationery|       5|  500.0|2024-03-01|     2500.0|    Notebook|\n",
            "|      7|       102|    Phone|Electronics|       1|30000.0|2024-03-02|    30000.0|       Phone|\n",
            "+-------+----------+---------+-----------+--------+-------+----------+-----------+------------+\n",
            "\n",
            "+----------+-----+-----------------+---------+----------+----------------+---------------+\n",
            "|CustomerID| Name|            Email|     City|SignupDate|     MaskedEmail|CustomerAgeDays|\n",
            "+----------+-----+-----------------+---------+----------+----------------+---------------+\n",
            "|       101|  Ali|    ali@gmail.com|   mumbai|2022-05-10|  a***@gmail.com|           1121|\n",
            "|       102| Neha|   neha@yahoo.com|    delhi|2023-01-15|  n***@yahoo.com|            871|\n",
            "|       103| Ravi| ravi@hotmail.com|bangalore|2021-11-01|r***@hotmail.com|           1311|\n",
            "|       104|Sneha|sneha@outlook.com|hyderabad|2020-07-22|s***@outlook.com|           1778|\n",
            "|       105| Amit|   amit@gmail.com|  chennai|2023-03-10|  a***@gmail.com|            817|\n",
            "+----------+-----+-----------------+---------+----------+----------------+---------------+\n",
            "\n"
          ]
        }
      ]
    }
  ]
}