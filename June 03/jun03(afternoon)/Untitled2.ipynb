{
  "nbformat": 4,
  "nbformat_minor": 0,
  "metadata": {
    "colab": {
      "provenance": []
    },
    "kernelspec": {
      "name": "python3",
      "display_name": "Python 3"
    },
    "language_info": {
      "name": "python"
    }
  },
  "cells": [
    {
      "cell_type": "code",
      "execution_count": 10,
      "metadata": {
        "id": "b51VZV1YEAZt"
      },
      "outputs": [],
      "source": [
        "import pandas as pd\n",
        "import dask.dataframe as dd\n",
        "from pyspark.sql.functions import col, when, year, month, current_date, datediff, to_date, explode, get_json_object, udf\n",
        "from pyspark.sql.types import StringType\n",
        "import json\n",
        "import datetime\n",
        "from pyspark.sql import SparkSession\n",
        "spark = (\n",
        "    SparkSession.builder\\\n",
        "    .appName(\"SalesData\")\\\n",
        "    .getOrCreate())"
      ]
    },
    {
      "cell_type": "code",
      "source": [
        "from google.colab import drive\n",
        "drive.mount('/content/drive')\n",
        "df = spark.read.csv(\"/content/drive/MyDrive/Sales_Dataset__500_Records_.csv\", header=True, inferSchema=True)"
      ],
      "metadata": {
        "colab": {
          "base_uri": "https://localhost:8080/"
        },
        "id": "TTWZLywSLBsg",
        "outputId": "3078e2ec-c03c-4291-bc9f-096e5df0f566"
      },
      "execution_count": 3,
      "outputs": [
        {
          "output_type": "stream",
          "name": "stdout",
          "text": [
            "Mounted at /content/drive\n"
          ]
        }
      ]
    },
    {
      "cell_type": "markdown",
      "source": [
        "**1. DataFrame Creation and Inspection**"
      ],
      "metadata": {
        "id": "ogA1JwXlOmFI"
      }
    },
    {
      "cell_type": "code",
      "source": [
        "# PySpark\n",
        "df.show(5)\n",
        "df.show(5, truncate=False)\n",
        "df.tail(5)\n",
        "print(df.printSchema())\n",
        "\n",
        "# Pandas\n",
        "pdf = pd.read_csv(\"/content/drive/MyDrive/Sales_Dataset__500_Records_.csv\")\n",
        "print(pdf.head(5))\n",
        "print(pdf.tail(5))\n",
        "print(pdf.dtypes)\n",
        "\n",
        "# Dask\n",
        "ddf = dd.read_csv(\"/content/drive/MyDrive/Sales_Dataset__500_Records_.csv\")\n",
        "print(ddf.head(5))\n",
        "print(ddf.tail(5))\n",
        "print(ddf.dtypes)"
      ],
      "metadata": {
        "colab": {
          "base_uri": "https://localhost:8080/"
        },
        "id": "ExJt0tjJOscq",
        "outputId": "8957a4c4-3a4c-43c9-8512-39f2cbfa5332"
      },
      "execution_count": 11,
      "outputs": [
        {
          "output_type": "stream",
          "name": "stdout",
          "text": [
            "+-------+--------------+---------------+------+----------+--------------+--------+----------------+-----------+-------------+\n",
            "|OrderID|  CustomerName|ProductCategory|Amount| OrderDate|DeliveryStatus|Discount|            City|PaymentMode|CustomerSince|\n",
            "+-------+--------------+---------------+------+----------+--------------+--------+----------------+-----------+-------------+\n",
            "|   2824| Donald Walker|          Books|783.04|2024-12-26|      Returned|    0.15|    Lake Joyside|Credit Card|   2020-10-15|\n",
            "|   7912|  Brandon Hall|      Groceries| 905.0|2024-09-12|     Cancelled|    0.03|   New Jamesside|     Wallet|   2022-03-15|\n",
            "|   4611|  Donald Booth|        Fashion|657.96|2025-01-12|      Returned|    0.01|    Lake Roberto|     Wallet|   2021-08-07|\n",
            "|   3547|Phillip Garcia|        Fashion|606.89|2024-03-24|      Returned|    0.15|West Melanieview|     Wallet|   2020-08-08|\n",
            "|   8527|  Valerie Gray|           Toys| 77.87|2024-08-04|     Delivered|    0.17|       Mariastad|       Cash|   2022-11-15|\n",
            "+-------+--------------+---------------+------+----------+--------------+--------+----------------+-----------+-------------+\n",
            "only showing top 5 rows\n",
            "\n",
            "+-------+--------------+---------------+------+----------+--------------+--------+----------------+-----------+-------------+\n",
            "|OrderID|CustomerName  |ProductCategory|Amount|OrderDate |DeliveryStatus|Discount|City            |PaymentMode|CustomerSince|\n",
            "+-------+--------------+---------------+------+----------+--------------+--------+----------------+-----------+-------------+\n",
            "|2824   |Donald Walker |Books          |783.04|2024-12-26|Returned      |0.15    |Lake Joyside    |Credit Card|2020-10-15   |\n",
            "|7912   |Brandon Hall  |Groceries      |905.0 |2024-09-12|Cancelled     |0.03    |New Jamesside   |Wallet     |2022-03-15   |\n",
            "|4611   |Donald Booth  |Fashion        |657.96|2025-01-12|Returned      |0.01    |Lake Roberto    |Wallet     |2021-08-07   |\n",
            "|3547   |Phillip Garcia|Fashion        |606.89|2024-03-24|Returned      |0.15    |West Melanieview|Wallet     |2020-08-08   |\n",
            "|8527   |Valerie Gray  |Toys           |77.87 |2024-08-04|Delivered     |0.17    |Mariastad       |Cash       |2022-11-15   |\n",
            "+-------+--------------+---------------+------+----------+--------------+--------+----------------+-----------+-------------+\n",
            "only showing top 5 rows\n",
            "\n",
            "root\n",
            " |-- OrderID: integer (nullable = true)\n",
            " |-- CustomerName: string (nullable = true)\n",
            " |-- ProductCategory: string (nullable = true)\n",
            " |-- Amount: double (nullable = true)\n",
            " |-- OrderDate: date (nullable = true)\n",
            " |-- DeliveryStatus: string (nullable = true)\n",
            " |-- Discount: double (nullable = true)\n",
            " |-- City: string (nullable = true)\n",
            " |-- PaymentMode: string (nullable = true)\n",
            " |-- CustomerSince: date (nullable = true)\n",
            "\n",
            "None\n",
            "   OrderID    CustomerName ProductCategory  Amount   OrderDate DeliveryStatus  \\\n",
            "0     2824   Donald Walker           Books  783.04  2024-12-26       Returned   \n",
            "1     7912    Brandon Hall       Groceries  905.00  2024-09-12      Cancelled   \n",
            "2     4611    Donald Booth         Fashion  657.96  2025-01-12       Returned   \n",
            "3     3547  Phillip Garcia         Fashion  606.89  2024-03-24       Returned   \n",
            "4     8527    Valerie Gray            Toys   77.87  2024-08-04      Delivered   \n",
            "\n",
            "   Discount              City  PaymentMode CustomerSince  \n",
            "0      0.15      Lake Joyside  Credit Card    2020-10-15  \n",
            "1      0.03     New Jamesside       Wallet    2022-03-15  \n",
            "2      0.01      Lake Roberto       Wallet    2021-08-07  \n",
            "3      0.15  West Melanieview       Wallet    2020-08-08  \n",
            "4      0.17         Mariastad         Cash    2022-11-15  \n",
            "     OrderID     CustomerName ProductCategory  Amount   OrderDate  \\\n",
            "495     2930     Jaime Harris         Fashion  680.00  2025-02-16   \n",
            "496     7980       Dawn Wyatt         Fashion  285.32  2024-04-26   \n",
            "497     7770    Kristin White       Groceries  792.11  2024-08-10   \n",
            "498     6641  Jennifer Taylor            Toys  578.49  2025-04-03   \n",
            "499     4513      Rachel Owen     Electronics  904.97  2024-09-21   \n",
            "\n",
            "    DeliveryStatus  Discount             City PaymentMode CustomerSince  \n",
            "495       Returned      0.20      Robertville        Cash    2021-01-28  \n",
            "496      Cancelled      0.06       Cherylfurt         UPI    2021-04-14  \n",
            "497       Returned      0.07         Kingport         UPI    2022-11-16  \n",
            "498      Delivered      0.10  Lake Jerryburgh        Cash    2020-11-04  \n",
            "499      Delivered      0.12    East Paultown        Cash    2020-10-21  \n",
            "OrderID              int64\n",
            "CustomerName        object\n",
            "ProductCategory     object\n",
            "Amount             float64\n",
            "OrderDate           object\n",
            "DeliveryStatus      object\n",
            "Discount           float64\n",
            "City                object\n",
            "PaymentMode         object\n",
            "CustomerSince       object\n",
            "dtype: object\n",
            "   OrderID    CustomerName ProductCategory  Amount   OrderDate DeliveryStatus  \\\n",
            "0     2824   Donald Walker           Books  783.04  2024-12-26       Returned   \n",
            "1     7912    Brandon Hall       Groceries  905.00  2024-09-12      Cancelled   \n",
            "2     4611    Donald Booth         Fashion  657.96  2025-01-12       Returned   \n",
            "3     3547  Phillip Garcia         Fashion  606.89  2024-03-24       Returned   \n",
            "4     8527    Valerie Gray            Toys   77.87  2024-08-04      Delivered   \n",
            "\n",
            "   Discount              City  PaymentMode CustomerSince  \n",
            "0      0.15      Lake Joyside  Credit Card    2020-10-15  \n",
            "1      0.03     New Jamesside       Wallet    2022-03-15  \n",
            "2      0.01      Lake Roberto       Wallet    2021-08-07  \n",
            "3      0.15  West Melanieview       Wallet    2020-08-08  \n",
            "4      0.17         Mariastad         Cash    2022-11-15  \n",
            "     OrderID     CustomerName ProductCategory  Amount   OrderDate  \\\n",
            "495     2930     Jaime Harris         Fashion  680.00  2025-02-16   \n",
            "496     7980       Dawn Wyatt         Fashion  285.32  2024-04-26   \n",
            "497     7770    Kristin White       Groceries  792.11  2024-08-10   \n",
            "498     6641  Jennifer Taylor            Toys  578.49  2025-04-03   \n",
            "499     4513      Rachel Owen     Electronics  904.97  2024-09-21   \n",
            "\n",
            "    DeliveryStatus  Discount             City PaymentMode CustomerSince  \n",
            "495       Returned      0.20      Robertville        Cash    2021-01-28  \n",
            "496      Cancelled      0.06       Cherylfurt         UPI    2021-04-14  \n",
            "497       Returned      0.07         Kingport         UPI    2022-11-16  \n",
            "498      Delivered      0.10  Lake Jerryburgh        Cash    2020-11-04  \n",
            "499      Delivered      0.12    East Paultown        Cash    2020-10-21  \n",
            "OrderID                      int64\n",
            "CustomerName       string[pyarrow]\n",
            "ProductCategory    string[pyarrow]\n",
            "Amount                     float64\n",
            "OrderDate          string[pyarrow]\n",
            "DeliveryStatus     string[pyarrow]\n",
            "Discount                   float64\n",
            "City               string[pyarrow]\n",
            "PaymentMode        string[pyarrow]\n",
            "CustomerSince      string[pyarrow]\n",
            "dtype: object\n"
          ]
        }
      ]
    },
    {
      "cell_type": "markdown",
      "source": [
        "**Selection, Renaming, and Filtering**"
      ],
      "metadata": {
        "id": "bVHfeqMQVG4J"
      }
    },
    {
      "cell_type": "code",
      "source": [
        "# PySpark\n",
        "# Select columns\n",
        "selected_df = df.select(\"OrderID\", \"CustomerName\", \"Amount\")\n",
        "selected_df.show()\n",
        "\n",
        "# Rename column\n",
        "renamed_df = selected_df.withColumnRenamed(\"Amount\", \"OrderAmount\")\n",
        "renamed_df.show()\n",
        "\n",
        "# Filter amount > 500\n",
        "filtered_df = renamed_df.filter(col(\"OrderAmount\") > 500)\n",
        "filtered_df.show()\n",
        "\n",
        "# Filter specific city\n",
        "city_filtered_df = df.filter(col(\"City\") == \"Port Roy\")\n",
        "city_filtered_df.show()"
      ],
      "metadata": {
        "colab": {
          "base_uri": "https://localhost:8080/"
        },
        "id": "0BdwqCRnVPQW",
        "outputId": "2fb4c0fc-05fe-4b8a-b63e-e13dddf0d1ac"
      },
      "execution_count": 19,
      "outputs": [
        {
          "output_type": "stream",
          "name": "stdout",
          "text": [
            "+-------+------------------+------+\n",
            "|OrderID|      CustomerName|Amount|\n",
            "+-------+------------------+------+\n",
            "|   2824|     Donald Walker|783.04|\n",
            "|   7912|      Brandon Hall| 905.0|\n",
            "|   4611|      Donald Booth|657.96|\n",
            "|   3547|    Phillip Garcia|606.89|\n",
            "|   8527|      Valerie Gray| 77.87|\n",
            "|   4150|       Amber Perez|352.37|\n",
            "|   5554|        Roy Martin|148.33|\n",
            "|   2169|    Carolyn Daniel| 14.09|\n",
            "|   6313|       Patty Perez| 79.83|\n",
            "|   6155|Jonathan Wilkerson|882.68|\n",
            "|   9830|       Kevin Hurst|870.55|\n",
            "|   9085| Anthony Rodriguez|921.73|\n",
            "|   2040|     Kyle Mcdonald|327.52|\n",
            "|   6573|    Jeffrey Chavez|676.02|\n",
            "|   2743|  Elizabeth Fowler| 47.06|\n",
            "|   9837|     Tammy Sellers| 46.15|\n",
            "|   6038|     David Bradley|348.51|\n",
            "|   3060|       John Pierce|362.09|\n",
            "|   4295|   Jennifer Powers|684.26|\n",
            "|   5061|    George Chapman|251.89|\n",
            "+-------+------------------+------+\n",
            "only showing top 20 rows\n",
            "\n",
            "+-------+------------------+-----------+\n",
            "|OrderID|      CustomerName|OrderAmount|\n",
            "+-------+------------------+-----------+\n",
            "|   2824|     Donald Walker|     783.04|\n",
            "|   7912|      Brandon Hall|      905.0|\n",
            "|   4611|      Donald Booth|     657.96|\n",
            "|   3547|    Phillip Garcia|     606.89|\n",
            "|   8527|      Valerie Gray|      77.87|\n",
            "|   4150|       Amber Perez|     352.37|\n",
            "|   5554|        Roy Martin|     148.33|\n",
            "|   2169|    Carolyn Daniel|      14.09|\n",
            "|   6313|       Patty Perez|      79.83|\n",
            "|   6155|Jonathan Wilkerson|     882.68|\n",
            "|   9830|       Kevin Hurst|     870.55|\n",
            "|   9085| Anthony Rodriguez|     921.73|\n",
            "|   2040|     Kyle Mcdonald|     327.52|\n",
            "|   6573|    Jeffrey Chavez|     676.02|\n",
            "|   2743|  Elizabeth Fowler|      47.06|\n",
            "|   9837|     Tammy Sellers|      46.15|\n",
            "|   6038|     David Bradley|     348.51|\n",
            "|   3060|       John Pierce|     362.09|\n",
            "|   4295|   Jennifer Powers|     684.26|\n",
            "|   5061|    George Chapman|     251.89|\n",
            "+-------+------------------+-----------+\n",
            "only showing top 20 rows\n",
            "\n",
            "+-------+------------------+-----------+\n",
            "|OrderID|      CustomerName|OrderAmount|\n",
            "+-------+------------------+-----------+\n",
            "|   2824|     Donald Walker|     783.04|\n",
            "|   7912|      Brandon Hall|      905.0|\n",
            "|   4611|      Donald Booth|     657.96|\n",
            "|   3547|    Phillip Garcia|     606.89|\n",
            "|   6155|Jonathan Wilkerson|     882.68|\n",
            "|   9830|       Kevin Hurst|     870.55|\n",
            "|   9085| Anthony Rodriguez|     921.73|\n",
            "|   6573|    Jeffrey Chavez|     676.02|\n",
            "|   4295|   Jennifer Powers|     684.26|\n",
            "|   1964|      Taylor Heath|      578.5|\n",
            "|   9834|    Timothy Duncan|     944.55|\n",
            "|   3296|     Donald Wright|     579.99|\n",
            "|   4502|  Stephanie Martin|     656.32|\n",
            "|   1931|      Angela Lopez|     686.21|\n",
            "|   5033|     Amanda Miller|     552.76|\n",
            "|   6147|      James Powers|     561.91|\n",
            "|   2127|      Jaclyn Moore|     933.32|\n",
            "|   5905|   Ashley Humphrey|     844.87|\n",
            "|   2512|   Sandra Williams|     630.21|\n",
            "|   8239|     Jessica Smith|     610.08|\n",
            "+-------+------------------+-----------+\n",
            "only showing top 20 rows\n",
            "\n",
            "+-------+------------+---------------+------+----------+--------------+--------+--------+-----------+-------------+\n",
            "|OrderID|CustomerName|ProductCategory|Amount| OrderDate|DeliveryStatus|Discount|    City|PaymentMode|CustomerSince|\n",
            "+-------+------------+---------------+------+----------+--------------+--------+--------+-----------+-------------+\n",
            "|   6736|Holly Farmer|    Electronics|624.15|2024-08-21|      Returned|    0.06|Port Roy|Credit Card|   2022-10-21|\n",
            "+-------+------------+---------------+------+----------+--------------+--------+--------+-----------+-------------+\n",
            "\n"
          ]
        }
      ]
    },
    {
      "cell_type": "markdown",
      "source": [
        "**3. Data Manipulation**"
      ],
      "metadata": {
        "id": "qfJl1CrBY9P5"
      }
    },
    {
      "cell_type": "code",
      "source": [
        "df_dropped = df.drop(\"CustomerSince\")\n",
        "df_dropped.show(10)\n",
        "\n",
        "df_with_final = df_dropped.withColumn(\"FinalAmount\", col(\"Amount\") - (col(\"Amount\") * col(\"Discount\")))\n",
        "df_with_final.show()\n",
        "\n",
        "df_sorted = df_with_final.orderBy(col(\"FinalAmount\").desc())\n",
        "df_sorted.show()\n",
        "\n",
        "df_replaced = df_sorted.withColumn(\"DeliveryStatus\",\n",
        "                                 when(col(\"DeliveryStatus\") == \"Cancelled\", \"Order Cancelled\")\n",
        "                                 .otherwise(col(\"DeliveryStatus\")))\n",
        "df_replaced.show(10)"
      ],
      "metadata": {
        "colab": {
          "base_uri": "https://localhost:8080/"
        },
        "id": "40i5zB5BZQA_",
        "outputId": "e07b2d6a-557f-4ff8-d9b8-bb7a6cc6390d"
      },
      "execution_count": 22,
      "outputs": [
        {
          "output_type": "stream",
          "name": "stdout",
          "text": [
            "+-------+------------------+---------------+------+----------+--------------+--------+----------------+-----------+\n",
            "|OrderID|      CustomerName|ProductCategory|Amount| OrderDate|DeliveryStatus|Discount|            City|PaymentMode|\n",
            "+-------+------------------+---------------+------+----------+--------------+--------+----------------+-----------+\n",
            "|   2824|     Donald Walker|          Books|783.04|2024-12-26|      Returned|    0.15|    Lake Joyside|Credit Card|\n",
            "|   7912|      Brandon Hall|      Groceries| 905.0|2024-09-12|     Cancelled|    0.03|   New Jamesside|     Wallet|\n",
            "|   4611|      Donald Booth|        Fashion|657.96|2025-01-12|      Returned|    0.01|    Lake Roberto|     Wallet|\n",
            "|   3547|    Phillip Garcia|        Fashion|606.89|2024-03-24|      Returned|    0.15|West Melanieview|     Wallet|\n",
            "|   8527|      Valerie Gray|           Toys| 77.87|2024-08-04|     Delivered|    0.17|       Mariastad|       Cash|\n",
            "|   4150|       Amber Perez|          Books|352.37|2024-01-13|     Cancelled|    0.24| Port Jesseville|       Cash|\n",
            "|   5554|        Roy Martin|           Toys|148.33|2024-03-04|     Cancelled|    0.27|     Lake Joseph|       Cash|\n",
            "|   2169|    Carolyn Daniel|    Electronics| 14.09|2023-10-07|     Delivered|    0.25|        Grayside|Credit Card|\n",
            "|   6313|       Patty Perez|      Groceries| 79.83|2023-06-27|     Cancelled|    0.12|     Richardland|Credit Card|\n",
            "|   6155|Jonathan Wilkerson|        Fashion|882.68|2024-10-14|     Cancelled|    0.27|      Thomasberg|       Cash|\n",
            "+-------+------------------+---------------+------+----------+--------------+--------+----------------+-----------+\n",
            "only showing top 10 rows\n",
            "\n",
            "+-------+------------------+---------------+------+----------+--------------+--------+-----------------+-----------+------------------+\n",
            "|OrderID|      CustomerName|ProductCategory|Amount| OrderDate|DeliveryStatus|Discount|             City|PaymentMode|       FinalAmount|\n",
            "+-------+------------------+---------------+------+----------+--------------+--------+-----------------+-----------+------------------+\n",
            "|   2824|     Donald Walker|          Books|783.04|2024-12-26|      Returned|    0.15|     Lake Joyside|Credit Card|           665.584|\n",
            "|   7912|      Brandon Hall|      Groceries| 905.0|2024-09-12|     Cancelled|    0.03|    New Jamesside|     Wallet|            877.85|\n",
            "|   4611|      Donald Booth|        Fashion|657.96|2025-01-12|      Returned|    0.01|     Lake Roberto|     Wallet|          651.3804|\n",
            "|   3547|    Phillip Garcia|        Fashion|606.89|2024-03-24|      Returned|    0.15| West Melanieview|     Wallet|          515.8565|\n",
            "|   8527|      Valerie Gray|           Toys| 77.87|2024-08-04|     Delivered|    0.17|        Mariastad|       Cash| 64.63210000000001|\n",
            "|   4150|       Amber Perez|          Books|352.37|2024-01-13|     Cancelled|    0.24|  Port Jesseville|       Cash|          267.8012|\n",
            "|   5554|        Roy Martin|           Toys|148.33|2024-03-04|     Cancelled|    0.27|      Lake Joseph|       Cash|          108.2809|\n",
            "|   2169|    Carolyn Daniel|    Electronics| 14.09|2023-10-07|     Delivered|    0.25|         Grayside|Credit Card|10.567499999999999|\n",
            "|   6313|       Patty Perez|      Groceries| 79.83|2023-06-27|     Cancelled|    0.12|      Richardland|Credit Card|           70.2504|\n",
            "|   6155|Jonathan Wilkerson|        Fashion|882.68|2024-10-14|     Cancelled|    0.27|       Thomasberg|       Cash| 644.3563999999999|\n",
            "|   9830|       Kevin Hurst|          Books|870.55|2024-04-08|     Delivered|    0.22|      Jeffreyberg|     Wallet|           679.029|\n",
            "|   9085| Anthony Rodriguez|      Groceries|921.73|2024-10-02|     Cancelled|    0.03|        Port Erin|        UPI| 894.0781000000001|\n",
            "|   2040|     Kyle Mcdonald|           Toys|327.52|2023-12-15|      Returned|    0.06|Lake Jenniferside|     Wallet|307.86879999999996|\n",
            "|   6573|    Jeffrey Chavez|          Books|676.02|2024-12-14|     Cancelled|    0.19|      Teresaburgh|     Wallet|          547.5762|\n",
            "|   2743|  Elizabeth Fowler|    Electronics| 47.06|2024-09-18|     Delivered|    0.13|   East Nathaniel|       Cash|           40.9422|\n",
            "|   9837|     Tammy Sellers|          Books| 46.15|2024-09-10|     Cancelled|    0.05|       Tracyville|        UPI|           43.8425|\n",
            "|   6038|     David Bradley|        Fashion|348.51|2023-08-03|      Returned|    0.23|    Lake Toddland|        UPI|268.35269999999997|\n",
            "|   3060|       John Pierce|           Toys|362.09|2023-12-25|      Returned|    0.03|       Brandtside|       Cash|351.22729999999996|\n",
            "|   4295|   Jennifer Powers|    Electronics|684.26|2024-03-19|     Cancelled|    0.21|         Lammouth|        UPI|          540.5654|\n",
            "|   5061|    George Chapman|    Electronics|251.89|2023-11-28|       Pending|    0.27|       North Chad|       Cash|183.87969999999999|\n",
            "+-------+------------------+---------------+------+----------+--------------+--------+-----------------+-----------+------------------+\n",
            "only showing top 20 rows\n",
            "\n",
            "+-------+-----------------+---------------+------+----------+--------------+--------+-----------------+-----------+-----------------+\n",
            "|OrderID|     CustomerName|ProductCategory|Amount| OrderDate|DeliveryStatus|Discount|             City|PaymentMode|      FinalAmount|\n",
            "+-------+-----------------+---------------+------+----------+--------------+--------+-----------------+-----------+-----------------+\n",
            "|   5573|   Jordan Frazier|          Books|981.05|2025-03-19|     Cancelled|    0.02|      Sheilaville|       Cash|          961.429|\n",
            "|   8474|      Heidi Brown|    Electronics|968.91|2023-11-23|     Cancelled|    0.02|       Riverafort|       Cash|         949.5318|\n",
            "|   8889|      Karen Garza|          Books| 998.3|2024-10-17|     Cancelled|    0.06|       Johnsonton|Credit Card|938.4019999999999|\n",
            "|   2127|     Jaclyn Moore|      Groceries|933.32|2025-03-11|      Returned|    0.01|      Cherylhaven|       Cash|         923.9868|\n",
            "|   9806|    Samantha Gill|      Groceries|993.17|2024-11-12|     Cancelled|    0.07|     New Seanstad|     Wallet|         923.6481|\n",
            "|   5593|   Kristy Johnson|        Fashion|961.35|2025-05-24|      Returned|    0.05|    Alexisborough|       Cash|         913.2825|\n",
            "|   2120| Alejandra Santos|    Electronics|948.84|2024-05-09|      Returned|    0.04|     Jenniferberg|     Wallet|         910.8864|\n",
            "|   5949|Dr. Michael Evans|           Toys|918.14|2023-07-29|       Pending|    0.01|   East Scottfort|     Wallet|908.9585999999999|\n",
            "|   1422|    Hunter Kramer|          Books| 973.2|2024-09-02|      Returned|    0.07|       Alfredview|       Cash|          905.076|\n",
            "|   2904|   Michelle Burns|        Fashion|922.29|2025-05-01|      Returned|    0.02|      Stokesmouth|Credit Card|         903.8442|\n",
            "|   7566|    Jesus Houston|        Fashion|899.31|2024-11-19|     Delivered|     0.0|       Marshburgh|Credit Card|           899.31|\n",
            "|   7511|      Regina Diaz|           Toys|932.21|2025-02-06|     Cancelled|    0.04|        Smithside|       Cash|         894.9216|\n",
            "|   9085|Anthony Rodriguez|      Groceries|921.73|2024-10-02|     Cancelled|    0.03|        Port Erin|        UPI|894.0781000000001|\n",
            "|   1436|     James Brooks|      Groceries|978.96|2024-03-28|     Cancelled|    0.09|West Jeffreymouth|Credit Card|         890.8536|\n",
            "|   6008|  Brittany Knight|          Books|903.71|2025-02-19|       Pending|    0.02|       Susanburgh|       Cash|         885.6358|\n",
            "|   9834|   Timothy Duncan|    Electronics|944.55|2024-06-04|     Cancelled|    0.07|      Port Thomas|     Wallet|878.4314999999999|\n",
            "|   8253|  Kevin Patterson|          Books|998.21|2024-08-17|     Cancelled|    0.12|   New Susanville|        UPI|         878.4248|\n",
            "|   7912|     Brandon Hall|      Groceries| 905.0|2024-09-12|     Cancelled|    0.03|    New Jamesside|     Wallet|           877.85|\n",
            "|   1654|   Frank Williams|          Books|903.78|2025-05-27|     Cancelled|    0.03|       Tracyshire|     Wallet|         876.6666|\n",
            "|   9239|    Tracy Montoya|    Electronics|897.41|2025-02-14|     Cancelled|    0.04|        Port John|     Wallet|         861.5136|\n",
            "+-------+-----------------+---------------+------+----------+--------------+--------+-----------------+-----------+-----------------+\n",
            "only showing top 20 rows\n",
            "\n",
            "+-------+-----------------+---------------+------+----------+---------------+--------+--------------+-----------+-----------------+\n",
            "|OrderID|     CustomerName|ProductCategory|Amount| OrderDate| DeliveryStatus|Discount|          City|PaymentMode|      FinalAmount|\n",
            "+-------+-----------------+---------------+------+----------+---------------+--------+--------------+-----------+-----------------+\n",
            "|   5573|   Jordan Frazier|          Books|981.05|2025-03-19|Order Cancelled|    0.02|   Sheilaville|       Cash|          961.429|\n",
            "|   8474|      Heidi Brown|    Electronics|968.91|2023-11-23|Order Cancelled|    0.02|    Riverafort|       Cash|         949.5318|\n",
            "|   8889|      Karen Garza|          Books| 998.3|2024-10-17|Order Cancelled|    0.06|    Johnsonton|Credit Card|938.4019999999999|\n",
            "|   2127|     Jaclyn Moore|      Groceries|933.32|2025-03-11|       Returned|    0.01|   Cherylhaven|       Cash|         923.9868|\n",
            "|   9806|    Samantha Gill|      Groceries|993.17|2024-11-12|Order Cancelled|    0.07|  New Seanstad|     Wallet|         923.6481|\n",
            "|   5593|   Kristy Johnson|        Fashion|961.35|2025-05-24|       Returned|    0.05| Alexisborough|       Cash|         913.2825|\n",
            "|   2120| Alejandra Santos|    Electronics|948.84|2024-05-09|       Returned|    0.04|  Jenniferberg|     Wallet|         910.8864|\n",
            "|   5949|Dr. Michael Evans|           Toys|918.14|2023-07-29|        Pending|    0.01|East Scottfort|     Wallet|908.9585999999999|\n",
            "|   1422|    Hunter Kramer|          Books| 973.2|2024-09-02|       Returned|    0.07|    Alfredview|       Cash|          905.076|\n",
            "|   2904|   Michelle Burns|        Fashion|922.29|2025-05-01|       Returned|    0.02|   Stokesmouth|Credit Card|         903.8442|\n",
            "+-------+-----------------+---------------+------+----------+---------------+--------+--------------+-----------+-----------------+\n",
            "only showing top 10 rows\n",
            "\n"
          ]
        }
      ]
    },
    {
      "cell_type": "markdown",
      "source": [
        "**4. Aggregations and GroupBy**"
      ],
      "metadata": {
        "id": "iY7s05veaG6H"
      }
    },
    {
      "cell_type": "code",
      "source": [
        "status_count = df.groupBy(\"DeliveryStatus\").count()\n",
        "status_count.show()\n",
        "avg_amount = df.groupBy(\"ProductCategory\").avg(\"Amount\")\n",
        "avg_amount.show()\n",
        "city_sales = df.groupBy(\"City\").sum(\"Amount\")\n",
        "city_sales.show(10)"
      ],
      "metadata": {
        "colab": {
          "base_uri": "https://localhost:8080/"
        },
        "id": "A8-P-ETUaLkv",
        "outputId": "a824821f-c234-48dd-eaf9-48296f50637f"
      },
      "execution_count": 24,
      "outputs": [
        {
          "output_type": "stream",
          "name": "stdout",
          "text": [
            "+--------------+-----+\n",
            "|DeliveryStatus|count|\n",
            "+--------------+-----+\n",
            "|      Returned|  117|\n",
            "|     Cancelled|  149|\n",
            "|     Delivered|  119|\n",
            "|       Pending|  115|\n",
            "+--------------+-----+\n",
            "\n",
            "+---------------+------------------+\n",
            "|ProductCategory|       avg(Amount)|\n",
            "+---------------+------------------+\n",
            "|        Fashion| 500.6308235294116|\n",
            "|      Groceries|459.51786407766957|\n",
            "|    Electronics|           551.745|\n",
            "|          Books| 568.6003773584907|\n",
            "|           Toys| 534.2837499999999|\n",
            "+---------------+------------------+\n",
            "\n",
            "+----------------+-----------+\n",
            "|            City|sum(Amount)|\n",
            "+----------------+-----------+\n",
            "|     Ramseymouth|     761.06|\n",
            "|East Edwardshire|     291.26|\n",
            "|      Thomasberg|     882.68|\n",
            "|     Laurenville|     383.26|\n",
            "| South Colinstad|     786.27|\n",
            "|    Lake Douglas|     975.09|\n",
            "|   Williamsmouth|      10.78|\n",
            "|      Gordonport|     514.99|\n",
            "|  West Dawnmouth|       12.8|\n",
            "|        Seanbury|     814.39|\n",
            "+----------------+-----------+\n",
            "only showing top 10 rows\n",
            "\n"
          ]
        }
      ]
    },
    {
      "cell_type": "markdown",
      "source": [
        "**5. Null Handling & Update**"
      ],
      "metadata": {
        "id": "ZQcg1kWJacU4"
      }
    },
    {
      "cell_type": "code",
      "source": [
        "from pyspark.sql.functions import lit\n",
        "df_with_nulls = df.withColumn(\"City\", when(col(\"OrderID\") % 5 == 0, lit(None)).otherwise(col(\"City\")))\n",
        "\n",
        "df_filled = df_with_nulls.fillna({\"City\": \"Unknown\"})\n",
        "\n",
        "# Handle nulls - drop rows with nulls in City\n",
        "df_dropped_nulls = df_with_nulls.dropna(subset=[\"City\"])\n",
        "\n",
        "# Tag high-value customers\n",
        "df_tagged = df.withColumn(\"CustomerType\", when(col(\"Amount\") > 800, \"High Value\").otherwise(\"Regular\"))\n",
        "df_tagged.show()"
      ],
      "metadata": {
        "colab": {
          "base_uri": "https://localhost:8080/"
        },
        "id": "N7PbIQtUaehb",
        "outputId": "8e773a85-1647-4d54-9724-d728b8a2b0ae"
      },
      "execution_count": 27,
      "outputs": [
        {
          "output_type": "stream",
          "name": "stdout",
          "text": [
            "+-------+------------------+---------------+------+----------+--------------+--------+-----------------+-----------+-------------+------------+\n",
            "|OrderID|      CustomerName|ProductCategory|Amount| OrderDate|DeliveryStatus|Discount|             City|PaymentMode|CustomerSince|CustomerType|\n",
            "+-------+------------------+---------------+------+----------+--------------+--------+-----------------+-----------+-------------+------------+\n",
            "|   2824|     Donald Walker|          Books|783.04|2024-12-26|      Returned|    0.15|     Lake Joyside|Credit Card|   2020-10-15|     Regular|\n",
            "|   7912|      Brandon Hall|      Groceries| 905.0|2024-09-12|     Cancelled|    0.03|    New Jamesside|     Wallet|   2022-03-15|  High Value|\n",
            "|   4611|      Donald Booth|        Fashion|657.96|2025-01-12|      Returned|    0.01|     Lake Roberto|     Wallet|   2021-08-07|     Regular|\n",
            "|   3547|    Phillip Garcia|        Fashion|606.89|2024-03-24|      Returned|    0.15| West Melanieview|     Wallet|   2020-08-08|     Regular|\n",
            "|   8527|      Valerie Gray|           Toys| 77.87|2024-08-04|     Delivered|    0.17|        Mariastad|       Cash|   2022-11-15|     Regular|\n",
            "|   4150|       Amber Perez|          Books|352.37|2024-01-13|     Cancelled|    0.24|  Port Jesseville|       Cash|   2022-01-13|     Regular|\n",
            "|   5554|        Roy Martin|           Toys|148.33|2024-03-04|     Cancelled|    0.27|      Lake Joseph|       Cash|   2023-04-29|     Regular|\n",
            "|   2169|    Carolyn Daniel|    Electronics| 14.09|2023-10-07|     Delivered|    0.25|         Grayside|Credit Card|   2021-05-09|     Regular|\n",
            "|   6313|       Patty Perez|      Groceries| 79.83|2023-06-27|     Cancelled|    0.12|      Richardland|Credit Card|   2021-04-25|     Regular|\n",
            "|   6155|Jonathan Wilkerson|        Fashion|882.68|2024-10-14|     Cancelled|    0.27|       Thomasberg|       Cash|   2021-06-20|  High Value|\n",
            "|   9830|       Kevin Hurst|          Books|870.55|2024-04-08|     Delivered|    0.22|      Jeffreyberg|     Wallet|   2022-08-02|  High Value|\n",
            "|   9085| Anthony Rodriguez|      Groceries|921.73|2024-10-02|     Cancelled|    0.03|        Port Erin|        UPI|   2022-12-15|  High Value|\n",
            "|   2040|     Kyle Mcdonald|           Toys|327.52|2023-12-15|      Returned|    0.06|Lake Jenniferside|     Wallet|   2021-07-21|     Regular|\n",
            "|   6573|    Jeffrey Chavez|          Books|676.02|2024-12-14|     Cancelled|    0.19|      Teresaburgh|     Wallet|   2022-07-30|     Regular|\n",
            "|   2743|  Elizabeth Fowler|    Electronics| 47.06|2024-09-18|     Delivered|    0.13|   East Nathaniel|       Cash|   2021-02-07|     Regular|\n",
            "|   9837|     Tammy Sellers|          Books| 46.15|2024-09-10|     Cancelled|    0.05|       Tracyville|        UPI|   2021-12-17|     Regular|\n",
            "|   6038|     David Bradley|        Fashion|348.51|2023-08-03|      Returned|    0.23|    Lake Toddland|        UPI|   2022-09-07|     Regular|\n",
            "|   3060|       John Pierce|           Toys|362.09|2023-12-25|      Returned|    0.03|       Brandtside|       Cash|   2023-05-09|     Regular|\n",
            "|   4295|   Jennifer Powers|    Electronics|684.26|2024-03-19|     Cancelled|    0.21|         Lammouth|        UPI|   2020-12-06|     Regular|\n",
            "|   5061|    George Chapman|    Electronics|251.89|2023-11-28|       Pending|    0.27|       North Chad|       Cash|   2023-02-07|     Regular|\n",
            "+-------+------------------+---------------+------+----------+--------------+--------+-----------------+-----------+-------------+------------+\n",
            "only showing top 20 rows\n",
            "\n"
          ]
        }
      ]
    },
    {
      "cell_type": "markdown",
      "source": [
        "**6. Date & Time Functions**"
      ],
      "metadata": {
        "id": "bK9SukPIbMeO"
      }
    },
    {
      "cell_type": "code",
      "source": [
        "df_dates = df.withColumn(\"OrderYear\", year(\"OrderDate\")) \\\n",
        "             .withColumn(\"OrderMonth\", month(\"OrderDate\"))\n",
        "df_dates.show()\n",
        "\n",
        "df_loyalty = df_dates.withColumn(\"CustomerSinceDate\", to_date(\"CustomerSince\")) \\\n",
        ".withColumn (\"LoyaltyYears\",datediff(current_date(), col(\"CustomerSinceDate\")) / 365)\n",
        "df_dates.show()"
      ],
      "metadata": {
        "colab": {
          "base_uri": "https://localhost:8080/"
        },
        "id": "kcp5-DaSbRA8",
        "outputId": "b81cfd6d-ed39-4ca4-8382-48ede382a375"
      },
      "execution_count": 28,
      "outputs": [
        {
          "output_type": "stream",
          "name": "stdout",
          "text": [
            "+-------+------------------+---------------+------+----------+--------------+--------+-----------------+-----------+-------------+---------+----------+\n",
            "|OrderID|      CustomerName|ProductCategory|Amount| OrderDate|DeliveryStatus|Discount|             City|PaymentMode|CustomerSince|OrderYear|OrderMonth|\n",
            "+-------+------------------+---------------+------+----------+--------------+--------+-----------------+-----------+-------------+---------+----------+\n",
            "|   2824|     Donald Walker|          Books|783.04|2024-12-26|      Returned|    0.15|     Lake Joyside|Credit Card|   2020-10-15|     2024|        12|\n",
            "|   7912|      Brandon Hall|      Groceries| 905.0|2024-09-12|     Cancelled|    0.03|    New Jamesside|     Wallet|   2022-03-15|     2024|         9|\n",
            "|   4611|      Donald Booth|        Fashion|657.96|2025-01-12|      Returned|    0.01|     Lake Roberto|     Wallet|   2021-08-07|     2025|         1|\n",
            "|   3547|    Phillip Garcia|        Fashion|606.89|2024-03-24|      Returned|    0.15| West Melanieview|     Wallet|   2020-08-08|     2024|         3|\n",
            "|   8527|      Valerie Gray|           Toys| 77.87|2024-08-04|     Delivered|    0.17|        Mariastad|       Cash|   2022-11-15|     2024|         8|\n",
            "|   4150|       Amber Perez|          Books|352.37|2024-01-13|     Cancelled|    0.24|  Port Jesseville|       Cash|   2022-01-13|     2024|         1|\n",
            "|   5554|        Roy Martin|           Toys|148.33|2024-03-04|     Cancelled|    0.27|      Lake Joseph|       Cash|   2023-04-29|     2024|         3|\n",
            "|   2169|    Carolyn Daniel|    Electronics| 14.09|2023-10-07|     Delivered|    0.25|         Grayside|Credit Card|   2021-05-09|     2023|        10|\n",
            "|   6313|       Patty Perez|      Groceries| 79.83|2023-06-27|     Cancelled|    0.12|      Richardland|Credit Card|   2021-04-25|     2023|         6|\n",
            "|   6155|Jonathan Wilkerson|        Fashion|882.68|2024-10-14|     Cancelled|    0.27|       Thomasberg|       Cash|   2021-06-20|     2024|        10|\n",
            "|   9830|       Kevin Hurst|          Books|870.55|2024-04-08|     Delivered|    0.22|      Jeffreyberg|     Wallet|   2022-08-02|     2024|         4|\n",
            "|   9085| Anthony Rodriguez|      Groceries|921.73|2024-10-02|     Cancelled|    0.03|        Port Erin|        UPI|   2022-12-15|     2024|        10|\n",
            "|   2040|     Kyle Mcdonald|           Toys|327.52|2023-12-15|      Returned|    0.06|Lake Jenniferside|     Wallet|   2021-07-21|     2023|        12|\n",
            "|   6573|    Jeffrey Chavez|          Books|676.02|2024-12-14|     Cancelled|    0.19|      Teresaburgh|     Wallet|   2022-07-30|     2024|        12|\n",
            "|   2743|  Elizabeth Fowler|    Electronics| 47.06|2024-09-18|     Delivered|    0.13|   East Nathaniel|       Cash|   2021-02-07|     2024|         9|\n",
            "|   9837|     Tammy Sellers|          Books| 46.15|2024-09-10|     Cancelled|    0.05|       Tracyville|        UPI|   2021-12-17|     2024|         9|\n",
            "|   6038|     David Bradley|        Fashion|348.51|2023-08-03|      Returned|    0.23|    Lake Toddland|        UPI|   2022-09-07|     2023|         8|\n",
            "|   3060|       John Pierce|           Toys|362.09|2023-12-25|      Returned|    0.03|       Brandtside|       Cash|   2023-05-09|     2023|        12|\n",
            "|   4295|   Jennifer Powers|    Electronics|684.26|2024-03-19|     Cancelled|    0.21|         Lammouth|        UPI|   2020-12-06|     2024|         3|\n",
            "|   5061|    George Chapman|    Electronics|251.89|2023-11-28|       Pending|    0.27|       North Chad|       Cash|   2023-02-07|     2023|        11|\n",
            "+-------+------------------+---------------+------+----------+--------------+--------+-----------------+-----------+-------------+---------+----------+\n",
            "only showing top 20 rows\n",
            "\n",
            "+-------+------------------+---------------+------+----------+--------------+--------+-----------------+-----------+-------------+---------+----------+\n",
            "|OrderID|      CustomerName|ProductCategory|Amount| OrderDate|DeliveryStatus|Discount|             City|PaymentMode|CustomerSince|OrderYear|OrderMonth|\n",
            "+-------+------------------+---------------+------+----------+--------------+--------+-----------------+-----------+-------------+---------+----------+\n",
            "|   2824|     Donald Walker|          Books|783.04|2024-12-26|      Returned|    0.15|     Lake Joyside|Credit Card|   2020-10-15|     2024|        12|\n",
            "|   7912|      Brandon Hall|      Groceries| 905.0|2024-09-12|     Cancelled|    0.03|    New Jamesside|     Wallet|   2022-03-15|     2024|         9|\n",
            "|   4611|      Donald Booth|        Fashion|657.96|2025-01-12|      Returned|    0.01|     Lake Roberto|     Wallet|   2021-08-07|     2025|         1|\n",
            "|   3547|    Phillip Garcia|        Fashion|606.89|2024-03-24|      Returned|    0.15| West Melanieview|     Wallet|   2020-08-08|     2024|         3|\n",
            "|   8527|      Valerie Gray|           Toys| 77.87|2024-08-04|     Delivered|    0.17|        Mariastad|       Cash|   2022-11-15|     2024|         8|\n",
            "|   4150|       Amber Perez|          Books|352.37|2024-01-13|     Cancelled|    0.24|  Port Jesseville|       Cash|   2022-01-13|     2024|         1|\n",
            "|   5554|        Roy Martin|           Toys|148.33|2024-03-04|     Cancelled|    0.27|      Lake Joseph|       Cash|   2023-04-29|     2024|         3|\n",
            "|   2169|    Carolyn Daniel|    Electronics| 14.09|2023-10-07|     Delivered|    0.25|         Grayside|Credit Card|   2021-05-09|     2023|        10|\n",
            "|   6313|       Patty Perez|      Groceries| 79.83|2023-06-27|     Cancelled|    0.12|      Richardland|Credit Card|   2021-04-25|     2023|         6|\n",
            "|   6155|Jonathan Wilkerson|        Fashion|882.68|2024-10-14|     Cancelled|    0.27|       Thomasberg|       Cash|   2021-06-20|     2024|        10|\n",
            "|   9830|       Kevin Hurst|          Books|870.55|2024-04-08|     Delivered|    0.22|      Jeffreyberg|     Wallet|   2022-08-02|     2024|         4|\n",
            "|   9085| Anthony Rodriguez|      Groceries|921.73|2024-10-02|     Cancelled|    0.03|        Port Erin|        UPI|   2022-12-15|     2024|        10|\n",
            "|   2040|     Kyle Mcdonald|           Toys|327.52|2023-12-15|      Returned|    0.06|Lake Jenniferside|     Wallet|   2021-07-21|     2023|        12|\n",
            "|   6573|    Jeffrey Chavez|          Books|676.02|2024-12-14|     Cancelled|    0.19|      Teresaburgh|     Wallet|   2022-07-30|     2024|        12|\n",
            "|   2743|  Elizabeth Fowler|    Electronics| 47.06|2024-09-18|     Delivered|    0.13|   East Nathaniel|       Cash|   2021-02-07|     2024|         9|\n",
            "|   9837|     Tammy Sellers|          Books| 46.15|2024-09-10|     Cancelled|    0.05|       Tracyville|        UPI|   2021-12-17|     2024|         9|\n",
            "|   6038|     David Bradley|        Fashion|348.51|2023-08-03|      Returned|    0.23|    Lake Toddland|        UPI|   2022-09-07|     2023|         8|\n",
            "|   3060|       John Pierce|           Toys|362.09|2023-12-25|      Returned|    0.03|       Brandtside|       Cash|   2023-05-09|     2023|        12|\n",
            "|   4295|   Jennifer Powers|    Electronics|684.26|2024-03-19|     Cancelled|    0.21|         Lammouth|        UPI|   2020-12-06|     2024|         3|\n",
            "|   5061|    George Chapman|    Electronics|251.89|2023-11-28|       Pending|    0.27|       North Chad|       Cash|   2023-02-07|     2023|        11|\n",
            "+-------+------------------+---------------+------+----------+--------------+--------+-----------------+-----------+-------------+---------+----------+\n",
            "only showing top 20 rows\n",
            "\n"
          ]
        }
      ]
    },
    {
      "cell_type": "markdown",
      "source": [
        "**7. Joins and Unions**"
      ],
      "metadata": {
        "id": "NnsRe3GLbnwU"
      }
    },
    {
      "cell_type": "code",
      "source": [
        "# Second DataFrame\n",
        "from pyspark.sql import Row\n",
        "regions_data = [Row(City=\"Port Jesseville\", Region=\"West\"),\n",
        "    Row(City=\"Grayside\", Region=\"South\")]\n",
        "regions_df = spark.createDataFrame(regions_data)\n",
        "\n",
        "# Inner and left join\n",
        "inner_join = df.join(regions_df, \"City\", \"inner\")\n",
        "inner_join.show()\n",
        "left_join = df.join(regions_df, \"City\", \"left\")\n",
        "left_join.show()\n",
        "\n",
        "#Union\n",
        "df_2023 = df.filter(year(\"OrderDate\") == 2023)\n",
        "df_2024 = df.filter(year(\"OrderDate\") == 2024)\n",
        "union_df = df_2023.union(df_2024)\n",
        "union_df.show()"
      ],
      "metadata": {
        "colab": {
          "base_uri": "https://localhost:8080/"
        },
        "id": "KwIIsr4PeKuf",
        "outputId": "394c61f3-e8da-4009-ea68-7b63d469232b"
      },
      "execution_count": 30,
      "outputs": [
        {
          "output_type": "stream",
          "name": "stdout",
          "text": [
            "+---------------+-------+--------------+---------------+------+----------+--------------+--------+-----------+-------------+------+\n",
            "|           City|OrderID|  CustomerName|ProductCategory|Amount| OrderDate|DeliveryStatus|Discount|PaymentMode|CustomerSince|Region|\n",
            "+---------------+-------+--------------+---------------+------+----------+--------------+--------+-----------+-------------+------+\n",
            "|Port Jesseville|   4150|   Amber Perez|          Books|352.37|2024-01-13|     Cancelled|    0.24|       Cash|   2022-01-13|  West|\n",
            "|       Grayside|   2169|Carolyn Daniel|    Electronics| 14.09|2023-10-07|     Delivered|    0.25|Credit Card|   2021-05-09| South|\n",
            "+---------------+-------+--------------+---------------+------+----------+--------------+--------+-----------+-------------+------+\n",
            "\n",
            "+-----------------+-------+------------------+---------------+------+----------+--------------+--------+-----------+-------------+------+\n",
            "|             City|OrderID|      CustomerName|ProductCategory|Amount| OrderDate|DeliveryStatus|Discount|PaymentMode|CustomerSince|Region|\n",
            "+-----------------+-------+------------------+---------------+------+----------+--------------+--------+-----------+-------------+------+\n",
            "|       Thomasberg|   6155|Jonathan Wilkerson|        Fashion|882.68|2024-10-14|     Cancelled|    0.27|       Cash|   2021-06-20|  NULL|\n",
            "|   East Nathaniel|   2743|  Elizabeth Fowler|    Electronics| 47.06|2024-09-18|     Delivered|    0.13|       Cash|   2021-02-07|  NULL|\n",
            "|  Port Jesseville|   4150|       Amber Perez|          Books|352.37|2024-01-13|     Cancelled|    0.24|       Cash|   2022-01-13|  West|\n",
            "|       North Chad|   5061|    George Chapman|    Electronics|251.89|2023-11-28|       Pending|    0.27|       Cash|   2023-02-07|  NULL|\n",
            "|    Lake Toddland|   6038|     David Bradley|        Fashion|348.51|2023-08-03|      Returned|    0.23|        UPI|   2022-09-07|  NULL|\n",
            "|     Lake Joyside|   2824|     Donald Walker|          Books|783.04|2024-12-26|      Returned|    0.15|Credit Card|   2020-10-15|  NULL|\n",
            "|       Brandtside|   3060|       John Pierce|           Toys|362.09|2023-12-25|      Returned|    0.03|       Cash|   2023-05-09|  NULL|\n",
            "|   West Elizabeth|   1964|      Taylor Heath|           Toys| 578.5|2023-07-28|     Cancelled|    0.01|       Cash|   2021-04-30|  NULL|\n",
            "|Lake Jenniferside|   2040|     Kyle Mcdonald|           Toys|327.52|2023-12-15|      Returned|    0.06|     Wallet|   2021-07-21|  NULL|\n",
            "|        Port Erin|   9085| Anthony Rodriguez|      Groceries|921.73|2024-10-02|     Cancelled|    0.03|        UPI|   2022-12-15|  NULL|\n",
            "|      Teresaburgh|   6573|    Jeffrey Chavez|          Books|676.02|2024-12-14|     Cancelled|    0.19|     Wallet|   2022-07-30|  NULL|\n",
            "|     Lake Roberto|   4611|      Donald Booth|        Fashion|657.96|2025-01-12|      Returned|    0.01|     Wallet|   2021-08-07|  NULL|\n",
            "|       Tracyville|   9837|     Tammy Sellers|          Books| 46.15|2024-09-10|     Cancelled|    0.05|        UPI|   2021-12-17|  NULL|\n",
            "|      Jeffreyberg|   9830|       Kevin Hurst|          Books|870.55|2024-04-08|     Delivered|    0.22|     Wallet|   2022-08-02|  NULL|\n",
            "|      Lake Joseph|   5554|        Roy Martin|           Toys|148.33|2024-03-04|     Cancelled|    0.27|       Cash|   2023-04-29|  NULL|\n",
            "| West Melanieview|   3547|    Phillip Garcia|        Fashion|606.89|2024-03-24|      Returned|    0.15|     Wallet|   2020-08-08|  NULL|\n",
            "|    New Jamesside|   7912|      Brandon Hall|      Groceries| 905.0|2024-09-12|     Cancelled|    0.03|     Wallet|   2022-03-15|  NULL|\n",
            "|         Grayside|   2169|    Carolyn Daniel|    Electronics| 14.09|2023-10-07|     Delivered|    0.25|Credit Card|   2021-05-09| South|\n",
            "|        Mariastad|   8527|      Valerie Gray|           Toys| 77.87|2024-08-04|     Delivered|    0.17|       Cash|   2022-11-15|  NULL|\n",
            "|      Richardland|   6313|       Patty Perez|      Groceries| 79.83|2023-06-27|     Cancelled|    0.12|Credit Card|   2021-04-25|  NULL|\n",
            "+-----------------+-------+------------------+---------------+------+----------+--------------+--------+-----------+-------------+------+\n",
            "only showing top 20 rows\n",
            "\n",
            "+-------+----------------+---------------+------+----------+--------------+--------+-----------------+-----------+-------------+\n",
            "|OrderID|    CustomerName|ProductCategory|Amount| OrderDate|DeliveryStatus|Discount|             City|PaymentMode|CustomerSince|\n",
            "+-------+----------------+---------------+------+----------+--------------+--------+-----------------+-----------+-------------+\n",
            "|   2169|  Carolyn Daniel|    Electronics| 14.09|2023-10-07|     Delivered|    0.25|         Grayside|Credit Card|   2021-05-09|\n",
            "|   6313|     Patty Perez|      Groceries| 79.83|2023-06-27|     Cancelled|    0.12|      Richardland|Credit Card|   2021-04-25|\n",
            "|   2040|   Kyle Mcdonald|           Toys|327.52|2023-12-15|      Returned|    0.06|Lake Jenniferside|     Wallet|   2021-07-21|\n",
            "|   6038|   David Bradley|        Fashion|348.51|2023-08-03|      Returned|    0.23|    Lake Toddland|        UPI|   2022-09-07|\n",
            "|   3060|     John Pierce|           Toys|362.09|2023-12-25|      Returned|    0.03|       Brandtside|       Cash|   2023-05-09|\n",
            "|   5061|  George Chapman|    Electronics|251.89|2023-11-28|       Pending|    0.27|       North Chad|       Cash|   2023-02-07|\n",
            "|   1964|    Taylor Heath|           Toys| 578.5|2023-07-28|     Cancelled|    0.01|   West Elizabeth|       Cash|   2021-04-30|\n",
            "|   2612|Nicholas Mcbride|        Fashion|219.05|2023-08-26|     Delivered|    0.27|       East James|        UPI|   2022-04-29|\n",
            "|   1828|  Kimberly Smith|           Toys| 89.01|2023-08-14|     Delivered|    0.04|     East Richard|Credit Card|   2022-06-19|\n",
            "|   4502|Stephanie Martin|    Electronics|656.32|2023-06-04|       Pending|     0.2|       Bakermouth|Credit Card|   2021-08-19|\n",
            "|   1958| Kimberly Adkins|    Electronics| 98.66|2023-07-17|     Cancelled|    0.13|  New Thomashaven|     Wallet|   2021-02-01|\n",
            "|   5905| Ashley Humphrey|          Books|844.87|2023-12-25|       Pending|    0.28|  North Juliaberg|       Cash|   2021-07-30|\n",
            "|   8239|   Jessica Smith|          Books|610.08|2023-07-31|     Delivered|    0.09|        New Barry|        UPI|   2021-12-27|\n",
            "|   9379|      Steven Lee|          Books|181.97|2023-07-07|      Returned|    0.22|        Smithside|        UPI|   2023-05-04|\n",
            "|   3851|Elizabeth Kelley|        Fashion|517.15|2023-06-03|     Cancelled|    0.19|    Justinchester|Credit Card|   2022-11-19|\n",
            "|   1757|   John Atkinson|          Books|724.04|2023-07-29|      Returned|    0.06|       Perryshire|       Cash|   2021-03-31|\n",
            "|   9486|   Justin Lowery|    Electronics|554.55|2023-09-05|       Pending|    0.24|    Andersonmouth|     Wallet|   2023-04-05|\n",
            "|   3607|     Karen Green|          Books|621.24|2023-12-12|     Cancelled|    0.18|       Katiehaven|        UPI|   2022-06-24|\n",
            "|   4919|  Billy Mitchell|    Electronics|653.51|2023-12-31|     Delivered|    0.08|         Luisside|        UPI|   2020-10-05|\n",
            "|   3267| James Hernandez|          Books|593.98|2023-11-16|      Returned|     0.2|   South Rickside|     Wallet|   2022-05-26|\n",
            "+-------+----------------+---------------+------+----------+--------------+--------+-----------------+-----------+-------------+\n",
            "only showing top 20 rows\n",
            "\n"
          ]
        }
      ]
    },
    {
      "cell_type": "markdown",
      "source": [
        " **8. Complex JSON Simulation (Advanced)**"
      ],
      "metadata": {
        "id": "-WLIcBWmfBTy"
      }
    },
    {
      "cell_type": "code",
      "source": [
        "from pyspark.sql.functions import to_json, struct, from_json, schema_of_json\n",
        "#Convert to JSON\n",
        "sales_json =df.withColumn(\"json_data\", to_json(struct([col(c) for c in df.columns])))\n",
        "sales_json.select(\"json_data\").show(truncate=False)\n",
        "\n",
        "#Load back to DataFrame\n",
        "sample_json = sales_json.select(\"json_data\").first()[\"json_data\"]\n",
        "json_schema = schema_of_json(sample_json)\n",
        "df_loaded = sales_json.select(from_json(\"json_data\", json_schema).alias(\"data\")).select(\"data.*\")\n",
        "df_loaded.show()\n",
        "\n",
        "#save the data in json\n",
        "df.write.mode(\"overwrite\").json(\"sales_json\")"
      ],
      "metadata": {
        "colab": {
          "base_uri": "https://localhost:8080/"
        },
        "id": "9jJQylAEfGUl",
        "outputId": "09c12b9f-d9ef-420c-975a-0748fcb1c31d"
      },
      "execution_count": 33,
      "outputs": [
        {
          "output_type": "stream",
          "name": "stdout",
          "text": [
            "+-------------------------------------------------------------------------------------------------------------------------------------------------------------------------------------------------------------------------------------------------+\n",
            "|json_data                                                                                                                                                                                                                                        |\n",
            "+-------------------------------------------------------------------------------------------------------------------------------------------------------------------------------------------------------------------------------------------------+\n",
            "|{\"OrderID\":2824,\"CustomerName\":\"Donald Walker\",\"ProductCategory\":\"Books\",\"Amount\":783.04,\"OrderDate\":\"2024-12-26\",\"DeliveryStatus\":\"Returned\",\"Discount\":0.15,\"City\":\"Lake Joyside\",\"PaymentMode\":\"Credit Card\",\"CustomerSince\":\"2020-10-15\"}    |\n",
            "|{\"OrderID\":7912,\"CustomerName\":\"Brandon Hall\",\"ProductCategory\":\"Groceries\",\"Amount\":905.0,\"OrderDate\":\"2024-09-12\",\"DeliveryStatus\":\"Cancelled\",\"Discount\":0.03,\"City\":\"New Jamesside\",\"PaymentMode\":\"Wallet\",\"CustomerSince\":\"2022-03-15\"}     |\n",
            "|{\"OrderID\":4611,\"CustomerName\":\"Donald Booth\",\"ProductCategory\":\"Fashion\",\"Amount\":657.96,\"OrderDate\":\"2025-01-12\",\"DeliveryStatus\":\"Returned\",\"Discount\":0.01,\"City\":\"Lake Roberto\",\"PaymentMode\":\"Wallet\",\"CustomerSince\":\"2021-08-07\"}        |\n",
            "|{\"OrderID\":3547,\"CustomerName\":\"Phillip Garcia\",\"ProductCategory\":\"Fashion\",\"Amount\":606.89,\"OrderDate\":\"2024-03-24\",\"DeliveryStatus\":\"Returned\",\"Discount\":0.15,\"City\":\"West Melanieview\",\"PaymentMode\":\"Wallet\",\"CustomerSince\":\"2020-08-08\"}  |\n",
            "|{\"OrderID\":8527,\"CustomerName\":\"Valerie Gray\",\"ProductCategory\":\"Toys\",\"Amount\":77.87,\"OrderDate\":\"2024-08-04\",\"DeliveryStatus\":\"Delivered\",\"Discount\":0.17,\"City\":\"Mariastad\",\"PaymentMode\":\"Cash\",\"CustomerSince\":\"2022-11-15\"}                |\n",
            "|{\"OrderID\":4150,\"CustomerName\":\"Amber Perez\",\"ProductCategory\":\"Books\",\"Amount\":352.37,\"OrderDate\":\"2024-01-13\",\"DeliveryStatus\":\"Cancelled\",\"Discount\":0.24,\"City\":\"Port Jesseville\",\"PaymentMode\":\"Cash\",\"CustomerSince\":\"2022-01-13\"}         |\n",
            "|{\"OrderID\":5554,\"CustomerName\":\"Roy Martin\",\"ProductCategory\":\"Toys\",\"Amount\":148.33,\"OrderDate\":\"2024-03-04\",\"DeliveryStatus\":\"Cancelled\",\"Discount\":0.27,\"City\":\"Lake Joseph\",\"PaymentMode\":\"Cash\",\"CustomerSince\":\"2023-04-29\"}               |\n",
            "|{\"OrderID\":2169,\"CustomerName\":\"Carolyn Daniel\",\"ProductCategory\":\"Electronics\",\"Amount\":14.09,\"OrderDate\":\"2023-10-07\",\"DeliveryStatus\":\"Delivered\",\"Discount\":0.25,\"City\":\"Grayside\",\"PaymentMode\":\"Credit Card\",\"CustomerSince\":\"2021-05-09\"} |\n",
            "|{\"OrderID\":6313,\"CustomerName\":\"Patty Perez\",\"ProductCategory\":\"Groceries\",\"Amount\":79.83,\"OrderDate\":\"2023-06-27\",\"DeliveryStatus\":\"Cancelled\",\"Discount\":0.12,\"City\":\"Richardland\",\"PaymentMode\":\"Credit Card\",\"CustomerSince\":\"2021-04-25\"}   |\n",
            "|{\"OrderID\":6155,\"CustomerName\":\"Jonathan Wilkerson\",\"ProductCategory\":\"Fashion\",\"Amount\":882.68,\"OrderDate\":\"2024-10-14\",\"DeliveryStatus\":\"Cancelled\",\"Discount\":0.27,\"City\":\"Thomasberg\",\"PaymentMode\":\"Cash\",\"CustomerSince\":\"2021-06-20\"}     |\n",
            "|{\"OrderID\":9830,\"CustomerName\":\"Kevin Hurst\",\"ProductCategory\":\"Books\",\"Amount\":870.55,\"OrderDate\":\"2024-04-08\",\"DeliveryStatus\":\"Delivered\",\"Discount\":0.22,\"City\":\"Jeffreyberg\",\"PaymentMode\":\"Wallet\",\"CustomerSince\":\"2022-08-02\"}           |\n",
            "|{\"OrderID\":9085,\"CustomerName\":\"Anthony Rodriguez\",\"ProductCategory\":\"Groceries\",\"Amount\":921.73,\"OrderDate\":\"2024-10-02\",\"DeliveryStatus\":\"Cancelled\",\"Discount\":0.03,\"City\":\"Port Erin\",\"PaymentMode\":\"UPI\",\"CustomerSince\":\"2022-12-15\"}      |\n",
            "|{\"OrderID\":2040,\"CustomerName\":\"Kyle Mcdonald\",\"ProductCategory\":\"Toys\",\"Amount\":327.52,\"OrderDate\":\"2023-12-15\",\"DeliveryStatus\":\"Returned\",\"Discount\":0.06,\"City\":\"Lake Jenniferside\",\"PaymentMode\":\"Wallet\",\"CustomerSince\":\"2021-07-21\"}     |\n",
            "|{\"OrderID\":6573,\"CustomerName\":\"Jeffrey Chavez\",\"ProductCategory\":\"Books\",\"Amount\":676.02,\"OrderDate\":\"2024-12-14\",\"DeliveryStatus\":\"Cancelled\",\"Discount\":0.19,\"City\":\"Teresaburgh\",\"PaymentMode\":\"Wallet\",\"CustomerSince\":\"2022-07-30\"}        |\n",
            "|{\"OrderID\":2743,\"CustomerName\":\"Elizabeth Fowler\",\"ProductCategory\":\"Electronics\",\"Amount\":47.06,\"OrderDate\":\"2024-09-18\",\"DeliveryStatus\":\"Delivered\",\"Discount\":0.13,\"City\":\"East Nathaniel\",\"PaymentMode\":\"Cash\",\"CustomerSince\":\"2021-02-07\"}|\n",
            "|{\"OrderID\":9837,\"CustomerName\":\"Tammy Sellers\",\"ProductCategory\":\"Books\",\"Amount\":46.15,\"OrderDate\":\"2024-09-10\",\"DeliveryStatus\":\"Cancelled\",\"Discount\":0.05,\"City\":\"Tracyville\",\"PaymentMode\":\"UPI\",\"CustomerSince\":\"2021-12-17\"}              |\n",
            "|{\"OrderID\":6038,\"CustomerName\":\"David Bradley\",\"ProductCategory\":\"Fashion\",\"Amount\":348.51,\"OrderDate\":\"2023-08-03\",\"DeliveryStatus\":\"Returned\",\"Discount\":0.23,\"City\":\"Lake Toddland\",\"PaymentMode\":\"UPI\",\"CustomerSince\":\"2022-09-07\"}         |\n",
            "|{\"OrderID\":3060,\"CustomerName\":\"John Pierce\",\"ProductCategory\":\"Toys\",\"Amount\":362.09,\"OrderDate\":\"2023-12-25\",\"DeliveryStatus\":\"Returned\",\"Discount\":0.03,\"City\":\"Brandtside\",\"PaymentMode\":\"Cash\",\"CustomerSince\":\"2023-05-09\"}                |\n",
            "|{\"OrderID\":4295,\"CustomerName\":\"Jennifer Powers\",\"ProductCategory\":\"Electronics\",\"Amount\":684.26,\"OrderDate\":\"2024-03-19\",\"DeliveryStatus\":\"Cancelled\",\"Discount\":0.21,\"City\":\"Lammouth\",\"PaymentMode\":\"UPI\",\"CustomerSince\":\"2020-12-06\"}       |\n",
            "|{\"OrderID\":5061,\"CustomerName\":\"George Chapman\",\"ProductCategory\":\"Electronics\",\"Amount\":251.89,\"OrderDate\":\"2023-11-28\",\"DeliveryStatus\":\"Pending\",\"Discount\":0.27,\"City\":\"North Chad\",\"PaymentMode\":\"Cash\",\"CustomerSince\":\"2023-02-07\"}       |\n",
            "+-------------------------------------------------------------------------------------------------------------------------------------------------------------------------------------------------------------------------------------------------+\n",
            "only showing top 20 rows\n",
            "\n",
            "+------+-----------------+------------------+-------------+--------------+--------+----------+-------+-----------+---------------+\n",
            "|Amount|             City|      CustomerName|CustomerSince|DeliveryStatus|Discount| OrderDate|OrderID|PaymentMode|ProductCategory|\n",
            "+------+-----------------+------------------+-------------+--------------+--------+----------+-------+-----------+---------------+\n",
            "|783.04|     Lake Joyside|     Donald Walker|   2020-10-15|      Returned|    0.15|2024-12-26|   2824|Credit Card|          Books|\n",
            "| 905.0|    New Jamesside|      Brandon Hall|   2022-03-15|     Cancelled|    0.03|2024-09-12|   7912|     Wallet|      Groceries|\n",
            "|657.96|     Lake Roberto|      Donald Booth|   2021-08-07|      Returned|    0.01|2025-01-12|   4611|     Wallet|        Fashion|\n",
            "|606.89| West Melanieview|    Phillip Garcia|   2020-08-08|      Returned|    0.15|2024-03-24|   3547|     Wallet|        Fashion|\n",
            "| 77.87|        Mariastad|      Valerie Gray|   2022-11-15|     Delivered|    0.17|2024-08-04|   8527|       Cash|           Toys|\n",
            "|352.37|  Port Jesseville|       Amber Perez|   2022-01-13|     Cancelled|    0.24|2024-01-13|   4150|       Cash|          Books|\n",
            "|148.33|      Lake Joseph|        Roy Martin|   2023-04-29|     Cancelled|    0.27|2024-03-04|   5554|       Cash|           Toys|\n",
            "| 14.09|         Grayside|    Carolyn Daniel|   2021-05-09|     Delivered|    0.25|2023-10-07|   2169|Credit Card|    Electronics|\n",
            "| 79.83|      Richardland|       Patty Perez|   2021-04-25|     Cancelled|    0.12|2023-06-27|   6313|Credit Card|      Groceries|\n",
            "|882.68|       Thomasberg|Jonathan Wilkerson|   2021-06-20|     Cancelled|    0.27|2024-10-14|   6155|       Cash|        Fashion|\n",
            "|870.55|      Jeffreyberg|       Kevin Hurst|   2022-08-02|     Delivered|    0.22|2024-04-08|   9830|     Wallet|          Books|\n",
            "|921.73|        Port Erin| Anthony Rodriguez|   2022-12-15|     Cancelled|    0.03|2024-10-02|   9085|        UPI|      Groceries|\n",
            "|327.52|Lake Jenniferside|     Kyle Mcdonald|   2021-07-21|      Returned|    0.06|2023-12-15|   2040|     Wallet|           Toys|\n",
            "|676.02|      Teresaburgh|    Jeffrey Chavez|   2022-07-30|     Cancelled|    0.19|2024-12-14|   6573|     Wallet|          Books|\n",
            "| 47.06|   East Nathaniel|  Elizabeth Fowler|   2021-02-07|     Delivered|    0.13|2024-09-18|   2743|       Cash|    Electronics|\n",
            "| 46.15|       Tracyville|     Tammy Sellers|   2021-12-17|     Cancelled|    0.05|2024-09-10|   9837|        UPI|          Books|\n",
            "|348.51|    Lake Toddland|     David Bradley|   2022-09-07|      Returned|    0.23|2023-08-03|   6038|        UPI|        Fashion|\n",
            "|362.09|       Brandtside|       John Pierce|   2023-05-09|      Returned|    0.03|2023-12-25|   3060|       Cash|           Toys|\n",
            "|684.26|         Lammouth|   Jennifer Powers|   2020-12-06|     Cancelled|    0.21|2024-03-19|   4295|        UPI|    Electronics|\n",
            "|251.89|       North Chad|    George Chapman|   2023-02-07|       Pending|    0.27|2023-11-28|   5061|       Cash|    Electronics|\n",
            "+------+-----------------+------------------+-------------+--------------+--------+----------+-------+-----------+---------------+\n",
            "only showing top 20 rows\n",
            "\n"
          ]
        }
      ]
    },
    {
      "cell_type": "markdown",
      "source": [
        "**9. Applying Functions**"
      ],
      "metadata": {
        "id": "YMa4Mdj8frlZ"
      }
    },
    {
      "cell_type": "code",
      "source": [
        "def order_size_tag(amount):\n",
        "    if amount > 800:\n",
        "        return \"Big\"\n",
        "    elif amount > 300:\n",
        "        return \"Medium\"\n",
        "    else:\n",
        "        return \"Small\"\n",
        "\n",
        "# Register UDF\n",
        "order_size_udf = udf(order_size_tag, StringType())\n",
        "\n",
        "# Apply UDF\n",
        "df_tagged = df.withColumn(\"OrderSize\", order_size_udf(col(\"Amount\")))\n",
        "df_tagged.select(\"OrderID\", \"CustomerName\", \"Amount\", \"OrderSize\").show()"
      ],
      "metadata": {
        "colab": {
          "base_uri": "https://localhost:8080/"
        },
        "id": "_EKcKdlYft20",
        "outputId": "5e85635b-7299-4c2c-e9dd-a9fa41b7a828"
      },
      "execution_count": 38,
      "outputs": [
        {
          "output_type": "stream",
          "name": "stdout",
          "text": [
            "+-------+------------------+------+---------+\n",
            "|OrderID|      CustomerName|Amount|OrderSize|\n",
            "+-------+------------------+------+---------+\n",
            "|   2824|     Donald Walker|783.04|   Medium|\n",
            "|   7912|      Brandon Hall| 905.0|      Big|\n",
            "|   4611|      Donald Booth|657.96|   Medium|\n",
            "|   3547|    Phillip Garcia|606.89|   Medium|\n",
            "|   8527|      Valerie Gray| 77.87|    Small|\n",
            "|   4150|       Amber Perez|352.37|   Medium|\n",
            "|   5554|        Roy Martin|148.33|    Small|\n",
            "|   2169|    Carolyn Daniel| 14.09|    Small|\n",
            "|   6313|       Patty Perez| 79.83|    Small|\n",
            "|   6155|Jonathan Wilkerson|882.68|      Big|\n",
            "|   9830|       Kevin Hurst|870.55|      Big|\n",
            "|   9085| Anthony Rodriguez|921.73|      Big|\n",
            "|   2040|     Kyle Mcdonald|327.52|   Medium|\n",
            "|   6573|    Jeffrey Chavez|676.02|   Medium|\n",
            "|   2743|  Elizabeth Fowler| 47.06|    Small|\n",
            "|   9837|     Tammy Sellers| 46.15|    Small|\n",
            "|   6038|     David Bradley|348.51|   Medium|\n",
            "|   3060|       John Pierce|362.09|   Medium|\n",
            "|   4295|   Jennifer Powers|684.26|   Medium|\n",
            "|   5061|    George Chapman|251.89|    Small|\n",
            "+-------+------------------+------+---------+\n",
            "only showing top 20 rows\n",
            "\n"
          ]
        }
      ]
    }
  ]
}