{
 "cells": [
  {
   "cell_type": "code",
   "execution_count": 0,
   "metadata": {
    "application/vnd.databricks.v1+cell": {
     "cellMetadata": {
      "byteLimit": 2048000,
      "rowLimit": 10000
     },
     "inputWidgets": {},
     "nuid": "c9033f41-b95c-4d30-a9cd-4c6d693d5ad0",
     "showTitle": false,
     "tableResultSettingsMap": {},
     "title": ""
    }
   },
   "outputs": [
    {
     "output_type": "execute_result",
     "data": {
      "text/plain": [
       "<pyspark.sql.connect.session.SparkSession at 0x7f6a895a14d0>"
      ]
     },
     "execution_count": 4,
     "metadata": {},
     "output_type": "execute_result"
    }
   ],
   "source": [
    "from pyspark.sql import SparkSession\n",
    "spark = SparkSession.builder \\\n",
    "    .appName(\"SmartCityTrafficAnalysis\") \\\n",
    "    .getOrCreate()\n",
    "spark"
   ]
  },
  {
   "cell_type": "markdown",
   "metadata": {
    "application/vnd.databricks.v1+cell": {
     "cellMetadata": {},
     "inputWidgets": {},
     "nuid": "a9e8f10c-99bc-4a08-a416-c1d12e09d7b3",
     "showTitle": false,
     "tableResultSettingsMap": {},
     "title": ""
    }
   },
   "source": [
    "Data Ingestion & Schema Analysis"
   ]
  },
  {
   "cell_type": "code",
   "execution_count": 0,
   "metadata": {
    "application/vnd.databricks.v1+cell": {
     "cellMetadata": {
      "byteLimit": 2048000,
      "rowLimit": 10000
     },
     "inputWidgets": {},
     "nuid": "a4fd2d94-797e-4549-95c9-28e3b52a5e0f",
     "showTitle": false,
     "tableResultSettingsMap": {},
     "title": ""
    }
   },
   "outputs": [
    {
     "output_type": "stream",
     "name": "stdout",
     "output_type": "stream",
     "text": [
      "Inferred Schema:\nroot\n |-- LogID: string (nullable = true)\n |-- VehicleID: string (nullable = true)\n |-- EntryPoint: string (nullable = true)\n |-- ExitPoint: string (nullable = true)\n |-- EntryTime: string (nullable = true)\n |-- ExitTime: string (nullable = true)\n |-- VehicleType: string (nullable = true)\n |-- SpeedKMH: string (nullable = true)\n |-- TollPaid: string (nullable = true)\n\n\nManual Schema:\nroot\n |-- LogID: string (nullable = true)\n |-- VehicleID: string (nullable = true)\n |-- EntryPoint: string (nullable = true)\n |-- ExitPoint: string (nullable = true)\n |-- EntryTime: timestamp (nullable = true)\n |-- ExitTime: timestamp (nullable = true)\n |-- VehicleType: string (nullable = true)\n |-- SpeedKMH: integer (nullable = true)\n |-- TollPaid: integer (nullable = true)\n\n"
     ]
    }
   ],
   "source": [
    "from pyspark.sql.types import *\n",
    "from pyspark.sql.functions import *\n",
    "\n",
    "# Load with schema inference\n",
    "inferred_df = spark.read.option(\"header\", True).csv(\"/Volumes/workspace/default/shared/traffic_logs.csv\")\n",
    "print(\"Inferred Schema:\")\n",
    "inferred_df.printSchema()\n",
    "\n",
    "# Manual schema definition\n",
    "manual_schema = StructType([\n",
    "    StructField(\"LogID\", StringType(), True),\n",
    "    StructField(\"VehicleID\", StringType(), True),\n",
    "    StructField(\"EntryPoint\", StringType(), True),\n",
    "    StructField(\"ExitPoint\", StringType(), True),\n",
    "    StructField(\"EntryTime\", TimestampType(), True),\n",
    "    StructField(\"ExitTime\", TimestampType(), True),\n",
    "    StructField(\"VehicleType\", StringType(), True),\n",
    "    StructField(\"SpeedKMH\", IntegerType(), True),\n",
    "    StructField(\"TollPaid\", IntegerType(), True)\n",
    "])\n",
    "\n",
    "# Load with manual schema\n",
    "manual_df = spark.read.option(\"header\", True).schema(manual_schema).csv(\"/Volumes/workspace/default/shared/traffic_logs.csv\")\n",
    "print(\"\\nManual Schema:\")\n",
    "manual_df.printSchema()"
   ]
  },
  {
   "cell_type": "markdown",
   "metadata": {
    "application/vnd.databricks.v1+cell": {
     "cellMetadata": {},
     "inputWidgets": {},
     "nuid": "ed11653e-e6c8-4bc2-8470-38ea86b7143b",
     "showTitle": false,
     "tableResultSettingsMap": {},
     "title": ""
    }
   },
   "source": [
    "Derived Column Creation"
   ]
  },
  {
   "cell_type": "code",
   "execution_count": 0,
   "metadata": {
    "application/vnd.databricks.v1+cell": {
     "cellMetadata": {
      "byteLimit": 2048000,
      "rowLimit": 10000
     },
     "inputWidgets": {},
     "nuid": "889f7397-d769-41ed-a08f-c706499e9168",
     "showTitle": false,
     "tableResultSettingsMap": {},
     "title": ""
    }
   },
   "outputs": [
    {
     "output_type": "display_data",
     "data": {
      "text/html": [
       "<style scoped>\n",
       "  .table-result-container {\n",
       "    max-height: 300px;\n",
       "    overflow: auto;\n",
       "  }\n",
       "  table, th, td {\n",
       "    border: 1px solid black;\n",
       "    border-collapse: collapse;\n",
       "  }\n",
       "  th, td {\n",
       "    padding: 5px;\n",
       "  }\n",
       "  th {\n",
       "    text-align: left;\n",
       "  }\n",
       "</style><div class='table-result-container'><table class='table-result'><thead style='background-color: white'><tr><th>LogID</th><th>VehicleID</th><th>EntryPoint</th><th>ExitPoint</th><th>EntryTime</th><th>ExitTime</th><th>VehicleType</th><th>SpeedKMH</th><th>TollPaid</th><th>TripDurationMinutes</th><th>IsOverspeed</th></tr></thead><tbody><tr><td>L001</td><td>V001</td><td>GateA</td><td>GateC</td><td>2024-05-01T08:01:00.000Z</td><td>2024-05-01T08:20:00.000Z</td><td>Car</td><td>60</td><td>50</td><td>19.0</td><td>false</td></tr><tr><td>L002</td><td>V002</td><td>GateB</td><td>GateC</td><td>2024-05-01T08:10:00.000Z</td><td>2024-05-01T08:45:00.000Z</td><td>Truck</td><td>45</td><td>100</td><td>35.0</td><td>false</td></tr><tr><td>L003</td><td>V003</td><td>GateA</td><td>GateD</td><td>2024-05-01T09:00:00.000Z</td><td>2024-05-01T09:18:00.000Z</td><td>Bike</td><td>55</td><td>30</td><td>18.0</td><td>false</td></tr><tr><td>L004</td><td>V004</td><td>GateC</td><td>GateD</td><td>2024-05-01T09:15:00.000Z</td><td>2024-05-01T09:35:00.000Z</td><td>Car</td><td>80</td><td>50</td><td>20.0</td><td>true</td></tr><tr><td>L005</td><td>V005</td><td>GateB</td><td>GateA</td><td>2024-05-01T10:05:00.000Z</td><td>2024-05-01T10:40:00.000Z</td><td>Bus</td><td>40</td><td>70</td><td>35.0</td><td>false</td></tr></tbody></table></div>"
      ]
     },
     "metadata": {
      "application/vnd.databricks.v1+output": {
       "addedWidgets": {},
       "aggData": [],
       "aggError": "",
       "aggOverflow": false,
       "aggSchema": [],
       "aggSeriesLimitReached": false,
       "aggType": "",
       "arguments": {},
       "columnCustomDisplayInfos": {},
       "data": [
        [
         "L001",
         "V001",
         "GateA",
         "GateC",
         "2024-05-01T08:01:00.000Z",
         "2024-05-01T08:20:00.000Z",
         "Car",
         60,
         50,
         19.0,
         false
        ],
        [
         "L002",
         "V002",
         "GateB",
         "GateC",
         "2024-05-01T08:10:00.000Z",
         "2024-05-01T08:45:00.000Z",
         "Truck",
         45,
         100,
         35.0,
         false
        ],
        [
         "L003",
         "V003",
         "GateA",
         "GateD",
         "2024-05-01T09:00:00.000Z",
         "2024-05-01T09:18:00.000Z",
         "Bike",
         55,
         30,
         18.0,
         false
        ],
        [
         "L004",
         "V004",
         "GateC",
         "GateD",
         "2024-05-01T09:15:00.000Z",
         "2024-05-01T09:35:00.000Z",
         "Car",
         80,
         50,
         20.0,
         true
        ],
        [
         "L005",
         "V005",
         "GateB",
         "GateA",
         "2024-05-01T10:05:00.000Z",
         "2024-05-01T10:40:00.000Z",
         "Bus",
         40,
         70,
         35.0,
         false
        ]
       ],
       "datasetInfos": [],
       "dbfsResultPath": null,
       "isJsonSchema": true,
       "metadata": {},
       "overflow": false,
       "plotOptions": {
        "customPlotOptions": {},
        "displayType": "table",
        "pivotAggregation": null,
        "pivotColumns": null,
        "xColumns": null,
        "yColumns": null
       },
       "removedWidgets": [],
       "schema": [
        {
         "metadata": "{}",
         "name": "LogID",
         "type": "\"string\""
        },
        {
         "metadata": "{}",
         "name": "VehicleID",
         "type": "\"string\""
        },
        {
         "metadata": "{}",
         "name": "EntryPoint",
         "type": "\"string\""
        },
        {
         "metadata": "{}",
         "name": "ExitPoint",
         "type": "\"string\""
        },
        {
         "metadata": "{}",
         "name": "EntryTime",
         "type": "\"timestamp\""
        },
        {
         "metadata": "{}",
         "name": "ExitTime",
         "type": "\"timestamp\""
        },
        {
         "metadata": "{}",
         "name": "VehicleType",
         "type": "\"string\""
        },
        {
         "metadata": "{}",
         "name": "SpeedKMH",
         "type": "\"integer\""
        },
        {
         "metadata": "{}",
         "name": "TollPaid",
         "type": "\"integer\""
        },
        {
         "metadata": "{}",
         "name": "TripDurationMinutes",
         "type": "\"double\""
        },
        {
         "metadata": "{}",
         "name": "IsOverspeed",
         "type": "\"boolean\""
        }
       ],
       "type": "table"
      }
     },
     "output_type": "display_data"
    }
   ],
   "source": [
    "# Calculate trip duration and overspeed flag\n",
    "calc_df = manual_df.withColumn(\"TripDurationMinutes\", round((col(\"ExitTime\").cast(\"long\")-col(\"EntryTime\").cast(\"long\")) / 60, 2)).withColumn(\"IsOverspeed\", col(\"SpeedKMH\") > 60)\n",
    "\n",
    "display(calc_df)"
   ]
  },
  {
   "cell_type": "markdown",
   "metadata": {
    "application/vnd.databricks.v1+cell": {
     "cellMetadata": {},
     "inputWidgets": {},
     "nuid": "d7fa746a-ac9c-4050-9436-9f991788421c",
     "showTitle": false,
     "tableResultSettingsMap": {},
     "title": ""
    }
   },
   "source": [
    "3. Vehicle Behavior Aggregations"
   ]
  },
  {
   "cell_type": "code",
   "execution_count": 0,
   "metadata": {
    "application/vnd.databricks.v1+cell": {
     "cellMetadata": {
      "byteLimit": 2048000,
      "rowLimit": 10000
     },
     "inputWidgets": {},
     "nuid": "bb7a78a2-f75c-4c36-a4d8-bf1b7a6b46ba",
     "showTitle": true,
     "tableResultSettingsMap": {},
     "title": "3. Vehicle Behavior Aggregations"
    }
   },
   "outputs": [
    {
     "output_type": "display_data",
     "data": {
      "text/html": [
       "<style scoped>\n",
       "  .table-result-container {\n",
       "    max-height: 300px;\n",
       "    overflow: auto;\n",
       "  }\n",
       "  table, th, td {\n",
       "    border: 1px solid black;\n",
       "    border-collapse: collapse;\n",
       "  }\n",
       "  th, td {\n",
       "    padding: 5px;\n",
       "  }\n",
       "  th {\n",
       "    text-align: left;\n",
       "  }\n",
       "</style><div class='table-result-container'><table class='table-result'><thead style='background-color: white'><tr><th>VehicleType</th><th>Avg_Speed_KMH</th></tr></thead><tbody><tr><td>Car</td><td>70.0</td></tr><tr><td>Bike</td><td>55.0</td></tr><tr><td>Truck</td><td>45.0</td></tr><tr><td>Bus</td><td>40.0</td></tr></tbody></table></div>"
      ]
     },
     "metadata": {
      "application/vnd.databricks.v1+output": {
       "addedWidgets": {},
       "aggData": [],
       "aggError": "",
       "aggOverflow": false,
       "aggSchema": [],
       "aggSeriesLimitReached": false,
       "aggType": "",
       "arguments": {},
       "columnCustomDisplayInfos": {},
       "data": [
        [
         "Car",
         70.0
        ],
        [
         "Bike",
         55.0
        ],
        [
         "Truck",
         45.0
        ],
        [
         "Bus",
         40.0
        ]
       ],
       "datasetInfos": [],
       "dbfsResultPath": null,
       "isJsonSchema": true,
       "metadata": {},
       "overflow": false,
       "plotOptions": {
        "customPlotOptions": {},
        "displayType": "table",
        "pivotAggregation": null,
        "pivotColumns": null,
        "xColumns": null,
        "yColumns": null
       },
       "removedWidgets": [],
       "schema": [
        {
         "metadata": "{}",
         "name": "VehicleType",
         "type": "\"string\""
        },
        {
         "metadata": "{}",
         "name": "Avg_Speed_KMH",
         "type": "\"double\""
        }
       ],
       "type": "table"
      }
     },
     "output_type": "display_data"
    },
    {
     "output_type": "display_data",
     "data": {
      "text/html": [
       "<style scoped>\n",
       "  .table-result-container {\n",
       "    max-height: 300px;\n",
       "    overflow: auto;\n",
       "  }\n",
       "  table, th, td {\n",
       "    border: 1px solid black;\n",
       "    border-collapse: collapse;\n",
       "  }\n",
       "  th, td {\n",
       "    padding: 5px;\n",
       "  }\n",
       "  th {\n",
       "    text-align: left;\n",
       "  }\n",
       "</style><div class='table-result-container'><table class='table-result'><thead style='background-color: white'><tr><th>EntryPoint</th><th>Total_Toll_Collected</th></tr></thead><tbody><tr><td>GateB</td><td>170</td></tr><tr><td>GateA</td><td>80</td></tr><tr><td>GateC</td><td>50</td></tr></tbody></table></div>"
      ]
     },
     "metadata": {
      "application/vnd.databricks.v1+output": {
       "addedWidgets": {},
       "aggData": [],
       "aggError": "",
       "aggOverflow": false,
       "aggSchema": [],
       "aggSeriesLimitReached": false,
       "aggType": "",
       "arguments": {},
       "columnCustomDisplayInfos": {},
       "data": [
        [
         "GateB",
         170
        ],
        [
         "GateA",
         80
        ],
        [
         "GateC",
         50
        ]
       ],
       "datasetInfos": [],
       "dbfsResultPath": null,
       "isJsonSchema": true,
       "metadata": {},
       "overflow": false,
       "plotOptions": {
        "customPlotOptions": {},
        "displayType": "table",
        "pivotAggregation": null,
        "pivotColumns": null,
        "xColumns": null,
        "yColumns": null
       },
       "removedWidgets": [],
       "schema": [
        {
         "metadata": "{}",
         "name": "EntryPoint",
         "type": "\"string\""
        },
        {
         "metadata": "{}",
         "name": "Total_Toll_Collected",
         "type": "\"long\""
        }
       ],
       "type": "table"
      }
     },
     "output_type": "display_data"
    },
    {
     "output_type": "display_data",
     "data": {
      "text/html": [
       "<style scoped>\n",
       "  .table-result-container {\n",
       "    max-height: 300px;\n",
       "    overflow: auto;\n",
       "  }\n",
       "  table, th, td {\n",
       "    border: 1px solid black;\n",
       "    border-collapse: collapse;\n",
       "  }\n",
       "  th, td {\n",
       "    padding: 5px;\n",
       "  }\n",
       "  th {\n",
       "    text-align: left;\n",
       "  }\n",
       "</style><div class='table-result-container'><table class='table-result'><thead style='background-color: white'><tr><th>ExitPoint</th><th>count</th></tr></thead><tbody><tr><td>GateD</td><td>2</td></tr></tbody></table></div>"
      ]
     },
     "metadata": {
      "application/vnd.databricks.v1+output": {
       "addedWidgets": {},
       "aggData": [],
       "aggError": "",
       "aggOverflow": false,
       "aggSchema": [],
       "aggSeriesLimitReached": false,
       "aggType": "",
       "arguments": {},
       "columnCustomDisplayInfos": {},
       "data": [
        [
         "GateD",
         2
        ]
       ],
       "datasetInfos": [],
       "dbfsResultPath": null,
       "isJsonSchema": true,
       "metadata": {},
       "overflow": false,
       "plotOptions": {
        "customPlotOptions": {},
        "displayType": "table",
        "pivotAggregation": null,
        "pivotColumns": null,
        "xColumns": null,
        "yColumns": null
       },
       "removedWidgets": [],
       "schema": [
        {
         "metadata": "{}",
         "name": "ExitPoint",
         "type": "\"string\""
        },
        {
         "metadata": "{}",
         "name": "count",
         "type": "\"long\""
        }
       ],
       "type": "table"
      }
     },
     "output_type": "display_data"
    }
   ],
   "source": [
    "# Average speed per VehicleType\n",
    "avg_speed = calc_df.groupBy(\"VehicleType\") \\\n",
    "    .agg(avg(\"SpeedKMH\").alias(\"Avg_Speed_KMH\")) \\\n",
    "    .orderBy(\"Avg_Speed_KMH\", ascending=False)\n",
    "display(avg_speed)\n",
    "\n",
    "# Total toll collected per gate\n",
    "toll_by_gate = calc_df.groupBy(\"EntryPoint\") \\\n",
    "    .agg(sum(\"TollPaid\").alias(\"Total_Toll_Collected\")) \\\n",
    "    .orderBy(\"Total_Toll_Collected\", ascending=False)\n",
    "display(toll_by_gate)\n",
    "\n",
    "# Most used ExitPoint\n",
    "exit_usage = calc_df.groupBy(\"ExitPoint\") \\\n",
    "    .count() \\\n",
    "    .orderBy(\"count\", ascending=False) \\\n",
    "    .limit(1)\n",
    "display(exit_usage)\n"
   ]
  },
  {
   "cell_type": "markdown",
   "metadata": {
    "application/vnd.databricks.v1+cell": {
     "cellMetadata": {},
     "inputWidgets": {},
     "nuid": "ab06f2ce-8db7-49eb-99f3-4b6788e1fba4",
     "showTitle": false,
     "tableResultSettingsMap": {},
     "title": ""
    }
   },
   "source": [
    "4. Window Functions"
   ]
  },
  {
   "cell_type": "code",
   "execution_count": 0,
   "metadata": {
    "application/vnd.databricks.v1+cell": {
     "cellMetadata": {
      "byteLimit": 2048000,
      "rowLimit": 10000
     },
     "inputWidgets": {},
     "nuid": "7b6d3524-273b-4324-9a24-d5d7673f3414",
     "showTitle": true,
     "tableResultSettingsMap": {},
     "title": "4. Window Functions"
    }
   },
   "outputs": [
    {
     "output_type": "display_data",
     "data": {
      "text/html": [
       "<style scoped>\n",
       "  .table-result-container {\n",
       "    max-height: 300px;\n",
       "    overflow: auto;\n",
       "  }\n",
       "  table, th, td {\n",
       "    border: 1px solid black;\n",
       "    border-collapse: collapse;\n",
       "  }\n",
       "  th, td {\n",
       "    padding: 5px;\n",
       "  }\n",
       "  th {\n",
       "    text-align: left;\n",
       "  }\n",
       "</style><div class='table-result-container'><table class='table-result'><thead style='background-color: white'><tr><th>LogID</th><th>VehicleID</th><th>EntryPoint</th><th>ExitPoint</th><th>EntryTime</th><th>ExitTime</th><th>VehicleType</th><th>SpeedKMH</th><th>TollPaid</th><th>TripDurationMinutes</th><th>IsOverspeed</th><th>SpeedRank</th></tr></thead><tbody><tr><td>L003</td><td>V003</td><td>GateA</td><td>GateD</td><td>2024-05-01T09:00:00.000Z</td><td>2024-05-01T09:18:00.000Z</td><td>Bike</td><td>55</td><td>30</td><td>18.0</td><td>false</td><td>1</td></tr><tr><td>L005</td><td>V005</td><td>GateB</td><td>GateA</td><td>2024-05-01T10:05:00.000Z</td><td>2024-05-01T10:40:00.000Z</td><td>Bus</td><td>40</td><td>70</td><td>35.0</td><td>false</td><td>1</td></tr><tr><td>L004</td><td>V004</td><td>GateC</td><td>GateD</td><td>2024-05-01T09:15:00.000Z</td><td>2024-05-01T09:35:00.000Z</td><td>Car</td><td>80</td><td>50</td><td>20.0</td><td>true</td><td>1</td></tr><tr><td>L001</td><td>V001</td><td>GateA</td><td>GateC</td><td>2024-05-01T08:01:00.000Z</td><td>2024-05-01T08:20:00.000Z</td><td>Car</td><td>60</td><td>50</td><td>19.0</td><td>false</td><td>2</td></tr><tr><td>L002</td><td>V002</td><td>GateB</td><td>GateC</td><td>2024-05-01T08:10:00.000Z</td><td>2024-05-01T08:45:00.000Z</td><td>Truck</td><td>45</td><td>100</td><td>35.0</td><td>false</td><td>1</td></tr></tbody></table></div>"
      ]
     },
     "metadata": {
      "application/vnd.databricks.v1+output": {
       "addedWidgets": {},
       "aggData": [],
       "aggError": "",
       "aggOverflow": false,
       "aggSchema": [],
       "aggSeriesLimitReached": false,
       "aggType": "",
       "arguments": {},
       "columnCustomDisplayInfos": {},
       "data": [
        [
         "L003",
         "V003",
         "GateA",
         "GateD",
         "2024-05-01T09:00:00.000Z",
         "2024-05-01T09:18:00.000Z",
         "Bike",
         55,
         30,
         18.0,
         false,
         1
        ],
        [
         "L005",
         "V005",
         "GateB",
         "GateA",
         "2024-05-01T10:05:00.000Z",
         "2024-05-01T10:40:00.000Z",
         "Bus",
         40,
         70,
         35.0,
         false,
         1
        ],
        [
         "L004",
         "V004",
         "GateC",
         "GateD",
         "2024-05-01T09:15:00.000Z",
         "2024-05-01T09:35:00.000Z",
         "Car",
         80,
         50,
         20.0,
         true,
         1
        ],
        [
         "L001",
         "V001",
         "GateA",
         "GateC",
         "2024-05-01T08:01:00.000Z",
         "2024-05-01T08:20:00.000Z",
         "Car",
         60,
         50,
         19.0,
         false,
         2
        ],
        [
         "L002",
         "V002",
         "GateB",
         "GateC",
         "2024-05-01T08:10:00.000Z",
         "2024-05-01T08:45:00.000Z",
         "Truck",
         45,
         100,
         35.0,
         false,
         1
        ]
       ],
       "datasetInfos": [],
       "dbfsResultPath": null,
       "isJsonSchema": true,
       "metadata": {},
       "overflow": false,
       "plotOptions": {
        "customPlotOptions": {},
        "displayType": "table",
        "pivotAggregation": null,
        "pivotColumns": null,
        "xColumns": null,
        "yColumns": null
       },
       "removedWidgets": [],
       "schema": [
        {
         "metadata": "{}",
         "name": "LogID",
         "type": "\"string\""
        },
        {
         "metadata": "{}",
         "name": "VehicleID",
         "type": "\"string\""
        },
        {
         "metadata": "{}",
         "name": "EntryPoint",
         "type": "\"string\""
        },
        {
         "metadata": "{}",
         "name": "ExitPoint",
         "type": "\"string\""
        },
        {
         "metadata": "{}",
         "name": "EntryTime",
         "type": "\"timestamp\""
        },
        {
         "metadata": "{}",
         "name": "ExitTime",
         "type": "\"timestamp\""
        },
        {
         "metadata": "{}",
         "name": "VehicleType",
         "type": "\"string\""
        },
        {
         "metadata": "{}",
         "name": "SpeedKMH",
         "type": "\"integer\""
        },
        {
         "metadata": "{}",
         "name": "TollPaid",
         "type": "\"integer\""
        },
        {
         "metadata": "{}",
         "name": "TripDurationMinutes",
         "type": "\"double\""
        },
        {
         "metadata": "{}",
         "name": "IsOverspeed",
         "type": "\"boolean\""
        },
        {
         "metadata": "{}",
         "name": "SpeedRank",
         "type": "\"integer\""
        }
       ],
       "type": "table"
      }
     },
     "output_type": "display_data"
    },
    {
     "output_type": "display_data",
     "data": {
      "text/html": [
       "<style scoped>\n",
       "  .table-result-container {\n",
       "    max-height: 300px;\n",
       "    overflow: auto;\n",
       "  }\n",
       "  table, th, td {\n",
       "    border: 1px solid black;\n",
       "    border-collapse: collapse;\n",
       "  }\n",
       "  th, td {\n",
       "    padding: 5px;\n",
       "  }\n",
       "  th {\n",
       "    text-align: left;\n",
       "  }\n",
       "</style><div class='table-result-container'><table class='table-result'><thead style='background-color: white'><tr><th>LogID</th><th>VehicleID</th><th>EntryPoint</th><th>ExitPoint</th><th>EntryTime</th><th>ExitTime</th><th>VehicleType</th><th>SpeedKMH</th><th>TollPaid</th><th>TripDurationMinutes</th><th>IsOverspeed</th><th>LastExitTime</th></tr></thead><tbody><tr><td>L001</td><td>V001</td><td>GateA</td><td>GateC</td><td>2024-05-01T08:01:00.000Z</td><td>2024-05-01T08:20:00.000Z</td><td>Car</td><td>60</td><td>50</td><td>19.0</td><td>false</td><td>null</td></tr><tr><td>L002</td><td>V002</td><td>GateB</td><td>GateC</td><td>2024-05-01T08:10:00.000Z</td><td>2024-05-01T08:45:00.000Z</td><td>Truck</td><td>45</td><td>100</td><td>35.0</td><td>false</td><td>null</td></tr><tr><td>L003</td><td>V003</td><td>GateA</td><td>GateD</td><td>2024-05-01T09:00:00.000Z</td><td>2024-05-01T09:18:00.000Z</td><td>Bike</td><td>55</td><td>30</td><td>18.0</td><td>false</td><td>null</td></tr><tr><td>L004</td><td>V004</td><td>GateC</td><td>GateD</td><td>2024-05-01T09:15:00.000Z</td><td>2024-05-01T09:35:00.000Z</td><td>Car</td><td>80</td><td>50</td><td>20.0</td><td>true</td><td>null</td></tr><tr><td>L005</td><td>V005</td><td>GateB</td><td>GateA</td><td>2024-05-01T10:05:00.000Z</td><td>2024-05-01T10:40:00.000Z</td><td>Bus</td><td>40</td><td>70</td><td>35.0</td><td>false</td><td>null</td></tr></tbody></table></div>"
      ]
     },
     "metadata": {
      "application/vnd.databricks.v1+output": {
       "addedWidgets": {},
       "aggData": [],
       "aggError": "",
       "aggOverflow": false,
       "aggSchema": [],
       "aggSeriesLimitReached": false,
       "aggType": "",
       "arguments": {},
       "columnCustomDisplayInfos": {},
       "data": [
        [
         "L001",
         "V001",
         "GateA",
         "GateC",
         "2024-05-01T08:01:00.000Z",
         "2024-05-01T08:20:00.000Z",
         "Car",
         60,
         50,
         19.0,
         false,
         null
        ],
        [
         "L002",
         "V002",
         "GateB",
         "GateC",
         "2024-05-01T08:10:00.000Z",
         "2024-05-01T08:45:00.000Z",
         "Truck",
         45,
         100,
         35.0,
         false,
         null
        ],
        [
         "L003",
         "V003",
         "GateA",
         "GateD",
         "2024-05-01T09:00:00.000Z",
         "2024-05-01T09:18:00.000Z",
         "Bike",
         55,
         30,
         18.0,
         false,
         null
        ],
        [
         "L004",
         "V004",
         "GateC",
         "GateD",
         "2024-05-01T09:15:00.000Z",
         "2024-05-01T09:35:00.000Z",
         "Car",
         80,
         50,
         20.0,
         true,
         null
        ],
        [
         "L005",
         "V005",
         "GateB",
         "GateA",
         "2024-05-01T10:05:00.000Z",
         "2024-05-01T10:40:00.000Z",
         "Bus",
         40,
         70,
         35.0,
         false,
         null
        ]
       ],
       "datasetInfos": [],
       "dbfsResultPath": null,
       "isJsonSchema": true,
       "metadata": {},
       "overflow": false,
       "plotOptions": {
        "customPlotOptions": {},
        "displayType": "table",
        "pivotAggregation": null,
        "pivotColumns": null,
        "xColumns": null,
        "yColumns": null
       },
       "removedWidgets": [],
       "schema": [
        {
         "metadata": "{}",
         "name": "LogID",
         "type": "\"string\""
        },
        {
         "metadata": "{}",
         "name": "VehicleID",
         "type": "\"string\""
        },
        {
         "metadata": "{}",
         "name": "EntryPoint",
         "type": "\"string\""
        },
        {
         "metadata": "{}",
         "name": "ExitPoint",
         "type": "\"string\""
        },
        {
         "metadata": "{}",
         "name": "EntryTime",
         "type": "\"timestamp\""
        },
        {
         "metadata": "{}",
         "name": "ExitTime",
         "type": "\"timestamp\""
        },
        {
         "metadata": "{}",
         "name": "VehicleType",
         "type": "\"string\""
        },
        {
         "metadata": "{}",
         "name": "SpeedKMH",
         "type": "\"integer\""
        },
        {
         "metadata": "{}",
         "name": "TollPaid",
         "type": "\"integer\""
        },
        {
         "metadata": "{}",
         "name": "TripDurationMinutes",
         "type": "\"double\""
        },
        {
         "metadata": "{}",
         "name": "IsOverspeed",
         "type": "\"boolean\""
        },
        {
         "metadata": "{}",
         "name": "LastExitTime",
         "type": "\"timestamp\""
        }
       ],
       "type": "table"
      }
     },
     "output_type": "display_data"
    }
   ],
   "source": [
    "from pyspark.sql.window import Window\n",
    "\n",
    "# Rank vehicles by speed within VehicleType\n",
    "window_spec = Window.partitionBy(\"VehicleType\").orderBy(col(\"SpeedKMH\").desc())\n",
    "speed_ranked = calc_df.withColumn(\"SpeedRank\", rank().over(window_spec))\n",
    "display(speed_ranked)\n",
    "\n",
    "# Find last exit time for each vehicle\n",
    "window_spec_vehicle = Window.partitionBy(\"VehicleID\").orderBy(\"ExitTime\")\n",
    "lag_df = calc_df.withColumn(\"LastExitTime\", lag(\"ExitTime\", 1).over(window_spec_vehicle))\n",
    "display(lag_df)"
   ]
  },
  {
   "cell_type": "markdown",
   "metadata": {
    "application/vnd.databricks.v1+cell": {
     "cellMetadata": {},
     "inputWidgets": {},
     "nuid": "3beb1166-76f4-405f-bd6c-5462d6955ecd",
     "showTitle": false,
     "tableResultSettingsMap": {},
     "title": ""
    }
   },
   "source": [
    "Session Segmentation"
   ]
  },
  {
   "cell_type": "code",
   "execution_count": 0,
   "metadata": {
    "application/vnd.databricks.v1+cell": {
     "cellMetadata": {
      "byteLimit": 2048000,
      "rowLimit": 10000
     },
     "inputWidgets": {},
     "nuid": "ca810f02-6233-4496-8ff6-8b9c4053e3e2",
     "showTitle": true,
     "tableResultSettingsMap": {},
     "title": "Session Segmentation"
    }
   },
   "outputs": [
    {
     "output_type": "display_data",
     "data": {
      "text/html": [
       "<style scoped>\n",
       "  .table-result-container {\n",
       "    max-height: 300px;\n",
       "    overflow: auto;\n",
       "  }\n",
       "  table, th, td {\n",
       "    border: 1px solid black;\n",
       "    border-collapse: collapse;\n",
       "  }\n",
       "  th, td {\n",
       "    padding: 5px;\n",
       "  }\n",
       "  th {\n",
       "    text-align: left;\n",
       "  }\n",
       "</style><div class='table-result-container'><table class='table-result'><thead style='background-color: white'><tr><th>LogID</th><th>VehicleID</th><th>EntryPoint</th><th>ExitPoint</th><th>EntryTime</th><th>ExitTime</th><th>VehicleType</th><th>SpeedKMH</th><th>TollPaid</th><th>TripDurationMinutes</th><th>IsOverspeed</th><th>TimeSinceLastTripMinutes</th></tr></thead><tbody><tr><td>L001</td><td>V001</td><td>GateA</td><td>GateC</td><td>2024-05-01T08:01:00.000Z</td><td>2024-05-01T08:20:00.000Z</td><td>Car</td><td>60</td><td>50</td><td>19.0</td><td>false</td><td>null</td></tr><tr><td>L002</td><td>V002</td><td>GateB</td><td>GateC</td><td>2024-05-01T08:10:00.000Z</td><td>2024-05-01T08:45:00.000Z</td><td>Truck</td><td>45</td><td>100</td><td>35.0</td><td>false</td><td>null</td></tr><tr><td>L003</td><td>V003</td><td>GateA</td><td>GateD</td><td>2024-05-01T09:00:00.000Z</td><td>2024-05-01T09:18:00.000Z</td><td>Bike</td><td>55</td><td>30</td><td>18.0</td><td>false</td><td>null</td></tr><tr><td>L004</td><td>V004</td><td>GateC</td><td>GateD</td><td>2024-05-01T09:15:00.000Z</td><td>2024-05-01T09:35:00.000Z</td><td>Car</td><td>80</td><td>50</td><td>20.0</td><td>true</td><td>null</td></tr><tr><td>L005</td><td>V005</td><td>GateB</td><td>GateA</td><td>2024-05-01T10:05:00.000Z</td><td>2024-05-01T10:40:00.000Z</td><td>Bus</td><td>40</td><td>70</td><td>35.0</td><td>false</td><td>null</td></tr></tbody></table></div>"
      ]
     },
     "metadata": {
      "application/vnd.databricks.v1+output": {
       "addedWidgets": {},
       "aggData": [],
       "aggError": "",
       "aggOverflow": false,
       "aggSchema": [],
       "aggSeriesLimitReached": false,
       "aggType": "",
       "arguments": {},
       "columnCustomDisplayInfos": {},
       "data": [
        [
         "L001",
         "V001",
         "GateA",
         "GateC",
         "2024-05-01T08:01:00.000Z",
         "2024-05-01T08:20:00.000Z",
         "Car",
         60,
         50,
         19.0,
         false,
         null
        ],
        [
         "L002",
         "V002",
         "GateB",
         "GateC",
         "2024-05-01T08:10:00.000Z",
         "2024-05-01T08:45:00.000Z",
         "Truck",
         45,
         100,
         35.0,
         false,
         null
        ],
        [
         "L003",
         "V003",
         "GateA",
         "GateD",
         "2024-05-01T09:00:00.000Z",
         "2024-05-01T09:18:00.000Z",
         "Bike",
         55,
         30,
         18.0,
         false,
         null
        ],
        [
         "L004",
         "V004",
         "GateC",
         "GateD",
         "2024-05-01T09:15:00.000Z",
         "2024-05-01T09:35:00.000Z",
         "Car",
         80,
         50,
         20.0,
         true,
         null
        ],
        [
         "L005",
         "V005",
         "GateB",
         "GateA",
         "2024-05-01T10:05:00.000Z",
         "2024-05-01T10:40:00.000Z",
         "Bus",
         40,
         70,
         35.0,
         false,
         null
        ]
       ],
       "datasetInfos": [],
       "dbfsResultPath": null,
       "isJsonSchema": true,
       "metadata": {},
       "overflow": false,
       "plotOptions": {
        "customPlotOptions": {},
        "displayType": "table",
        "pivotAggregation": null,
        "pivotColumns": null,
        "xColumns": null,
        "yColumns": null
       },
       "removedWidgets": [],
       "schema": [
        {
         "metadata": "{}",
         "name": "LogID",
         "type": "\"string\""
        },
        {
         "metadata": "{}",
         "name": "VehicleID",
         "type": "\"string\""
        },
        {
         "metadata": "{}",
         "name": "EntryPoint",
         "type": "\"string\""
        },
        {
         "metadata": "{}",
         "name": "ExitPoint",
         "type": "\"string\""
        },
        {
         "metadata": "{}",
         "name": "EntryTime",
         "type": "\"timestamp\""
        },
        {
         "metadata": "{}",
         "name": "ExitTime",
         "type": "\"timestamp\""
        },
        {
         "metadata": "{}",
         "name": "VehicleType",
         "type": "\"string\""
        },
        {
         "metadata": "{}",
         "name": "SpeedKMH",
         "type": "\"integer\""
        },
        {
         "metadata": "{}",
         "name": "TollPaid",
         "type": "\"integer\""
        },
        {
         "metadata": "{}",
         "name": "TripDurationMinutes",
         "type": "\"double\""
        },
        {
         "metadata": "{}",
         "name": "IsOverspeed",
         "type": "\"boolean\""
        },
        {
         "metadata": "{}",
         "name": "TimeSinceLastTripMinutes",
         "type": "\"double\""
        }
       ],
       "type": "table"
      }
     },
     "output_type": "display_data"
    }
   ],
   "source": [
    "# Group by VehicleID and analyze trips\n",
    "window_spec_session = Window.partitionBy(\"VehicleID\").orderBy(\"EntryTime\")\n",
    "session_df = calc_df.withColumn(\"TimeSinceLastTripMinutes\",round((col(\"EntryTime\").cast(\"long\") - lag(\"ExitTime\", 1).over(window_spec_session).cast(\"long\")) / 60, 2))\n",
    "\n",
    "display(session_df)"
   ]
  },
  {
   "cell_type": "markdown",
   "metadata": {
    "application/vnd.databricks.v1+cell": {
     "cellMetadata": {},
     "inputWidgets": {},
     "nuid": "1ea07f72-5145-4622-be50-decab581e1b5",
     "showTitle": false,
     "tableResultSettingsMap": {},
     "title": ""
    }
   },
   "source": [
    "Anomaly Detection"
   ]
  },
  {
   "cell_type": "code",
   "execution_count": 0,
   "metadata": {
    "application/vnd.databricks.v1+cell": {
     "cellMetadata": {
      "byteLimit": 2048000,
      "rowLimit": 10000
     },
     "inputWidgets": {},
     "nuid": "0f7e2b18-56e1-4bc8-8849-7532098a9535",
     "showTitle": true,
     "tableResultSettingsMap": {},
     "title": "Anomaly Detection"
    }
   },
   "outputs": [
    {
     "output_type": "display_data",
     "data": {
      "text/html": [
       "<style scoped>\n",
       "  .table-result-container {\n",
       "    max-height: 300px;\n",
       "    overflow: auto;\n",
       "  }\n",
       "  table, th, td {\n",
       "    border: 1px solid black;\n",
       "    border-collapse: collapse;\n",
       "  }\n",
       "  th, td {\n",
       "    padding: 5px;\n",
       "  }\n",
       "  th {\n",
       "    text-align: left;\n",
       "  }\n",
       "</style><div class='table-result-container'><table class='table-result'><thead style='background-color: white'><tr><th>LogID</th><th>VehicleID</th><th>EntryPoint</th><th>ExitPoint</th><th>EntryTime</th><th>ExitTime</th><th>VehicleType</th><th>SpeedKMH</th><th>TollPaid</th><th>TripDurationMinutes</th><th>IsOverspeed</th></tr></thead><tbody></tbody></table></div>"
      ]
     },
     "metadata": {
      "application/vnd.databricks.v1+output": {
       "addedWidgets": {},
       "aggData": [],
       "aggError": "",
       "aggOverflow": false,
       "aggSchema": [],
       "aggSeriesLimitReached": false,
       "aggType": "",
       "arguments": {},
       "columnCustomDisplayInfos": {},
       "data": [],
       "datasetInfos": [],
       "dbfsResultPath": null,
       "isJsonSchema": true,
       "metadata": {},
       "overflow": false,
       "plotOptions": {
        "customPlotOptions": {},
        "displayType": "table",
        "pivotAggregation": null,
        "pivotColumns": null,
        "xColumns": null,
        "yColumns": null
       },
       "removedWidgets": [],
       "schema": [
        {
         "metadata": "{}",
         "name": "LogID",
         "type": "\"string\""
        },
        {
         "metadata": "{}",
         "name": "VehicleID",
         "type": "\"string\""
        },
        {
         "metadata": "{}",
         "name": "EntryPoint",
         "type": "\"string\""
        },
        {
         "metadata": "{}",
         "name": "ExitPoint",
         "type": "\"string\""
        },
        {
         "metadata": "{}",
         "name": "EntryTime",
         "type": "\"timestamp\""
        },
        {
         "metadata": "{}",
         "name": "ExitTime",
         "type": "\"timestamp\""
        },
        {
         "metadata": "{}",
         "name": "VehicleType",
         "type": "\"string\""
        },
        {
         "metadata": "{}",
         "name": "SpeedKMH",
         "type": "\"integer\""
        },
        {
         "metadata": "{}",
         "name": "TollPaid",
         "type": "\"integer\""
        },
        {
         "metadata": "{}",
         "name": "TripDurationMinutes",
         "type": "\"double\""
        },
        {
         "metadata": "{}",
         "name": "IsOverspeed",
         "type": "\"boolean\""
        }
       ],
       "type": "table"
      }
     },
     "output_type": "display_data"
    },
    {
     "output_type": "display_data",
     "data": {
      "text/html": [
       "<style scoped>\n",
       "  .table-result-container {\n",
       "    max-height: 300px;\n",
       "    overflow: auto;\n",
       "  }\n",
       "  table, th, td {\n",
       "    border: 1px solid black;\n",
       "    border-collapse: collapse;\n",
       "  }\n",
       "  th, td {\n",
       "    padding: 5px;\n",
       "  }\n",
       "  th {\n",
       "    text-align: left;\n",
       "  }\n",
       "</style><div class='table-result-container'><table class='table-result'><thead style='background-color: white'><tr><th>LogID</th><th>VehicleID</th><th>EntryPoint</th><th>ExitPoint</th><th>EntryTime</th><th>ExitTime</th><th>VehicleType</th><th>SpeedKMH</th><th>TollPaid</th><th>TripDurationMinutes</th><th>IsOverspeed</th></tr></thead><tbody></tbody></table></div>"
      ]
     },
     "metadata": {
      "application/vnd.databricks.v1+output": {
       "addedWidgets": {},
       "aggData": [],
       "aggError": "",
       "aggOverflow": false,
       "aggSchema": [],
       "aggSeriesLimitReached": false,
       "aggType": "",
       "arguments": {},
       "columnCustomDisplayInfos": {},
       "data": [],
       "datasetInfos": [],
       "dbfsResultPath": null,
       "isJsonSchema": true,
       "metadata": {},
       "overflow": false,
       "plotOptions": {
        "customPlotOptions": {},
        "displayType": "table",
        "pivotAggregation": null,
        "pivotColumns": null,
        "xColumns": null,
        "yColumns": null
       },
       "removedWidgets": [],
       "schema": [
        {
         "metadata": "{}",
         "name": "LogID",
         "type": "\"string\""
        },
        {
         "metadata": "{}",
         "name": "VehicleID",
         "type": "\"string\""
        },
        {
         "metadata": "{}",
         "name": "EntryPoint",
         "type": "\"string\""
        },
        {
         "metadata": "{}",
         "name": "ExitPoint",
         "type": "\"string\""
        },
        {
         "metadata": "{}",
         "name": "EntryTime",
         "type": "\"timestamp\""
        },
        {
         "metadata": "{}",
         "name": "ExitTime",
         "type": "\"timestamp\""
        },
        {
         "metadata": "{}",
         "name": "VehicleType",
         "type": "\"string\""
        },
        {
         "metadata": "{}",
         "name": "SpeedKMH",
         "type": "\"integer\""
        },
        {
         "metadata": "{}",
         "name": "TollPaid",
         "type": "\"integer\""
        },
        {
         "metadata": "{}",
         "name": "TripDurationMinutes",
         "type": "\"double\""
        },
        {
         "metadata": "{}",
         "name": "IsOverspeed",
         "type": "\"boolean\""
        }
       ],
       "type": "table"
      }
     },
     "output_type": "display_data"
    },
    {
     "output_type": "display_data",
     "data": {
      "text/html": [
       "<style scoped>\n",
       "  .table-result-container {\n",
       "    max-height: 300px;\n",
       "    overflow: auto;\n",
       "  }\n",
       "  table, th, td {\n",
       "    border: 1px solid black;\n",
       "    border-collapse: collapse;\n",
       "  }\n",
       "  th, td {\n",
       "    padding: 5px;\n",
       "  }\n",
       "  th {\n",
       "    text-align: left;\n",
       "  }\n",
       "</style><div class='table-result-container'><table class='table-result'><thead style='background-color: white'><tr><th>LogID</th><th>VehicleID</th><th>EntryPoint</th><th>ExitPoint</th><th>EntryTime</th><th>ExitTime</th><th>VehicleType</th><th>SpeedKMH</th><th>TollPaid</th><th>TripDurationMinutes</th><th>IsOverspeed</th></tr></thead><tbody><tr><td>L005</td><td>V005</td><td>GateB</td><td>GateA</td><td>2024-05-01T10:05:00.000Z</td><td>2024-05-01T10:40:00.000Z</td><td>Bus</td><td>40</td><td>70</td><td>35.0</td><td>false</td></tr></tbody></table></div>"
      ]
     },
     "metadata": {
      "application/vnd.databricks.v1+output": {
       "addedWidgets": {},
       "aggData": [],
       "aggError": "",
       "aggOverflow": false,
       "aggSchema": [],
       "aggSeriesLimitReached": false,
       "aggType": "",
       "arguments": {},
       "columnCustomDisplayInfos": {},
       "data": [
        [
         "L005",
         "V005",
         "GateB",
         "GateA",
         "2024-05-01T10:05:00.000Z",
         "2024-05-01T10:40:00.000Z",
         "Bus",
         40,
         70,
         35.0,
         false
        ]
       ],
       "datasetInfos": [],
       "dbfsResultPath": null,
       "isJsonSchema": true,
       "metadata": {},
       "overflow": false,
       "plotOptions": {
        "customPlotOptions": {},
        "displayType": "table",
        "pivotAggregation": null,
        "pivotColumns": null,
        "xColumns": null,
        "yColumns": null
       },
       "removedWidgets": [],
       "schema": [
        {
         "metadata": "{}",
         "name": "LogID",
         "type": "\"string\""
        },
        {
         "metadata": "{}",
         "name": "VehicleID",
         "type": "\"string\""
        },
        {
         "metadata": "{}",
         "name": "EntryPoint",
         "type": "\"string\""
        },
        {
         "metadata": "{}",
         "name": "ExitPoint",
         "type": "\"string\""
        },
        {
         "metadata": "{}",
         "name": "EntryTime",
         "type": "\"timestamp\""
        },
        {
         "metadata": "{}",
         "name": "ExitTime",
         "type": "\"timestamp\""
        },
        {
         "metadata": "{}",
         "name": "VehicleType",
         "type": "\"string\""
        },
        {
         "metadata": "{}",
         "name": "SpeedKMH",
         "type": "\"integer\""
        },
        {
         "metadata": "{}",
         "name": "TollPaid",
         "type": "\"integer\""
        },
        {
         "metadata": "{}",
         "name": "TripDurationMinutes",
         "type": "\"double\""
        },
        {
         "metadata": "{}",
         "name": "IsOverspeed",
         "type": "\"boolean\""
        }
       ],
       "type": "table"
      }
     },
     "output_type": "display_data"
    }
   ],
   "source": [
    "# High speed short trips\n",
    "speed_anomalies = calc_df.filter(\n",
    "    (col(\"SpeedKMH\") > 70) & \n",
    "    (col(\"TripDurationMinutes\") < 10))\n",
    "display(speed_anomalies)\n",
    "\n",
    "# Low toll for long trips\n",
    "toll_anomalies = calc_df.filter(\n",
    "    (col(\"TollPaid\") < 50) & \n",
    "    (col(\"TripDurationMinutes\") > 30))\n",
    "display(toll_anomalies)\n",
    "\n",
    "# Suspicious backtracking\n",
    "backtracking = calc_df.filter(\n",
    "    col(\"ExitPoint\") < col(\"EntryPoint\"))\n",
    "display(backtracking)"
   ]
  },
  {
   "cell_type": "markdown",
   "metadata": {
    "application/vnd.databricks.v1+cell": {
     "cellMetadata": {},
     "inputWidgets": {},
     "nuid": "5c60f673-9a3b-42df-b7aa-6f0b26a3a244",
     "showTitle": false,
     "tableResultSettingsMap": {},
     "title": ""
    }
   },
   "source": [
    "Join with Metadata"
   ]
  },
  {
   "cell_type": "code",
   "execution_count": 0,
   "metadata": {
    "application/vnd.databricks.v1+cell": {
     "cellMetadata": {
      "byteLimit": 2048000,
      "rowLimit": 10000
     },
     "inputWidgets": {},
     "nuid": "a30a754c-7eac-4278-b136-d99821c83d62",
     "showTitle": true,
     "tableResultSettingsMap": {},
     "title": "Join with Metadata"
    }
   },
   "outputs": [
    {
     "output_type": "display_data",
     "data": {
      "text/html": [
       "<style scoped>\n",
       "  .table-result-container {\n",
       "    max-height: 300px;\n",
       "    overflow: auto;\n",
       "  }\n",
       "  table, th, td {\n",
       "    border: 1px solid black;\n",
       "    border-collapse: collapse;\n",
       "  }\n",
       "  th, td {\n",
       "    padding: 5px;\n",
       "  }\n",
       "  th {\n",
       "    text-align: left;\n",
       "  }\n",
       "</style><div class='table-result-container'><table class='table-result'><thead style='background-color: white'><tr><th>VehicleID</th><th>LogID</th><th>EntryPoint</th><th>ExitPoint</th><th>EntryTime</th><th>ExitTime</th><th>VehicleType</th><th>SpeedKMH</th><th>TollPaid</th><th>TripDurationMinutes</th><th>IsOverspeed</th><th>OwnerName</th><th>Model</th><th>RegisteredCity</th></tr></thead><tbody><tr><td>V001</td><td>L001</td><td>GateA</td><td>GateC</td><td>2024-05-01T08:01:00.000Z</td><td>2024-05-01T08:20:00.000Z</td><td>Car</td><td>60</td><td>50</td><td>19.0</td><td>false</td><td>Anil</td><td>Hyundai i20</td><td>Delhi</td></tr><tr><td>V002</td><td>L002</td><td>GateB</td><td>GateC</td><td>2024-05-01T08:10:00.000Z</td><td>2024-05-01T08:45:00.000Z</td><td>Truck</td><td>45</td><td>100</td><td>35.0</td><td>false</td><td>Rakesh</td><td>Tata Truck</td><td>Chennai</td></tr><tr><td>V003</td><td>L003</td><td>GateA</td><td>GateD</td><td>2024-05-01T09:00:00.000Z</td><td>2024-05-01T09:18:00.000Z</td><td>Bike</td><td>55</td><td>30</td><td>18.0</td><td>false</td><td>Sana</td><td>Yamaha R15</td><td>Mumbai</td></tr><tr><td>V004</td><td>L004</td><td>GateC</td><td>GateD</td><td>2024-05-01T09:15:00.000Z</td><td>2024-05-01T09:35:00.000Z</td><td>Car</td><td>80</td><td>50</td><td>20.0</td><td>true</td><td>Neha</td><td>Honda City</td><td>Bangalore</td></tr><tr><td>V005</td><td>L005</td><td>GateB</td><td>GateA</td><td>2024-05-01T10:05:00.000Z</td><td>2024-05-01T10:40:00.000Z</td><td>Bus</td><td>40</td><td>70</td><td>35.0</td><td>false</td><td>Zoya</td><td>Volvo Bus</td><td>Pune</td></tr></tbody></table></div>"
      ]
     },
     "metadata": {
      "application/vnd.databricks.v1+output": {
       "addedWidgets": {},
       "aggData": [],
       "aggError": "",
       "aggOverflow": false,
       "aggSchema": [],
       "aggSeriesLimitReached": false,
       "aggType": "",
       "arguments": {},
       "columnCustomDisplayInfos": {},
       "data": [
        [
         "V001",
         "L001",
         "GateA",
         "GateC",
         "2024-05-01T08:01:00.000Z",
         "2024-05-01T08:20:00.000Z",
         "Car",
         60,
         50,
         19.0,
         false,
         "Anil",
         "Hyundai i20",
         "Delhi"
        ],
        [
         "V002",
         "L002",
         "GateB",
         "GateC",
         "2024-05-01T08:10:00.000Z",
         "2024-05-01T08:45:00.000Z",
         "Truck",
         45,
         100,
         35.0,
         false,
         "Rakesh",
         "Tata Truck",
         "Chennai"
        ],
        [
         "V003",
         "L003",
         "GateA",
         "GateD",
         "2024-05-01T09:00:00.000Z",
         "2024-05-01T09:18:00.000Z",
         "Bike",
         55,
         30,
         18.0,
         false,
         "Sana",
         "Yamaha R15",
         "Mumbai"
        ],
        [
         "V004",
         "L004",
         "GateC",
         "GateD",
         "2024-05-01T09:15:00.000Z",
         "2024-05-01T09:35:00.000Z",
         "Car",
         80,
         50,
         20.0,
         true,
         "Neha",
         "Honda City",
         "Bangalore"
        ],
        [
         "V005",
         "L005",
         "GateB",
         "GateA",
         "2024-05-01T10:05:00.000Z",
         "2024-05-01T10:40:00.000Z",
         "Bus",
         40,
         70,
         35.0,
         false,
         "Zoya",
         "Volvo Bus",
         "Pune"
        ]
       ],
       "datasetInfos": [],
       "dbfsResultPath": null,
       "isJsonSchema": true,
       "metadata": {},
       "overflow": false,
       "plotOptions": {
        "customPlotOptions": {},
        "displayType": "table",
        "pivotAggregation": null,
        "pivotColumns": null,
        "xColumns": null,
        "yColumns": null
       },
       "removedWidgets": [],
       "schema": [
        {
         "metadata": "{}",
         "name": "VehicleID",
         "type": "\"string\""
        },
        {
         "metadata": "{}",
         "name": "LogID",
         "type": "\"string\""
        },
        {
         "metadata": "{}",
         "name": "EntryPoint",
         "type": "\"string\""
        },
        {
         "metadata": "{}",
         "name": "ExitPoint",
         "type": "\"string\""
        },
        {
         "metadata": "{}",
         "name": "EntryTime",
         "type": "\"timestamp\""
        },
        {
         "metadata": "{}",
         "name": "ExitTime",
         "type": "\"timestamp\""
        },
        {
         "metadata": "{}",
         "name": "VehicleType",
         "type": "\"string\""
        },
        {
         "metadata": "{}",
         "name": "SpeedKMH",
         "type": "\"integer\""
        },
        {
         "metadata": "{}",
         "name": "TollPaid",
         "type": "\"integer\""
        },
        {
         "metadata": "{}",
         "name": "TripDurationMinutes",
         "type": "\"double\""
        },
        {
         "metadata": "{}",
         "name": "IsOverspeed",
         "type": "\"boolean\""
        },
        {
         "metadata": "{}",
         "name": "OwnerName",
         "type": "\"string\""
        },
        {
         "metadata": "{}",
         "name": "Model",
         "type": "\"string\""
        },
        {
         "metadata": "{}",
         "name": "RegisteredCity",
         "type": "\"string\""
        }
       ],
       "type": "table"
      }
     },
     "output_type": "display_data"
    },
    {
     "output_type": "display_data",
     "data": {
      "text/html": [
       "<style scoped>\n",
       "  .table-result-container {\n",
       "    max-height: 300px;\n",
       "    overflow: auto;\n",
       "  }\n",
       "  table, th, td {\n",
       "    border: 1px solid black;\n",
       "    border-collapse: collapse;\n",
       "  }\n",
       "  th, td {\n",
       "    padding: 5px;\n",
       "  }\n",
       "  th {\n",
       "    text-align: left;\n",
       "  }\n",
       "</style><div class='table-result-container'><table class='table-result'><thead style='background-color: white'><tr><th>RegisteredCity</th><th>TotalTrips</th></tr></thead><tbody><tr><td>Delhi</td><td>1</td></tr><tr><td>Chennai</td><td>1</td></tr><tr><td>Mumbai</td><td>1</td></tr><tr><td>Bangalore</td><td>1</td></tr><tr><td>Pune</td><td>1</td></tr></tbody></table></div>"
      ]
     },
     "metadata": {
      "application/vnd.databricks.v1+output": {
       "addedWidgets": {},
       "aggData": [],
       "aggError": "",
       "aggOverflow": false,
       "aggSchema": [],
       "aggSeriesLimitReached": false,
       "aggType": "",
       "arguments": {},
       "columnCustomDisplayInfos": {},
       "data": [
        [
         "Delhi",
         1
        ],
        [
         "Chennai",
         1
        ],
        [
         "Mumbai",
         1
        ],
        [
         "Bangalore",
         1
        ],
        [
         "Pune",
         1
        ]
       ],
       "datasetInfos": [],
       "dbfsResultPath": null,
       "isJsonSchema": true,
       "metadata": {},
       "overflow": false,
       "plotOptions": {
        "customPlotOptions": {},
        "displayType": "table",
        "pivotAggregation": null,
        "pivotColumns": null,
        "xColumns": null,
        "yColumns": null
       },
       "removedWidgets": [],
       "schema": [
        {
         "metadata": "{}",
         "name": "RegisteredCity",
         "type": "\"string\""
        },
        {
         "metadata": "{}",
         "name": "TotalTrips",
         "type": "\"long\""
        }
       ],
       "type": "table"
      }
     },
     "output_type": "display_data"
    }
   ],
   "source": [
    "# Load vehicle registry\n",
    "vehicle_registry = spark.read.option(\"header\", True).csv(\"/Volumes/workspace/default/shared/vehicle_registry.csv\")\n",
    "\n",
    "# Join with traffic data\n",
    "joined_df = calc_df.join(vehicle_registry, \"VehicleID\", \"left\")\n",
    "display(joined_df)\n",
    "\n",
    "# Group trips by registered city\n",
    "trips_by_city = joined_df.groupBy(\"RegisteredCity\") \\\n",
    "    .agg(count(\"*\").alias(\"TotalTrips\")) \\\n",
    "    .orderBy(\"TotalTrips\", ascending=False)\n",
    "display(trips_by_city)"
   ]
  },
  {
   "cell_type": "markdown",
   "metadata": {
    "application/vnd.databricks.v1+cell": {
     "cellMetadata": {},
     "inputWidgets": {},
     "nuid": "77811f8a-47ba-4f92-aafd-0904459f2563",
     "showTitle": false,
     "tableResultSettingsMap": {},
     "title": ""
    }
   },
   "source": [
    "Delta Lake Features"
   ]
  },
  {
   "cell_type": "code",
   "execution_count": 0,
   "metadata": {
    "application/vnd.databricks.v1+cell": {
     "cellMetadata": {
      "byteLimit": 2048000,
      "rowLimit": 10000
     },
     "inputWidgets": {},
     "nuid": "763004b2-0843-4f71-a18f-7f2149721a9a",
     "showTitle": true,
     "tableResultSettingsMap": {},
     "title": "Delta Lake Features"
    }
   },
   "outputs": [
    {
     "output_type": "stream",
     "name": "stdout",
     "output_type": "stream",
     "text": [
      "+-------+--------------------+----------------+--------------------+---------+--------------------+----+--------+--------------------+-----------+-----------------+-------------+--------------------+------------+--------------------+\n|version|           timestamp|          userId|            userName|operation| operationParameters| job|notebook|           clusterId|readVersion|   isolationLevel|isBlindAppend|    operationMetrics|userMetadata|          engineInfo|\n+-------+--------------------+----------------+--------------------+---------+--------------------+----+--------+--------------------+-----------+-----------------+-------------+--------------------+------------+--------------------+\n|     12|2025-06-19 06:19:...|5873923491206719|ahmedashiq2k17@gm...|   DELETE|{predicate -> [\"(...|NULL|    NULL|0619-053659-98ecx...|         11|WriteSerializable|        false|{numRemovedFiles ...|        NULL|Databricks-Runtim...|\n|     11| 2025-06-19 06:19:07|5873923491206719|ahmedashiq2k17@gm...| OPTIMIZE|{predicate -> [],...|NULL|    NULL|0619-053659-98ecx...|         10|SnapshotIsolation|        false|{numRemovedFiles ...|        NULL|Databricks-Runtim...|\n|     10| 2025-06-19 06:19:05|5873923491206719|ahmedashiq2k17@gm...|   UPDATE|{predicate -> [\"(...|NULL|    NULL|0619-053659-98ecx...|          9|WriteSerializable|        false|{numRemovedFiles ...|        NULL|Databricks-Runtim...|\n|      9| 2025-06-19 06:19:03|5873923491206719|ahmedashiq2k17@gm...|    WRITE|{mode -> Overwrit...|NULL|    NULL|0619-053659-98ecx...|          8|WriteSerializable|        false|{numFiles -> 1, n...|        NULL|Databricks-Runtim...|\n|      8|2025-06-19 06:18:...|5873923491206719|ahmedashiq2k17@gm...| OPTIMIZE|{predicate -> [],...|NULL|    NULL|0619-053659-98ecx...|          6|SnapshotIsolation|        false|{numRemovedFiles ...|        NULL|Databricks-Runtim...|\n|      7| 2025-06-19 06:18:54|5873923491206719|ahmedashiq2k17@gm...|   DELETE|{predicate -> [\"(...|NULL|    NULL|0619-053659-98ecx...|          6|WriteSerializable|        false|{numRemovedFiles ...|        NULL|Databricks-Runtim...|\n|      6| 2025-06-19 06:18:52|5873923491206719|ahmedashiq2k17@gm...|   UPDATE|{predicate -> [\"(...|NULL|    NULL|0619-053659-98ecx...|          5|WriteSerializable|        false|{numRemovedFiles ...|        NULL|Databricks-Runtim...|\n|      5| 2025-06-19 06:18:50|5873923491206719|ahmedashiq2k17@gm...|    WRITE|{mode -> Overwrit...|NULL|    NULL|0619-053659-98ecx...|          4|WriteSerializable|        false|{numFiles -> 1, n...|        NULL|Databricks-Runtim...|\n|      4|2025-06-19 06:17:...|5873923491206719|ahmedashiq2k17@gm...| OPTIMIZE|{predicate -> [],...|NULL|    NULL|0619-053659-98ecx...|          2|SnapshotIsolation|        false|{numRemovedFiles ...|        NULL|Databricks-Runtim...|\n|      3| 2025-06-19 06:17:42|5873923491206719|ahmedashiq2k17@gm...|   DELETE|{predicate -> [\"(...|NULL|    NULL|0619-053659-98ecx...|          2|WriteSerializable|        false|{numRemovedFiles ...|        NULL|Databricks-Runtim...|\n|      2| 2025-06-19 06:17:40|5873923491206719|ahmedashiq2k17@gm...|   UPDATE|{predicate -> [\"(...|NULL|    NULL|0619-053659-98ecx...|          1|WriteSerializable|        false|{numRemovedFiles ...|        NULL|Databricks-Runtim...|\n|      1| 2025-06-19 06:17:37|5873923491206719|ahmedashiq2k17@gm...|    WRITE|{mode -> Overwrit...|NULL|    NULL|0619-053659-98ecx...|          0|WriteSerializable|        false|{numFiles -> 1, n...|        NULL|Databricks-Runtim...|\n|      0| 2025-06-19 06:17:11|5873923491206719|ahmedashiq2k17@gm...|    WRITE|{mode -> ErrorIfE...|NULL|    NULL|0619-053659-98ecx...|       NULL|WriteSerializable|         true|{numFiles -> 1, n...|        NULL|Databricks-Runtim...|\n+-------+--------------------+----------------+--------------------+---------+--------------------+----+--------+--------------------+-----------+-----------------+-------------+--------------------+------------+--------------------+\n\n"
     ]
    },
    {
     "output_type": "display_data",
     "data": {
      "text/html": [
       "<style scoped>\n",
       "  .table-result-container {\n",
       "    max-height: 300px;\n",
       "    overflow: auto;\n",
       "  }\n",
       "  table, th, td {\n",
       "    border: 1px solid black;\n",
       "    border-collapse: collapse;\n",
       "  }\n",
       "  th, td {\n",
       "    padding: 5px;\n",
       "  }\n",
       "  th {\n",
       "    text-align: left;\n",
       "  }\n",
       "</style><div class='table-result-container'><table class='table-result'><thead style='background-color: white'><tr><th>LogID</th><th>VehicleID</th><th>EntryPoint</th><th>ExitPoint</th><th>EntryTime</th><th>ExitTime</th><th>VehicleType</th><th>SpeedKMH</th><th>TollPaid</th><th>TripDurationMinutes</th><th>IsOverspeed</th></tr></thead><tbody><tr><td>L001</td><td>V001</td><td>GateA</td><td>GateC</td><td>2024-05-01T08:01:00.000Z</td><td>2024-05-01T08:20:00.000Z</td><td>Car</td><td>60</td><td>50</td><td>19.0</td><td>false</td></tr><tr><td>L002</td><td>V002</td><td>GateB</td><td>GateC</td><td>2024-05-01T08:10:00.000Z</td><td>2024-05-01T08:45:00.000Z</td><td>Truck</td><td>45</td><td>100</td><td>35.0</td><td>false</td></tr><tr><td>L003</td><td>V003</td><td>GateA</td><td>GateD</td><td>2024-05-01T09:00:00.000Z</td><td>2024-05-01T09:18:00.000Z</td><td>Bike</td><td>55</td><td>30</td><td>18.0</td><td>false</td></tr><tr><td>L004</td><td>V004</td><td>GateC</td><td>GateD</td><td>2024-05-01T09:15:00.000Z</td><td>2024-05-01T09:35:00.000Z</td><td>Car</td><td>80</td><td>50</td><td>20.0</td><td>true</td></tr><tr><td>L005</td><td>V005</td><td>GateB</td><td>GateA</td><td>2024-05-01T10:05:00.000Z</td><td>2024-05-01T10:40:00.000Z</td><td>Bus</td><td>40</td><td>70</td><td>35.0</td><td>false</td></tr></tbody></table></div>"
      ]
     },
     "metadata": {
      "application/vnd.databricks.v1+output": {
       "addedWidgets": {},
       "aggData": [],
       "aggError": "",
       "aggOverflow": false,
       "aggSchema": [],
       "aggSeriesLimitReached": false,
       "aggType": "",
       "arguments": {},
       "columnCustomDisplayInfos": {},
       "data": [
        [
         "L001",
         "V001",
         "GateA",
         "GateC",
         "2024-05-01T08:01:00.000Z",
         "2024-05-01T08:20:00.000Z",
         "Car",
         60,
         50,
         19.0,
         false
        ],
        [
         "L002",
         "V002",
         "GateB",
         "GateC",
         "2024-05-01T08:10:00.000Z",
         "2024-05-01T08:45:00.000Z",
         "Truck",
         45,
         100,
         35.0,
         false
        ],
        [
         "L003",
         "V003",
         "GateA",
         "GateD",
         "2024-05-01T09:00:00.000Z",
         "2024-05-01T09:18:00.000Z",
         "Bike",
         55,
         30,
         18.0,
         false
        ],
        [
         "L004",
         "V004",
         "GateC",
         "GateD",
         "2024-05-01T09:15:00.000Z",
         "2024-05-01T09:35:00.000Z",
         "Car",
         80,
         50,
         20.0,
         true
        ],
        [
         "L005",
         "V005",
         "GateB",
         "GateA",
         "2024-05-01T10:05:00.000Z",
         "2024-05-01T10:40:00.000Z",
         "Bus",
         40,
         70,
         35.0,
         false
        ]
       ],
       "datasetInfos": [],
       "dbfsResultPath": null,
       "isJsonSchema": true,
       "metadata": {},
       "overflow": false,
       "plotOptions": {
        "customPlotOptions": {},
        "displayType": "table",
        "pivotAggregation": null,
        "pivotColumns": null,
        "xColumns": null,
        "yColumns": null
       },
       "removedWidgets": [],
       "schema": [
        {
         "metadata": "{}",
         "name": "LogID",
         "type": "\"string\""
        },
        {
         "metadata": "{}",
         "name": "VehicleID",
         "type": "\"string\""
        },
        {
         "metadata": "{}",
         "name": "EntryPoint",
         "type": "\"string\""
        },
        {
         "metadata": "{}",
         "name": "ExitPoint",
         "type": "\"string\""
        },
        {
         "metadata": "{}",
         "name": "EntryTime",
         "type": "\"timestamp\""
        },
        {
         "metadata": "{}",
         "name": "ExitTime",
         "type": "\"timestamp\""
        },
        {
         "metadata": "{}",
         "name": "VehicleType",
         "type": "\"string\""
        },
        {
         "metadata": "{}",
         "name": "SpeedKMH",
         "type": "\"integer\""
        },
        {
         "metadata": "{}",
         "name": "TollPaid",
         "type": "\"integer\""
        },
        {
         "metadata": "{}",
         "name": "TripDurationMinutes",
         "type": "\"double\""
        },
        {
         "metadata": "{}",
         "name": "IsOverspeed",
         "type": "\"boolean\""
        }
       ],
       "type": "table"
      }
     },
     "output_type": "display_data"
    }
   ],
   "source": [
    "# Save as Delta table\n",
    "calc_df.write.format(\"delta\").mode(\"overwrite\").save(\"/Volumes/workspace/default/shared/delta_traffic_logs\")\n",
    "\n",
    "# Update toll rates for all Bikes\n",
    "from delta.tables import DeltaTable\n",
    "delta_table = DeltaTable.forPath(spark, \"/Volumes/workspace/default/shared/delta_traffic_logs\")\n",
    "delta_table.update(condition = \"VehicleType = 'Bike'\",set = {\"TollPaid\": \"TollPaid + 10\"})\n",
    "\n",
    "# Delete trips longer than 60 minutes\n",
    "delta_table.delete(\"TripDurationMinutes > 60\")\n",
    "\n",
    "# Check history\n",
    "delta_table.history().show()\n",
    "\n",
    "# Time travel\n",
    "df_v1 = spark.read.format(\"delta\").option(\"versionAsOf\", 0).load(\"/Volumes/workspace/default/shared/delta_traffic_logs\")\n",
    "display(df_v1)"
   ]
  },
  {
   "cell_type": "markdown",
   "metadata": {
    "application/vnd.databricks.v1+cell": {
     "cellMetadata": {},
     "inputWidgets": {},
     "nuid": "d4fcc5c1-0246-4219-bbe1-4c1b4ae76b1f",
     "showTitle": false,
     "tableResultSettingsMap": {},
     "title": ""
    }
   },
   "source": [
    "Advanced Conditions"
   ]
  },
  {
   "cell_type": "code",
   "execution_count": 0,
   "metadata": {
    "application/vnd.databricks.v1+cell": {
     "cellMetadata": {
      "byteLimit": 2048000,
      "rowLimit": 10000
     },
     "inputWidgets": {},
     "nuid": "e9e1d07b-5aec-477f-b0d6-76e9961eb946",
     "showTitle": true,
     "tableResultSettingsMap": {},
     "title": "Advanced Conditions"
    }
   },
   "outputs": [
    {
     "output_type": "display_data",
     "data": {
      "text/html": [
       "<style scoped>\n",
       "  .table-result-container {\n",
       "    max-height: 300px;\n",
       "    overflow: auto;\n",
       "  }\n",
       "  table, th, td {\n",
       "    border: 1px solid black;\n",
       "    border-collapse: collapse;\n",
       "  }\n",
       "  th, td {\n",
       "    padding: 5px;\n",
       "  }\n",
       "  th {\n",
       "    text-align: left;\n",
       "  }\n",
       "</style><div class='table-result-container'><table class='table-result'><thead style='background-color: white'><tr><th>LogID</th><th>VehicleID</th><th>EntryPoint</th><th>ExitPoint</th><th>EntryTime</th><th>ExitTime</th><th>VehicleType</th><th>SpeedKMH</th><th>TollPaid</th><th>TripDurationMinutes</th><th>IsOverspeed</th><th>TripType</th></tr></thead><tbody><tr><td>L001</td><td>V001</td><td>GateA</td><td>GateC</td><td>2024-05-01T08:01:00.000Z</td><td>2024-05-01T08:20:00.000Z</td><td>Car</td><td>60</td><td>50</td><td>19.0</td><td>false</td><td>Medium</td></tr><tr><td>L002</td><td>V002</td><td>GateB</td><td>GateC</td><td>2024-05-01T08:10:00.000Z</td><td>2024-05-01T08:45:00.000Z</td><td>Truck</td><td>45</td><td>100</td><td>35.0</td><td>false</td><td>Long</td></tr><tr><td>L003</td><td>V003</td><td>GateA</td><td>GateD</td><td>2024-05-01T09:00:00.000Z</td><td>2024-05-01T09:18:00.000Z</td><td>Bike</td><td>55</td><td>30</td><td>18.0</td><td>false</td><td>Medium</td></tr><tr><td>L004</td><td>V004</td><td>GateC</td><td>GateD</td><td>2024-05-01T09:15:00.000Z</td><td>2024-05-01T09:35:00.000Z</td><td>Car</td><td>80</td><td>50</td><td>20.0</td><td>true</td><td>Medium</td></tr><tr><td>L005</td><td>V005</td><td>GateB</td><td>GateA</td><td>2024-05-01T10:05:00.000Z</td><td>2024-05-01T10:40:00.000Z</td><td>Bus</td><td>40</td><td>70</td><td>35.0</td><td>false</td><td>Long</td></tr></tbody></table></div>"
      ]
     },
     "metadata": {
      "application/vnd.databricks.v1+output": {
       "addedWidgets": {},
       "aggData": [],
       "aggError": "",
       "aggOverflow": false,
       "aggSchema": [],
       "aggSeriesLimitReached": false,
       "aggType": "",
       "arguments": {},
       "columnCustomDisplayInfos": {},
       "data": [
        [
         "L001",
         "V001",
         "GateA",
         "GateC",
         "2024-05-01T08:01:00.000Z",
         "2024-05-01T08:20:00.000Z",
         "Car",
         60,
         50,
         19.0,
         false,
         "Medium"
        ],
        [
         "L002",
         "V002",
         "GateB",
         "GateC",
         "2024-05-01T08:10:00.000Z",
         "2024-05-01T08:45:00.000Z",
         "Truck",
         45,
         100,
         35.0,
         false,
         "Long"
        ],
        [
         "L003",
         "V003",
         "GateA",
         "GateD",
         "2024-05-01T09:00:00.000Z",
         "2024-05-01T09:18:00.000Z",
         "Bike",
         55,
         30,
         18.0,
         false,
         "Medium"
        ],
        [
         "L004",
         "V004",
         "GateC",
         "GateD",
         "2024-05-01T09:15:00.000Z",
         "2024-05-01T09:35:00.000Z",
         "Car",
         80,
         50,
         20.0,
         true,
         "Medium"
        ],
        [
         "L005",
         "V005",
         "GateB",
         "GateA",
         "2024-05-01T10:05:00.000Z",
         "2024-05-01T10:40:00.000Z",
         "Bus",
         40,
         70,
         35.0,
         false,
         "Long"
        ]
       ],
       "datasetInfos": [],
       "dbfsResultPath": null,
       "isJsonSchema": true,
       "metadata": {},
       "overflow": false,
       "plotOptions": {
        "customPlotOptions": {},
        "displayType": "table",
        "pivotAggregation": null,
        "pivotColumns": null,
        "xColumns": null,
        "yColumns": null
       },
       "removedWidgets": [],
       "schema": [
        {
         "metadata": "{}",
         "name": "LogID",
         "type": "\"string\""
        },
        {
         "metadata": "{}",
         "name": "VehicleID",
         "type": "\"string\""
        },
        {
         "metadata": "{}",
         "name": "EntryPoint",
         "type": "\"string\""
        },
        {
         "metadata": "{}",
         "name": "ExitPoint",
         "type": "\"string\""
        },
        {
         "metadata": "{}",
         "name": "EntryTime",
         "type": "\"timestamp\""
        },
        {
         "metadata": "{}",
         "name": "ExitTime",
         "type": "\"timestamp\""
        },
        {
         "metadata": "{}",
         "name": "VehicleType",
         "type": "\"string\""
        },
        {
         "metadata": "{}",
         "name": "SpeedKMH",
         "type": "\"integer\""
        },
        {
         "metadata": "{}",
         "name": "TollPaid",
         "type": "\"integer\""
        },
        {
         "metadata": "{}",
         "name": "TripDurationMinutes",
         "type": "\"double\""
        },
        {
         "metadata": "{}",
         "name": "IsOverspeed",
         "type": "\"boolean\""
        },
        {
         "metadata": "{}",
         "name": "TripType",
         "type": "\"string\""
        }
       ],
       "type": "table"
      }
     },
     "output_type": "display_data"
    },
    {
     "output_type": "display_data",
     "data": {
      "text/html": [
       "<style scoped>\n",
       "  .table-result-container {\n",
       "    max-height: 300px;\n",
       "    overflow: auto;\n",
       "  }\n",
       "  table, th, td {\n",
       "    border: 1px solid black;\n",
       "    border-collapse: collapse;\n",
       "  }\n",
       "  th, td {\n",
       "    padding: 5px;\n",
       "  }\n",
       "  th {\n",
       "    text-align: left;\n",
       "  }\n",
       "</style><div class='table-result-container'><table class='table-result'><thead style='background-color: white'><tr><th>VehicleID</th><th>TripDate</th><th>DailyTrips</th><th>FrequentDriver</th></tr></thead><tbody><tr><td>V002</td><td>2024-05-01</td><td>1</td><td>false</td></tr><tr><td>V003</td><td>2024-05-01</td><td>1</td><td>false</td></tr><tr><td>V005</td><td>2024-05-01</td><td>1</td><td>false</td></tr><tr><td>V004</td><td>2024-05-01</td><td>1</td><td>false</td></tr><tr><td>V001</td><td>2024-05-01</td><td>1</td><td>false</td></tr></tbody></table></div>"
      ]
     },
     "metadata": {
      "application/vnd.databricks.v1+output": {
       "addedWidgets": {},
       "aggData": [],
       "aggError": "",
       "aggOverflow": false,
       "aggSchema": [],
       "aggSeriesLimitReached": false,
       "aggType": "",
       "arguments": {},
       "columnCustomDisplayInfos": {},
       "data": [
        [
         "V002",
         "2024-05-01",
         1,
         false
        ],
        [
         "V003",
         "2024-05-01",
         1,
         false
        ],
        [
         "V005",
         "2024-05-01",
         1,
         false
        ],
        [
         "V004",
         "2024-05-01",
         1,
         false
        ],
        [
         "V001",
         "2024-05-01",
         1,
         false
        ]
       ],
       "datasetInfos": [],
       "dbfsResultPath": null,
       "isJsonSchema": true,
       "metadata": {},
       "overflow": false,
       "plotOptions": {
        "customPlotOptions": {},
        "displayType": "table",
        "pivotAggregation": null,
        "pivotColumns": null,
        "xColumns": null,
        "yColumns": null
       },
       "removedWidgets": [],
       "schema": [
        {
         "metadata": "{}",
         "name": "VehicleID",
         "type": "\"string\""
        },
        {
         "metadata": "{}",
         "name": "TripDate",
         "type": "\"date\""
        },
        {
         "metadata": "{}",
         "name": "DailyTrips",
         "type": "\"long\""
        },
        {
         "metadata": "{}",
         "name": "FrequentDriver",
         "type": "\"boolean\""
        }
       ],
       "type": "table"
      }
     },
     "output_type": "display_data"
    }
   ],
   "source": [
    "# Tag trip types\n",
    "categorized_df = calc_df.withColumn(\"TripType\",when(col(\"TripDurationMinutes\") < 15, \"Short\").when((col(\"TripDurationMinutes\") >= 15) & (col(\"TripDurationMinutes\") <= 30), \"Medium\").otherwise(\"Long\"))\n",
    "display(categorized_df)\n",
    "\n",
    "# Flag vehicles with more than 3 trips in a day\n",
    "daily_trips = calc_df.withColumn(\"TripDate\", to_date(\"EntryTime\")) \\\n",
    ".groupBy(\"VehicleID\", \"TripDate\") \\\n",
    ".agg(count(\"*\").alias(\"DailyTrips\")) \\\n",
    ".withColumn(\"FrequentDriver\", col(\"DailyTrips\") > 3)\n",
    "display(daily_trips)"
   ]
  },
  {
   "cell_type": "markdown",
   "metadata": {
    "application/vnd.databricks.v1+cell": {
     "cellMetadata": {},
     "inputWidgets": {},
     "nuid": "7710fa77-d6e4-4563-82c4-1cb0e39e37c7",
     "showTitle": false,
     "tableResultSettingsMap": {},
     "title": ""
    }
   },
   "source": [
    "Export & Reporting"
   ]
  },
  {
   "cell_type": "code",
   "execution_count": 0,
   "metadata": {
    "application/vnd.databricks.v1+cell": {
     "cellMetadata": {
      "byteLimit": 2048000,
      "rowLimit": 10000
     },
     "inputWidgets": {},
     "nuid": "41ed47ac-619d-49eb-b9e0-eaae1ff5d42c",
     "showTitle": false,
     "tableResultSettingsMap": {},
     "title": ""
    }
   },
   "outputs": [
    {
     "output_type": "display_data",
     "data": {
      "text/html": [
       "<style scoped>\n",
       "  .table-result-container {\n",
       "    max-height: 300px;\n",
       "    overflow: auto;\n",
       "  }\n",
       "  table, th, td {\n",
       "    border: 1px solid black;\n",
       "    border-collapse: collapse;\n",
       "  }\n",
       "  th, td {\n",
       "    padding: 5px;\n",
       "  }\n",
       "  th {\n",
       "    text-align: left;\n",
       "  }\n",
       "</style><div class='table-result-container'><table class='table-result'><thead style='background-color: white'><tr><th>VehicleType</th><th>ExitPoint</th><th>TotalToll</th><th>AvgSpeed</th><th>TripCount</th></tr></thead><tbody><tr><td>Truck</td><td>GateC</td><td>100</td><td>45.0</td><td>1</td></tr><tr><td>Bus</td><td>GateA</td><td>70</td><td>40.0</td><td>1</td></tr><tr><td>Car</td><td>GateD</td><td>50</td><td>80.0</td><td>1</td></tr><tr><td>Car</td><td>GateC</td><td>50</td><td>60.0</td><td>1</td></tr><tr><td>Bike</td><td>GateD</td><td>30</td><td>55.0</td><td>1</td></tr></tbody></table></div>"
      ]
     },
     "metadata": {
      "application/vnd.databricks.v1+output": {
       "addedWidgets": {},
       "aggData": [],
       "aggError": "",
       "aggOverflow": false,
       "aggSchema": [],
       "aggSeriesLimitReached": false,
       "aggType": "",
       "arguments": {},
       "columnCustomDisplayInfos": {},
       "data": [
        [
         "Truck",
         "GateC",
         100,
         45.0,
         1
        ],
        [
         "Bus",
         "GateA",
         70,
         40.0,
         1
        ],
        [
         "Car",
         "GateD",
         50,
         80.0,
         1
        ],
        [
         "Car",
         "GateC",
         50,
         60.0,
         1
        ],
        [
         "Bike",
         "GateD",
         30,
         55.0,
         1
        ]
       ],
       "datasetInfos": [],
       "dbfsResultPath": null,
       "isJsonSchema": true,
       "metadata": {},
       "overflow": false,
       "plotOptions": {
        "customPlotOptions": {},
        "displayType": "table",
        "pivotAggregation": null,
        "pivotColumns": null,
        "xColumns": null,
        "yColumns": null
       },
       "removedWidgets": [],
       "schema": [
        {
         "metadata": "{}",
         "name": "VehicleType",
         "type": "\"string\""
        },
        {
         "metadata": "{}",
         "name": "ExitPoint",
         "type": "\"string\""
        },
        {
         "metadata": "{}",
         "name": "TotalToll",
         "type": "\"long\""
        },
        {
         "metadata": "{}",
         "name": "AvgSpeed",
         "type": "\"double\""
        },
        {
         "metadata": "{}",
         "name": "TripCount",
         "type": "\"long\""
        }
       ],
       "type": "table"
      }
     },
     "output_type": "display_data"
    }
   ],
   "source": [
    "# Write to Parquet partitioned by VehicleType\n",
    "calc_df.write.partitionBy(\"VehicleType\") \\\n",
    "    .parquet(\"/Volumes/workspace/default/shared/traffic_parquet\")\n",
    "\n",
    "# Write to CSV for dashboards\n",
    "calc_df.write.option(\"header\", True) \\\n",
    "    .csv(\"/Volumes/workspace/default/shared/traffic_csv\")\n",
    "\n",
    "# Create SQL view and summary\n",
    "calc_df.createOrReplaceTempView(\"traffic_logs_view\")\n",
    "\n",
    "summary_df = spark.sql(\"\"\"select VehicleType,ExitPoint,sum(TollPaid) AS TotalToll,avg(SpeedKMH) AS AvgSpeed,count(*) AS TripCount\n",
    "from traffic_logs_view\n",
    "group by VehicleType, ExitPoint\n",
    "order by TotalToll desc\"\"\")\n",
    "\n",
    "display(summary_df)"
   ]
  }
 ],
 "metadata": {
  "application/vnd.databricks.v1+notebook": {
   "computePreferences": null,
   "dashboards": [],
   "environmentMetadata": {
    "base_environment": "",
    "environment_version": "2"
   },
   "inputWidgetPreferences": null,
   "language": "python",
   "notebookMetadata": {
    "mostRecentlyExecutedCommandWithImplicitDF": {
     "commandId": -1,
     "dataframes": [
      "_sqldf"
     ]
    },
    "pythonIndentUnit": 4
   },
   "notebookName": "set-1",
   "widgets": {}
  },
  "language_info": {
   "name": "python"
  }
 },
 "nbformat": 4,
 "nbformat_minor": 0
}