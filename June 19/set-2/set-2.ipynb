{
 "cells": [
  {
   "cell_type": "markdown",
   "metadata": {
    "application/vnd.databricks.v1+cell": {
     "cellMetadata": {},
     "inputWidgets": {},
     "nuid": "2a19e738-8999-49cd-8aef-35e910e59e63",
     "showTitle": false,
     "tableResultSettingsMap": {},
     "title": ""
    }
   },
   "source": [
    "Ingestion & Time Fields"
   ]
  },
  {
   "cell_type": "code",
   "execution_count": 0,
   "metadata": {
    "application/vnd.databricks.v1+cell": {
     "cellMetadata": {
      "byteLimit": 2048000,
      "rowLimit": 10000
     },
     "inputWidgets": {},
     "nuid": "4878389f-a54b-4720-8ddb-2d56ee146683",
     "showTitle": false,
     "tableResultSettingsMap": {},
     "title": ""
    }
   },
   "outputs": [
    {
     "output_type": "stream",
     "name": "stdout",
     "output_type": "stream",
     "text": [
      "Inferred Schema:\nroot\n |-- EnrollID: string (nullable = true)\n |-- UserID: string (nullable = true)\n |-- CourseID: string (nullable = true)\n |-- CourseName: string (nullable = true)\n |-- Category: string (nullable = true)\n |-- EnrollDate: string (nullable = true)\n |-- CompletionDate: string (nullable = true)\n |-- ProgressPercent: string (nullable = true)\n |-- Rating: string (nullable = true)\n\n"
     ]
    },
    {
     "output_type": "display_data",
     "data": {
      "text/html": [
       "<style scoped>\n",
       "  .table-result-container {\n",
       "    max-height: 300px;\n",
       "    overflow: auto;\n",
       "  }\n",
       "  table, th, td {\n",
       "    border: 1px solid black;\n",
       "    border-collapse: collapse;\n",
       "  }\n",
       "  th, td {\n",
       "    padding: 5px;\n",
       "  }\n",
       "  th {\n",
       "    text-align: left;\n",
       "  }\n",
       "</style><div class='table-result-container'><table class='table-result'><thead style='background-color: white'><tr><th>EnrollID</th><th>UserID</th><th>CourseID</th><th>CourseName</th><th>Category</th><th>EnrollDate</th><th>CompletionDate</th><th>ProgressPercent</th><th>Rating</th><th>DaysToComplete</th></tr></thead><tbody><tr><td>E001</td><td>U001</td><td>C001</td><td>Python Basics</td><td>Programming</td><td>2024-04-01</td><td>2024-04-10</td><td>100</td><td>4</td><td>9</td></tr><tr><td>E002</td><td>U002</td><td>C002</td><td>Excel for Finance</td><td>Productivity</td><td>2024-04-02</td><td>null</td><td>45</td><td>null</td><td>null</td></tr><tr><td>E003</td><td>U001</td><td>C003</td><td>ML with PySpark</td><td>Data Science</td><td>2024-04-03</td><td>null</td><td>30</td><td>null</td><td>null</td></tr><tr><td>E004</td><td>U003</td><td>C001</td><td>Python Basics</td><td>Programming</td><td>2024-04-04</td><td>2024-04-20</td><td>100</td><td>5</td><td>16</td></tr><tr><td>E005</td><td>U004</td><td>C004</td><td>Digital Marketing</td><td>Marketing</td><td>2024-04-05</td><td>2024-04-16</td><td>100</td><td>4</td><td>11</td></tr></tbody></table></div>"
      ]
     },
     "metadata": {
      "application/vnd.databricks.v1+output": {
       "addedWidgets": {},
       "aggData": [],
       "aggError": "",
       "aggOverflow": false,
       "aggSchema": [],
       "aggSeriesLimitReached": false,
       "aggType": "",
       "arguments": {},
       "columnCustomDisplayInfos": {},
       "data": [
        [
         "E001",
         "U001",
         "C001",
         "Python Basics",
         "Programming",
         "2024-04-01",
         "2024-04-10",
         100,
         4,
         9
        ],
        [
         "E002",
         "U002",
         "C002",
         "Excel for Finance",
         "Productivity",
         "2024-04-02",
         null,
         45,
         null,
         null
        ],
        [
         "E003",
         "U001",
         "C003",
         "ML with PySpark",
         "Data Science",
         "2024-04-03",
         null,
         30,
         null,
         null
        ],
        [
         "E004",
         "U003",
         "C001",
         "Python Basics",
         "Programming",
         "2024-04-04",
         "2024-04-20",
         100,
         5,
         16
        ],
        [
         "E005",
         "U004",
         "C004",
         "Digital Marketing",
         "Marketing",
         "2024-04-05",
         "2024-04-16",
         100,
         4,
         11
        ]
       ],
       "datasetInfos": [],
       "dbfsResultPath": null,
       "isJsonSchema": true,
       "metadata": {},
       "overflow": false,
       "plotOptions": {
        "customPlotOptions": {},
        "displayType": "table",
        "pivotAggregation": null,
        "pivotColumns": null,
        "xColumns": null,
        "yColumns": null
       },
       "removedWidgets": [],
       "schema": [
        {
         "metadata": "{}",
         "name": "EnrollID",
         "type": "\"string\""
        },
        {
         "metadata": "{}",
         "name": "UserID",
         "type": "\"string\""
        },
        {
         "metadata": "{}",
         "name": "CourseID",
         "type": "\"string\""
        },
        {
         "metadata": "{}",
         "name": "CourseName",
         "type": "\"string\""
        },
        {
         "metadata": "{}",
         "name": "Category",
         "type": "\"string\""
        },
        {
         "metadata": "{}",
         "name": "EnrollDate",
         "type": "\"date\""
        },
        {
         "metadata": "{}",
         "name": "CompletionDate",
         "type": "\"date\""
        },
        {
         "metadata": "{}",
         "name": "ProgressPercent",
         "type": "\"integer\""
        },
        {
         "metadata": "{}",
         "name": "Rating",
         "type": "\"integer\""
        },
        {
         "metadata": "{}",
         "name": "DaysToComplete",
         "type": "\"integer\""
        }
       ],
       "type": "table"
      }
     },
     "output_type": "display_data"
    }
   ],
   "source": [
    "from pyspark.sql import SparkSession\n",
    "from pyspark.sql.functions import *\n",
    "from pyspark.sql.types import *\n",
    "spark = SparkSession.builder.appName(\"CourseAnalytics\").getOrCreate()\n",
    "\n",
    "# Load with schema inference\n",
    "inferred_df = spark.read.option(\"header\", True).csv(\"/Volumes/workspace/default/shared/course_enrollements.csv\")\n",
    "print(\"Inferred Schema:\")\n",
    "inferred_df.printSchema()\n",
    "\n",
    "# Manual schema \n",
    "manual_schema = StructType([StructField(\"EnrollID\", StringType(), True),\n",
    "    StructField(\"UserID\", StringType(), True),\n",
    "    StructField(\"CourseID\", StringType(), True),\n",
    "    StructField(\"CourseName\", StringType(), True),\n",
    "    StructField(\"Category\", StringType(), True),\n",
    "    StructField(\"EnrollDate\", DateType(), True),\n",
    "    StructField(\"CompletionDate\", DateType(), True),\n",
    "    StructField(\"ProgressPercent\", IntegerType(), True),\n",
    "    StructField(\"Rating\", IntegerType(), True)])\n",
    "\n",
    "# Load with manual schema\n",
    "df = spark.read.option(\"header\", True).schema(manual_schema).csv(\"/Volumes/workspace/default/shared/course_enrollements.csv\")\n",
    "\n",
    "# Add DaysToComplete column\n",
    "df = df.withColumn(\"DaysToComplete\", when(col(\"CompletionDate\").isNotNull(),datediff(col(\"CompletionDate\"), col(\"EnrollDate\"))).otherwise(None))\n",
    "display(df)"
   ]
  },
  {
   "cell_type": "markdown",
   "metadata": {
    "application/vnd.databricks.v1+cell": {
     "cellMetadata": {},
     "inputWidgets": {},
     "nuid": "5db0a58d-9297-4947-95e5-84a9d11513a2",
     "showTitle": false,
     "tableResultSettingsMap": {},
     "title": ""
    }
   },
   "source": [
    "2. User Learning Path Progress"
   ]
  },
  {
   "cell_type": "code",
   "execution_count": 0,
   "metadata": {
    "application/vnd.databricks.v1+cell": {
     "cellMetadata": {
      "byteLimit": 2048000,
      "rowLimit": 10000
     },
     "inputWidgets": {},
     "nuid": "40fbc5ef-e282-4530-be8d-142a4ac28f1e",
     "showTitle": false,
     "tableResultSettingsMap": {},
     "title": ""
    }
   },
   "outputs": [
    {
     "output_type": "display_data",
     "data": {
      "text/html": [
       "<style scoped>\n",
       "  .table-result-container {\n",
       "    max-height: 300px;\n",
       "    overflow: auto;\n",
       "  }\n",
       "  table, th, td {\n",
       "    border: 1px solid black;\n",
       "    border-collapse: collapse;\n",
       "  }\n",
       "  th, td {\n",
       "    padding: 5px;\n",
       "  }\n",
       "  th {\n",
       "    text-align: left;\n",
       "  }\n",
       "</style><div class='table-result-container'><table class='table-result'><thead style='background-color: white'><tr><th>UserID</th><th>CoursesEnrolled</th></tr></thead><tbody><tr><td>U001</td><td>2</td></tr><tr><td>U002</td><td>1</td></tr><tr><td>U004</td><td>1</td></tr><tr><td>U003</td><td>1</td></tr></tbody></table></div>"
      ]
     },
     "metadata": {
      "application/vnd.databricks.v1+output": {
       "addedWidgets": {},
       "aggData": [],
       "aggError": "",
       "aggOverflow": false,
       "aggSchema": [],
       "aggSeriesLimitReached": false,
       "aggType": "",
       "arguments": {},
       "columnCustomDisplayInfos": {},
       "data": [
        [
         "U001",
         2
        ],
        [
         "U002",
         1
        ],
        [
         "U004",
         1
        ],
        [
         "U003",
         1
        ]
       ],
       "datasetInfos": [],
       "dbfsResultPath": null,
       "isJsonSchema": true,
       "metadata": {},
       "overflow": false,
       "plotOptions": {
        "customPlotOptions": {},
        "displayType": "table",
        "pivotAggregation": null,
        "pivotColumns": null,
        "xColumns": null,
        "yColumns": null
       },
       "removedWidgets": [],
       "schema": [
        {
         "metadata": "{}",
         "name": "UserID",
         "type": "\"string\""
        },
        {
         "metadata": "{}",
         "name": "CoursesEnrolled",
         "type": "\"long\""
        }
       ],
       "type": "table"
      }
     },
     "output_type": "display_data"
    },
    {
     "output_type": "display_data",
     "data": {
      "text/html": [
       "<style scoped>\n",
       "  .table-result-container {\n",
       "    max-height: 300px;\n",
       "    overflow: auto;\n",
       "  }\n",
       "  table, th, td {\n",
       "    border: 1px solid black;\n",
       "    border-collapse: collapse;\n",
       "  }\n",
       "  th, td {\n",
       "    padding: 5px;\n",
       "  }\n",
       "  th {\n",
       "    text-align: left;\n",
       "  }\n",
       "</style><div class='table-result-container'><table class='table-result'><thead style='background-color: white'><tr><th>UserID</th><th>AvgProgressPercentage</th></tr></thead><tbody><tr><td>U003</td><td>100.0</td></tr><tr><td>U004</td><td>100.0</td></tr><tr><td>U001</td><td>65.0</td></tr><tr><td>U002</td><td>45.0</td></tr></tbody></table></div>"
      ]
     },
     "metadata": {
      "application/vnd.databricks.v1+output": {
       "addedWidgets": {},
       "aggData": [],
       "aggError": "",
       "aggOverflow": false,
       "aggSchema": [],
       "aggSeriesLimitReached": false,
       "aggType": "",
       "arguments": {},
       "columnCustomDisplayInfos": {},
       "data": [
        [
         "U003",
         100.0
        ],
        [
         "U004",
         100.0
        ],
        [
         "U001",
         65.0
        ],
        [
         "U002",
         45.0
        ]
       ],
       "datasetInfos": [],
       "dbfsResultPath": null,
       "isJsonSchema": true,
       "metadata": {},
       "overflow": false,
       "plotOptions": {
        "customPlotOptions": {},
        "displayType": "table",
        "pivotAggregation": null,
        "pivotColumns": null,
        "xColumns": null,
        "yColumns": null
       },
       "removedWidgets": [],
       "schema": [
        {
         "metadata": "{}",
         "name": "UserID",
         "type": "\"string\""
        },
        {
         "metadata": "{}",
         "name": "AvgProgressPercentage",
         "type": "\"double\""
        }
       ],
       "type": "table"
      }
     },
     "output_type": "display_data"
    },
    {
     "output_type": "display_data",
     "data": {
      "text/html": [
       "<style scoped>\n",
       "  .table-result-container {\n",
       "    max-height: 300px;\n",
       "    overflow: auto;\n",
       "  }\n",
       "  table, th, td {\n",
       "    border: 1px solid black;\n",
       "    border-collapse: collapse;\n",
       "  }\n",
       "  th, td {\n",
       "    padding: 5px;\n",
       "  }\n",
       "  th {\n",
       "    text-align: left;\n",
       "  }\n",
       "</style><div class='table-result-container'><table class='table-result'><thead style='background-color: white'><tr><th>EnrollID</th><th>UserID</th><th>CourseName</th><th>ProgressPercent</th><th>IsCompleted</th></tr></thead><tbody><tr><td>E001</td><td>U001</td><td>Python Basics</td><td>100</td><td>true</td></tr><tr><td>E002</td><td>U002</td><td>Excel for Finance</td><td>45</td><td>false</td></tr><tr><td>E003</td><td>U001</td><td>ML with PySpark</td><td>30</td><td>false</td></tr><tr><td>E004</td><td>U003</td><td>Python Basics</td><td>100</td><td>true</td></tr><tr><td>E005</td><td>U004</td><td>Digital Marketing</td><td>100</td><td>true</td></tr></tbody></table></div>"
      ]
     },
     "metadata": {
      "application/vnd.databricks.v1+output": {
       "addedWidgets": {},
       "aggData": [],
       "aggError": "",
       "aggOverflow": false,
       "aggSchema": [],
       "aggSeriesLimitReached": false,
       "aggType": "",
       "arguments": {},
       "columnCustomDisplayInfos": {},
       "data": [
        [
         "E001",
         "U001",
         "Python Basics",
         100,
         true
        ],
        [
         "E002",
         "U002",
         "Excel for Finance",
         45,
         false
        ],
        [
         "E003",
         "U001",
         "ML with PySpark",
         30,
         false
        ],
        [
         "E004",
         "U003",
         "Python Basics",
         100,
         true
        ],
        [
         "E005",
         "U004",
         "Digital Marketing",
         100,
         true
        ]
       ],
       "datasetInfos": [],
       "dbfsResultPath": null,
       "isJsonSchema": true,
       "metadata": {},
       "overflow": false,
       "plotOptions": {
        "customPlotOptions": {},
        "displayType": "table",
        "pivotAggregation": null,
        "pivotColumns": null,
        "xColumns": null,
        "yColumns": null
       },
       "removedWidgets": [],
       "schema": [
        {
         "metadata": "{}",
         "name": "EnrollID",
         "type": "\"string\""
        },
        {
         "metadata": "{}",
         "name": "UserID",
         "type": "\"string\""
        },
        {
         "metadata": "{}",
         "name": "CourseName",
         "type": "\"string\""
        },
        {
         "metadata": "{}",
         "name": "ProgressPercent",
         "type": "\"integer\""
        },
        {
         "metadata": "{}",
         "name": "IsCompleted",
         "type": "\"boolean\""
        }
       ],
       "type": "table"
      }
     },
     "output_type": "display_data"
    }
   ],
   "source": [
    "from pyspark.sql.window import Window\n",
    "\n",
    "# Group by UserID : count of courses enrolled\n",
    "courses_per_user = df.groupBy(\"UserID\") \\\n",
    "    .agg(count(\"*\").alias(\"CoursesEnrolled\")) \\\n",
    "    .orderBy(\"CoursesEnrolled\", ascending=False)\n",
    "display(courses_per_user)\n",
    "\n",
    "#Avg progress % across all enrollments\n",
    "avg_progress_per_user = df.groupBy(\"UserID\") \\\n",
    "    .agg(avg(\"ProgressPercent\").alias(\"AvgProgressPercentage\")) \\\n",
    "    .orderBy(\"AvgProgressPercentage\", ascending=False)\n",
    "display(avg_progress_per_user)\n",
    "\n",
    "# Add completion flag\n",
    "df_with_flag = df.withColumn(\"IsCompleted\", when(col(\"ProgressPercent\") == 100, True).otherwise(False))\n",
    "\n",
    "display(df_with_flag.select(\"EnrollID\", \"UserID\", \"CourseName\", \"ProgressPercent\", \"IsCompleted\"))"
   ]
  },
  {
   "cell_type": "markdown",
   "metadata": {
    "application/vnd.databricks.v1+cell": {
     "cellMetadata": {},
     "inputWidgets": {},
     "nuid": "3d878587-3866-4d0c-b5d0-dcbccb0fe6d0",
     "showTitle": false,
     "tableResultSettingsMap": {},
     "title": ""
    }
   },
   "source": [
    "3. Engagement Scoring"
   ]
  },
  {
   "cell_type": "code",
   "execution_count": 0,
   "metadata": {
    "application/vnd.databricks.v1+cell": {
     "cellMetadata": {
      "byteLimit": 2048000,
      "rowLimit": 10000
     },
     "inputWidgets": {},
     "nuid": "97413f9c-ec9f-46fe-83fe-ff2be08294b0",
     "showTitle": false,
     "tableResultSettingsMap": {},
     "title": ""
    }
   },
   "outputs": [
    {
     "output_type": "display_data",
     "data": {
      "text/html": [
       "<style scoped>\n",
       "  .table-result-container {\n",
       "    max-height: 300px;\n",
       "    overflow: auto;\n",
       "  }\n",
       "  table, th, td {\n",
       "    border: 1px solid black;\n",
       "    border-collapse: collapse;\n",
       "  }\n",
       "  th, td {\n",
       "    padding: 5px;\n",
       "  }\n",
       "  th {\n",
       "    text-align: left;\n",
       "  }\n",
       "</style><div class='table-result-container'><table class='table-result'><thead style='background-color: white'><tr><th>EnrollID</th><th>UserID</th><th>CourseName</th><th>ProgressPercent</th><th>Rating</th><th>EngagementScore</th></tr></thead><tbody><tr><td>E001</td><td>U001</td><td>Python Basics</td><td>100</td><td>4</td><td>400</td></tr><tr><td>E002</td><td>U002</td><td>Excel for Finance</td><td>45</td><td>null</td><td>0</td></tr><tr><td>E003</td><td>U001</td><td>ML with PySpark</td><td>30</td><td>null</td><td>0</td></tr><tr><td>E004</td><td>U003</td><td>Python Basics</td><td>100</td><td>5</td><td>500</td></tr><tr><td>E005</td><td>U004</td><td>Digital Marketing</td><td>100</td><td>4</td><td>400</td></tr></tbody></table></div>"
      ]
     },
     "metadata": {
      "application/vnd.databricks.v1+output": {
       "addedWidgets": {},
       "aggData": [],
       "aggError": "",
       "aggOverflow": false,
       "aggSchema": [],
       "aggSeriesLimitReached": false,
       "aggType": "",
       "arguments": {},
       "columnCustomDisplayInfos": {},
       "data": [
        [
         "E001",
         "U001",
         "Python Basics",
         100,
         4,
         400
        ],
        [
         "E002",
         "U002",
         "Excel for Finance",
         45,
         null,
         0
        ],
        [
         "E003",
         "U001",
         "ML with PySpark",
         30,
         null,
         0
        ],
        [
         "E004",
         "U003",
         "Python Basics",
         100,
         5,
         500
        ],
        [
         "E005",
         "U004",
         "Digital Marketing",
         100,
         4,
         400
        ]
       ],
       "datasetInfos": [],
       "dbfsResultPath": null,
       "isJsonSchema": true,
       "metadata": {},
       "overflow": false,
       "plotOptions": {
        "customPlotOptions": {},
        "displayType": "table",
        "pivotAggregation": null,
        "pivotColumns": null,
        "xColumns": null,
        "yColumns": null
       },
       "removedWidgets": [],
       "schema": [
        {
         "metadata": "{}",
         "name": "EnrollID",
         "type": "\"string\""
        },
        {
         "metadata": "{}",
         "name": "UserID",
         "type": "\"string\""
        },
        {
         "metadata": "{}",
         "name": "CourseName",
         "type": "\"string\""
        },
        {
         "metadata": "{}",
         "name": "ProgressPercent",
         "type": "\"integer\""
        },
        {
         "metadata": "{}",
         "name": "Rating",
         "type": "\"integer\""
        },
        {
         "metadata": "{}",
         "name": "EngagementScore",
         "type": "\"integer\""
        }
       ],
       "type": "table"
      }
     },
     "output_type": "display_data"
    }
   ],
   "source": [
    "#Create a score: ProgressPercent * Rating (if not null)\n",
    "#Replace null Rating with 0 before computing\n",
    "df = df.withColumn(\"EngagementScore\",col(\"ProgressPercent\") * coalesce(col(\"Rating\"), lit(0)))\n",
    "display(df.select(\"EnrollID\", \"UserID\", \"CourseName\", \"ProgressPercent\", \"Rating\", \"EngagementScore\"))"
   ]
  },
  {
   "cell_type": "markdown",
   "metadata": {
    "application/vnd.databricks.v1+cell": {
     "cellMetadata": {},
     "inputWidgets": {},
     "nuid": "db8973ce-90be-40be-9a67-882faf27117b",
     "showTitle": false,
     "tableResultSettingsMap": {},
     "title": ""
    }
   },
   "source": [
    "4. Identify Drop-offs"
   ]
  },
  {
   "cell_type": "code",
   "execution_count": 0,
   "metadata": {
    "application/vnd.databricks.v1+cell": {
     "cellMetadata": {
      "byteLimit": 2048000,
      "rowLimit": 10000
     },
     "inputWidgets": {},
     "nuid": "c9a554bd-0a28-4d58-8287-8052d6c318d5",
     "showTitle": false,
     "tableResultSettingsMap": {},
     "title": ""
    }
   },
   "outputs": [
    {
     "output_type": "stream",
     "name": "stdout",
     "output_type": "stream",
     "text": [
      "Dropout records:\n+--------+------+--------+-----------------+------------+----------+--------------+---------------+------+--------------+-----------+---------------+\n|EnrollID|UserID|CourseID|       CourseName|    Category|EnrollDate|CompletionDate|ProgressPercent|Rating|DaysToComplete|IsCompleted|EngagementScore|\n+--------+------+--------+-----------------+------------+----------+--------------+---------------+------+--------------+-----------+---------------+\n|    E002|  U002|    C002|Excel for Finance|Productivity|2024-04-02|          NULL|             45|  NULL|          NULL|      false|              0|\n|    E003|  U001|    C003|  ML with PySpark|Data Science|2024-04-03|          NULL|             30|  NULL|          NULL|      false|              0|\n+--------+------+--------+-----------------+------------+----------+--------------+---------------+------+--------------+-----------+---------------+\n\n"
     ]
    }
   ],
   "source": [
    "#Filter all records with ProgressPercent < 50 and CompletionDate is null\n",
    "dropouts = df.filter((col(\"ProgressPercent\") < 50) & (col(\"CompletionDate\").isNull()))\n",
    "# Create dropout view\n",
    "dropouts.createOrReplaceTempView(\"Dropouts\")\n",
    "print(\"Dropout records:\")\n",
    "spark.sql(\"SELECT * FROM Dropouts\").show()"
   ]
  },
  {
   "cell_type": "markdown",
   "metadata": {
    "application/vnd.databricks.v1+cell": {
     "cellMetadata": {},
     "inputWidgets": {},
     "nuid": "be19fbbf-da89-4260-b7f3-4e94a9d638cb",
     "showTitle": false,
     "tableResultSettingsMap": {},
     "title": ""
    }
   },
   "source": [
    "\n",
    "5. Joins with Metadata"
   ]
  },
  {
   "cell_type": "code",
   "execution_count": 0,
   "metadata": {
    "application/vnd.databricks.v1+cell": {
     "cellMetadata": {
      "byteLimit": 2048000,
      "rowLimit": 10000
     },
     "inputWidgets": {},
     "nuid": "e9a857db-096a-4035-a586-c16c172ecb9c",
     "showTitle": false,
     "tableResultSettingsMap": {},
     "title": ""
    }
   },
   "outputs": [
    {
     "output_type": "display_data",
     "data": {
      "text/html": [
       "<style scoped>\n",
       "  .table-result-container {\n",
       "    max-height: 300px;\n",
       "    overflow: auto;\n",
       "  }\n",
       "  table, th, td {\n",
       "    border: 1px solid black;\n",
       "    border-collapse: collapse;\n",
       "  }\n",
       "  th, td {\n",
       "    padding: 5px;\n",
       "  }\n",
       "  th {\n",
       "    text-align: left;\n",
       "  }\n",
       "</style><div class='table-result-container'><table class='table-result'><thead style='background-color: white'><tr><th>CourseID</th><th>Instructor</th><th>DurationHours</th><th>Level</th></tr></thead><tbody><tr><td>C001</td><td>Abdullah Khan</td><td>8</td><td>Beginner</td></tr><tr><td>C002</td><td>Sana Gupta</td><td>5</td><td>Beginner</td></tr><tr><td>C003</td><td>Ibrahim Khan</td><td>10</td><td>Intermediate</td></tr><tr><td>C004</td><td>Zoya Sheikh</td><td>6</td><td>Beginner</td></tr></tbody></table></div>"
      ]
     },
     "metadata": {
      "application/vnd.databricks.v1+output": {
       "addedWidgets": {},
       "aggData": [],
       "aggError": "",
       "aggOverflow": false,
       "aggSchema": [],
       "aggSeriesLimitReached": false,
       "aggType": "",
       "arguments": {},
       "columnCustomDisplayInfos": {},
       "data": [
        [
         "C001",
         "Abdullah Khan",
         "8",
         "Beginner"
        ],
        [
         "C002",
         "Sana Gupta",
         "5",
         "Beginner"
        ],
        [
         "C003",
         "Ibrahim Khan",
         "10",
         "Intermediate"
        ],
        [
         "C004",
         "Zoya Sheikh",
         "6",
         "Beginner"
        ]
       ],
       "datasetInfos": [],
       "dbfsResultPath": null,
       "isJsonSchema": true,
       "metadata": {},
       "overflow": false,
       "plotOptions": {
        "customPlotOptions": {},
        "displayType": "table",
        "pivotAggregation": null,
        "pivotColumns": null,
        "xColumns": null,
        "yColumns": null
       },
       "removedWidgets": [],
       "schema": [
        {
         "metadata": "{}",
         "name": "CourseID",
         "type": "\"string\""
        },
        {
         "metadata": "{}",
         "name": "Instructor",
         "type": "\"string\""
        },
        {
         "metadata": "{}",
         "name": "DurationHours",
         "type": "\"string\""
        },
        {
         "metadata": "{}",
         "name": "Level",
         "type": "\"string\""
        }
       ],
       "type": "table"
      }
     },
     "output_type": "display_data"
    },
    {
     "output_type": "stream",
     "name": "stdout",
     "output_type": "stream",
     "text": [
      "Instructor progress:\n"
     ]
    },
    {
     "output_type": "display_data",
     "data": {
      "text/html": [
       "<style scoped>\n",
       "  .table-result-container {\n",
       "    max-height: 300px;\n",
       "    overflow: auto;\n",
       "  }\n",
       "  table, th, td {\n",
       "    border: 1px solid black;\n",
       "    border-collapse: collapse;\n",
       "  }\n",
       "  th, td {\n",
       "    padding: 5px;\n",
       "  }\n",
       "  th {\n",
       "    text-align: left;\n",
       "  }\n",
       "</style><div class='table-result-container'><table class='table-result'><thead style='background-color: white'><tr><th>Instructor</th><th>AvgProgress</th><th>TotalEnrollments</th></tr></thead><tbody><tr><td>Zoya Sheikh</td><td>100.0</td><td>1</td></tr><tr><td>Abdullah Khan</td><td>100.0</td><td>2</td></tr><tr><td>Sana Gupta</td><td>45.0</td><td>1</td></tr><tr><td>Ibrahim Khan</td><td>30.0</td><td>1</td></tr></tbody></table></div>"
      ]
     },
     "metadata": {
      "application/vnd.databricks.v1+output": {
       "addedWidgets": {},
       "aggData": [],
       "aggError": "",
       "aggOverflow": false,
       "aggSchema": [],
       "aggSeriesLimitReached": false,
       "aggType": "",
       "arguments": {},
       "columnCustomDisplayInfos": {},
       "data": [
        [
         "Zoya Sheikh",
         100.0,
         1
        ],
        [
         "Abdullah Khan",
         100.0,
         2
        ],
        [
         "Sana Gupta",
         45.0,
         1
        ],
        [
         "Ibrahim Khan",
         30.0,
         1
        ]
       ],
       "datasetInfos": [],
       "dbfsResultPath": null,
       "isJsonSchema": true,
       "metadata": {},
       "overflow": false,
       "plotOptions": {
        "customPlotOptions": {},
        "displayType": "table",
        "pivotAggregation": null,
        "pivotColumns": null,
        "xColumns": null,
        "yColumns": null
       },
       "removedWidgets": [],
       "schema": [
        {
         "metadata": "{}",
         "name": "Instructor",
         "type": "\"string\""
        },
        {
         "metadata": "{}",
         "name": "AvgProgress",
         "type": "\"double\""
        },
        {
         "metadata": "{}",
         "name": "TotalEnrollments",
         "type": "\"long\""
        }
       ],
       "type": "table"
      }
     },
     "output_type": "display_data"
    },
    {
     "output_type": "stream",
     "name": "stdout",
     "output_type": "stream",
     "text": [
      "\nMost enrolled course:\n"
     ]
    },
    {
     "output_type": "display_data",
     "data": {
      "text/html": [
       "<style scoped>\n",
       "  .table-result-container {\n",
       "    max-height: 300px;\n",
       "    overflow: auto;\n",
       "  }\n",
       "  table, th, td {\n",
       "    border: 1px solid black;\n",
       "    border-collapse: collapse;\n",
       "  }\n",
       "  th, td {\n",
       "    padding: 5px;\n",
       "  }\n",
       "  th {\n",
       "    text-align: left;\n",
       "  }\n",
       "</style><div class='table-result-container'><table class='table-result'><thead style='background-color: white'><tr><th>CourseID</th><th>CourseName</th><th>Instructor</th><th>count</th></tr></thead><tbody><tr><td>C001</td><td>Python Basics</td><td>Abdullah Khan</td><td>2</td></tr></tbody></table></div>"
      ]
     },
     "metadata": {
      "application/vnd.databricks.v1+output": {
       "addedWidgets": {},
       "aggData": [],
       "aggError": "",
       "aggOverflow": false,
       "aggSchema": [],
       "aggSeriesLimitReached": false,
       "aggType": "",
       "arguments": {},
       "columnCustomDisplayInfos": {},
       "data": [
        [
         "C001",
         "Python Basics",
         "Abdullah Khan",
         2
        ]
       ],
       "datasetInfos": [],
       "dbfsResultPath": null,
       "isJsonSchema": true,
       "metadata": {},
       "overflow": false,
       "plotOptions": {
        "customPlotOptions": {},
        "displayType": "table",
        "pivotAggregation": null,
        "pivotColumns": null,
        "xColumns": null,
        "yColumns": null
       },
       "removedWidgets": [],
       "schema": [
        {
         "metadata": "{}",
         "name": "CourseID",
         "type": "\"string\""
        },
        {
         "metadata": "{}",
         "name": "CourseName",
         "type": "\"string\""
        },
        {
         "metadata": "{}",
         "name": "Instructor",
         "type": "\"string\""
        },
        {
         "metadata": "{}",
         "name": "count",
         "type": "\"long\""
        }
       ],
       "type": "table"
      }
     },
     "output_type": "display_data"
    }
   ],
   "source": [
    "catalog_df = spark.read.option(\"header\", True).csv(\"/Volumes/workspace/default/shared/course_catalog.csv\")\n",
    "display(catalog_df)\n",
    "\n",
    "# Join to find average progress per instructor\n",
    "joined_df = df.join(catalog_df, \"CourseID\", \"left\")\n",
    "instructor_progress = joined_df.groupBy(\"Instructor\").agg(avg(\"ProgressPercent\").alias(\"AvgProgress\"),count(\"*\").alias(\"TotalEnrollments\")).orderBy(\"AvgProgress\", ascending=False)\n",
    "\n",
    "#Show who teaches the most enrolled course\n",
    "most_enrolled = joined_df.groupBy(\"CourseID\", \"CourseName\", \"Instructor\").count() \\\n",
    "    .orderBy(\"count\", ascending=False).limit(1)\n",
    "print(\"Instructor progress:\")\n",
    "display(instructor_progress)\n",
    "print(\"\\nMost enrolled course:\")\n",
    "display(most_enrolled)"
   ]
  },
  {
   "cell_type": "markdown",
   "metadata": {
    "application/vnd.databricks.v1+cell": {
     "cellMetadata": {},
     "inputWidgets": {},
     "nuid": "f3f36025-5699-427e-beeb-cb95f497072f",
     "showTitle": false,
     "tableResultSettingsMap": {},
     "title": ""
    }
   },
   "source": [
    "6. Delta Lake Practice"
   ]
  },
  {
   "cell_type": "code",
   "execution_count": 0,
   "metadata": {
    "application/vnd.databricks.v1+cell": {
     "cellMetadata": {
      "byteLimit": 2048000,
      "rowLimit": 10000
     },
     "inputWidgets": {},
     "nuid": "3c5ebab4-4bfe-4a2a-a7d4-f490b74b69f1",
     "showTitle": false,
     "tableResultSettingsMap": {},
     "title": ""
    }
   },
   "outputs": [
    {
     "output_type": "stream",
     "name": "stdout",
     "output_type": "stream",
     "text": [
      "+-------+--------------------+----------------+--------------------+---------+--------------------+----+--------+--------------------+-----------+-----------------+-------------+--------------------+------------+--------------------+\n|version|           timestamp|          userId|            userName|operation| operationParameters| job|notebook|           clusterId|readVersion|   isolationLevel|isBlindAppend|    operationMetrics|userMetadata|          engineInfo|\n+-------+--------------------+----------------+--------------------+---------+--------------------+----+--------+--------------------+-----------+-----------------+-------------+--------------------+------------+--------------------+\n|      7|2025-06-19 06:56:...|5873923491206719|ahmedashiq2k17@gm...| OPTIMIZE|{predicate -> [],...|NULL|    NULL|0619-053659-98ecx...|          5|SnapshotIsolation|        false|{numRemovedFiles ...|        NULL|Databricks-Runtim...|\n|      6| 2025-06-19 06:56:48|5873923491206719|ahmedashiq2k17@gm...|   DELETE|{predicate -> [\"(...|NULL|    NULL|0619-053659-98ecx...|          5|WriteSerializable|        false|{numRemovedFiles ...|        NULL|Databricks-Runtim...|\n|      5| 2025-06-19 06:56:47|5873923491206719|ahmedashiq2k17@gm...|   UPDATE|{predicate -> [\"(...|NULL|    NULL|0619-053659-98ecx...|          4|WriteSerializable|        false|{numRemovedFiles ...|        NULL|Databricks-Runtim...|\n|      4| 2025-06-19 06:56:45|5873923491206719|ahmedashiq2k17@gm...|    WRITE|{mode -> Overwrit...|NULL|    NULL|0619-053659-98ecx...|          3|WriteSerializable|        false|{numFiles -> 1, n...|        NULL|Databricks-Runtim...|\n|      3|2025-06-19 06:55:...|5873923491206719|ahmedashiq2k17@gm...| OPTIMIZE|{predicate -> [],...|NULL|    NULL|0619-053659-98ecx...|          1|SnapshotIsolation|        false|{numRemovedFiles ...|        NULL|Databricks-Runtim...|\n|      2| 2025-06-19 06:55:21|5873923491206719|ahmedashiq2k17@gm...|   DELETE|{predicate -> [\"(...|NULL|    NULL|0619-053659-98ecx...|          1|WriteSerializable|        false|{numRemovedFiles ...|        NULL|Databricks-Runtim...|\n|      1| 2025-06-19 06:55:19|5873923491206719|ahmedashiq2k17@gm...|   UPDATE|{predicate -> [\"(...|NULL|    NULL|0619-053659-98ecx...|          0|WriteSerializable|        false|{numRemovedFiles ...|        NULL|Databricks-Runtim...|\n|      0| 2025-06-19 06:55:17|5873923491206719|ahmedashiq2k17@gm...|    WRITE|{mode -> ErrorIfE...|NULL|    NULL|0619-053659-98ecx...|       NULL|WriteSerializable|         true|{numFiles -> 1, n...|        NULL|Databricks-Runtim...|\n+-------+--------------------+----------------+--------------------+---------+--------------------+----+--------+--------------------+-----------+-----------------+-------------+--------------------+------------+--------------------+\n\n"
     ]
    }
   ],
   "source": [
    "#Save as Delta Table enrollments_delta\n",
    "df.write.mode(\"overwrite\").format(\"delta\").save(\"/Volumes/workspace/default/shared/enrollments_delta\")\n",
    "\n",
    "# Update: Set all ratings to 5 where Course = 'Python Basics'\n",
    "from delta.tables import DeltaTable\n",
    "delta_table = DeltaTable.forPath(spark, \"/Volumes/workspace/default/shared/enrollments_delta\")\n",
    "delta_table.update(condition=\"CourseName = 'Python Basics'\",set={\"Rating\": \"5\"})\n",
    "\n",
    "#Delete: All rows where ProgressPercent = 0\n",
    "delta_table.delete(\"ProgressPercent = 0\")\n",
    "delta_table.history().show()"
   ]
  },
  {
   "cell_type": "markdown",
   "metadata": {
    "application/vnd.databricks.v1+cell": {
     "cellMetadata": {},
     "inputWidgets": {},
     "nuid": "2b26f5e9-d23d-4627-aef6-f05cfbcfd97e",
     "showTitle": false,
     "tableResultSettingsMap": {},
     "title": ""
    }
   },
   "source": [
    "7. Window Functions"
   ]
  },
  {
   "cell_type": "code",
   "execution_count": 0,
   "metadata": {
    "application/vnd.databricks.v1+cell": {
     "cellMetadata": {
      "byteLimit": 2048000,
      "rowLimit": 10000
     },
     "inputWidgets": {},
     "nuid": "00437d5f-1906-416b-82ee-9ea303e89ccb",
     "showTitle": false,
     "tableResultSettingsMap": {},
     "title": ""
    }
   },
   "outputs": [
    {
     "output_type": "stream",
     "name": "stdout",
     "output_type": "stream",
     "text": [
      "Course rankings:\n"
     ]
    },
    {
     "output_type": "stream",
     "name": "stderr",
     "output_type": "stream",
     "text": [
      "/databricks/python/lib/python3.11/site-packages/pyspark/sql/connect/expressions.py:1017: UserWarning: WARN WindowExpression: No Partition Defined for Window operation! Moving all data to a single partition, this can cause serious performance degradation.\n  warnings.warn(\n/databricks/python/lib/python3.11/site-packages/pyspark/sql/connect/expressions.py:1017: UserWarning: WARN WindowExpression: No Partition Defined for Window operation! Moving all data to a single partition, this can cause serious performance degradation.\n  warnings.warn(\n"
     ]
    },
    {
     "output_type": "display_data",
     "data": {
      "text/html": [
       "<style scoped>\n",
       "  .table-result-container {\n",
       "    max-height: 300px;\n",
       "    overflow: auto;\n",
       "  }\n",
       "  table, th, td {\n",
       "    border: 1px solid black;\n",
       "    border-collapse: collapse;\n",
       "  }\n",
       "  th, td {\n",
       "    padding: 5px;\n",
       "  }\n",
       "  th {\n",
       "    text-align: left;\n",
       "  }\n",
       "</style><div class='table-result-container'><table class='table-result'><thead style='background-color: white'><tr><th>CourseID</th><th>CourseName</th><th>enroll_count</th><th>Rank</th></tr></thead><tbody><tr><td>C001</td><td>Python Basics</td><td>2</td><td>1</td></tr><tr><td>C003</td><td>ML with PySpark</td><td>1</td><td>2</td></tr><tr><td>C002</td><td>Excel for Finance</td><td>1</td><td>2</td></tr><tr><td>C004</td><td>Digital Marketing</td><td>1</td><td>2</td></tr></tbody></table></div>"
      ]
     },
     "metadata": {
      "application/vnd.databricks.v1+output": {
       "addedWidgets": {},
       "aggData": [],
       "aggError": "",
       "aggOverflow": false,
       "aggSchema": [],
       "aggSeriesLimitReached": false,
       "aggType": "",
       "arguments": {},
       "columnCustomDisplayInfos": {},
       "data": [
        [
         "C001",
         "Python Basics",
         2,
         1
        ],
        [
         "C003",
         "ML with PySpark",
         1,
         2
        ],
        [
         "C002",
         "Excel for Finance",
         1,
         2
        ],
        [
         "C004",
         "Digital Marketing",
         1,
         2
        ]
       ],
       "datasetInfos": [],
       "dbfsResultPath": null,
       "isJsonSchema": true,
       "metadata": {},
       "overflow": false,
       "plotOptions": {
        "customPlotOptions": {},
        "displayType": "table",
        "pivotAggregation": null,
        "pivotColumns": null,
        "xColumns": null,
        "yColumns": null
       },
       "removedWidgets": [],
       "schema": [
        {
         "metadata": "{}",
         "name": "CourseID",
         "type": "\"string\""
        },
        {
         "metadata": "{}",
         "name": "CourseName",
         "type": "\"string\""
        },
        {
         "metadata": "{}",
         "name": "enroll_count",
         "type": "\"long\""
        },
        {
         "metadata": "{}",
         "name": "Rank",
         "type": "\"integer\""
        }
       ],
       "type": "table"
      }
     },
     "output_type": "display_data"
    },
    {
     "output_type": "stream",
     "name": "stdout",
     "output_type": "stream",
     "text": [
      "\nUser learning paths:\n"
     ]
    },
    {
     "output_type": "display_data",
     "data": {
      "text/html": [
       "<style scoped>\n",
       "  .table-result-container {\n",
       "    max-height: 300px;\n",
       "    overflow: auto;\n",
       "  }\n",
       "  table, th, td {\n",
       "    border: 1px solid black;\n",
       "    border-collapse: collapse;\n",
       "  }\n",
       "  th, td {\n",
       "    padding: 5px;\n",
       "  }\n",
       "  th {\n",
       "    text-align: left;\n",
       "  }\n",
       "</style><div class='table-result-container'><table class='table-result'><thead style='background-color: white'><tr><th>UserID</th><th>CourseName</th><th>NextCourse</th></tr></thead><tbody><tr><td>U001</td><td>Python Basics</td><td>ML with PySpark</td></tr><tr><td>U001</td><td>ML with PySpark</td><td>null</td></tr><tr><td>U002</td><td>Excel for Finance</td><td>null</td></tr><tr><td>U003</td><td>Python Basics</td><td>null</td></tr><tr><td>U004</td><td>Digital Marketing</td><td>null</td></tr></tbody></table></div>"
      ]
     },
     "metadata": {
      "application/vnd.databricks.v1+output": {
       "addedWidgets": {},
       "aggData": [],
       "aggError": "",
       "aggOverflow": false,
       "aggSchema": [],
       "aggSeriesLimitReached": false,
       "aggType": "",
       "arguments": {},
       "columnCustomDisplayInfos": {},
       "data": [
        [
         "U001",
         "Python Basics",
         "ML with PySpark"
        ],
        [
         "U001",
         "ML with PySpark",
         null
        ],
        [
         "U002",
         "Excel for Finance",
         null
        ],
        [
         "U003",
         "Python Basics",
         null
        ],
        [
         "U004",
         "Digital Marketing",
         null
        ]
       ],
       "datasetInfos": [],
       "dbfsResultPath": null,
       "isJsonSchema": true,
       "metadata": {},
       "overflow": false,
       "plotOptions": {
        "customPlotOptions": {},
        "displayType": "table",
        "pivotAggregation": null,
        "pivotColumns": null,
        "xColumns": null,
        "yColumns": null
       },
       "removedWidgets": [],
       "schema": [
        {
         "metadata": "{}",
         "name": "UserID",
         "type": "\"string\""
        },
        {
         "metadata": "{}",
         "name": "CourseName",
         "type": "\"string\""
        },
        {
         "metadata": "{}",
         "name": "NextCourse",
         "type": "\"string\""
        }
       ],
       "type": "table"
      }
     },
     "output_type": "display_data"
    }
   ],
   "source": [
    "#Use dense_rank() to rank courses by number of enrollments\n",
    "window_spec_courses = Window.orderBy(col(\"enroll_count\").desc())\n",
    "course_ranks = df.groupBy(\"CourseID\", \"CourseName\").count() \\\n",
    "    .withColumnRenamed(\"count\", \"enroll_count\") \\\n",
    "    .withColumn(\"Rank\", dense_rank().over(window_spec_courses))\n",
    "print(\"Course rankings:\")\n",
    "display(course_ranks)\n",
    "\n",
    "#lead() to find next course by each user (sorted by EnrollDate)\n",
    "window_spec_user = Window.partitionBy(\"UserID\").orderBy(\"EnrollDate\")\n",
    "user_course_path = df.withColumn(\"NextCourse\", lead(\"CourseName\", 1).over(window_spec_user))\n",
    "print(\"\\nUser learning paths:\")\n",
    "display(user_course_path.select(\"UserID\", \"CourseName\", \"NextCourse\"))"
   ]
  },
  {
   "cell_type": "markdown",
   "metadata": {
    "application/vnd.databricks.v1+cell": {
     "cellMetadata": {},
     "inputWidgets": {},
     "nuid": "aece19a2-9760-4daa-aa2f-b36accf0ecd0",
     "showTitle": false,
     "tableResultSettingsMap": {},
     "title": ""
    }
   },
   "source": [
    "8. SQL Logic for Dashboard Views"
   ]
  },
  {
   "cell_type": "code",
   "execution_count": 0,
   "metadata": {
    "application/vnd.databricks.v1+cell": {
     "cellMetadata": {
      "byteLimit": 2048000,
      "rowLimit": 10000
     },
     "inputWidgets": {},
     "nuid": "31629ca1-4f91-4ef6-b1ca-6d11abf5f8c8",
     "showTitle": false,
     "tableResultSettingsMap": {},
     "title": ""
    }
   },
   "outputs": [
    {
     "output_type": "stream",
     "name": "stdout",
     "output_type": "stream",
     "text": [
      "Daily enrollments:\n+----------+-----------------+\n|EnrollDate|enrollments_count|\n+----------+-----------------+\n|2024-04-01|                1|\n|2024-04-02|                1|\n|2024-04-03|                1|\n|2024-04-04|                1|\n|2024-04-05|                1|\n+----------+-----------------+\n\n\nCategory performance:\n+------------+------------+----------+\n|    Category|avg_progress|avg_rating|\n+------------+------------+----------+\n| Programming|       100.0|       4.5|\n|   Marketing|       100.0|       4.0|\n|Data Science|        30.0|      NULL|\n|Productivity|        45.0|      NULL|\n+------------+------------+----------+\n\n\nTop 3 courses:\n+-----------------+-----------+----------+\n|       CourseName|enrollments|avg_rating|\n+-----------------+-----------+----------+\n|    Python Basics|          2|       4.5|\n|Excel for Finance|          1|      NULL|\n|  ML with PySpark|          1|      NULL|\n+-----------------+-----------+----------+\n\n"
     ]
    }
   ],
   "source": [
    "df.createOrReplaceTempView(\"enrollments\")\n",
    "\n",
    "# Daily enrollments view\n",
    "spark.sql(\"\"\"create or replace TEMP view daily_enrollments as select EnrollDate,count(*) AS enrollments_count\n",
    "from enrollments\n",
    "group by EnrollDate order by EnrollDate\"\"\")\n",
    "\n",
    "print(\"Daily enrollments:\")\n",
    "spark.sql(\"SELECT * FROM daily_enrollments\").show()\n",
    "\n",
    "# Category performance view\n",
    "spark.sql(\"\"\"create or replace TEMP view category_performance as\n",
    "select Category,avg(ProgressPercent) AS avg_progress, avg(Rating) AS avg_rating\n",
    "from enrollments\n",
    "group by Category order by avg_rating desc\"\"\")\n",
    "\n",
    "print(\"\\nCategory performance:\")\n",
    "spark.sql(\"SELECT * FROM category_performance\").show()\n",
    "\n",
    "# Top 3 courses view\n",
    "spark.sql(\"\"\" create or replace TEMP view top_3_courses as\n",
    "select CourseName,count(*) AS enrollments, avg(Rating) as avg_rating\n",
    "from enrollments\n",
    "group by CourseName order by enrollments desc limit 3\"\"\")\n",
    "\n",
    "print(\"\\nTop 3 courses:\")\n",
    "spark.sql(\"SELECT * FROM top_3_courses\").show()"
   ]
  },
  {
   "cell_type": "markdown",
   "metadata": {
    "application/vnd.databricks.v1+cell": {
     "cellMetadata": {},
     "inputWidgets": {},
     "nuid": "61a52221-f95e-450a-90b6-24a5db57638c",
     "showTitle": false,
     "tableResultSettingsMap": {},
     "title": ""
    }
   },
   "source": [
    "9. Time Travel"
   ]
  },
  {
   "cell_type": "code",
   "execution_count": 0,
   "metadata": {
    "application/vnd.databricks.v1+cell": {
     "cellMetadata": {
      "byteLimit": 2048000,
      "rowLimit": 10000
     },
     "inputWidgets": {},
     "nuid": "9a4fd6ad-ad37-44df-af23-28573556cdd8",
     "showTitle": false,
     "tableResultSettingsMap": {},
     "title": ""
    }
   },
   "outputs": [
    {
     "output_type": "stream",
     "name": "stdout",
     "output_type": "stream",
     "text": [
      "Original data before updates:\n"
     ]
    },
    {
     "output_type": "display_data",
     "data": {
      "text/html": [
       "<style scoped>\n",
       "  .table-result-container {\n",
       "    max-height: 300px;\n",
       "    overflow: auto;\n",
       "  }\n",
       "  table, th, td {\n",
       "    border: 1px solid black;\n",
       "    border-collapse: collapse;\n",
       "  }\n",
       "  th, td {\n",
       "    padding: 5px;\n",
       "  }\n",
       "  th {\n",
       "    text-align: left;\n",
       "  }\n",
       "</style><div class='table-result-container'><table class='table-result'><thead style='background-color: white'><tr><th>EnrollID</th><th>UserID</th><th>CourseID</th><th>CourseName</th><th>Category</th><th>EnrollDate</th><th>CompletionDate</th><th>ProgressPercent</th><th>Rating</th><th>DaysToComplete</th><th>IsCompleted</th><th>EngagementScore</th></tr></thead><tbody><tr><td>E001</td><td>U001</td><td>C001</td><td>Python Basics</td><td>Programming</td><td>2024-04-01</td><td>2024-04-10</td><td>100</td><td>4</td><td>9</td><td>true</td><td>400</td></tr><tr><td>E002</td><td>U002</td><td>C002</td><td>Excel for Finance</td><td>Productivity</td><td>2024-04-02</td><td>null</td><td>45</td><td>null</td><td>null</td><td>false</td><td>0</td></tr><tr><td>E003</td><td>U001</td><td>C003</td><td>ML with PySpark</td><td>Data Science</td><td>2024-04-03</td><td>null</td><td>30</td><td>null</td><td>null</td><td>false</td><td>0</td></tr><tr><td>E004</td><td>U003</td><td>C001</td><td>Python Basics</td><td>Programming</td><td>2024-04-04</td><td>2024-04-20</td><td>100</td><td>5</td><td>16</td><td>true</td><td>500</td></tr><tr><td>E005</td><td>U004</td><td>C004</td><td>Digital Marketing</td><td>Marketing</td><td>2024-04-05</td><td>2024-04-16</td><td>100</td><td>4</td><td>11</td><td>true</td><td>400</td></tr></tbody></table></div>"
      ]
     },
     "metadata": {
      "application/vnd.databricks.v1+output": {
       "addedWidgets": {},
       "aggData": [],
       "aggError": "",
       "aggOverflow": false,
       "aggSchema": [],
       "aggSeriesLimitReached": false,
       "aggType": "",
       "arguments": {},
       "columnCustomDisplayInfos": {},
       "data": [
        [
         "E001",
         "U001",
         "C001",
         "Python Basics",
         "Programming",
         "2024-04-01",
         "2024-04-10",
         100,
         4,
         9,
         true,
         400
        ],
        [
         "E002",
         "U002",
         "C002",
         "Excel for Finance",
         "Productivity",
         "2024-04-02",
         null,
         45,
         null,
         null,
         false,
         0
        ],
        [
         "E003",
         "U001",
         "C003",
         "ML with PySpark",
         "Data Science",
         "2024-04-03",
         null,
         30,
         null,
         null,
         false,
         0
        ],
        [
         "E004",
         "U003",
         "C001",
         "Python Basics",
         "Programming",
         "2024-04-04",
         "2024-04-20",
         100,
         5,
         16,
         true,
         500
        ],
        [
         "E005",
         "U004",
         "C004",
         "Digital Marketing",
         "Marketing",
         "2024-04-05",
         "2024-04-16",
         100,
         4,
         11,
         true,
         400
        ]
       ],
       "datasetInfos": [],
       "dbfsResultPath": null,
       "isJsonSchema": true,
       "metadata": {},
       "overflow": false,
       "plotOptions": {
        "customPlotOptions": {},
        "displayType": "table",
        "pivotAggregation": null,
        "pivotColumns": null,
        "xColumns": null,
        "yColumns": null
       },
       "removedWidgets": [],
       "schema": [
        {
         "metadata": "{}",
         "name": "EnrollID",
         "type": "\"string\""
        },
        {
         "metadata": "{}",
         "name": "UserID",
         "type": "\"string\""
        },
        {
         "metadata": "{}",
         "name": "CourseID",
         "type": "\"string\""
        },
        {
         "metadata": "{}",
         "name": "CourseName",
         "type": "\"string\""
        },
        {
         "metadata": "{}",
         "name": "Category",
         "type": "\"string\""
        },
        {
         "metadata": "{}",
         "name": "EnrollDate",
         "type": "\"date\""
        },
        {
         "metadata": "{}",
         "name": "CompletionDate",
         "type": "\"date\""
        },
        {
         "metadata": "{}",
         "name": "ProgressPercent",
         "type": "\"integer\""
        },
        {
         "metadata": "{}",
         "name": "Rating",
         "type": "\"integer\""
        },
        {
         "metadata": "{}",
         "name": "DaysToComplete",
         "type": "\"integer\""
        },
        {
         "metadata": "{}",
         "name": "IsCompleted",
         "type": "\"boolean\""
        },
        {
         "metadata": "{}",
         "name": "EngagementScore",
         "type": "\"integer\""
        }
       ],
       "type": "table"
      }
     },
     "output_type": "display_data"
    }
   ],
   "source": [
    "# Time travel to version before updates\n",
    "original_data = spark.read.format(\"delta\") \\\n",
    "    .option(\"versionAsOf\", 0) \\\n",
    "    .load(\"/Volumes/workspace/default/shared/enrollments_delta\")\n",
    "\n",
    "print(\"Original data before updates:\")\n",
    "display(original_data)"
   ]
  },
  {
   "cell_type": "markdown",
   "metadata": {
    "application/vnd.databricks.v1+cell": {
     "cellMetadata": {},
     "inputWidgets": {},
     "nuid": "203408bd-a6e8-4645-b9b5-fbcb6aaa494d",
     "showTitle": false,
     "tableResultSettingsMap": {},
     "title": ""
    }
   },
   "source": [
    "Export"
   ]
  },
  {
   "cell_type": "code",
   "execution_count": 0,
   "metadata": {
    "application/vnd.databricks.v1+cell": {
     "cellMetadata": {
      "byteLimit": 2048000,
      "rowLimit": 10000
     },
     "inputWidgets": {},
     "nuid": "fb6fc44a-3f6e-42c9-a1e4-9ee9bf3df0e6",
     "showTitle": false,
     "tableResultSettingsMap": {},
     "title": ""
    }
   },
   "outputs": [
    {
     "output_type": "stream",
     "name": "stdout",
     "output_type": "stream",
     "text": [
      "Summary statistics:\n"
     ]
    },
    {
     "output_type": "display_data",
     "data": {
      "text/html": [
       "<style scoped>\n",
       "  .table-result-container {\n",
       "    max-height: 300px;\n",
       "    overflow: auto;\n",
       "  }\n",
       "  table, th, td {\n",
       "    border: 1px solid black;\n",
       "    border-collapse: collapse;\n",
       "  }\n",
       "  th, td {\n",
       "    padding: 5px;\n",
       "  }\n",
       "  th {\n",
       "    text-align: left;\n",
       "  }\n",
       "</style><div class='table-result-container'><table class='table-result'><thead style='background-color: white'><tr><th>CourseName</th><th>TotalEnrollments</th><th>AvgRating</th><th>AvgProgress</th></tr></thead><tbody><tr><td>Python Basics</td><td>2</td><td>4.5</td><td>100.0</td></tr><tr><td>ML with PySpark</td><td>1</td><td>null</td><td>30.0</td></tr><tr><td>Excel for Finance</td><td>1</td><td>null</td><td>45.0</td></tr><tr><td>Digital Marketing</td><td>1</td><td>4.0</td><td>100.0</td></tr></tbody></table></div>"
      ]
     },
     "metadata": {
      "application/vnd.databricks.v1+output": {
       "addedWidgets": {},
       "aggData": [],
       "aggError": "",
       "aggOverflow": false,
       "aggSchema": [],
       "aggSeriesLimitReached": false,
       "aggType": "",
       "arguments": {},
       "columnCustomDisplayInfos": {},
       "data": [
        [
         "Python Basics",
         2,
         4.5,
         100.0
        ],
        [
         "ML with PySpark",
         1,
         null,
         30.0
        ],
        [
         "Excel for Finance",
         1,
         null,
         45.0
        ],
        [
         "Digital Marketing",
         1,
         4.0,
         100.0
        ]
       ],
       "datasetInfos": [],
       "dbfsResultPath": null,
       "isJsonSchema": true,
       "metadata": {},
       "overflow": false,
       "plotOptions": {
        "customPlotOptions": {},
        "displayType": "table",
        "pivotAggregation": null,
        "pivotColumns": null,
        "xColumns": null,
        "yColumns": null
       },
       "removedWidgets": [],
       "schema": [
        {
         "metadata": "{}",
         "name": "CourseName",
         "type": "\"string\""
        },
        {
         "metadata": "{}",
         "name": "TotalEnrollments",
         "type": "\"long\""
        },
        {
         "metadata": "{}",
         "name": "AvgRating",
         "type": "\"double\""
        },
        {
         "metadata": "{}",
         "name": "AvgProgress",
         "type": "\"double\""
        }
       ],
       "type": "table"
      }
     },
     "output_type": "display_data"
    }
   ],
   "source": [
    "#Write to JSON, partitioned by Category\n",
    "df.write.partitionBy(\"Category\") \\\n",
    "    .format(\"json\") \\\n",
    "    .save(\"/Volumes/workspace/default/shared/course_enrollments_json\")\n",
    "\n",
    "# Create summary DataFrame\n",
    "summary_df = df.groupBy(\"CourseName\").agg(count(\"*\").alias(\"TotalEnrollments\"),avg(\"Rating\").alias(\"AvgRating\"),avg(\"ProgressPercent\").alias(\"AvgProgress\")).orderBy(\"TotalEnrollments\", ascending=False)\n",
    "\n",
    "# Save summary as Parquet\n",
    "summary_df.write.format(\"parquet\") \\\n",
    "    .save(\"/Volumes/workspace/default/shared/course_summary_parquet\")\n",
    "print(\"Summary statistics:\")\n",
    "display(summary_df)"
   ]
  }
 ],
 "metadata": {
  "application/vnd.databricks.v1+notebook": {
   "computePreferences": null,
   "dashboards": [],
   "environmentMetadata": {
    "base_environment": "",
    "environment_version": "2"
   },
   "inputWidgetPreferences": null,
   "language": "python",
   "notebookMetadata": {
    "pythonIndentUnit": 4
   },
   "notebookName": "set-2",
   "widgets": {}
  },
  "language_info": {
   "name": "python"
  }
 },
 "nbformat": 4,
 "nbformat_minor": 0
}