{
 "cells": [
  {
   "cell_type": "markdown",
   "metadata": {
    "application/vnd.databricks.v1+cell": {
     "cellMetadata": {},
     "inputWidgets": {},
     "nuid": "324ddc7c-174d-4355-bbf1-abf4019b6a3d",
     "showTitle": false,
     "tableResultSettingsMap": {},
     "title": ""
    }
   },
   "source": [
    "Scenario 1: Inventory Alerting System"
   ]
  },
  {
   "cell_type": "code",
   "execution_count": 0,
   "metadata": {
    "application/vnd.databricks.v1+cell": {
     "cellMetadata": {
      "byteLimit": 2048000,
      "rowLimit": 10000
     },
     "inputWidgets": {},
     "nuid": "38cd9ee8-b15c-4c7f-8962-7a82e0453323",
     "showTitle": false,
     "tableResultSettingsMap": {},
     "title": ""
    }
   },
   "outputs": [
    {
     "output_type": "display_data",
     "data": {
      "text/html": [
       "<style scoped>\n",
       "  .table-result-container {\n",
       "    max-height: 300px;\n",
       "    overflow: auto;\n",
       "  }\n",
       "  table, th, td {\n",
       "    border: 1px solid black;\n",
       "    border-collapse: collapse;\n",
       "  }\n",
       "  th, td {\n",
       "    padding: 5px;\n",
       "  }\n",
       "  th {\n",
       "    text-align: left;\n",
       "  }\n",
       "</style><div class='table-result-container'><table class='table-result'><thead style='background-color: white'><tr><th>Warehouse</th><th>ItemsNeedingRestock</th></tr></thead><tbody><tr><td>WarehouseB</td><td>2</td></tr></tbody></table></div>"
      ]
     },
     "metadata": {
      "application/vnd.databricks.v1+output": {
       "addedWidgets": {},
       "aggData": [],
       "aggError": "",
       "aggOverflow": false,
       "aggSchema": [],
       "aggSeriesLimitReached": false,
       "aggType": "",
       "arguments": {},
       "columnCustomDisplayInfos": {},
       "data": [
        [
         "WarehouseB",
         2
        ]
       ],
       "datasetInfos": [],
       "dbfsResultPath": null,
       "isJsonSchema": true,
       "metadata": {},
       "overflow": false,
       "plotOptions": {
        "customPlotOptions": {},
        "displayType": "table",
        "pivotAggregation": null,
        "pivotColumns": null,
        "xColumns": null,
        "yColumns": null
       },
       "removedWidgets": [],
       "schema": [
        {
         "metadata": "{}",
         "name": "Warehouse",
         "type": "\"string\""
        },
        {
         "metadata": "{}",
         "name": "ItemsNeedingRestock",
         "type": "\"long\""
        }
       ],
       "type": "table"
      }
     },
     "output_type": "display_data"
    }
   ],
   "source": [
    "from pyspark.sql import SparkSession\n",
    "from pyspark.sql.functions import *\n",
    "from pyspark.sql.types import *\n",
    "spark = SparkSession.builder.appName(\"RetailInventory\").getOrCreate()\n",
    "spark\n",
    "\n",
    "# 1. Load data\n",
    "inventory_df = spark.read.option(\"header\", True).csv(\"/Volumes/workspace/default/shared/inventory_supply.csv\")\n",
    "\n",
    "# 2. Create NeedsReorder flag\n",
    "inventory_df = inventory_df.withColumn(\"NeedsReorder\", col(\"StockQty\") < col(\"ReorderLevel\"))\n",
    "\n",
    "# 3. Create restocking view\n",
    "restock_view = inventory_df.filter(col(\"NeedsReorder\") == True)\n",
    "restock_view.createOrReplaceTempView(\"NeedsRestocking\")\n",
    "\n",
    "# 4. Highlight problematic warehouses\n",
    "warehouse_alerts = restock_view.groupBy(\"Warehouse\").agg(count(\"*\").alias(\"ItemsNeedingRestock\")).filter(col(\"ItemsNeedingRestock\") > 1)\n",
    "display(warehouse_alerts)"
   ]
  },
  {
   "cell_type": "markdown",
   "metadata": {
    "application/vnd.databricks.v1+cell": {
     "cellMetadata": {},
     "inputWidgets": {},
     "nuid": "c2d61044-c39c-481b-b2ab-6de367be5487",
     "showTitle": false,
     "tableResultSettingsMap": {},
     "title": ""
    }
   },
   "source": [
    "Scenario 2: Supplier Price Optimization"
   ]
  },
  {
   "cell_type": "code",
   "execution_count": 0,
   "metadata": {
    "application/vnd.databricks.v1+cell": {
     "cellMetadata": {
      "byteLimit": 2048000,
      "rowLimit": 10000
     },
     "inputWidgets": {},
     "nuid": "6247ae64-cafa-4056-9e53-d002bc05d096",
     "showTitle": false,
     "tableResultSettingsMap": {},
     "title": ""
    }
   },
   "outputs": [
    {
     "output_type": "display_data",
     "data": {
      "text/html": [
       "<style scoped>\n",
       "  .table-result-container {\n",
       "    max-height: 300px;\n",
       "    overflow: auto;\n",
       "  }\n",
       "  table, th, td {\n",
       "    border: 1px solid black;\n",
       "    border-collapse: collapse;\n",
       "  }\n",
       "  th, td {\n",
       "    padding: 5px;\n",
       "  }\n",
       "  th {\n",
       "    text-align: left;\n",
       "  }\n",
       "</style><div class='table-result-container'><table class='table-result'><thead style='background-color: white'><tr><th>Supplie</th><th>AvgSupplierPrice</th></tr></thead><tbody><tr><td>AVTech</td><td>30000.0</td></tr><tr><td>FreezeIt</td><td>25000.0</td></tr><tr><td>TechWorld</td><td>70000.0</td></tr><tr><td>ChairCo</td><td>6000.0</td></tr><tr><td>PrintFast</td><td>8000.0</td></tr></tbody></table></div>"
      ]
     },
     "metadata": {
      "application/vnd.databricks.v1+output": {
       "addedWidgets": {},
       "aggData": [],
       "aggError": "",
       "aggOverflow": false,
       "aggSchema": [],
       "aggSeriesLimitReached": false,
       "aggType": "",
       "arguments": {},
       "columnCustomDisplayInfos": {},
       "data": [
        [
         "AVTech",
         30000.0
        ],
        [
         "FreezeIt",
         25000.0
        ],
        [
         "TechWorld",
         70000.0
        ],
        [
         "ChairCo",
         6000.0
        ],
        [
         "PrintFast",
         8000.0
        ]
       ],
       "datasetInfos": [],
       "dbfsResultPath": null,
       "isJsonSchema": true,
       "metadata": {},
       "overflow": false,
       "plotOptions": {
        "customPlotOptions": {},
        "displayType": "table",
        "pivotAggregation": null,
        "pivotColumns": null,
        "xColumns": null,
        "yColumns": null
       },
       "removedWidgets": [],
       "schema": [
        {
         "metadata": "{}",
         "name": "Supplie",
         "type": "\"string\""
        },
        {
         "metadata": "{}",
         "name": "AvgSupplierPrice",
         "type": "\"double\""
        }
       ],
       "type": "table"
      }
     },
     "output_type": "display_data"
    },
    {
     "output_type": "display_data",
     "data": {
      "text/html": [
       "<style scoped>\n",
       "  .table-result-container {\n",
       "    max-height: 300px;\n",
       "    overflow: auto;\n",
       "  }\n",
       "  table, th, td {\n",
       "    border: 1px solid black;\n",
       "    border-collapse: collapse;\n",
       "  }\n",
       "  th, td {\n",
       "    padding: 5px;\n",
       "  }\n",
       "  th {\n",
       "    text-align: left;\n",
       "  }\n",
       "</style><div class='table-result-container'><table class='table-result'><thead style='background-color: white'><tr><th>Category</th><th>ItemID</th><th>ItemName</th><th>Warehouse</th><th>StockQty</th><th>ReorderLevel</th><th>LastRestocked</th><th>UnitPrice</th><th>Supplie</th><th>NeedsReorder</th><th>CategoryAvgPrice</th><th>BelowMarketPrice</th></tr></thead><tbody><tr><td>Electronics</td><td>I001</td><td>LED TV</td><td>WarehouseA</td><td>50</td><td>20</td><td>2024-03-15</td><td>30000</td><td>AVTech</td><td>false</td><td>36000.0</td><td>true</td></tr><tr><td>Electronics</td><td>I002</td><td>Laptop</td><td>WarehouseB</td><td>10</td><td>15</td><td>2024-04-01</td><td>70000</td><td>TechWorld</td><td>true</td><td>36000.0</td><td>false</td></tr><tr><td>Furniture</td><td>I003</td><td>Office Chair</td><td>WarehouseA</td><td>40</td><td>10</td><td>2024-03-25</td><td>6000</td><td>ChairCo</td><td>false</td><td>6000.0</td><td>false</td></tr><tr><td>Appliances</td><td>I004</td><td>Refrigerator</td><td>WarehouseC</td><td>5</td><td>10</td><td>2024-02-20</td><td>25000</td><td>FreezeIt</td><td>false</td><td>25000.0</td><td>false</td></tr><tr><td>Electronics</td><td>I005</td><td>Printer</td><td>WarehouseB</td><td>3</td><td>5</td><td>2024-03-30</td><td>8000</td><td>PrintFast</td><td>true</td><td>36000.0</td><td>true</td></tr></tbody></table></div>"
      ]
     },
     "metadata": {
      "application/vnd.databricks.v1+output": {
       "addedWidgets": {},
       "aggData": [],
       "aggError": "",
       "aggOverflow": false,
       "aggSchema": [],
       "aggSeriesLimitReached": false,
       "aggType": "",
       "arguments": {},
       "columnCustomDisplayInfos": {},
       "data": [
        [
         "Electronics",
         "I001",
         "LED TV",
         "WarehouseA",
         "50",
         "20",
         "2024-03-15",
         "30000",
         "AVTech",
         false,
         36000.0,
         true
        ],
        [
         "Electronics",
         "I002",
         "Laptop",
         "WarehouseB",
         "10",
         "15",
         "2024-04-01",
         "70000",
         "TechWorld",
         true,
         36000.0,
         false
        ],
        [
         "Furniture",
         "I003",
         "Office Chair",
         "WarehouseA",
         "40",
         "10",
         "2024-03-25",
         "6000",
         "ChairCo",
         false,
         6000.0,
         false
        ],
        [
         "Appliances",
         "I004",
         "Refrigerator",
         "WarehouseC",
         "5",
         "10",
         "2024-02-20",
         "25000",
         "FreezeIt",
         false,
         25000.0,
         false
        ],
        [
         "Electronics",
         "I005",
         "Printer",
         "WarehouseB",
         "3",
         "5",
         "2024-03-30",
         "8000",
         "PrintFast",
         true,
         36000.0,
         true
        ]
       ],
       "datasetInfos": [],
       "dbfsResultPath": null,
       "isJsonSchema": true,
       "metadata": {},
       "overflow": false,
       "plotOptions": {
        "customPlotOptions": {},
        "displayType": "table",
        "pivotAggregation": null,
        "pivotColumns": null,
        "xColumns": null,
        "yColumns": null
       },
       "removedWidgets": [],
       "schema": [
        {
         "metadata": "{}",
         "name": "Category",
         "type": "\"string\""
        },
        {
         "metadata": "{}",
         "name": "ItemID",
         "type": "\"string\""
        },
        {
         "metadata": "{}",
         "name": "ItemName",
         "type": "\"string\""
        },
        {
         "metadata": "{}",
         "name": "Warehouse",
         "type": "\"string\""
        },
        {
         "metadata": "{}",
         "name": "StockQty",
         "type": "\"string\""
        },
        {
         "metadata": "{}",
         "name": "ReorderLevel",
         "type": "\"string\""
        },
        {
         "metadata": "{}",
         "name": "LastRestocked",
         "type": "\"string\""
        },
        {
         "metadata": "{}",
         "name": "UnitPrice",
         "type": "\"string\""
        },
        {
         "metadata": "{}",
         "name": "Supplie",
         "type": "\"string\""
        },
        {
         "metadata": "{}",
         "name": "NeedsReorder",
         "type": "\"boolean\""
        },
        {
         "metadata": "{}",
         "name": "CategoryAvgPrice",
         "type": "\"double\""
        },
        {
         "metadata": "{}",
         "name": "BelowMarketPrice",
         "type": "\"boolean\""
        }
       ],
       "type": "table"
      }
     },
     "output_type": "display_data"
    },
    {
     "output_type": "display_data",
     "data": {
      "text/html": [
       "<style scoped>\n",
       "  .table-result-container {\n",
       "    max-height: 300px;\n",
       "    overflow: auto;\n",
       "  }\n",
       "  table, th, td {\n",
       "    border: 1px solid black;\n",
       "    border-collapse: collapse;\n",
       "  }\n",
       "  th, td {\n",
       "    padding: 5px;\n",
       "  }\n",
       "  th {\n",
       "    text-align: left;\n",
       "  }\n",
       "</style><div class='table-result-container'><table class='table-result'><thead style='background-color: white'><tr><th>Supplie</th><th>PercentBelowMarket</th><th>DealQuality</th></tr></thead><tbody><tr><td>AVTech</td><td>100.0</td><td>Good Deal</td></tr><tr><td>FreezeIt</td><td>0.0</td><td>Standard</td></tr><tr><td>TechWorld</td><td>0.0</td><td>Standard</td></tr><tr><td>ChairCo</td><td>0.0</td><td>Standard</td></tr><tr><td>PrintFast</td><td>100.0</td><td>Good Deal</td></tr></tbody></table></div>"
      ]
     },
     "metadata": {
      "application/vnd.databricks.v1+output": {
       "addedWidgets": {},
       "aggData": [],
       "aggError": "",
       "aggOverflow": false,
       "aggSchema": [],
       "aggSeriesLimitReached": false,
       "aggType": "",
       "arguments": {},
       "columnCustomDisplayInfos": {},
       "data": [
        [
         "AVTech",
         100.0,
         "Good Deal"
        ],
        [
         "FreezeIt",
         0.0,
         "Standard"
        ],
        [
         "TechWorld",
         0.0,
         "Standard"
        ],
        [
         "ChairCo",
         0.0,
         "Standard"
        ],
        [
         "PrintFast",
         100.0,
         "Good Deal"
        ]
       ],
       "datasetInfos": [],
       "dbfsResultPath": null,
       "isJsonSchema": true,
       "metadata": {},
       "overflow": false,
       "plotOptions": {
        "customPlotOptions": {},
        "displayType": "table",
        "pivotAggregation": null,
        "pivotColumns": null,
        "xColumns": null,
        "yColumns": null
       },
       "removedWidgets": [],
       "schema": [
        {
         "metadata": "{}",
         "name": "Supplie",
         "type": "\"string\""
        },
        {
         "metadata": "{}",
         "name": "PercentBelowMarket",
         "type": "\"double\""
        },
        {
         "metadata": "{}",
         "name": "DealQuality",
         "type": "\"string\""
        }
       ],
       "type": "table"
      }
     },
     "output_type": "display_data"
    }
   ],
   "source": [
    "# 1. Group by supplier and compute average price\n",
    "supplier_stats = inventory_df.groupBy(\"Supplie\").agg(avg(\"UnitPrice\").alias(\"AvgSupplierPrice\"))\n",
    "display(supplier_stats)\n",
    "\n",
    "# 2. Find items below average price in their category\n",
    "category_avg = inventory_df.groupBy(\"Category\").agg(avg(\"UnitPrice\").alias(\"CategoryAvgPrice\"))\n",
    "price_comparison = inventory_df.join(category_avg, \"Category\") \\\n",
    ".withColumn(\"BelowMarketPrice\", col(\"UnitPrice\") < col(\"CategoryAvgPrice\"))\n",
    "display(price_comparison)\n",
    "\n",
    "# 3. Tag suppliers with \"Good Deal\"\n",
    "supplier_deal_quality = price_comparison.groupBy(\"Supplie\").agg((avg(when(col(\"BelowMarketPrice\") == True, 1).otherwise(0)) * 100).alias(\"PercentBelowMarket\")).withColumn(\"DealQuality\",when(col(\"PercentBelowMarket\") > 50, \"Good Deal\").otherwise(\"Standard\"))\n",
    "display(supplier_deal_quality)"
   ]
  },
  {
   "cell_type": "markdown",
   "metadata": {
    "application/vnd.databricks.v1+cell": {
     "cellMetadata": {},
     "inputWidgets": {},
     "nuid": "587c9eaa-aa9a-4db1-a336-74094d6115bf",
     "showTitle": false,
     "tableResultSettingsMap": {},
     "title": ""
    }
   },
   "source": [
    "Scenario 3: Cost Forecasting"
   ]
  },
  {
   "cell_type": "code",
   "execution_count": 0,
   "metadata": {
    "application/vnd.databricks.v1+cell": {
     "cellMetadata": {
      "byteLimit": 2048000,
      "rowLimit": 10000
     },
     "inputWidgets": {},
     "nuid": "0e7eb9e2-fb5b-446d-88a4-5d5e68da5a84",
     "showTitle": false,
     "tableResultSettingsMap": {},
     "title": ""
    }
   },
   "outputs": [
    {
     "output_type": "display_data",
     "data": {
      "text/html": [
       "<style scoped>\n",
       "  .table-result-container {\n",
       "    max-height: 300px;\n",
       "    overflow: auto;\n",
       "  }\n",
       "  table, th, td {\n",
       "    border: 1px solid black;\n",
       "    border-collapse: collapse;\n",
       "  }\n",
       "  th, td {\n",
       "    padding: 5px;\n",
       "  }\n",
       "  th {\n",
       "    text-align: left;\n",
       "  }\n",
       "</style><div class='table-result-container'><table class='table-result'><thead style='background-color: white'><tr><th>ItemID</th><th>ItemName</th><th>Category</th><th>Warehouse</th><th>StockQty</th><th>ReorderLevel</th><th>LastRestocked</th><th>UnitPrice</th><th>Supplier</th><th>TotalStockValue</th></tr></thead><tbody><tr><td>I001</td><td>LED TV</td><td>Electronics</td><td>WarehouseA</td><td>50.0</td><td>20.0</td><td>2024-03-15</td><td>30000.0</td><td>AVTech</td><td>1500000.0</td></tr><tr><td>I002</td><td>Laptop</td><td>Electronics</td><td>WarehouseB</td><td>10.0</td><td>15.0</td><td>2024-04-01</td><td>70000.0</td><td>TechWorld</td><td>700000.0</td></tr><tr><td>I003</td><td>Office Chair</td><td>Furniture</td><td>WarehouseA</td><td>40.0</td><td>10.0</td><td>2024-03-25</td><td>6000.0</td><td>ChairCo</td><td>240000.0</td></tr></tbody></table></div>"
      ]
     },
     "metadata": {
      "application/vnd.databricks.v1+output": {
       "addedWidgets": {},
       "aggData": [],
       "aggError": "",
       "aggOverflow": false,
       "aggSchema": [],
       "aggSeriesLimitReached": false,
       "aggType": "",
       "arguments": {},
       "columnCustomDisplayInfos": {},
       "data": [
        [
         "I001",
         "LED TV",
         "Electronics",
         "WarehouseA",
         50.0,
         20.0,
         "2024-03-15",
         30000.0,
         "AVTech",
         1500000.0
        ],
        [
         "I002",
         "Laptop",
         "Electronics",
         "WarehouseB",
         10.0,
         15.0,
         "2024-04-01",
         70000.0,
         "TechWorld",
         700000.0
        ],
        [
         "I003",
         "Office Chair",
         "Furniture",
         "WarehouseA",
         40.0,
         10.0,
         "2024-03-25",
         6000.0,
         "ChairCo",
         240000.0
        ]
       ],
       "datasetInfos": [],
       "dbfsResultPath": null,
       "isJsonSchema": true,
       "metadata": {},
       "overflow": false,
       "plotOptions": {
        "customPlotOptions": {},
        "displayType": "table",
        "pivotAggregation": null,
        "pivotColumns": null,
        "xColumns": null,
        "yColumns": null
       },
       "removedWidgets": [],
       "schema": [
        {
         "metadata": "{}",
         "name": "ItemID",
         "type": "\"string\""
        },
        {
         "metadata": "{}",
         "name": "ItemName",
         "type": "\"string\""
        },
        {
         "metadata": "{}",
         "name": "Category",
         "type": "\"string\""
        },
        {
         "metadata": "{}",
         "name": "Warehouse",
         "type": "\"string\""
        },
        {
         "metadata": "{}",
         "name": "StockQty",
         "type": "\"float\""
        },
        {
         "metadata": "{}",
         "name": "ReorderLevel",
         "type": "\"float\""
        },
        {
         "metadata": "{}",
         "name": "LastRestocked",
         "type": "\"date\""
        },
        {
         "metadata": "{}",
         "name": "UnitPrice",
         "type": "\"float\""
        },
        {
         "metadata": "{}",
         "name": "Supplier",
         "type": "\"string\""
        },
        {
         "metadata": "{}",
         "name": "TotalStockValue",
         "type": "\"float\""
        }
       ],
       "type": "table"
      }
     },
     "output_type": "display_data"
    }
   ],
   "source": [
    "from pyspark.sql.functions import col\n",
    "\n",
    "# 1. Calculate TotalStockValue\n",
    "inventory_df = inventory_df.withColumn(\"TotalStockValue\", col(\"StockQty\").cast(\"float\") * col(\"UnitPrice\").cast(\"float\"))\n",
    "\n",
    "# 2. Identify top 3 highest-value items\n",
    "top_items = inventory_df.orderBy(col(\"TotalStockValue\").desc()).limit(3)\n",
    "\n",
    "# 3. Export as Parquet\n",
    "top_items.write.partitionBy(\"Warehouse\") \\\n",
    ".mode(\"overwrite\") \\\n",
    ".parquet(\"/Volumes/workspace/default/shared/top_value_items_parquet\")\n",
    "display(top_items)"
   ]
  },
  {
   "cell_type": "markdown",
   "metadata": {
    "application/vnd.databricks.v1+cell": {
     "cellMetadata": {},
     "inputWidgets": {},
     "nuid": "c65c5d3a-f7a4-4769-9acf-dfb1b82858d6",
     "showTitle": false,
     "tableResultSettingsMap": {},
     "title": ""
    }
   },
   "source": [
    "Scenario 4: Warehouse Utilization"
   ]
  },
  {
   "cell_type": "code",
   "execution_count": 0,
   "metadata": {
    "application/vnd.databricks.v1+cell": {
     "cellMetadata": {
      "byteLimit": 2048000,
      "rowLimit": 10000
     },
     "inputWidgets": {},
     "nuid": "9a15a424-6cb6-4ee4-bbfd-7bea36d099a1",
     "showTitle": false,
     "tableResultSettingsMap": {},
     "title": ""
    }
   },
   "outputs": [
    {
     "output_type": "display_data",
     "data": {
      "text/html": [
       "<style scoped>\n",
       "  .table-result-container {\n",
       "    max-height: 300px;\n",
       "    overflow: auto;\n",
       "  }\n",
       "  table, th, td {\n",
       "    border: 1px solid black;\n",
       "    border-collapse: collapse;\n",
       "  }\n",
       "  th, td {\n",
       "    padding: 5px;\n",
       "  }\n",
       "  th {\n",
       "    text-align: left;\n",
       "  }\n",
       "</style><div class='table-result-container'><table class='table-result'><thead style='background-color: white'><tr><th>Warehouse</th><th>TotalItems</th></tr></thead><tbody><tr><td>WarehouseB</td><td>2</td></tr><tr><td>WarehouseA</td><td>2</td></tr><tr><td>WarehouseC</td><td>1</td></tr></tbody></table></div>"
      ]
     },
     "metadata": {
      "application/vnd.databricks.v1+output": {
       "addedWidgets": {},
       "aggData": [],
       "aggError": "",
       "aggOverflow": false,
       "aggSchema": [],
       "aggSeriesLimitReached": false,
       "aggType": "",
       "arguments": {},
       "columnCustomDisplayInfos": {},
       "data": [
        [
         "WarehouseB",
         2
        ],
        [
         "WarehouseA",
         2
        ],
        [
         "WarehouseC",
         1
        ]
       ],
       "datasetInfos": [],
       "dbfsResultPath": null,
       "isJsonSchema": true,
       "metadata": {},
       "overflow": false,
       "plotOptions": {
        "customPlotOptions": {},
        "displayType": "table",
        "pivotAggregation": null,
        "pivotColumns": null,
        "xColumns": null,
        "yColumns": null
       },
       "removedWidgets": [],
       "schema": [
        {
         "metadata": "{}",
         "name": "Warehouse",
         "type": "\"string\""
        },
        {
         "metadata": "{}",
         "name": "TotalItems",
         "type": "\"long\""
        }
       ],
       "type": "table"
      }
     },
     "output_type": "display_data"
    },
    {
     "output_type": "display_data",
     "data": {
      "text/html": [
       "<style scoped>\n",
       "  .table-result-container {\n",
       "    max-height: 300px;\n",
       "    overflow: auto;\n",
       "  }\n",
       "  table, th, td {\n",
       "    border: 1px solid black;\n",
       "    border-collapse: collapse;\n",
       "  }\n",
       "  th, td {\n",
       "    padding: 5px;\n",
       "  }\n",
       "  th {\n",
       "    text-align: left;\n",
       "  }\n",
       "</style><div class='table-result-container'><table class='table-result'><thead style='background-color: white'><tr><th>Warehouse</th><th>Category</th><th>AvgStockPerCategory</th></tr></thead><tbody><tr><td>WarehouseB</td><td>Electronics</td><td>6.5</td></tr><tr><td>WarehouseA</td><td>Electronics</td><td>50.0</td></tr><tr><td>WarehouseA</td><td>Furniture</td><td>40.0</td></tr><tr><td>WarehouseC</td><td>Appliances</td><td>5.0</td></tr></tbody></table></div>"
      ]
     },
     "metadata": {
      "application/vnd.databricks.v1+output": {
       "addedWidgets": {},
       "aggData": [],
       "aggError": "",
       "aggOverflow": false,
       "aggSchema": [],
       "aggSeriesLimitReached": false,
       "aggType": "",
       "arguments": {},
       "columnCustomDisplayInfos": {},
       "data": [
        [
         "WarehouseB",
         "Electronics",
         6.5
        ],
        [
         "WarehouseA",
         "Electronics",
         50.0
        ],
        [
         "WarehouseA",
         "Furniture",
         40.0
        ],
        [
         "WarehouseC",
         "Appliances",
         5.0
        ]
       ],
       "datasetInfos": [],
       "dbfsResultPath": null,
       "isJsonSchema": true,
       "metadata": {},
       "overflow": false,
       "plotOptions": {
        "customPlotOptions": {},
        "displayType": "table",
        "pivotAggregation": null,
        "pivotColumns": null,
        "xColumns": null,
        "yColumns": null
       },
       "removedWidgets": [],
       "schema": [
        {
         "metadata": "{}",
         "name": "Warehouse",
         "type": "\"string\""
        },
        {
         "metadata": "{}",
         "name": "Category",
         "type": "\"string\""
        },
        {
         "metadata": "{}",
         "name": "AvgStockPerCategory",
         "type": "\"double\""
        }
       ],
       "type": "table"
      }
     },
     "output_type": "display_data"
    },
    {
     "output_type": "display_data",
     "data": {
      "text/html": [
       "<style scoped>\n",
       "  .table-result-container {\n",
       "    max-height: 300px;\n",
       "    overflow: auto;\n",
       "  }\n",
       "  table, th, td {\n",
       "    border: 1px solid black;\n",
       "    border-collapse: collapse;\n",
       "  }\n",
       "  th, td {\n",
       "    padding: 5px;\n",
       "  }\n",
       "  th {\n",
       "    text-align: left;\n",
       "  }\n",
       "</style><div class='table-result-container'><table class='table-result'><thead style='background-color: white'><tr><th>Warehouse</th><th>TotalStock</th></tr></thead><tbody><tr><td>WarehouseB</td><td>13.0</td></tr><tr><td>WarehouseA</td><td>90.0</td></tr><tr><td>WarehouseC</td><td>5.0</td></tr></tbody></table></div>"
      ]
     },
     "metadata": {
      "application/vnd.databricks.v1+output": {
       "addedWidgets": {},
       "aggData": [],
       "aggError": "",
       "aggOverflow": false,
       "aggSchema": [],
       "aggSeriesLimitReached": false,
       "aggType": "",
       "arguments": {},
       "columnCustomDisplayInfos": {},
       "data": [
        [
         "WarehouseB",
         13.0
        ],
        [
         "WarehouseA",
         90.0
        ],
        [
         "WarehouseC",
         5.0
        ]
       ],
       "datasetInfos": [],
       "dbfsResultPath": null,
       "isJsonSchema": true,
       "metadata": {},
       "overflow": false,
       "plotOptions": {
        "customPlotOptions": {},
        "displayType": "table",
        "pivotAggregation": null,
        "pivotColumns": null,
        "xColumns": null,
        "yColumns": null
       },
       "removedWidgets": [],
       "schema": [
        {
         "metadata": "{}",
         "name": "Warehouse",
         "type": "\"string\""
        },
        {
         "metadata": "{}",
         "name": "TotalStock",
         "type": "\"double\""
        }
       ],
       "type": "table"
      }
     },
     "output_type": "display_data"
    }
   ],
   "source": [
    "# 1. Count items per warehouse\n",
    "items_per_warehouse = inventory_df.groupBy(\"Warehouse\").agg(count(\"*\").alias(\"TotalItems\"))\n",
    "display(items_per_warehouse)\n",
    "\n",
    "# 2. Average stock per category in each warehouse\n",
    "category_stock = inventory_df.groupBy(\"Warehouse\", \"Category\").agg(avg(\"StockQty\").alias(\"AvgStockPerCategory\"))\n",
    "display(category_stock)\n",
    "\n",
    "# 3. Identify underutilized warehouses\n",
    "underutilized = inventory_df.groupBy(\"Warehouse\").agg(sum(\"StockQty\").alias(\"TotalStock\")).filter(col(\"TotalStock\") < 100)\n",
    "\n",
    "display(underutilized)"
   ]
  },
  {
   "cell_type": "markdown",
   "metadata": {
    "application/vnd.databricks.v1+cell": {
     "cellMetadata": {},
     "inputWidgets": {},
     "nuid": "83c8faf9-58aa-43e3-934f-e5fc22e6c272",
     "showTitle": false,
     "tableResultSettingsMap": {},
     "title": ""
    }
   },
   "source": [
    "Scenario 5: Delta Audit Trail"
   ]
  },
  {
   "cell_type": "code",
   "execution_count": 0,
   "metadata": {
    "application/vnd.databricks.v1+cell": {
     "cellMetadata": {
      "byteLimit": 2048000,
      "rowLimit": 10000
     },
     "inputWidgets": {},
     "nuid": "45668e96-67ae-4c7c-bc6f-fc0c42a44a17",
     "showTitle": false,
     "tableResultSettingsMap": {},
     "title": ""
    }
   },
   "outputs": [
    {
     "output_type": "display_data",
     "data": {
      "text/html": [
       "<style scoped>\n",
       "  .table-result-container {\n",
       "    max-height: 300px;\n",
       "    overflow: auto;\n",
       "  }\n",
       "  table, th, td {\n",
       "    border: 1px solid black;\n",
       "    border-collapse: collapse;\n",
       "  }\n",
       "  th, td {\n",
       "    padding: 5px;\n",
       "  }\n",
       "  th {\n",
       "    text-align: left;\n",
       "  }\n",
       "</style><div class='table-result-container'><table class='table-result'><thead style='background-color: white'><tr><th>version</th><th>timestamp</th><th>userId</th><th>userName</th><th>operation</th><th>operationParameters</th><th>job</th><th>notebook</th><th>clusterId</th><th>readVersion</th><th>isolationLevel</th><th>isBlindAppend</th><th>operationMetrics</th><th>userMetadata</th><th>engineInfo</th></tr></thead><tbody><tr><td>3</td><td>2025-06-19T07:37:29.000Z</td><td>5873923491206719</td><td>ahmedashiq2k17@gmail.com</td><td>DELETE</td><td>Map(predicate -> [\"(StockQty#29919 = 0.0)\"])</td><td>null</td><td>null</td><td>0619-053659-98ecxxfe-v2n</td><td>1</td><td>WriteSerializable</td><td>false</td><td>Map(numRemovedFiles -> 0, numRemovedBytes -> 0, numCopiedRows -> 0, numDeletionVectorsAdded -> 0, numDeletionVectorsRemoved -> 0, numAddedChangeFiles -> 0, executionTimeMs -> 155, conflictDetectionTimeMs -> 32, numDeletionVectorsUpdated -> 0, numDeletedRows -> 0, scanTimeMs -> 155, numAddedFiles -> 0, numAddedBytes -> 0, rewriteTimeMs -> 0)</td><td>null</td><td>Databricks-Runtime/16.4.x-photon-scala2.12</td></tr><tr><td>2</td><td>2025-06-19T07:37:28.000Z</td><td>5873923491206719</td><td>ahmedashiq2k17@gmail.com</td><td>OPTIMIZE</td><td>Map(predicate -> [], auto -> true, clusterBy -> [], zOrderBy -> [], batchId -> 0)</td><td>null</td><td>null</td><td>0619-053659-98ecxxfe-v2n</td><td>1</td><td>SnapshotIsolation</td><td>false</td><td>Map(numRemovedFiles -> 2, numRemovedBytes -> 5274, p25FileSize -> 2797, numDeletionVectorsRemoved -> 1, minFileSize -> 2797, numAddedFiles -> 1, maxFileSize -> 2797, p75FileSize -> 2797, p50FileSize -> 2797, numAddedBytes -> 2797)</td><td>null</td><td>Databricks-Runtime/16.4.x-photon-scala2.12</td></tr><tr><td>1</td><td>2025-06-19T07:37:27.000Z</td><td>5873923491206719</td><td>ahmedashiq2k17@gmail.com</td><td>UPDATE</td><td>Map(predicate -> [\"(ItemName#29001 = Laptop)\"])</td><td>null</td><td>null</td><td>0619-053659-98ecxxfe-v2n</td><td>0</td><td>WriteSerializable</td><td>false</td><td>Map(numRemovedFiles -> 0, numRemovedBytes -> 0, numCopiedRows -> 0, numDeletionVectorsAdded -> 1, numDeletionVectorsRemoved -> 0, numAddedChangeFiles -> 0, executionTimeMs -> 1126, numDeletionVectorsUpdated -> 0, scanTimeMs -> 532, numAddedFiles -> 1, numUpdatedRows -> 1, numAddedBytes -> 2478, rewriteTimeMs -> 594)</td><td>null</td><td>Databricks-Runtime/16.4.x-photon-scala2.12</td></tr><tr><td>0</td><td>2025-06-19T07:37:25.000Z</td><td>5873923491206719</td><td>ahmedashiq2k17@gmail.com</td><td>WRITE</td><td>Map(mode -> ErrorIfExists, statsOnLoad -> false, partitionBy -> [])</td><td>null</td><td>null</td><td>0619-053659-98ecxxfe-v2n</td><td>null</td><td>WriteSerializable</td><td>true</td><td>Map(numFiles -> 1, numOutputRows -> 5, numOutputBytes -> 2796)</td><td>null</td><td>Databricks-Runtime/16.4.x-photon-scala2.12</td></tr></tbody></table></div>"
      ]
     },
     "metadata": {
      "application/vnd.databricks.v1+output": {
       "addedWidgets": {},
       "aggData": [],
       "aggError": "",
       "aggOverflow": false,
       "aggSchema": [],
       "aggSeriesLimitReached": false,
       "aggType": "",
       "arguments": {},
       "columnCustomDisplayInfos": {},
       "data": [
        [
         3,
         "2025-06-19T07:37:29.000Z",
         "5873923491206719",
         "ahmedashiq2k17@gmail.com",
         "DELETE",
         {
          "predicate": "[\"(StockQty#29919 = 0.0)\"]"
         },
         null,
         null,
         "0619-053659-98ecxxfe-v2n",
         1,
         "WriteSerializable",
         false,
         {
          "conflictDetectionTimeMs": "32",
          "executionTimeMs": "155",
          "numAddedBytes": "0",
          "numAddedChangeFiles": "0",
          "numAddedFiles": "0",
          "numCopiedRows": "0",
          "numDeletedRows": "0",
          "numDeletionVectorsAdded": "0",
          "numDeletionVectorsRemoved": "0",
          "numDeletionVectorsUpdated": "0",
          "numRemovedBytes": "0",
          "numRemovedFiles": "0",
          "rewriteTimeMs": "0",
          "scanTimeMs": "155"
         },
         null,
         "Databricks-Runtime/16.4.x-photon-scala2.12"
        ],
        [
         2,
         "2025-06-19T07:37:28.000Z",
         "5873923491206719",
         "ahmedashiq2k17@gmail.com",
         "OPTIMIZE",
         {
          "auto": "true",
          "batchId": "0",
          "clusterBy": "[]",
          "predicate": "[]",
          "zOrderBy": "[]"
         },
         null,
         null,
         "0619-053659-98ecxxfe-v2n",
         1,
         "SnapshotIsolation",
         false,
         {
          "maxFileSize": "2797",
          "minFileSize": "2797",
          "numAddedBytes": "2797",
          "numAddedFiles": "1",
          "numDeletionVectorsRemoved": "1",
          "numRemovedBytes": "5274",
          "numRemovedFiles": "2",
          "p25FileSize": "2797",
          "p50FileSize": "2797",
          "p75FileSize": "2797"
         },
         null,
         "Databricks-Runtime/16.4.x-photon-scala2.12"
        ],
        [
         1,
         "2025-06-19T07:37:27.000Z",
         "5873923491206719",
         "ahmedashiq2k17@gmail.com",
         "UPDATE",
         {
          "predicate": "[\"(ItemName#29001 = Laptop)\"]"
         },
         null,
         null,
         "0619-053659-98ecxxfe-v2n",
         0,
         "WriteSerializable",
         false,
         {
          "executionTimeMs": "1126",
          "numAddedBytes": "2478",
          "numAddedChangeFiles": "0",
          "numAddedFiles": "1",
          "numCopiedRows": "0",
          "numDeletionVectorsAdded": "1",
          "numDeletionVectorsRemoved": "0",
          "numDeletionVectorsUpdated": "0",
          "numRemovedBytes": "0",
          "numRemovedFiles": "0",
          "numUpdatedRows": "1",
          "rewriteTimeMs": "594",
          "scanTimeMs": "532"
         },
         null,
         "Databricks-Runtime/16.4.x-photon-scala2.12"
        ],
        [
         0,
         "2025-06-19T07:37:25.000Z",
         "5873923491206719",
         "ahmedashiq2k17@gmail.com",
         "WRITE",
         {
          "mode": "ErrorIfExists",
          "partitionBy": "[]",
          "statsOnLoad": "false"
         },
         null,
         null,
         "0619-053659-98ecxxfe-v2n",
         null,
         "WriteSerializable",
         true,
         {
          "numFiles": "1",
          "numOutputBytes": "2796",
          "numOutputRows": "5"
         },
         null,
         "Databricks-Runtime/16.4.x-photon-scala2.12"
        ]
       ],
       "datasetInfos": [],
       "dbfsResultPath": null,
       "isJsonSchema": true,
       "metadata": {},
       "overflow": false,
       "plotOptions": {
        "customPlotOptions": {},
        "displayType": "table",
        "pivotAggregation": null,
        "pivotColumns": null,
        "xColumns": null,
        "yColumns": null
       },
       "removedWidgets": [],
       "schema": [
        {
         "metadata": "{}",
         "name": "version",
         "type": "\"long\""
        },
        {
         "metadata": "{}",
         "name": "timestamp",
         "type": "\"timestamp\""
        },
        {
         "metadata": "{}",
         "name": "userId",
         "type": "\"string\""
        },
        {
         "metadata": "{}",
         "name": "userName",
         "type": "\"string\""
        },
        {
         "metadata": "{}",
         "name": "operation",
         "type": "\"string\""
        },
        {
         "metadata": "{}",
         "name": "operationParameters",
         "type": "{\"keyType\":\"string\",\"type\":\"map\",\"valueContainsNull\":true,\"valueType\":\"string\"}"
        },
        {
         "metadata": "{}",
         "name": "job",
         "type": "{\"fields\":[{\"metadata\":{},\"name\":\"jobId\",\"nullable\":true,\"type\":\"string\"},{\"metadata\":{},\"name\":\"jobName\",\"nullable\":true,\"type\":\"string\"},{\"metadata\":{},\"name\":\"jobRunId\",\"nullable\":true,\"type\":\"string\"},{\"metadata\":{},\"name\":\"runId\",\"nullable\":true,\"type\":\"string\"},{\"metadata\":{},\"name\":\"jobOwnerId\",\"nullable\":true,\"type\":\"string\"},{\"metadata\":{},\"name\":\"triggerType\",\"nullable\":true,\"type\":\"string\"}],\"type\":\"struct\"}"
        },
        {
         "metadata": "{}",
         "name": "notebook",
         "type": "{\"fields\":[{\"metadata\":{},\"name\":\"notebookId\",\"nullable\":true,\"type\":\"string\"}],\"type\":\"struct\"}"
        },
        {
         "metadata": "{}",
         "name": "clusterId",
         "type": "\"string\""
        },
        {
         "metadata": "{}",
         "name": "readVersion",
         "type": "\"long\""
        },
        {
         "metadata": "{}",
         "name": "isolationLevel",
         "type": "\"string\""
        },
        {
         "metadata": "{}",
         "name": "isBlindAppend",
         "type": "\"boolean\""
        },
        {
         "metadata": "{}",
         "name": "operationMetrics",
         "type": "{\"keyType\":\"string\",\"type\":\"map\",\"valueContainsNull\":true,\"valueType\":\"string\"}"
        },
        {
         "metadata": "{}",
         "name": "userMetadata",
         "type": "\"string\""
        },
        {
         "metadata": "{}",
         "name": "engineInfo",
         "type": "\"string\""
        }
       ],
       "type": "table"
      }
     },
     "output_type": "display_data"
    },
    {
     "output_type": "display_data",
     "data": {
      "text/html": [
       "<style scoped>\n",
       "  .table-result-container {\n",
       "    max-height: 300px;\n",
       "    overflow: auto;\n",
       "  }\n",
       "  table, th, td {\n",
       "    border: 1px solid black;\n",
       "    border-collapse: collapse;\n",
       "  }\n",
       "  th, td {\n",
       "    padding: 5px;\n",
       "  }\n",
       "  th {\n",
       "    text-align: left;\n",
       "  }\n",
       "</style><div class='table-result-container'><table class='table-result'><thead style='background-color: white'><tr><th>ItemID</th><th>ItemName</th><th>Category</th><th>Warehouse</th><th>StockQty</th><th>ReorderLevel</th><th>LastRestocked</th><th>UnitPrice</th><th>Supplier</th><th>TotalStockValue</th></tr></thead><tbody><tr><td>I001</td><td>LED TV</td><td>Electronics</td><td>WarehouseA</td><td>50.0</td><td>20.0</td><td>2024-03-15</td><td>30000.0</td><td>AVTech</td><td>1500000.0</td></tr><tr><td>I002</td><td>Laptop</td><td>Electronics</td><td>WarehouseB</td><td>10.0</td><td>15.0</td><td>2024-04-01</td><td>70000.0</td><td>TechWorld</td><td>700000.0</td></tr><tr><td>I003</td><td>Office Chair</td><td>Furniture</td><td>WarehouseA</td><td>40.0</td><td>10.0</td><td>2024-03-25</td><td>6000.0</td><td>ChairCo</td><td>240000.0</td></tr><tr><td>I004</td><td>Refrigerator</td><td>Appliances</td><td>WarehouseC</td><td>5.0</td><td>10.0</td><td>2024-02-20</td><td>25000.0</td><td>FreezeIt</td><td>125000.0</td></tr><tr><td>I005</td><td>Printer</td><td>Electronics</td><td>WarehouseB</td><td>3.0</td><td>5.0</td><td>2024-03-30</td><td>8000.0</td><td>PrintFast</td><td>24000.0</td></tr></tbody></table></div>"
      ]
     },
     "metadata": {
      "application/vnd.databricks.v1+output": {
       "addedWidgets": {},
       "aggData": [],
       "aggError": "",
       "aggOverflow": false,
       "aggSchema": [],
       "aggSeriesLimitReached": false,
       "aggType": "",
       "arguments": {},
       "columnCustomDisplayInfos": {},
       "data": [
        [
         "I001",
         "LED TV",
         "Electronics",
         "WarehouseA",
         50.0,
         20.0,
         "2024-03-15",
         30000.0,
         "AVTech",
         1500000.0
        ],
        [
         "I002",
         "Laptop",
         "Electronics",
         "WarehouseB",
         10.0,
         15.0,
         "2024-04-01",
         70000.0,
         "TechWorld",
         700000.0
        ],
        [
         "I003",
         "Office Chair",
         "Furniture",
         "WarehouseA",
         40.0,
         10.0,
         "2024-03-25",
         6000.0,
         "ChairCo",
         240000.0
        ],
        [
         "I004",
         "Refrigerator",
         "Appliances",
         "WarehouseC",
         5.0,
         10.0,
         "2024-02-20",
         25000.0,
         "FreezeIt",
         125000.0
        ],
        [
         "I005",
         "Printer",
         "Electronics",
         "WarehouseB",
         3.0,
         5.0,
         "2024-03-30",
         8000.0,
         "PrintFast",
         24000.0
        ]
       ],
       "datasetInfos": [],
       "dbfsResultPath": null,
       "isJsonSchema": true,
       "metadata": {},
       "overflow": false,
       "plotOptions": {
        "customPlotOptions": {},
        "displayType": "table",
        "pivotAggregation": null,
        "pivotColumns": null,
        "xColumns": null,
        "yColumns": null
       },
       "removedWidgets": [],
       "schema": [
        {
         "metadata": "{}",
         "name": "ItemID",
         "type": "\"string\""
        },
        {
         "metadata": "{}",
         "name": "ItemName",
         "type": "\"string\""
        },
        {
         "metadata": "{}",
         "name": "Category",
         "type": "\"string\""
        },
        {
         "metadata": "{}",
         "name": "Warehouse",
         "type": "\"string\""
        },
        {
         "metadata": "{}",
         "name": "StockQty",
         "type": "\"float\""
        },
        {
         "metadata": "{}",
         "name": "ReorderLevel",
         "type": "\"float\""
        },
        {
         "metadata": "{}",
         "name": "LastRestocked",
         "type": "\"date\""
        },
        {
         "metadata": "{}",
         "name": "UnitPrice",
         "type": "\"float\""
        },
        {
         "metadata": "{}",
         "name": "Supplier",
         "type": "\"string\""
        },
        {
         "metadata": "{}",
         "name": "TotalStockValue",
         "type": "\"float\""
        }
       ],
       "type": "table"
      }
     },
     "output_type": "display_data"
    }
   ],
   "source": [
    "from delta.tables import DeltaTable\n",
    "delta_table = DeltaTable.forPath(spark, \"/Volumes/workspace/default/shared/retail_inventory\")\n",
    "\n",
    "# 1. Save as Delta table\n",
    "inventory_df.write.format(\"delta\").save(\"/Volumes/workspace/default/shared/retail_inventory\")\n",
    "\n",
    "#2. Update stock of 'Laptop' to 20.\n",
    "delta_table.update(condition = \"ItemName = 'Laptop'\",set = {\"StockQty\": \"20\"})\n",
    "\n",
    "# 3. Delete any item with StockQty = 0 .\n",
    "delta_table.delete(\"StockQty = 0\")\n",
    "\n",
    "#4. Run DESCRIBE HISTORY and query VERSION AS OF previous state.\n",
    "display(delta_table.history())\n",
    "previous_version = spark.read.format(\"delta\") \\\n",
    "    .option(\"versionAsOf\", 0) \\\n",
    "    .load(\"/Volumes/workspace/default/shared/retail_inventory\")\n",
    "display(previous_version)"
   ]
  },
  {
   "cell_type": "markdown",
   "metadata": {
    "application/vnd.databricks.v1+cell": {
     "cellMetadata": {},
     "inputWidgets": {},
     "nuid": "c53d57d4-6f4b-41ea-b8f6-96cd37737fb5",
     "showTitle": false,
     "tableResultSettingsMap": {},
     "title": ""
    }
   },
   "source": [
    "Scenario 6: Alerts from Restock Logs"
   ]
  },
  {
   "cell_type": "code",
   "execution_count": 0,
   "metadata": {
    "application/vnd.databricks.v1+cell": {
     "cellMetadata": {
      "byteLimit": 2048000,
      "rowLimit": 10000
     },
     "inputWidgets": {},
     "nuid": "bbb2ce3b-e78f-4715-9f64-752c157ae63e",
     "showTitle": false,
     "tableResultSettingsMap": {},
     "title": ""
    }
   },
   "outputs": [
    {
     "output_type": "display_data",
     "data": {
      "text/html": [
       "<style scoped>\n",
       "  .table-result-container {\n",
       "    max-height: 300px;\n",
       "    overflow: auto;\n",
       "  }\n",
       "  table, th, td {\n",
       "    border: 1px solid black;\n",
       "    border-collapse: collapse;\n",
       "  }\n",
       "  th, td {\n",
       "    padding: 5px;\n",
       "  }\n",
       "  th {\n",
       "    text-align: left;\n",
       "  }\n",
       "</style><div class='table-result-container'><table class='table-result'><thead style='background-color: white'><tr><th>ItemID</th><th>ItemName</th><th>Category</th><th>Warehouse</th><th>StockQty</th><th>ReorderLevel</th><th>LastRestocked</th><th>UnitPrice</th><th>Supplier</th><th>TotalStockValue</th><th>RestockDate</th><th>QuantityAdded</th><th>NewStockQty</th><th>RestockedRecently</th></tr></thead><tbody><tr><td>I001</td><td>LED TV</td><td>Electronics</td><td>WarehouseA</td><td>50.0</td><td>20.0</td><td>2024-03-15</td><td>30000.0</td><td>AVTech</td><td>1500000.0</td><td>2024-04-25</td><td>20</td><td>70.0</td><td>true</td></tr><tr><td>I002</td><td>Laptop</td><td>Electronics</td><td>WarehouseB</td><td>10.0</td><td>15.0</td><td>2024-04-01</td><td>70000.0</td><td>TechWorld</td><td>700000.0</td><td>2024-04-20</td><td>10</td><td>20.0</td><td>true</td></tr><tr><td>I005</td><td>Printer</td><td>Electronics</td><td>WarehouseB</td><td>3.0</td><td>5.0</td><td>2024-03-30</td><td>8000.0</td><td>PrintFast</td><td>24000.0</td><td>2024-04-22</td><td>5</td><td>8.0</td><td>true</td></tr></tbody></table></div>"
      ]
     },
     "metadata": {
      "application/vnd.databricks.v1+output": {
       "addedWidgets": {},
       "aggData": [],
       "aggError": "",
       "aggOverflow": false,
       "aggSchema": [],
       "aggSeriesLimitReached": false,
       "aggType": "",
       "arguments": {},
       "columnCustomDisplayInfos": {},
       "data": [
        [
         "I001",
         "LED TV",
         "Electronics",
         "WarehouseA",
         50.0,
         20.0,
         "2024-03-15",
         30000.0,
         "AVTech",
         1500000.0,
         "2024-04-25",
         "20",
         70.0,
         true
        ],
        [
         "I002",
         "Laptop",
         "Electronics",
         "WarehouseB",
         10.0,
         15.0,
         "2024-04-01",
         70000.0,
         "TechWorld",
         700000.0,
         "2024-04-20",
         "10",
         20.0,
         true
        ],
        [
         "I005",
         "Printer",
         "Electronics",
         "WarehouseB",
         3.0,
         5.0,
         "2024-03-30",
         8000.0,
         "PrintFast",
         24000.0,
         "2024-04-22",
         "5",
         8.0,
         true
        ]
       ],
       "datasetInfos": [],
       "dbfsResultPath": null,
       "isJsonSchema": true,
       "metadata": {},
       "overflow": false,
       "plotOptions": {
        "customPlotOptions": {},
        "displayType": "table",
        "pivotAggregation": null,
        "pivotColumns": null,
        "xColumns": null,
        "yColumns": null
       },
       "removedWidgets": [],
       "schema": [
        {
         "metadata": "{}",
         "name": "ItemID",
         "type": "\"string\""
        },
        {
         "metadata": "{}",
         "name": "ItemName",
         "type": "\"string\""
        },
        {
         "metadata": "{}",
         "name": "Category",
         "type": "\"string\""
        },
        {
         "metadata": "{}",
         "name": "Warehouse",
         "type": "\"string\""
        },
        {
         "metadata": "{}",
         "name": "StockQty",
         "type": "\"float\""
        },
        {
         "metadata": "{}",
         "name": "ReorderLevel",
         "type": "\"float\""
        },
        {
         "metadata": "{}",
         "name": "LastRestocked",
         "type": "\"date\""
        },
        {
         "metadata": "{}",
         "name": "UnitPrice",
         "type": "\"float\""
        },
        {
         "metadata": "{}",
         "name": "Supplier",
         "type": "\"string\""
        },
        {
         "metadata": "{}",
         "name": "TotalStockValue",
         "type": "\"float\""
        },
        {
         "metadata": "{}",
         "name": "RestockDate",
         "type": "\"string\""
        },
        {
         "metadata": "{}",
         "name": "QuantityAdded",
         "type": "\"string\""
        },
        {
         "metadata": "{}",
         "name": "NewStockQty",
         "type": "\"double\""
        },
        {
         "metadata": "{}",
         "name": "RestockedRecently",
         "type": "\"boolean\""
        }
       ],
       "type": "table"
      }
     },
     "output_type": "display_data"
    },
    {
     "output_type": "display_data",
     "data": {
      "text/html": [
       "<style scoped>\n",
       "  .table-result-container {\n",
       "    max-height: 300px;\n",
       "    overflow: auto;\n",
       "  }\n",
       "  table, th, td {\n",
       "    border: 1px solid black;\n",
       "    border-collapse: collapse;\n",
       "  }\n",
       "  th, td {\n",
       "    padding: 5px;\n",
       "  }\n",
       "  th {\n",
       "    text-align: left;\n",
       "  }\n",
       "</style><div class='table-result-container'><table class='table-result'><thead style='background-color: white'><tr><th>ItemID</th><th>ItemName</th><th>Category</th><th>Warehouse</th><th>StockQty</th><th>ReorderLevel</th><th>LastRestocked</th><th>UnitPrice</th><th>Supplier</th><th>TotalStockValue</th></tr></thead><tbody><tr><td>I003</td><td>Office Chair</td><td>Furniture</td><td>WarehouseA</td><td>40.0</td><td>10.0</td><td>2024-03-25</td><td>6000.0</td><td>ChairCo</td><td>240000.0</td></tr><tr><td>I004</td><td>Refrigerator</td><td>Appliances</td><td>WarehouseC</td><td>5.0</td><td>10.0</td><td>2024-02-20</td><td>25000.0</td><td>FreezeIt</td><td>125000.0</td></tr><tr><td>I002</td><td>Laptop</td><td>Electronics</td><td>WarehouseB</td><td>20.0</td><td>15.0</td><td>2025-06-19</td><td>70000.0</td><td>TechWorld</td><td>700000.0</td></tr><tr><td>I001</td><td>LED TV</td><td>Electronics</td><td>WarehouseA</td><td>70.0</td><td>20.0</td><td>2025-06-19</td><td>30000.0</td><td>AVTech</td><td>1500000.0</td></tr><tr><td>I005</td><td>Printer</td><td>Electronics</td><td>WarehouseB</td><td>8.0</td><td>5.0</td><td>2025-06-19</td><td>8000.0</td><td>PrintFast</td><td>24000.0</td></tr></tbody></table></div>"
      ]
     },
     "metadata": {
      "application/vnd.databricks.v1+output": {
       "addedWidgets": {},
       "aggData": [],
       "aggError": "",
       "aggOverflow": false,
       "aggSchema": [],
       "aggSeriesLimitReached": false,
       "aggType": "",
       "arguments": {},
       "columnCustomDisplayInfos": {},
       "data": [
        [
         "I003",
         "Office Chair",
         "Furniture",
         "WarehouseA",
         40.0,
         10.0,
         "2024-03-25",
         6000.0,
         "ChairCo",
         240000.0
        ],
        [
         "I004",
         "Refrigerator",
         "Appliances",
         "WarehouseC",
         5.0,
         10.0,
         "2024-02-20",
         25000.0,
         "FreezeIt",
         125000.0
        ],
        [
         "I002",
         "Laptop",
         "Electronics",
         "WarehouseB",
         20.0,
         15.0,
         "2025-06-19",
         70000.0,
         "TechWorld",
         700000.0
        ],
        [
         "I001",
         "LED TV",
         "Electronics",
         "WarehouseA",
         70.0,
         20.0,
         "2025-06-19",
         30000.0,
         "AVTech",
         1500000.0
        ],
        [
         "I005",
         "Printer",
         "Electronics",
         "WarehouseB",
         8.0,
         5.0,
         "2025-06-19",
         8000.0,
         "PrintFast",
         24000.0
        ]
       ],
       "datasetInfos": [],
       "dbfsResultPath": null,
       "isJsonSchema": true,
       "metadata": {},
       "overflow": false,
       "plotOptions": {
        "customPlotOptions": {},
        "displayType": "table",
        "pivotAggregation": null,
        "pivotColumns": null,
        "xColumns": null,
        "yColumns": null
       },
       "removedWidgets": [],
       "schema": [
        {
         "metadata": "{}",
         "name": "ItemID",
         "type": "\"string\""
        },
        {
         "metadata": "{}",
         "name": "ItemName",
         "type": "\"string\""
        },
        {
         "metadata": "{}",
         "name": "Category",
         "type": "\"string\""
        },
        {
         "metadata": "{}",
         "name": "Warehouse",
         "type": "\"string\""
        },
        {
         "metadata": "{}",
         "name": "StockQty",
         "type": "\"float\""
        },
        {
         "metadata": "{}",
         "name": "ReorderLevel",
         "type": "\"float\""
        },
        {
         "metadata": "{}",
         "name": "LastRestocked",
         "type": "\"date\""
        },
        {
         "metadata": "{}",
         "name": "UnitPrice",
         "type": "\"float\""
        },
        {
         "metadata": "{}",
         "name": "Supplier",
         "type": "\"string\""
        },
        {
         "metadata": "{}",
         "name": "TotalStockValue",
         "type": "\"float\""
        }
       ],
       "type": "table"
      }
     },
     "output_type": "display_data"
    }
   ],
   "source": [
    "restock_logs = spark.read.option(\"header\", True).csv(\"/Volumes/workspace/default/shared/restock_logs.csv\")\n",
    "\n",
    "#1. Join with inventory table to update StockQty.\n",
    "restocked_items = inventory_df.join(restock_logs, \"ItemID\") \\\n",
    "    .withColumn(\"NewStockQty\", col(\"StockQty\") + col(\"QuantityAdded\")) \\\n",
    "    .withColumn(\"RestockedRecently\", lit(True))\n",
    "display(restocked_items)\n",
    "\n",
    "#2. Calculate new stock and flag RestockedRecently = true for updated items.\n",
    "#3. Use MERGE INTO to update in Delta.\n",
    "delta_table.alias(\"target\").merge(restocked_items.alias(\"source\"),\"target.ItemID = source.ItemID\") \\\n",
    ".whenMatchedUpdate(set = {\"StockQty\": \"source.NewStockQty\",\"LastRestocked\": \"current_date()\"}).execute()\n",
    "\n",
    "display(delta_table.toDF())"
   ]
  },
  {
   "cell_type": "markdown",
   "metadata": {
    "application/vnd.databricks.v1+cell": {
     "cellMetadata": {},
     "inputWidgets": {},
     "nuid": "9a8fe8db-5299-4b03-8a68-4006ed81ade0",
     "showTitle": false,
     "tableResultSettingsMap": {},
     "title": ""
    }
   },
   "source": [
    "Scenario 7: Report Generation with SQL Views"
   ]
  },
  {
   "cell_type": "code",
   "execution_count": 0,
   "metadata": {
    "application/vnd.databricks.v1+cell": {
     "cellMetadata": {
      "byteLimit": 2048000,
      "rowLimit": 10000
     },
     "inputWidgets": {},
     "nuid": "f471f9b2-e6df-4388-8c73-5c2268580270",
     "showTitle": false,
     "tableResultSettingsMap": {},
     "title": ""
    }
   },
   "outputs": [
    {
     "output_type": "display_data",
     "data": {
      "text/html": [
       "<style scoped>\n",
       "  .table-result-container {\n",
       "    max-height: 300px;\n",
       "    overflow: auto;\n",
       "  }\n",
       "  table, th, td {\n",
       "    border: 1px solid black;\n",
       "    border-collapse: collapse;\n",
       "  }\n",
       "  th, td {\n",
       "    padding: 5px;\n",
       "  }\n",
       "  th {\n",
       "    text-align: left;\n",
       "  }\n",
       "</style><div class='table-result-container'><table class='table-result'><thead style='background-color: white'><tr><th>itemname</th><th>category</th><th>stockqty</th><th>needsreorder</th><th>totalstockvalue</th></tr></thead><tbody><tr><td>LED TV</td><td>Electronics</td><td>50.0</td><td>false</td><td>1500000.0</td></tr><tr><td>Laptop</td><td>Electronics</td><td>10.0</td><td>true</td><td>700000.0</td></tr><tr><td>Office Chair</td><td>Furniture</td><td>40.0</td><td>false</td><td>240000.0</td></tr><tr><td>Refrigerator</td><td>Appliances</td><td>5.0</td><td>true</td><td>125000.0</td></tr><tr><td>Printer</td><td>Electronics</td><td>3.0</td><td>true</td><td>24000.0</td></tr></tbody></table></div>"
      ]
     },
     "metadata": {
      "application/vnd.databricks.v1+output": {
       "addedWidgets": {},
       "aggData": [],
       "aggError": "",
       "aggOverflow": false,
       "aggSchema": [],
       "aggSeriesLimitReached": false,
       "aggType": "",
       "arguments": {},
       "columnCustomDisplayInfos": {},
       "data": [
        [
         "LED TV",
         "Electronics",
         50.0,
         false,
         1500000.0
        ],
        [
         "Laptop",
         "Electronics",
         10.0,
         true,
         700000.0
        ],
        [
         "Office Chair",
         "Furniture",
         40.0,
         false,
         240000.0
        ],
        [
         "Refrigerator",
         "Appliances",
         5.0,
         true,
         125000.0
        ],
        [
         "Printer",
         "Electronics",
         3.0,
         true,
         24000.0
        ]
       ],
       "datasetInfos": [],
       "dbfsResultPath": null,
       "isJsonSchema": true,
       "metadata": {},
       "overflow": false,
       "plotOptions": {
        "customPlotOptions": {},
        "displayType": "table",
        "pivotAggregation": null,
        "pivotColumns": null,
        "xColumns": null,
        "yColumns": null
       },
       "removedWidgets": [],
       "schema": [
        {
         "metadata": "{}",
         "name": "itemname",
         "type": "\"string\""
        },
        {
         "metadata": "{}",
         "name": "category",
         "type": "\"string\""
        },
        {
         "metadata": "{}",
         "name": "stockqty",
         "type": "\"float\""
        },
        {
         "metadata": "{}",
         "name": "needsreorder",
         "type": "\"boolean\""
        },
        {
         "metadata": "{}",
         "name": "totalstockvalue",
         "type": "\"float\""
        }
       ],
       "type": "table"
      }
     },
     "output_type": "display_data"
    },
    {
     "output_type": "display_data",
     "data": {
      "text/html": [
       "<style scoped>\n",
       "  .table-result-container {\n",
       "    max-height: 300px;\n",
       "    overflow: auto;\n",
       "  }\n",
       "  table, th, td {\n",
       "    border: 1px solid black;\n",
       "    border-collapse: collapse;\n",
       "  }\n",
       "  th, td {\n",
       "    padding: 5px;\n",
       "  }\n",
       "  th {\n",
       "    text-align: left;\n",
       "  }\n",
       "</style><div class='table-result-container'><table class='table-result'><thead style='background-color: white'><tr><th>supplier</th><th>avgprice</th><th>itemssupplied</th></tr></thead><tbody><tr><td>TechWorld</td><td>70000.0</td><td>1</td></tr><tr><td>AVTech</td><td>30000.0</td><td>1</td></tr><tr><td>FreezeIt</td><td>25000.0</td><td>1</td></tr><tr><td>PrintFast</td><td>8000.0</td><td>1</td></tr><tr><td>ChairCo</td><td>6000.0</td><td>1</td></tr></tbody></table></div>"
      ]
     },
     "metadata": {
      "application/vnd.databricks.v1+output": {
       "addedWidgets": {},
       "aggData": [],
       "aggError": "",
       "aggOverflow": false,
       "aggSchema": [],
       "aggSeriesLimitReached": false,
       "aggType": "",
       "arguments": {},
       "columnCustomDisplayInfos": {},
       "data": [
        [
         "TechWorld",
         70000.0,
         1
        ],
        [
         "AVTech",
         30000.0,
         1
        ],
        [
         "FreezeIt",
         25000.0,
         1
        ],
        [
         "PrintFast",
         8000.0,
         1
        ],
        [
         "ChairCo",
         6000.0,
         1
        ]
       ],
       "datasetInfos": [],
       "dbfsResultPath": null,
       "isJsonSchema": true,
       "metadata": {},
       "overflow": false,
       "plotOptions": {
        "customPlotOptions": {},
        "displayType": "table",
        "pivotAggregation": null,
        "pivotColumns": null,
        "xColumns": null,
        "yColumns": null
       },
       "removedWidgets": [],
       "schema": [
        {
         "metadata": "{}",
         "name": "supplier",
         "type": "\"string\""
        },
        {
         "metadata": "{}",
         "name": "avgprice",
         "type": "\"double\""
        },
        {
         "metadata": "{}",
         "name": "itemssupplied",
         "type": "\"long\""
        }
       ],
       "type": "table"
      }
     },
     "output_type": "display_data"
    }
   ],
   "source": [
    "#1. Create SQL view inventory_summary with:\n",
    "inventory_df.createOrReplaceTempView(\"inventory_view\")\n",
    "##ItemName, Category, StockQty, NeedsReorder, TotalStockValue\n",
    "spark.sql(\"\"\"create or replace temp view inventory_summary as\n",
    "select itemname,category,stockqty,(stockqty < reorderlevel) as needsreorder,(stockqty * unitprice) as totalstockvalue\n",
    "from inventory_view\"\"\")\n",
    "\n",
    "#2. Create view supplier_leaderboard sorted by average price\n",
    "spark.sql(\"\"\"create or replace temp view supplier_leaderboard as\n",
    "select supplier,avg(unitprice) as avgprice,count(*) as itemssupplied\n",
    "from inventory_view\n",
    "group by supplier\n",
    "order by avgprice desc\"\"\")\n",
    "\n",
    "display(spark.sql(\"select * from inventory_summary\"))\n",
    "display(spark.sql(\"select * from supplier_leaderboard\"))"
   ]
  },
  {
   "cell_type": "markdown",
   "metadata": {
    "application/vnd.databricks.v1+cell": {
     "cellMetadata": {},
     "inputWidgets": {},
     "nuid": "829e2b24-e8d5-474b-a299-e3577211e7d8",
     "showTitle": false,
     "tableResultSettingsMap": {},
     "title": ""
    }
   },
   "source": [
    "Scenario 8: Advanced Filtering"
   ]
  },
  {
   "cell_type": "code",
   "execution_count": 0,
   "metadata": {
    "application/vnd.databricks.v1+cell": {
     "cellMetadata": {
      "byteLimit": 2048000,
      "rowLimit": 10000
     },
     "inputWidgets": {},
     "nuid": "833c5dd2-ad32-4d42-b7fa-050a2aef8b32",
     "showTitle": false,
     "tableResultSettingsMap": {},
     "title": ""
    }
   },
   "outputs": [
    {
     "output_type": "display_data",
     "data": {
      "text/html": [
       "<style scoped>\n",
       "  .table-result-container {\n",
       "    max-height: 300px;\n",
       "    overflow: auto;\n",
       "  }\n",
       "  table, th, td {\n",
       "    border: 1px solid black;\n",
       "    border-collapse: collapse;\n",
       "  }\n",
       "  th, td {\n",
       "    padding: 5px;\n",
       "  }\n",
       "  th {\n",
       "    text-align: left;\n",
       "  }\n",
       "</style><div class='table-result-container'><table class='table-result'><thead style='background-color: white'><tr><th>ItemID</th><th>ItemName</th><th>Category</th><th>Warehouse</th><th>StockQty</th><th>ReorderLevel</th><th>LastRestocked</th><th>UnitPrice</th><th>Supplier</th><th>TotalStockValue</th><th>StockStatus</th></tr></thead><tbody><tr><td>I002</td><td>Laptop</td><td>Electronics</td><td>WarehouseB</td><td>10.0</td><td>15.0</td><td>2024-04-01</td><td>70000.0</td><td>TechWorld</td><td>700000.0</td><td>LowStock</td></tr><tr><td>I004</td><td>Refrigerator</td><td>Appliances</td><td>WarehouseC</td><td>5.0</td><td>10.0</td><td>2024-02-20</td><td>25000.0</td><td>FreezeIt</td><td>125000.0</td><td>LowStock</td></tr><tr><td>I005</td><td>Printer</td><td>Electronics</td><td>WarehouseB</td><td>3.0</td><td>5.0</td><td>2024-03-30</td><td>8000.0</td><td>PrintFast</td><td>24000.0</td><td>LowStock</td></tr></tbody></table></div>"
      ]
     },
     "metadata": {
      "application/vnd.databricks.v1+output": {
       "addedWidgets": {},
       "aggData": [],
       "aggError": "",
       "aggOverflow": false,
       "aggSchema": [],
       "aggSeriesLimitReached": false,
       "aggType": "",
       "arguments": {},
       "columnCustomDisplayInfos": {},
       "data": [
        [
         "I002",
         "Laptop",
         "Electronics",
         "WarehouseB",
         10.0,
         15.0,
         "2024-04-01",
         70000.0,
         "TechWorld",
         700000.0,
         "LowStock"
        ],
        [
         "I004",
         "Refrigerator",
         "Appliances",
         "WarehouseC",
         5.0,
         10.0,
         "2024-02-20",
         25000.0,
         "FreezeIt",
         125000.0,
         "LowStock"
        ],
        [
         "I005",
         "Printer",
         "Electronics",
         "WarehouseB",
         3.0,
         5.0,
         "2024-03-30",
         8000.0,
         "PrintFast",
         24000.0,
         "LowStock"
        ]
       ],
       "datasetInfos": [],
       "dbfsResultPath": null,
       "isJsonSchema": true,
       "metadata": {},
       "overflow": false,
       "plotOptions": {
        "customPlotOptions": {},
        "displayType": "table",
        "pivotAggregation": null,
        "pivotColumns": null,
        "xColumns": null,
        "yColumns": null
       },
       "removedWidgets": [],
       "schema": [
        {
         "metadata": "{}",
         "name": "ItemID",
         "type": "\"string\""
        },
        {
         "metadata": "{}",
         "name": "ItemName",
         "type": "\"string\""
        },
        {
         "metadata": "{}",
         "name": "Category",
         "type": "\"string\""
        },
        {
         "metadata": "{}",
         "name": "Warehouse",
         "type": "\"string\""
        },
        {
         "metadata": "{}",
         "name": "StockQty",
         "type": "\"float\""
        },
        {
         "metadata": "{}",
         "name": "ReorderLevel",
         "type": "\"float\""
        },
        {
         "metadata": "{}",
         "name": "LastRestocked",
         "type": "\"date\""
        },
        {
         "metadata": "{}",
         "name": "UnitPrice",
         "type": "\"float\""
        },
        {
         "metadata": "{}",
         "name": "Supplier",
         "type": "\"string\""
        },
        {
         "metadata": "{}",
         "name": "TotalStockValue",
         "type": "\"float\""
        },
        {
         "metadata": "{}",
         "name": "StockStatus",
         "type": "\"string\""
        }
       ],
       "type": "table"
      }
     },
     "output_type": "display_data"
    },
    {
     "output_type": "display_data",
     "data": {
      "text/html": [
       "<style scoped>\n",
       "  .table-result-container {\n",
       "    max-height: 300px;\n",
       "    overflow: auto;\n",
       "  }\n",
       "  table, th, td {\n",
       "    border: 1px solid black;\n",
       "    border-collapse: collapse;\n",
       "  }\n",
       "  th, td {\n",
       "    padding: 5px;\n",
       "  }\n",
       "  th {\n",
       "    text-align: left;\n",
       "  }\n",
       "</style><div class='table-result-container'><table class='table-result'><thead style='background-color: white'><tr><th>ItemID</th><th>ItemName</th><th>Category</th><th>Warehouse</th><th>StockQty</th><th>ReorderLevel</th><th>LastRestocked</th><th>UnitPrice</th><th>Supplier</th><th>TotalStockValue</th><th>StockStatus</th></tr></thead><tbody><tr><td>I002</td><td>Laptop</td><td>Electronics</td><td>WarehouseB</td><td>10.0</td><td>15.0</td><td>2024-04-01</td><td>70000.0</td><td>TechWorld</td><td>700000.0</td><td>LowStock</td></tr><tr><td>I004</td><td>Refrigerator</td><td>Appliances</td><td>WarehouseC</td><td>5.0</td><td>10.0</td><td>2024-02-20</td><td>25000.0</td><td>FreezeIt</td><td>125000.0</td><td>LowStock</td></tr><tr><td>I005</td><td>Printer</td><td>Electronics</td><td>WarehouseB</td><td>3.0</td><td>5.0</td><td>2024-03-30</td><td>8000.0</td><td>PrintFast</td><td>24000.0</td><td>LowStock</td></tr></tbody></table></div>"
      ]
     },
     "metadata": {
      "application/vnd.databricks.v1+output": {
       "addedWidgets": {},
       "aggData": [],
       "aggError": "",
       "aggOverflow": false,
       "aggSchema": [],
       "aggSeriesLimitReached": false,
       "aggType": "",
       "arguments": {},
       "columnCustomDisplayInfos": {},
       "data": [
        [
         "I002",
         "Laptop",
         "Electronics",
         "WarehouseB",
         10.0,
         15.0,
         "2024-04-01",
         70000.0,
         "TechWorld",
         700000.0,
         "LowStock"
        ],
        [
         "I004",
         "Refrigerator",
         "Appliances",
         "WarehouseC",
         5.0,
         10.0,
         "2024-02-20",
         25000.0,
         "FreezeIt",
         125000.0,
         "LowStock"
        ],
        [
         "I005",
         "Printer",
         "Electronics",
         "WarehouseB",
         3.0,
         5.0,
         "2024-03-30",
         8000.0,
         "PrintFast",
         24000.0,
         "LowStock"
        ]
       ],
       "datasetInfos": [],
       "dbfsResultPath": null,
       "isJsonSchema": true,
       "metadata": {},
       "overflow": false,
       "plotOptions": {
        "customPlotOptions": {},
        "displayType": "table",
        "pivotAggregation": null,
        "pivotColumns": null,
        "xColumns": null,
        "yColumns": null
       },
       "removedWidgets": [],
       "schema": [
        {
         "metadata": "{}",
         "name": "ItemID",
         "type": "\"string\""
        },
        {
         "metadata": "{}",
         "name": "ItemName",
         "type": "\"string\""
        },
        {
         "metadata": "{}",
         "name": "Category",
         "type": "\"string\""
        },
        {
         "metadata": "{}",
         "name": "Warehouse",
         "type": "\"string\""
        },
        {
         "metadata": "{}",
         "name": "StockQty",
         "type": "\"float\""
        },
        {
         "metadata": "{}",
         "name": "ReorderLevel",
         "type": "\"float\""
        },
        {
         "metadata": "{}",
         "name": "LastRestocked",
         "type": "\"date\""
        },
        {
         "metadata": "{}",
         "name": "UnitPrice",
         "type": "\"float\""
        },
        {
         "metadata": "{}",
         "name": "Supplier",
         "type": "\"string\""
        },
        {
         "metadata": "{}",
         "name": "TotalStockValue",
         "type": "\"float\""
        },
        {
         "metadata": "{}",
         "name": "StockStatus",
         "type": "\"string\""
        }
       ],
       "type": "table"
      }
     },
     "output_type": "display_data"
    }
   ],
   "source": [
    "#1. Use when / otherwise to categorize items:\n",
    "##\"Overstocked\" (>2x ReorderLevel)\n",
    "##\"LowStock\"\n",
    "inventory_df = inventory_df.withColumn(\"StockStatus\",when(col(\"StockQty\") > 2 * col(\"ReorderLevel\"), \"Overstocked\").when(col(\"StockQty\") < col(\"ReorderLevel\"), \"LowStock\").otherwise(\"Normal\"))\n",
    "\n",
    "#2. Use .filter() and .where() for the same and compare.\n",
    "filter_result = inventory_df.filter(col(\"StockStatus\") == \"LowStock\")\n",
    "where_result = inventory_df.where(col(\"StockStatus\") == \"LowStock\")\n",
    "\n",
    "display(filter_result)\n",
    "display(where_result)"
   ]
  },
  {
   "cell_type": "markdown",
   "metadata": {
    "application/vnd.databricks.v1+cell": {
     "cellMetadata": {},
     "inputWidgets": {},
     "nuid": "5bdf72f6-982c-4340-9a90-7cd4a07d29a0",
     "showTitle": false,
     "tableResultSettingsMap": {},
     "title": ""
    }
   },
   "source": [
    "Scenario 9: Feature Engineering"
   ]
  },
  {
   "cell_type": "code",
   "execution_count": 0,
   "metadata": {
    "application/vnd.databricks.v1+cell": {
     "cellMetadata": {
      "byteLimit": 2048000,
      "rowLimit": 10000
     },
     "inputWidgets": {},
     "nuid": "63270e72-fd09-438a-bf13-c966f250a314",
     "showTitle": false,
     "tableResultSettingsMap": {},
     "title": ""
    }
   },
   "outputs": [
    {
     "output_type": "display_data",
     "data": {
      "text/html": [
       "<style scoped>\n",
       "  .table-result-container {\n",
       "    max-height: 300px;\n",
       "    overflow: auto;\n",
       "  }\n",
       "  table, th, td {\n",
       "    border: 1px solid black;\n",
       "    border-collapse: collapse;\n",
       "  }\n",
       "  th, td {\n",
       "    padding: 5px;\n",
       "  }\n",
       "  th {\n",
       "    text-align: left;\n",
       "  }\n",
       "</style><div class='table-result-container'><table class='table-result'><thead style='background-color: white'><tr><th>ItemName</th><th>StockAge</th><th>StockFreshness</th></tr></thead><tbody><tr><td>LED TV</td><td>461</td><td>Stale</td></tr><tr><td>Laptop</td><td>444</td><td>Stale</td></tr><tr><td>Office Chair</td><td>451</td><td>Stale</td></tr><tr><td>Refrigerator</td><td>485</td><td>Stale</td></tr><tr><td>Printer</td><td>446</td><td>Stale</td></tr></tbody></table></div>"
      ]
     },
     "metadata": {
      "application/vnd.databricks.v1+output": {
       "addedWidgets": {},
       "aggData": [],
       "aggError": "",
       "aggOverflow": false,
       "aggSchema": [],
       "aggSeriesLimitReached": false,
       "aggType": "",
       "arguments": {},
       "columnCustomDisplayInfos": {},
       "data": [
        [
         "LED TV",
         461,
         "Stale"
        ],
        [
         "Laptop",
         444,
         "Stale"
        ],
        [
         "Office Chair",
         451,
         "Stale"
        ],
        [
         "Refrigerator",
         485,
         "Stale"
        ],
        [
         "Printer",
         446,
         "Stale"
        ]
       ],
       "datasetInfos": [],
       "dbfsResultPath": null,
       "isJsonSchema": true,
       "metadata": {},
       "overflow": false,
       "plotOptions": {
        "customPlotOptions": {},
        "displayType": "table",
        "pivotAggregation": null,
        "pivotColumns": null,
        "xColumns": null,
        "yColumns": null
       },
       "removedWidgets": [],
       "schema": [
        {
         "metadata": "{}",
         "name": "ItemName",
         "type": "\"string\""
        },
        {
         "metadata": "{}",
         "name": "StockAge",
         "type": "\"integer\""
        },
        {
         "metadata": "{}",
         "name": "StockFreshness",
         "type": "\"string\""
        }
       ],
       "type": "table"
      }
     },
     "output_type": "display_data"
    }
   ],
   "source": [
    "from pyspark.sql.functions import datediff, current_date\n",
    "\n",
    "#1. Extract RestockMonth from LastRestocked .\n",
    "inventory_df = inventory_df.withColumn(\"RestockMonth\", month(col(\"LastRestocked\")))\n",
    "\n",
    "#2. Create feature: StockAge = CURRENT_DATE - LastRestocked\n",
    "inventory_df = inventory_df.withColumn(\"StockAge\", datediff(current_date(), col(\"LastRestocked\")))\n",
    "\n",
    "#3. Bucket StockAge into: New, Moderate, Stale\n",
    "inventory_df = inventory_df.withColumn(\"StockFreshness\",when(col(\"StockAge\") < 30, \"New\").when(col(\"StockAge\") < 90, \"Moderate\").otherwise(\"Stale\"))\n",
    "\n",
    "display(inventory_df.select(\"ItemName\", \"StockAge\", \"StockFreshness\"))"
   ]
  },
  {
   "cell_type": "markdown",
   "metadata": {
    "application/vnd.databricks.v1+cell": {
     "cellMetadata": {},
     "inputWidgets": {},
     "nuid": "0b7df557-a217-4262-894c-c07f1197328d",
     "showTitle": false,
     "tableResultSettingsMap": {},
     "title": ""
    }
   },
   "source": [
    "Scenario 10: Export Options"
   ]
  },
  {
   "cell_type": "code",
   "execution_count": 0,
   "metadata": {
    "application/vnd.databricks.v1+cell": {
     "cellMetadata": {
      "byteLimit": 2048000,
      "rowLimit": 10000
     },
     "inputWidgets": {},
     "nuid": "5ac9e3a7-e1ec-4fb9-a351-8fdd4c984907",
     "showTitle": false,
     "tableResultSettingsMap": {},
     "title": ""
    }
   },
   "outputs": [],
   "source": [
    "#1. Write full DataFrame to:\n",
    "# CSV for analysts\n",
    "inventory_df.write.option(\"header\", True) \\\n",
    ".mode(\"overwrite\") \\\n",
    ".csv(\"/Volumes/workspace/default/shared/full_dataset_csv\")\n",
    "\n",
    "# JSON for integration\n",
    "inventory_df.write.mode(\"overwrite\") \\\n",
    ".json(\"/Volumes/workspace/default/shared/full_dataset_json\")\n",
    "\n",
    "# Delta for pipelines\n",
    "inventory_df.write.format(\"delta\") \\\n",
    ".mode(\"overwrite\") \\\n",
    ".save(\"/Volumes/workspace/default/shared/full_dataset_delta\")\n",
    "\n",
    "# Partitioned export for stale items\n",
    "inventory_df.filter(col(\"StockFreshness\") == \"Stale\") \\\n",
    ".write.partitionBy(\"Warehouse\") \\\n",
    ".mode(\"overwrite\") \\\n",
    ".parquet(\"/Volumes/workspace/default/shared/stale_items\")"
   ]
  }
 ],
 "metadata": {
  "application/vnd.databricks.v1+notebook": {
   "computePreferences": null,
   "dashboards": [],
   "environmentMetadata": {
    "base_environment": "",
    "environment_version": "2"
   },
   "inputWidgetPreferences": null,
   "language": "python",
   "notebookMetadata": {
    "pythonIndentUnit": 4
   },
   "notebookName": "set-3",
   "widgets": {}
  },
  "language_info": {
   "name": "python"
  }
 },
 "nbformat": 4,
 "nbformat_minor": 0
}