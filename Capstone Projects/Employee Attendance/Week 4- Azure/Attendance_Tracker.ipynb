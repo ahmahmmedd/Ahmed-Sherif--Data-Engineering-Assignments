{
 "cells": [
  {
   "cell_type": "code",
   "execution_count": 0,
   "metadata": {
    "application/vnd.databricks.v1+cell": {
     "cellMetadata": {
      "byteLimit": 2048000,
      "rowLimit": 10000
     },
     "inputWidgets": {},
     "nuid": "03bf5172-fe4c-4cb6-b282-3eed6615663f",
     "showTitle": false,
     "tableResultSettingsMap": {},
     "title": ""
    }
   },
   "outputs": [
    {
     "output_type": "execute_result",
     "data": {
      "text/plain": [
       "<pyspark.sql.connect.session.SparkSession at 0x7f0ae12229d0>"
      ]
     },
     "execution_count": 60,
     "metadata": {},
     "output_type": "execute_result"
    }
   ],
   "source": [
    "from pyspark.sql import SparkSession\n",
    "from pyspark.sql.functions import col, to_timestamp,when, datediff,avg, hour,count, sum as spark_sum, avg as spark_avg\n",
    "from pyspark.sql.types import StructType, StructField, StringType, IntegerType, TimestampType, FloatType\n",
    "spark = SparkSession.builder.appName(\"EmployeeAttendanceETL\").getOrCreate()\n",
    "spark"
   ]
  },
  {
   "cell_type": "code",
   "execution_count": 0,
   "metadata": {
    "application/vnd.databricks.v1+cell": {
     "cellMetadata": {
      "byteLimit": 2048000,
      "rowLimit": 10000
     },
     "inputWidgets": {},
     "nuid": "bfc525a2-8ead-4b49-ae6a-68ecffa46190",
     "showTitle": false,
     "tableResultSettingsMap": {},
     "title": ""
    }
   },
   "outputs": [],
   "source": [
    "attendance_schema = StructType([\n",
    "    StructField(\"Attendance_ID\", IntegerType(), True),\n",
    "    StructField(\"Employee_ID\", IntegerType(), True),\n",
    "    StructField(\"Date\", StringType(), True),\n",
    "    StructField(\"Clock_in\", StringType(), True),\n",
    "    StructField(\"Clock_out\", StringType(), True),\n",
    "    StructField(\"Department\", StringType(), True)\n",
    "])\n",
    "\n",
    "tasks_schema = StructType([\n",
    "    StructField(\"Task_ID\", IntegerType(), True),\n",
    "    StructField(\"Employee_ID\", IntegerType(), True),\n",
    "    StructField(\"Task_Name\", StringType(), True),\n",
    "    StructField(\"Assigned_Date\", StringType(), True),\n",
    "    StructField(\"Completed_Date\", StringType(), True),\n",
    "    StructField(\"Status\", StringType(), True)\n",
    "])"
   ]
  },
  {
   "cell_type": "code",
   "execution_count": 0,
   "metadata": {
    "application/vnd.databricks.v1+cell": {
     "cellMetadata": {
      "byteLimit": 2048000,
      "rowLimit": 10000
     },
     "inputWidgets": {},
     "nuid": "937da131-6824-4dc7-bdc4-68e81fb0fefa",
     "showTitle": false,
     "tableResultSettingsMap": {},
     "title": ""
    }
   },
   "outputs": [],
   "source": [
    "attendance_df = spark.read.csv(\"/FileStore/tables/attendance.csv\", header=True, schema=attendance_schema)\n",
    "tasks_df = spark.read.csv(\"/FileStore/tables/tasks.csv\", header=True, schema=tasks_schema)"
   ]
  },
  {
   "cell_type": "code",
   "execution_count": 0,
   "metadata": {
    "application/vnd.databricks.v1+cell": {
     "cellMetadata": {
      "byteLimit": 2048000,
      "rowLimit": 10000
     },
     "inputWidgets": {},
     "nuid": "c7adce7d-7298-4d65-940d-8449427bf40a",
     "showTitle": false,
     "tableResultSettingsMap": {},
     "title": ""
    }
   },
   "outputs": [
    {
     "output_type": "display_data",
     "data": {
      "text/html": [
       "<style scoped>\n",
       "  .table-result-container {\n",
       "    max-height: 300px;\n",
       "    overflow: auto;\n",
       "  }\n",
       "  table, th, td {\n",
       "    border: 1px solid black;\n",
       "    border-collapse: collapse;\n",
       "  }\n",
       "  th, td {\n",
       "    padding: 5px;\n",
       "  }\n",
       "  th {\n",
       "    text-align: left;\n",
       "  }\n",
       "</style><div class='table-result-container'><table class='table-result'><thead style='background-color: white'><tr><th>Attendance_ID</th><th>Employee_ID</th><th>Date</th><th>Clock_in</th><th>Clock_out</th><th>Department</th><th>Clock_in_timestamp</th><th>Clock_out_timestamp</th></tr></thead><tbody><tr><td>1</td><td>1</td><td>02-06-2025</td><td>02-06-2025 08:58</td><td>02-06-2025 17:05</td><td>IT</td><td>2025-06-02T08:58:00.000Z</td><td>2025-06-02T17:05:00.000Z</td></tr><tr><td>2</td><td>1</td><td>03-06-2025</td><td>03-06-2025 09:15</td><td>03-06-2025 17:30</td><td>IT</td><td>2025-06-03T09:15:00.000Z</td><td>2025-06-03T17:30:00.000Z</td></tr><tr><td>3</td><td>1</td><td>04-06-2025</td><td>04-06-2025 08:45</td><td>04-06-2025 16:55</td><td>IT</td><td>2025-06-04T08:45:00.000Z</td><td>2025-06-04T16:55:00.000Z</td></tr><tr><td>4</td><td>1</td><td>05-06-2025</td><td>05-06-2025 08:50</td><td>05-06-2025 17:10</td><td>IT</td><td>2025-06-05T08:50:00.000Z</td><td>2025-06-05T17:10:00.000Z</td></tr><tr><td>5</td><td>2</td><td>02-06-2025</td><td>02-06-2025 08:00</td><td>02-06-2025 17:00</td><td>HR</td><td>2025-06-02T08:00:00.000Z</td><td>2025-06-02T17:00:00.000Z</td></tr><tr><td>6</td><td>2</td><td>03-06-2025</td><td>03-06-2025 08:05</td><td>03-06-2025 17:10</td><td>HR</td><td>2025-06-03T08:05:00.000Z</td><td>2025-06-03T17:10:00.000Z</td></tr><tr><td>7</td><td>3</td><td>02-06-2025</td><td>02-06-2025 09:45</td><td>02-06-2025 16:30</td><td>Retail</td><td>2025-06-02T09:45:00.000Z</td><td>2025-06-02T16:30:00.000Z</td></tr><tr><td>8</td><td>3</td><td>04-06-2025</td><td>04-06-2025 11:00</td><td>04-06-2025 15:00</td><td>Retail</td><td>2025-06-04T11:00:00.000Z</td><td>2025-06-04T15:00:00.000Z</td></tr><tr><td>9</td><td>4</td><td>02-06-2025</td><td>02-06-2025 08:30</td><td>02-06-2025 12:00</td><td>Supply Chain</td><td>2025-06-02T08:30:00.000Z</td><td>2025-06-02T12:00:00.000Z</td></tr><tr><td>10</td><td>4</td><td>04-06-2025</td><td>null</td><td>null</td><td>Supply Chain</td><td>null</td><td>null</td></tr></tbody></table></div>"
      ]
     },
     "metadata": {
      "application/vnd.databricks.v1+output": {
       "addedWidgets": {},
       "aggData": [],
       "aggError": "",
       "aggOverflow": false,
       "aggSchema": [],
       "aggSeriesLimitReached": false,
       "aggType": "",
       "arguments": {},
       "columnCustomDisplayInfos": {},
       "data": [
        [
         1,
         1,
         "02-06-2025",
         "02-06-2025 08:58",
         "02-06-2025 17:05",
         "IT",
         "2025-06-02T08:58:00.000Z",
         "2025-06-02T17:05:00.000Z"
        ],
        [
         2,
         1,
         "03-06-2025",
         "03-06-2025 09:15",
         "03-06-2025 17:30",
         "IT",
         "2025-06-03T09:15:00.000Z",
         "2025-06-03T17:30:00.000Z"
        ],
        [
         3,
         1,
         "04-06-2025",
         "04-06-2025 08:45",
         "04-06-2025 16:55",
         "IT",
         "2025-06-04T08:45:00.000Z",
         "2025-06-04T16:55:00.000Z"
        ],
        [
         4,
         1,
         "05-06-2025",
         "05-06-2025 08:50",
         "05-06-2025 17:10",
         "IT",
         "2025-06-05T08:50:00.000Z",
         "2025-06-05T17:10:00.000Z"
        ],
        [
         5,
         2,
         "02-06-2025",
         "02-06-2025 08:00",
         "02-06-2025 17:00",
         "HR",
         "2025-06-02T08:00:00.000Z",
         "2025-06-02T17:00:00.000Z"
        ],
        [
         6,
         2,
         "03-06-2025",
         "03-06-2025 08:05",
         "03-06-2025 17:10",
         "HR",
         "2025-06-03T08:05:00.000Z",
         "2025-06-03T17:10:00.000Z"
        ],
        [
         7,
         3,
         "02-06-2025",
         "02-06-2025 09:45",
         "02-06-2025 16:30",
         "Retail",
         "2025-06-02T09:45:00.000Z",
         "2025-06-02T16:30:00.000Z"
        ],
        [
         8,
         3,
         "04-06-2025",
         "04-06-2025 11:00",
         "04-06-2025 15:00",
         "Retail",
         "2025-06-04T11:00:00.000Z",
         "2025-06-04T15:00:00.000Z"
        ],
        [
         9,
         4,
         "02-06-2025",
         "02-06-2025 08:30",
         "02-06-2025 12:00",
         "Supply Chain",
         "2025-06-02T08:30:00.000Z",
         "2025-06-02T12:00:00.000Z"
        ],
        [
         10,
         4,
         "04-06-2025",
         null,
         null,
         "Supply Chain",
         null,
         null
        ]
       ],
       "datasetInfos": [],
       "dbfsResultPath": null,
       "isJsonSchema": true,
       "metadata": {},
       "overflow": false,
       "plotOptions": {
        "customPlotOptions": {},
        "displayType": "table",
        "pivotAggregation": null,
        "pivotColumns": null,
        "xColumns": null,
        "yColumns": null
       },
       "removedWidgets": [],
       "schema": [
        {
         "metadata": "{}",
         "name": "Attendance_ID",
         "type": "\"integer\""
        },
        {
         "metadata": "{}",
         "name": "Employee_ID",
         "type": "\"integer\""
        },
        {
         "metadata": "{}",
         "name": "Date",
         "type": "\"string\""
        },
        {
         "metadata": "{}",
         "name": "Clock_in",
         "type": "\"string\""
        },
        {
         "metadata": "{}",
         "name": "Clock_out",
         "type": "\"string\""
        },
        {
         "metadata": "{}",
         "name": "Department",
         "type": "\"string\""
        },
        {
         "metadata": "{}",
         "name": "Clock_in_timestamp",
         "type": "\"timestamp\""
        },
        {
         "metadata": "{}",
         "name": "Clock_out_timestamp",
         "type": "\"timestamp\""
        }
       ],
       "type": "table"
      }
     },
     "output_type": "display_data"
    },
    {
     "output_type": "display_data",
     "data": {
      "text/html": [
       "<style scoped>\n",
       "  .table-result-container {\n",
       "    max-height: 300px;\n",
       "    overflow: auto;\n",
       "  }\n",
       "  table, th, td {\n",
       "    border: 1px solid black;\n",
       "    border-collapse: collapse;\n",
       "  }\n",
       "  th, td {\n",
       "    padding: 5px;\n",
       "  }\n",
       "  th {\n",
       "    text-align: left;\n",
       "  }\n",
       "</style><div class='table-result-container'><table class='table-result'><thead style='background-color: white'><tr><th>Attendance_ID</th><th>Employee_ID</th><th>Date</th><th>Clock_in</th><th>Clock_out</th><th>Department</th><th>Clock_in_timestamp</th><th>Clock_out_timestamp</th><th>Work_hours</th></tr></thead><tbody><tr><td>1</td><td>1</td><td>02-06-2025</td><td>02-06-2025 08:58</td><td>02-06-2025 17:05</td><td>IT</td><td>2025-06-02T08:58:00.000Z</td><td>2025-06-02T17:05:00.000Z</td><td>8.116666666666667</td></tr><tr><td>2</td><td>1</td><td>03-06-2025</td><td>03-06-2025 09:15</td><td>03-06-2025 17:30</td><td>IT</td><td>2025-06-03T09:15:00.000Z</td><td>2025-06-03T17:30:00.000Z</td><td>8.25</td></tr><tr><td>3</td><td>1</td><td>04-06-2025</td><td>04-06-2025 08:45</td><td>04-06-2025 16:55</td><td>IT</td><td>2025-06-04T08:45:00.000Z</td><td>2025-06-04T16:55:00.000Z</td><td>8.166666666666666</td></tr><tr><td>4</td><td>1</td><td>05-06-2025</td><td>05-06-2025 08:50</td><td>05-06-2025 17:10</td><td>IT</td><td>2025-06-05T08:50:00.000Z</td><td>2025-06-05T17:10:00.000Z</td><td>8.333333333333334</td></tr><tr><td>5</td><td>2</td><td>02-06-2025</td><td>02-06-2025 08:00</td><td>02-06-2025 17:00</td><td>HR</td><td>2025-06-02T08:00:00.000Z</td><td>2025-06-02T17:00:00.000Z</td><td>9.0</td></tr><tr><td>6</td><td>2</td><td>03-06-2025</td><td>03-06-2025 08:05</td><td>03-06-2025 17:10</td><td>HR</td><td>2025-06-03T08:05:00.000Z</td><td>2025-06-03T17:10:00.000Z</td><td>9.083333333333334</td></tr><tr><td>7</td><td>3</td><td>02-06-2025</td><td>02-06-2025 09:45</td><td>02-06-2025 16:30</td><td>Retail</td><td>2025-06-02T09:45:00.000Z</td><td>2025-06-02T16:30:00.000Z</td><td>6.75</td></tr><tr><td>8</td><td>3</td><td>04-06-2025</td><td>04-06-2025 11:00</td><td>04-06-2025 15:00</td><td>Retail</td><td>2025-06-04T11:00:00.000Z</td><td>2025-06-04T15:00:00.000Z</td><td>4.0</td></tr><tr><td>9</td><td>4</td><td>02-06-2025</td><td>02-06-2025 08:30</td><td>02-06-2025 12:00</td><td>Supply Chain</td><td>2025-06-02T08:30:00.000Z</td><td>2025-06-02T12:00:00.000Z</td><td>3.5</td></tr><tr><td>10</td><td>4</td><td>04-06-2025</td><td>null</td><td>null</td><td>Supply Chain</td><td>null</td><td>null</td><td>0.0</td></tr></tbody></table></div>"
      ]
     },
     "metadata": {
      "application/vnd.databricks.v1+output": {
       "addedWidgets": {},
       "aggData": [],
       "aggError": "",
       "aggOverflow": false,
       "aggSchema": [],
       "aggSeriesLimitReached": false,
       "aggType": "",
       "arguments": {},
       "columnCustomDisplayInfos": {},
       "data": [
        [
         1,
         1,
         "02-06-2025",
         "02-06-2025 08:58",
         "02-06-2025 17:05",
         "IT",
         "2025-06-02T08:58:00.000Z",
         "2025-06-02T17:05:00.000Z",
         8.116666666666667
        ],
        [
         2,
         1,
         "03-06-2025",
         "03-06-2025 09:15",
         "03-06-2025 17:30",
         "IT",
         "2025-06-03T09:15:00.000Z",
         "2025-06-03T17:30:00.000Z",
         8.25
        ],
        [
         3,
         1,
         "04-06-2025",
         "04-06-2025 08:45",
         "04-06-2025 16:55",
         "IT",
         "2025-06-04T08:45:00.000Z",
         "2025-06-04T16:55:00.000Z",
         8.166666666666666
        ],
        [
         4,
         1,
         "05-06-2025",
         "05-06-2025 08:50",
         "05-06-2025 17:10",
         "IT",
         "2025-06-05T08:50:00.000Z",
         "2025-06-05T17:10:00.000Z",
         8.333333333333334
        ],
        [
         5,
         2,
         "02-06-2025",
         "02-06-2025 08:00",
         "02-06-2025 17:00",
         "HR",
         "2025-06-02T08:00:00.000Z",
         "2025-06-02T17:00:00.000Z",
         9.0
        ],
        [
         6,
         2,
         "03-06-2025",
         "03-06-2025 08:05",
         "03-06-2025 17:10",
         "HR",
         "2025-06-03T08:05:00.000Z",
         "2025-06-03T17:10:00.000Z",
         9.083333333333334
        ],
        [
         7,
         3,
         "02-06-2025",
         "02-06-2025 09:45",
         "02-06-2025 16:30",
         "Retail",
         "2025-06-02T09:45:00.000Z",
         "2025-06-02T16:30:00.000Z",
         6.75
        ],
        [
         8,
         3,
         "04-06-2025",
         "04-06-2025 11:00",
         "04-06-2025 15:00",
         "Retail",
         "2025-06-04T11:00:00.000Z",
         "2025-06-04T15:00:00.000Z",
         4.0
        ],
        [
         9,
         4,
         "02-06-2025",
         "02-06-2025 08:30",
         "02-06-2025 12:00",
         "Supply Chain",
         "2025-06-02T08:30:00.000Z",
         "2025-06-02T12:00:00.000Z",
         3.5
        ],
        [
         10,
         4,
         "04-06-2025",
         null,
         null,
         "Supply Chain",
         null,
         null,
         0.0
        ]
       ],
       "datasetInfos": [],
       "dbfsResultPath": null,
       "isJsonSchema": true,
       "metadata": {},
       "overflow": false,
       "plotOptions": {
        "customPlotOptions": {},
        "displayType": "table",
        "pivotAggregation": null,
        "pivotColumns": null,
        "xColumns": null,
        "yColumns": null
       },
       "removedWidgets": [],
       "schema": [
        {
         "metadata": "{}",
         "name": "Attendance_ID",
         "type": "\"integer\""
        },
        {
         "metadata": "{}",
         "name": "Employee_ID",
         "type": "\"integer\""
        },
        {
         "metadata": "{}",
         "name": "Date",
         "type": "\"string\""
        },
        {
         "metadata": "{}",
         "name": "Clock_in",
         "type": "\"string\""
        },
        {
         "metadata": "{}",
         "name": "Clock_out",
         "type": "\"string\""
        },
        {
         "metadata": "{}",
         "name": "Department",
         "type": "\"string\""
        },
        {
         "metadata": "{}",
         "name": "Clock_in_timestamp",
         "type": "\"timestamp\""
        },
        {
         "metadata": "{}",
         "name": "Clock_out_timestamp",
         "type": "\"timestamp\""
        },
        {
         "metadata": "{}",
         "name": "Work_hours",
         "type": "\"double\""
        }
       ],
       "type": "table"
      }
     },
     "output_type": "display_data"
    }
   ],
   "source": [
    "#cleaning data\n",
    "attendance_clean = attendance_df.withColumn(\"Clock_in_timestamp\", to_timestamp(col(\"Clock_in\"), \"dd-MM-yyyy HH:mm\")).withColumn(\n",
    "\"Clock_out_timestamp\", to_timestamp(col(\"Clock_out\"), \"dd-MM-yyyy HH:mm\"))\n",
    "display(attendance_clean)\n",
    "\n",
    "attendance_clean1 = attendance_clean.withColumn(\"Work_hours\",when(col(\"Clock_out_timestamp\").isNotNull(),\n",
    "(col(\"Clock_out_timestamp\").cast(\"long\") - col(\"Clock_in_timestamp\").cast(\"long\"))/3600).otherwise(0))\n",
    "display(attendance_clean1)"
   ]
  },
  {
   "cell_type": "code",
   "execution_count": 0,
   "metadata": {
    "application/vnd.databricks.v1+cell": {
     "cellMetadata": {
      "byteLimit": 2048000,
      "rowLimit": 10000
     },
     "inputWidgets": {},
     "nuid": "29ff0f94-4a95-4589-9cdb-cf781345bb9c",
     "showTitle": false,
     "tableResultSettingsMap": {},
     "title": ""
    }
   },
   "outputs": [
    {
     "output_type": "display_data",
     "data": {
      "text/html": [
       "<style scoped>\n",
       "  .table-result-container {\n",
       "    max-height: 300px;\n",
       "    overflow: auto;\n",
       "  }\n",
       "  table, th, td {\n",
       "    border: 1px solid black;\n",
       "    border-collapse: collapse;\n",
       "  }\n",
       "  th, td {\n",
       "    padding: 5px;\n",
       "  }\n",
       "  th {\n",
       "    text-align: left;\n",
       "  }\n",
       "</style><div class='table-result-container'><table class='table-result'><thead style='background-color: white'><tr><th>Employee_ID</th><th>Assigned_Date</th><th>Tasks_completed</th></tr></thead><tbody><tr><td>1</td><td>05-06-2025</td><td>1</td></tr><tr><td>1</td><td>02-06-2025</td><td>1</td></tr><tr><td>1</td><td>04-06-2025</td><td>1</td></tr><tr><td>2</td><td>02-06-2025</td><td>1</td></tr><tr><td>1</td><td>03-06-2025</td><td>1</td></tr><tr><td>3</td><td>02-06-2025</td><td>1</td></tr><tr><td>4</td><td>02-06-2025</td><td>1</td></tr></tbody></table></div>"
      ]
     },
     "metadata": {
      "application/vnd.databricks.v1+output": {
       "addedWidgets": {},
       "aggData": [],
       "aggError": "",
       "aggOverflow": false,
       "aggSchema": [],
       "aggSeriesLimitReached": false,
       "aggType": "",
       "arguments": {},
       "columnCustomDisplayInfos": {},
       "data": [
        [
         1,
         "05-06-2025",
         1
        ],
        [
         1,
         "02-06-2025",
         1
        ],
        [
         1,
         "04-06-2025",
         1
        ],
        [
         2,
         "02-06-2025",
         1
        ],
        [
         1,
         "03-06-2025",
         1
        ],
        [
         3,
         "02-06-2025",
         1
        ],
        [
         4,
         "02-06-2025",
         1
        ]
       ],
       "datasetInfos": [],
       "dbfsResultPath": null,
       "isJsonSchema": true,
       "metadata": {},
       "overflow": false,
       "plotOptions": {
        "customPlotOptions": {},
        "displayType": "table",
        "pivotAggregation": null,
        "pivotColumns": null,
        "xColumns": null,
        "yColumns": null
       },
       "removedWidgets": [],
       "schema": [
        {
         "metadata": "{}",
         "name": "Employee_ID",
         "type": "\"integer\""
        },
        {
         "metadata": "{}",
         "name": "Assigned_Date",
         "type": "\"string\""
        },
        {
         "metadata": "{}",
         "name": "Tasks_completed",
         "type": "\"long\""
        }
       ],
       "type": "table"
      }
     },
     "output_type": "display_data"
    }
   ],
   "source": [
    "# Process tasks data - count completed tasks per employee per day\n",
    "tasks_processed = tasks_df.filter(col(\"Status\") == \"completed\") \\\n",
    "    .groupBy(\"Employee_ID\", \"Assigned_Date\") \\\n",
    "    .agg(count(\"*\").alias(\"Tasks_completed\"))\n",
    "display(tasks_processed)"
   ]
  },
  {
   "cell_type": "code",
   "execution_count": 0,
   "metadata": {
    "application/vnd.databricks.v1+cell": {
     "cellMetadata": {
      "byteLimit": 2048000,
      "rowLimit": 10000
     },
     "inputWidgets": {},
     "nuid": "bf7e7f57-961f-4dba-b218-a6a93744173b",
     "showTitle": false,
     "tableResultSettingsMap": {},
     "title": ""
    }
   },
   "outputs": [
    {
     "output_type": "display_data",
     "data": {
      "text/html": [
       "<style scoped>\n",
       "  .table-result-container {\n",
       "    max-height: 300px;\n",
       "    overflow: auto;\n",
       "  }\n",
       "  table, th, td {\n",
       "    border: 1px solid black;\n",
       "    border-collapse: collapse;\n",
       "  }\n",
       "  th, td {\n",
       "    padding: 5px;\n",
       "  }\n",
       "  th {\n",
       "    text-align: left;\n",
       "  }\n",
       "</style><div class='table-result-container'><table class='table-result'><thead style='background-color: white'><tr><th>Attendance_ID</th><th>Employee_ID</th><th>Date</th><th>Clock_in</th><th>Clock_out</th><th>Department</th><th>Clock_in_timestamp</th><th>Clock_out_timestamp</th><th>Work_hours</th><th>Tasks_completed</th></tr></thead><tbody><tr><td>1</td><td>1</td><td>02-06-2025</td><td>02-06-2025 08:58</td><td>02-06-2025 17:05</td><td>IT</td><td>2025-06-02T08:58:00.000Z</td><td>2025-06-02T17:05:00.000Z</td><td>8.116666666666667</td><td>1</td></tr><tr><td>2</td><td>1</td><td>03-06-2025</td><td>03-06-2025 09:15</td><td>03-06-2025 17:30</td><td>IT</td><td>2025-06-03T09:15:00.000Z</td><td>2025-06-03T17:30:00.000Z</td><td>8.25</td><td>1</td></tr><tr><td>3</td><td>1</td><td>04-06-2025</td><td>04-06-2025 08:45</td><td>04-06-2025 16:55</td><td>IT</td><td>2025-06-04T08:45:00.000Z</td><td>2025-06-04T16:55:00.000Z</td><td>8.166666666666666</td><td>1</td></tr><tr><td>4</td><td>1</td><td>05-06-2025</td><td>05-06-2025 08:50</td><td>05-06-2025 17:10</td><td>IT</td><td>2025-06-05T08:50:00.000Z</td><td>2025-06-05T17:10:00.000Z</td><td>8.333333333333334</td><td>1</td></tr><tr><td>5</td><td>2</td><td>02-06-2025</td><td>02-06-2025 08:00</td><td>02-06-2025 17:00</td><td>HR</td><td>2025-06-02T08:00:00.000Z</td><td>2025-06-02T17:00:00.000Z</td><td>9.0</td><td>1</td></tr><tr><td>6</td><td>2</td><td>03-06-2025</td><td>03-06-2025 08:05</td><td>03-06-2025 17:10</td><td>HR</td><td>2025-06-03T08:05:00.000Z</td><td>2025-06-03T17:10:00.000Z</td><td>9.083333333333334</td><td>null</td></tr><tr><td>7</td><td>3</td><td>02-06-2025</td><td>02-06-2025 09:45</td><td>02-06-2025 16:30</td><td>Retail</td><td>2025-06-02T09:45:00.000Z</td><td>2025-06-02T16:30:00.000Z</td><td>6.75</td><td>1</td></tr><tr><td>8</td><td>3</td><td>04-06-2025</td><td>04-06-2025 11:00</td><td>04-06-2025 15:00</td><td>Retail</td><td>2025-06-04T11:00:00.000Z</td><td>2025-06-04T15:00:00.000Z</td><td>4.0</td><td>null</td></tr><tr><td>9</td><td>4</td><td>02-06-2025</td><td>02-06-2025 08:30</td><td>02-06-2025 12:00</td><td>Supply Chain</td><td>2025-06-02T08:30:00.000Z</td><td>2025-06-02T12:00:00.000Z</td><td>3.5</td><td>1</td></tr><tr><td>10</td><td>4</td><td>04-06-2025</td><td>null</td><td>null</td><td>Supply Chain</td><td>null</td><td>null</td><td>0.0</td><td>null</td></tr></tbody></table></div>"
      ]
     },
     "metadata": {
      "application/vnd.databricks.v1+output": {
       "addedWidgets": {},
       "aggData": [],
       "aggError": "",
       "aggOverflow": false,
       "aggSchema": [],
       "aggSeriesLimitReached": false,
       "aggType": "",
       "arguments": {},
       "columnCustomDisplayInfos": {},
       "data": [
        [
         1,
         1,
         "02-06-2025",
         "02-06-2025 08:58",
         "02-06-2025 17:05",
         "IT",
         "2025-06-02T08:58:00.000Z",
         "2025-06-02T17:05:00.000Z",
         8.116666666666667,
         1
        ],
        [
         2,
         1,
         "03-06-2025",
         "03-06-2025 09:15",
         "03-06-2025 17:30",
         "IT",
         "2025-06-03T09:15:00.000Z",
         "2025-06-03T17:30:00.000Z",
         8.25,
         1
        ],
        [
         3,
         1,
         "04-06-2025",
         "04-06-2025 08:45",
         "04-06-2025 16:55",
         "IT",
         "2025-06-04T08:45:00.000Z",
         "2025-06-04T16:55:00.000Z",
         8.166666666666666,
         1
        ],
        [
         4,
         1,
         "05-06-2025",
         "05-06-2025 08:50",
         "05-06-2025 17:10",
         "IT",
         "2025-06-05T08:50:00.000Z",
         "2025-06-05T17:10:00.000Z",
         8.333333333333334,
         1
        ],
        [
         5,
         2,
         "02-06-2025",
         "02-06-2025 08:00",
         "02-06-2025 17:00",
         "HR",
         "2025-06-02T08:00:00.000Z",
         "2025-06-02T17:00:00.000Z",
         9.0,
         1
        ],
        [
         6,
         2,
         "03-06-2025",
         "03-06-2025 08:05",
         "03-06-2025 17:10",
         "HR",
         "2025-06-03T08:05:00.000Z",
         "2025-06-03T17:10:00.000Z",
         9.083333333333334,
         null
        ],
        [
         7,
         3,
         "02-06-2025",
         "02-06-2025 09:45",
         "02-06-2025 16:30",
         "Retail",
         "2025-06-02T09:45:00.000Z",
         "2025-06-02T16:30:00.000Z",
         6.75,
         1
        ],
        [
         8,
         3,
         "04-06-2025",
         "04-06-2025 11:00",
         "04-06-2025 15:00",
         "Retail",
         "2025-06-04T11:00:00.000Z",
         "2025-06-04T15:00:00.000Z",
         4.0,
         null
        ],
        [
         9,
         4,
         "02-06-2025",
         "02-06-2025 08:30",
         "02-06-2025 12:00",
         "Supply Chain",
         "2025-06-02T08:30:00.000Z",
         "2025-06-02T12:00:00.000Z",
         3.5,
         1
        ],
        [
         10,
         4,
         "04-06-2025",
         null,
         null,
         "Supply Chain",
         null,
         null,
         0.0,
         null
        ]
       ],
       "datasetInfos": [],
       "dbfsResultPath": null,
       "isJsonSchema": true,
       "metadata": {},
       "overflow": false,
       "plotOptions": {
        "customPlotOptions": {},
        "displayType": "table",
        "pivotAggregation": null,
        "pivotColumns": null,
        "xColumns": null,
        "yColumns": null
       },
       "removedWidgets": [],
       "schema": [
        {
         "metadata": "{}",
         "name": "Attendance_ID",
         "type": "\"integer\""
        },
        {
         "metadata": "{}",
         "name": "Employee_ID",
         "type": "\"integer\""
        },
        {
         "metadata": "{}",
         "name": "Date",
         "type": "\"string\""
        },
        {
         "metadata": "{}",
         "name": "Clock_in",
         "type": "\"string\""
        },
        {
         "metadata": "{}",
         "name": "Clock_out",
         "type": "\"string\""
        },
        {
         "metadata": "{}",
         "name": "Department",
         "type": "\"string\""
        },
        {
         "metadata": "{}",
         "name": "Clock_in_timestamp",
         "type": "\"timestamp\""
        },
        {
         "metadata": "{}",
         "name": "Clock_out_timestamp",
         "type": "\"timestamp\""
        },
        {
         "metadata": "{}",
         "name": "Work_hours",
         "type": "\"double\""
        },
        {
         "metadata": "{}",
         "name": "Tasks_completed",
         "type": "\"long\""
        }
       ],
       "type": "table"
      }
     },
     "output_type": "display_data"
    }
   ],
   "source": [
    "# Join attendance with tasks data\n",
    "combined_df = attendance_clean1.join(tasks_processed,(attendance_clean1.Employee_ID == tasks_processed.Employee_ID) & \n",
    "(attendance_clean1.Date == tasks_processed.Assigned_Date),\"left\").drop(tasks_processed.Employee_ID).drop(tasks_processed.Assigned_Date)\n",
    "\n",
    "display(combined_df)"
   ]
  },
  {
   "cell_type": "code",
   "execution_count": 0,
   "metadata": {
    "application/vnd.databricks.v1+cell": {
     "cellMetadata": {
      "byteLimit": 2048000,
      "rowLimit": 10000
     },
     "inputWidgets": {},
     "nuid": "c61252bd-e88a-48fa-9545-cbb4b207255e",
     "showTitle": false,
     "tableResultSettingsMap": {},
     "title": ""
    }
   },
   "outputs": [
    {
     "output_type": "display_data",
     "data": {
      "text/html": [
       "<style scoped>\n",
       "  .table-result-container {\n",
       "    max-height: 300px;\n",
       "    overflow: auto;\n",
       "  }\n",
       "  table, th, td {\n",
       "    border: 1px solid black;\n",
       "    border-collapse: collapse;\n",
       "  }\n",
       "  th, td {\n",
       "    padding: 5px;\n",
       "  }\n",
       "  th {\n",
       "    text-align: left;\n",
       "  }\n",
       "</style><div class='table-result-container'><table class='table-result'><thead style='background-color: white'><tr><th>Attendance_ID</th><th>Employee_ID</th><th>Date</th><th>Clock_in</th><th>Clock_out</th><th>Department</th><th>Clock_in_timestamp</th><th>Clock_out_timestamp</th><th>Work_hours</th><th>Tasks_completed</th></tr></thead><tbody><tr><td>1</td><td>1</td><td>02-06-2025</td><td>02-06-2025 08:58</td><td>02-06-2025 17:05</td><td>IT</td><td>2025-06-02T08:58:00.000Z</td><td>2025-06-02T17:05:00.000Z</td><td>8.116666666666667</td><td>1</td></tr><tr><td>2</td><td>1</td><td>03-06-2025</td><td>03-06-2025 09:15</td><td>03-06-2025 17:30</td><td>IT</td><td>2025-06-03T09:15:00.000Z</td><td>2025-06-03T17:30:00.000Z</td><td>8.25</td><td>1</td></tr><tr><td>3</td><td>1</td><td>04-06-2025</td><td>04-06-2025 08:45</td><td>04-06-2025 16:55</td><td>IT</td><td>2025-06-04T08:45:00.000Z</td><td>2025-06-04T16:55:00.000Z</td><td>8.166666666666666</td><td>1</td></tr><tr><td>4</td><td>1</td><td>05-06-2025</td><td>05-06-2025 08:50</td><td>05-06-2025 17:10</td><td>IT</td><td>2025-06-05T08:50:00.000Z</td><td>2025-06-05T17:10:00.000Z</td><td>8.333333333333334</td><td>1</td></tr><tr><td>5</td><td>2</td><td>02-06-2025</td><td>02-06-2025 08:00</td><td>02-06-2025 17:00</td><td>HR</td><td>2025-06-02T08:00:00.000Z</td><td>2025-06-02T17:00:00.000Z</td><td>9.0</td><td>1</td></tr><tr><td>6</td><td>2</td><td>03-06-2025</td><td>03-06-2025 08:05</td><td>03-06-2025 17:10</td><td>HR</td><td>2025-06-03T08:05:00.000Z</td><td>2025-06-03T17:10:00.000Z</td><td>9.083333333333334</td><td>0</td></tr><tr><td>7</td><td>3</td><td>02-06-2025</td><td>02-06-2025 09:45</td><td>02-06-2025 16:30</td><td>Retail</td><td>2025-06-02T09:45:00.000Z</td><td>2025-06-02T16:30:00.000Z</td><td>6.75</td><td>1</td></tr><tr><td>8</td><td>3</td><td>04-06-2025</td><td>04-06-2025 11:00</td><td>04-06-2025 15:00</td><td>Retail</td><td>2025-06-04T11:00:00.000Z</td><td>2025-06-04T15:00:00.000Z</td><td>4.0</td><td>0</td></tr><tr><td>9</td><td>4</td><td>02-06-2025</td><td>02-06-2025 08:30</td><td>02-06-2025 12:00</td><td>Supply Chain</td><td>2025-06-02T08:30:00.000Z</td><td>2025-06-02T12:00:00.000Z</td><td>3.5</td><td>1</td></tr><tr><td>10</td><td>4</td><td>04-06-2025</td><td>null</td><td>null</td><td>Supply Chain</td><td>null</td><td>null</td><td>0.0</td><td>0</td></tr></tbody></table></div>"
      ]
     },
     "metadata": {
      "application/vnd.databricks.v1+output": {
       "addedWidgets": {},
       "aggData": [],
       "aggError": "",
       "aggOverflow": false,
       "aggSchema": [],
       "aggSeriesLimitReached": false,
       "aggType": "",
       "arguments": {},
       "columnCustomDisplayInfos": {},
       "data": [
        [
         1,
         1,
         "02-06-2025",
         "02-06-2025 08:58",
         "02-06-2025 17:05",
         "IT",
         "2025-06-02T08:58:00.000Z",
         "2025-06-02T17:05:00.000Z",
         8.116666666666667,
         1
        ],
        [
         2,
         1,
         "03-06-2025",
         "03-06-2025 09:15",
         "03-06-2025 17:30",
         "IT",
         "2025-06-03T09:15:00.000Z",
         "2025-06-03T17:30:00.000Z",
         8.25,
         1
        ],
        [
         3,
         1,
         "04-06-2025",
         "04-06-2025 08:45",
         "04-06-2025 16:55",
         "IT",
         "2025-06-04T08:45:00.000Z",
         "2025-06-04T16:55:00.000Z",
         8.166666666666666,
         1
        ],
        [
         4,
         1,
         "05-06-2025",
         "05-06-2025 08:50",
         "05-06-2025 17:10",
         "IT",
         "2025-06-05T08:50:00.000Z",
         "2025-06-05T17:10:00.000Z",
         8.333333333333334,
         1
        ],
        [
         5,
         2,
         "02-06-2025",
         "02-06-2025 08:00",
         "02-06-2025 17:00",
         "HR",
         "2025-06-02T08:00:00.000Z",
         "2025-06-02T17:00:00.000Z",
         9.0,
         1
        ],
        [
         6,
         2,
         "03-06-2025",
         "03-06-2025 08:05",
         "03-06-2025 17:10",
         "HR",
         "2025-06-03T08:05:00.000Z",
         "2025-06-03T17:10:00.000Z",
         9.083333333333334,
         0
        ],
        [
         7,
         3,
         "02-06-2025",
         "02-06-2025 09:45",
         "02-06-2025 16:30",
         "Retail",
         "2025-06-02T09:45:00.000Z",
         "2025-06-02T16:30:00.000Z",
         6.75,
         1
        ],
        [
         8,
         3,
         "04-06-2025",
         "04-06-2025 11:00",
         "04-06-2025 15:00",
         "Retail",
         "2025-06-04T11:00:00.000Z",
         "2025-06-04T15:00:00.000Z",
         4.0,
         0
        ],
        [
         9,
         4,
         "02-06-2025",
         "02-06-2025 08:30",
         "02-06-2025 12:00",
         "Supply Chain",
         "2025-06-02T08:30:00.000Z",
         "2025-06-02T12:00:00.000Z",
         3.5,
         1
        ],
        [
         10,
         4,
         "04-06-2025",
         null,
         null,
         "Supply Chain",
         null,
         null,
         0.0,
         0
        ]
       ],
       "datasetInfos": [],
       "dbfsResultPath": null,
       "isJsonSchema": true,
       "metadata": {},
       "overflow": false,
       "plotOptions": {
        "customPlotOptions": {},
        "displayType": "table",
        "pivotAggregation": null,
        "pivotColumns": null,
        "xColumns": null,
        "yColumns": null
       },
       "removedWidgets": [],
       "schema": [
        {
         "metadata": "{}",
         "name": "Attendance_ID",
         "type": "\"integer\""
        },
        {
         "metadata": "{}",
         "name": "Employee_ID",
         "type": "\"integer\""
        },
        {
         "metadata": "{}",
         "name": "Date",
         "type": "\"string\""
        },
        {
         "metadata": "{}",
         "name": "Clock_in",
         "type": "\"string\""
        },
        {
         "metadata": "{}",
         "name": "Clock_out",
         "type": "\"string\""
        },
        {
         "metadata": "{}",
         "name": "Department",
         "type": "\"string\""
        },
        {
         "metadata": "{}",
         "name": "Clock_in_timestamp",
         "type": "\"timestamp\""
        },
        {
         "metadata": "{}",
         "name": "Clock_out_timestamp",
         "type": "\"timestamp\""
        },
        {
         "metadata": "{}",
         "name": "Work_hours",
         "type": "\"double\""
        },
        {
         "metadata": "{}",
         "name": "Tasks_completed",
         "type": "\"long\""
        }
       ],
       "type": "table"
      }
     },
     "output_type": "display_data"
    },
    {
     "output_type": "display_data",
     "data": {
      "text/html": [
       "<style scoped>\n",
       "  .table-result-container {\n",
       "    max-height: 300px;\n",
       "    overflow: auto;\n",
       "  }\n",
       "  table, th, td {\n",
       "    border: 1px solid black;\n",
       "    border-collapse: collapse;\n",
       "  }\n",
       "  th, td {\n",
       "    padding: 5px;\n",
       "  }\n",
       "  th {\n",
       "    text-align: left;\n",
       "  }\n",
       "</style><div class='table-result-container'><table class='table-result'><thead style='background-color: white'><tr><th>Attendance_ID</th><th>Employee_ID</th><th>Date</th><th>Clock_in</th><th>Clock_out</th><th>Department</th><th>Clock_in_timestamp</th><th>Clock_out_timestamp</th><th>Work_hours</th><th>Tasks_completed</th><th>Productivity_score</th></tr></thead><tbody><tr><td>1</td><td>1</td><td>02-06-2025</td><td>02-06-2025 08:58</td><td>02-06-2025 17:05</td><td>IT</td><td>2025-06-02T08:58:00.000Z</td><td>2025-06-02T17:05:00.000Z</td><td>8.116666666666667</td><td>1</td><td>0.12320328542094455</td></tr><tr><td>2</td><td>1</td><td>03-06-2025</td><td>03-06-2025 09:15</td><td>03-06-2025 17:30</td><td>IT</td><td>2025-06-03T09:15:00.000Z</td><td>2025-06-03T17:30:00.000Z</td><td>8.25</td><td>1</td><td>0.12121212121212122</td></tr><tr><td>3</td><td>1</td><td>04-06-2025</td><td>04-06-2025 08:45</td><td>04-06-2025 16:55</td><td>IT</td><td>2025-06-04T08:45:00.000Z</td><td>2025-06-04T16:55:00.000Z</td><td>8.166666666666666</td><td>1</td><td>0.12244897959183675</td></tr><tr><td>4</td><td>1</td><td>05-06-2025</td><td>05-06-2025 08:50</td><td>05-06-2025 17:10</td><td>IT</td><td>2025-06-05T08:50:00.000Z</td><td>2025-06-05T17:10:00.000Z</td><td>8.333333333333334</td><td>1</td><td>0.12</td></tr><tr><td>5</td><td>2</td><td>02-06-2025</td><td>02-06-2025 08:00</td><td>02-06-2025 17:00</td><td>HR</td><td>2025-06-02T08:00:00.000Z</td><td>2025-06-02T17:00:00.000Z</td><td>9.0</td><td>1</td><td>0.1111111111111111</td></tr><tr><td>6</td><td>2</td><td>03-06-2025</td><td>03-06-2025 08:05</td><td>03-06-2025 17:10</td><td>HR</td><td>2025-06-03T08:05:00.000Z</td><td>2025-06-03T17:10:00.000Z</td><td>9.083333333333334</td><td>null</td><td>null</td></tr><tr><td>7</td><td>3</td><td>02-06-2025</td><td>02-06-2025 09:45</td><td>02-06-2025 16:30</td><td>Retail</td><td>2025-06-02T09:45:00.000Z</td><td>2025-06-02T16:30:00.000Z</td><td>6.75</td><td>1</td><td>0.14814814814814814</td></tr><tr><td>8</td><td>3</td><td>04-06-2025</td><td>04-06-2025 11:00</td><td>04-06-2025 15:00</td><td>Retail</td><td>2025-06-04T11:00:00.000Z</td><td>2025-06-04T15:00:00.000Z</td><td>4.0</td><td>null</td><td>null</td></tr><tr><td>9</td><td>4</td><td>02-06-2025</td><td>02-06-2025 08:30</td><td>02-06-2025 12:00</td><td>Supply Chain</td><td>2025-06-02T08:30:00.000Z</td><td>2025-06-02T12:00:00.000Z</td><td>3.5</td><td>1</td><td>0.2857142857142857</td></tr><tr><td>10</td><td>4</td><td>04-06-2025</td><td>null</td><td>null</td><td>Supply Chain</td><td>null</td><td>null</td><td>0.0</td><td>null</td><td>0.0</td></tr></tbody></table></div>"
      ]
     },
     "metadata": {
      "application/vnd.databricks.v1+output": {
       "addedWidgets": {},
       "aggData": [],
       "aggError": "",
       "aggOverflow": false,
       "aggSchema": [],
       "aggSeriesLimitReached": false,
       "aggType": "",
       "arguments": {},
       "columnCustomDisplayInfos": {},
       "data": [
        [
         1,
         1,
         "02-06-2025",
         "02-06-2025 08:58",
         "02-06-2025 17:05",
         "IT",
         "2025-06-02T08:58:00.000Z",
         "2025-06-02T17:05:00.000Z",
         8.116666666666667,
         1,
         0.12320328542094455
        ],
        [
         2,
         1,
         "03-06-2025",
         "03-06-2025 09:15",
         "03-06-2025 17:30",
         "IT",
         "2025-06-03T09:15:00.000Z",
         "2025-06-03T17:30:00.000Z",
         8.25,
         1,
         0.12121212121212122
        ],
        [
         3,
         1,
         "04-06-2025",
         "04-06-2025 08:45",
         "04-06-2025 16:55",
         "IT",
         "2025-06-04T08:45:00.000Z",
         "2025-06-04T16:55:00.000Z",
         8.166666666666666,
         1,
         0.12244897959183675
        ],
        [
         4,
         1,
         "05-06-2025",
         "05-06-2025 08:50",
         "05-06-2025 17:10",
         "IT",
         "2025-06-05T08:50:00.000Z",
         "2025-06-05T17:10:00.000Z",
         8.333333333333334,
         1,
         0.12
        ],
        [
         5,
         2,
         "02-06-2025",
         "02-06-2025 08:00",
         "02-06-2025 17:00",
         "HR",
         "2025-06-02T08:00:00.000Z",
         "2025-06-02T17:00:00.000Z",
         9.0,
         1,
         0.1111111111111111
        ],
        [
         6,
         2,
         "03-06-2025",
         "03-06-2025 08:05",
         "03-06-2025 17:10",
         "HR",
         "2025-06-03T08:05:00.000Z",
         "2025-06-03T17:10:00.000Z",
         9.083333333333334,
         null,
         null
        ],
        [
         7,
         3,
         "02-06-2025",
         "02-06-2025 09:45",
         "02-06-2025 16:30",
         "Retail",
         "2025-06-02T09:45:00.000Z",
         "2025-06-02T16:30:00.000Z",
         6.75,
         1,
         0.14814814814814814
        ],
        [
         8,
         3,
         "04-06-2025",
         "04-06-2025 11:00",
         "04-06-2025 15:00",
         "Retail",
         "2025-06-04T11:00:00.000Z",
         "2025-06-04T15:00:00.000Z",
         4.0,
         null,
         null
        ],
        [
         9,
         4,
         "02-06-2025",
         "02-06-2025 08:30",
         "02-06-2025 12:00",
         "Supply Chain",
         "2025-06-02T08:30:00.000Z",
         "2025-06-02T12:00:00.000Z",
         3.5,
         1,
         0.2857142857142857
        ],
        [
         10,
         4,
         "04-06-2025",
         null,
         null,
         "Supply Chain",
         null,
         null,
         0.0,
         null,
         0.0
        ]
       ],
       "datasetInfos": [],
       "dbfsResultPath": null,
       "isJsonSchema": true,
       "metadata": {},
       "overflow": false,
       "plotOptions": {
        "customPlotOptions": {},
        "displayType": "table",
        "pivotAggregation": null,
        "pivotColumns": null,
        "xColumns": null,
        "yColumns": null
       },
       "removedWidgets": [],
       "schema": [
        {
         "metadata": "{}",
         "name": "Attendance_ID",
         "type": "\"integer\""
        },
        {
         "metadata": "{}",
         "name": "Employee_ID",
         "type": "\"integer\""
        },
        {
         "metadata": "{}",
         "name": "Date",
         "type": "\"string\""
        },
        {
         "metadata": "{}",
         "name": "Clock_in",
         "type": "\"string\""
        },
        {
         "metadata": "{}",
         "name": "Clock_out",
         "type": "\"string\""
        },
        {
         "metadata": "{}",
         "name": "Department",
         "type": "\"string\""
        },
        {
         "metadata": "{}",
         "name": "Clock_in_timestamp",
         "type": "\"timestamp\""
        },
        {
         "metadata": "{}",
         "name": "Clock_out_timestamp",
         "type": "\"timestamp\""
        },
        {
         "metadata": "{}",
         "name": "Work_hours",
         "type": "\"double\""
        },
        {
         "metadata": "{}",
         "name": "Tasks_completed",
         "type": "\"long\""
        },
        {
         "metadata": "{}",
         "name": "Productivity_score",
         "type": "\"double\""
        }
       ],
       "type": "table"
      }
     },
     "output_type": "display_data"
    }
   ],
   "source": [
    "# Fill nulls for days with no completed tasks\n",
    "null_fill = combined_df.fillna(0, subset=[\"Tasks_completed\"])\n",
    "display(null_fill)\n",
    "\n",
    "# Calculate productivity score (tasks per hour)\n",
    "calc_df = combined_df.withColumn(\"Productivity_score\",when(col(\"Work_hours\") > 0, col(\"Tasks_completed\")/col(\"Work_hours\")).otherwise(0))\n",
    "display(calc_df)"
   ]
  },
  {
   "cell_type": "code",
   "execution_count": 0,
   "metadata": {
    "application/vnd.databricks.v1+cell": {
     "cellMetadata": {
      "byteLimit": 2048000,
      "rowLimit": 10000
     },
     "inputWidgets": {},
     "nuid": "464e343d-0df3-47a4-8acb-d7316ade1c9c",
     "showTitle": false,
     "tableResultSettingsMap": {},
     "title": ""
    }
   },
   "outputs": [
    {
     "output_type": "display_data",
     "data": {
      "text/html": [
       "<style scoped>\n",
       "  .table-result-container {\n",
       "    max-height: 300px;\n",
       "    overflow: auto;\n",
       "  }\n",
       "  table, th, td {\n",
       "    border: 1px solid black;\n",
       "    border-collapse: collapse;\n",
       "  }\n",
       "  th, td {\n",
       "    padding: 5px;\n",
       "  }\n",
       "  th {\n",
       "    text-align: left;\n",
       "  }\n",
       "</style><div class='table-result-container'><table class='table-result'><thead style='background-color: white'><tr><th>Department</th><th>Total_records</th><th>Avg_work_hours</th><th>Total_work_hours</th><th>Total_tasks</th></tr></thead><tbody><tr><td>HR</td><td>2</td><td>9.041666666666668</td><td>18.083333333333336</td><td>1</td></tr><tr><td>IT</td><td>4</td><td>8.216666666666667</td><td>32.86666666666667</td><td>4</td></tr><tr><td>Retail</td><td>2</td><td>5.375</td><td>10.75</td><td>1</td></tr><tr><td>Supply Chain</td><td>2</td><td>1.75</td><td>3.5</td><td>1</td></tr></tbody></table></div>"
      ]
     },
     "metadata": {
      "application/vnd.databricks.v1+output": {
       "addedWidgets": {},
       "aggData": [],
       "aggError": "",
       "aggOverflow": false,
       "aggSchema": [],
       "aggSeriesLimitReached": false,
       "aggType": "",
       "arguments": {},
       "columnCustomDisplayInfos": {},
       "data": [
        [
         "HR",
         2,
         9.041666666666668,
         18.083333333333336,
         1
        ],
        [
         "IT",
         4,
         8.216666666666667,
         32.86666666666667,
         4
        ],
        [
         "Retail",
         2,
         5.375,
         10.75,
         1
        ],
        [
         "Supply Chain",
         2,
         1.75,
         3.5,
         1
        ]
       ],
       "datasetInfos": [],
       "dbfsResultPath": null,
       "isJsonSchema": true,
       "metadata": {},
       "overflow": false,
       "plotOptions": {
        "customPlotOptions": {},
        "displayType": "table",
        "pivotAggregation": null,
        "pivotColumns": null,
        "xColumns": null,
        "yColumns": null
       },
       "removedWidgets": [],
       "schema": [
        {
         "metadata": "{}",
         "name": "Department",
         "type": "\"string\""
        },
        {
         "metadata": "{}",
         "name": "Total_records",
         "type": "\"long\""
        },
        {
         "metadata": "{}",
         "name": "Avg_work_hours",
         "type": "\"double\""
        },
        {
         "metadata": "{}",
         "name": "Total_work_hours",
         "type": "\"double\""
        },
        {
         "metadata": "{}",
         "name": "Total_tasks",
         "type": "\"long\""
        }
       ],
       "type": "table"
      }
     },
     "output_type": "display_data"
    }
   ],
   "source": [
    "# Create department-level metrics\n",
    "department_metrics = combined_df.groupBy(\"Department\") \\\n",
    "    .agg(count(\"*\").alias(\"Total_records\"),avg(\"Work_hours\").alias(\"Avg_work_hours\"),spark_sum(\"Work_hours\").alias(\"Total_work_hours\"),spark_sum(\"Tasks_completed\").alias(\"Total_tasks\"))\n",
    "\n",
    "display(department_metrics.orderBy(\"Department\"))"
   ]
  },
  {
   "cell_type": "code",
   "execution_count": 0,
   "metadata": {
    "application/vnd.databricks.v1+cell": {
     "cellMetadata": {
      "byteLimit": 2048000,
      "rowLimit": 10000
     },
     "inputWidgets": {},
     "nuid": "1bbe8761-00af-4117-8846-6926288591b8",
     "showTitle": false,
     "tableResultSettingsMap": {},
     "title": ""
    }
   },
   "outputs": [
    {
     "output_type": "display_data",
     "data": {
      "text/html": [
       "<style scoped>\n",
       "  .table-result-container {\n",
       "    max-height: 300px;\n",
       "    overflow: auto;\n",
       "  }\n",
       "  table, th, td {\n",
       "    border: 1px solid black;\n",
       "    border-collapse: collapse;\n",
       "  }\n",
       "  th, td {\n",
       "    padding: 5px;\n",
       "  }\n",
       "  th {\n",
       "    text-align: left;\n",
       "  }\n",
       "</style><div class='table-result-container'><table class='table-result'><thead style='background-color: white'><tr><th>path</th><th>name</th><th>size</th><th>modificationTime</th></tr></thead><tbody><tr><td>dbfs:/FileStore/output/department_metrics_csv/</td><td>department_metrics_csv/</td><td>0</td><td>1750001870000</td></tr><tr><td>dbfs:/FileStore/output/department_metrics_delta/</td><td>department_metrics_delta/</td><td>0</td><td>1750001270000</td></tr><tr><td>dbfs:/FileStore/output/department_metrics_spark.csv/</td><td>department_metrics_spark.csv/</td><td>0</td><td>1750001576000</td></tr></tbody></table></div>"
      ]
     },
     "metadata": {
      "application/vnd.databricks.v1+output": {
       "addedWidgets": {},
       "aggData": [],
       "aggError": "",
       "aggOverflow": false,
       "aggSchema": [],
       "aggSeriesLimitReached": false,
       "aggType": "",
       "arguments": {},
       "columnCustomDisplayInfos": {},
       "data": [
        [
         "dbfs:/FileStore/output/department_metrics_csv/",
         "department_metrics_csv/",
         0,
         1750001870000
        ],
        [
         "dbfs:/FileStore/output/department_metrics_delta/",
         "department_metrics_delta/",
         0,
         1750001270000
        ],
        [
         "dbfs:/FileStore/output/department_metrics_spark.csv/",
         "department_metrics_spark.csv/",
         0,
         1750001576000
        ]
       ],
       "datasetInfos": [],
       "dbfsResultPath": null,
       "isJsonSchema": true,
       "metadata": {},
       "overflow": false,
       "plotOptions": {
        "customPlotOptions": {},
        "displayType": "table",
        "pivotAggregation": null,
        "pivotColumns": null,
        "xColumns": null,
        "yColumns": null
       },
       "removedWidgets": [],
       "schema": [
        {
         "metadata": "{}",
         "name": "path",
         "type": "\"string\""
        },
        {
         "metadata": "{}",
         "name": "name",
         "type": "\"string\""
        },
        {
         "metadata": "{}",
         "name": "size",
         "type": "\"long\""
        },
        {
         "metadata": "{}",
         "name": "modificationTime",
         "type": "\"long\""
        }
       ],
       "type": "table"
      }
     },
     "output_type": "display_data"
    }
   ],
   "source": [
    "#delta and csv path\n",
    "delta_path = \"dbfs:/FileStore/output/department_metrics_delta\"\n",
    "csv_path = \"/dbfs/FileStore/output/department_metrics.csv\"\n",
    "\n",
    "#Save Delta table and csv\n",
    "(department_metrics.write.format(\"delta\").mode(\"overwrite\").save(delta_path))\n",
    "department_metrics.write \\\n",
    "    .format(\"csv\") \\\n",
    "    .option(\"header\", \"true\") \\\n",
    "    .mode(\"overwrite\") \\\n",
    "    .save(\"dbfs:/FileStore/output/department_metrics_csv\")\n",
    "\n",
    "display(dbutils.fs.ls(\"dbfs:/FileStore/output/\"))"
   ]
  }
 ],
 "metadata": {
  "application/vnd.databricks.v1+notebook": {
   "computePreferences": null,
   "dashboards": [],
   "environmentMetadata": {
    "base_environment": "",
    "environment_version": "2"
   },
   "inputWidgetPreferences": null,
   "language": "python",
   "notebookMetadata": {
    "pythonIndentUnit": 4
   },
   "notebookName": "Attendance_Tracker",
   "widgets": {}
  },
  "language_info": {
   "name": "python"
  }
 },
 "nbformat": 4,
 "nbformat_minor": 0
}