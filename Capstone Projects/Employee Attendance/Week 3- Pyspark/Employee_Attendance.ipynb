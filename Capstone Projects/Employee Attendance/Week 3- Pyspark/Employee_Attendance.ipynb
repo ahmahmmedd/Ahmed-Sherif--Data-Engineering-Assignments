{
  "nbformat": 4,
  "nbformat_minor": 0,
  "metadata": {
    "colab": {
      "provenance": []
    },
    "kernelspec": {
      "name": "python3",
      "display_name": "Python 3"
    },
    "language_info": {
      "name": "python"
    }
  },
  "cells": [
    {
      "cell_type": "code",
      "execution_count": 2,
      "metadata": {
        "colab": {
          "base_uri": "https://localhost:8080/",
          "height": 219
        },
        "id": "EaGovZ39D_TA",
        "outputId": "c45d0e37-73a4-48e5-a494-49b8763f2ba8"
      },
      "outputs": [
        {
          "output_type": "execute_result",
          "data": {
            "text/plain": [
              "<pyspark.sql.session.SparkSession at 0x7e30680f1d50>"
            ],
            "text/html": [
              "\n",
              "            <div>\n",
              "                <p><b>SparkSession - in-memory</b></p>\n",
              "                \n",
              "        <div>\n",
              "            <p><b>SparkContext</b></p>\n",
              "\n",
              "            <p><a href=\"http://9672ab6a0df7:4040\">Spark UI</a></p>\n",
              "\n",
              "            <dl>\n",
              "              <dt>Version</dt>\n",
              "                <dd><code>v3.5.1</code></dd>\n",
              "              <dt>Master</dt>\n",
              "                <dd><code>local[*]</code></dd>\n",
              "              <dt>AppName</dt>\n",
              "                <dd><code>EmployeeAttendanceAnalysis</code></dd>\n",
              "            </dl>\n",
              "        </div>\n",
              "        \n",
              "            </div>\n",
              "        "
            ]
          },
          "metadata": {},
          "execution_count": 2
        }
      ],
      "source": [
        "from pyspark.sql import SparkSession\n",
        "from pyspark.sql.functions import *\n",
        "from pyspark.sql.types import *\n",
        "\n",
        "spark = SparkSession.builder \\\n",
        "    .appName(\"EmployeeAttendanceAnalysis\") \\\n",
        "    .getOrCreate()\n",
        "spark"
      ]
    },
    {
      "cell_type": "code",
      "source": [
        "# Load attendance data\n",
        "attendance_df = spark.read.csv(\"attendance.csv\", header=True, inferSchema=True)\n",
        "\n",
        "# Convert date/time columns and calculate hours\n",
        "attendance_df = attendance_df.withColumn(\n",
        "    \"Clock_in\",\n",
        "    to_timestamp(col(\"Clock_in\"), \"dd-MM-yyyy HH:mm\")  # Changed format\n",
        ").withColumn(\n",
        "    \"Clock_out\",\n",
        "    to_timestamp(col(\"Clock_out\"), \"dd-MM-yyyy HH:mm\")  # Changed format\n",
        ").withColumn(\n",
        "    \"work_hours\",\n",
        "    when(\n",
        "        col(\"Clock_out\").isNotNull(),\n",
        "        (unix_timestamp(col(\"Clock_out\")) - unix_timestamp(col(\"Clock_in\"))) / 3600\n",
        "    ).otherwise(None)\n",
        ")"
      ],
      "metadata": {
        "id": "CdmmAqtvqeNn"
      },
      "execution_count": 11,
      "outputs": []
    },
    {
      "cell_type": "markdown",
      "source": [
        "# **LATE LOGIN AND ABSENCES**"
      ],
      "metadata": {
        "id": "DCIZLz5lrEiZ"
      }
    },
    {
      "cell_type": "code",
      "source": [
        "late_threshold = \"09:00:00\"\n",
        "\n",
        "# Filter late logins (after 9AM with valid clock-in)\n",
        "late_logins = attendance_df.filter(\n",
        "    (col(\"Clock_in\").isNotNull()) &\n",
        "    (date_format(col(\"Clock_in\"), \"HH:mm:ss\") > late_threshold)  # Compare as string\n",
        ")\n",
        "\n",
        "absences = attendance_df.filter(\n",
        "    col(\"Clock_in\").isNull()  # No clock-in recorded\n",
        ")"
      ],
      "metadata": {
        "id": "X9HzdUNsq47c"
      },
      "execution_count": 12,
      "outputs": []
    },
    {
      "cell_type": "markdown",
      "source": [
        "# **Group by department to get average work hours and productivity**"
      ],
      "metadata": {
        "id": "AaLgglTLrp7P"
      }
    },
    {
      "cell_type": "code",
      "source": [
        "department_stats = attendance_df.groupBy(\"Department\").agg(\n",
        "    avg(\"work_hours\").alias(\"avg_hours\"),\n",
        "    count(when(col(\"Clock_in\").isNull(), 1)).alias(\"absences\"),\n",
        "    count(when(date_format(col(\"Clock_in\"), \"HH:mm:ss\") > late_threshold, 1)).alias(\"late_count\")\n",
        ")"
      ],
      "metadata": {
        "id": "o8vYIORIrVVA"
      },
      "execution_count": 13,
      "outputs": []
    },
    {
      "cell_type": "markdown",
      "source": [
        "# **Result**"
      ],
      "metadata": {
        "id": "9CFlHNQEr0gP"
      }
    },
    {
      "cell_type": "code",
      "source": [
        "print(\"=== Late Logins===\")\n",
        "late_logins.select(\n",
        "    \"Employee_ID\",\n",
        "    \"Department\",\n",
        "    date_format(\"Clock_in\", \"dd-MM-yyyy HH:mm:ss\").alias(\"Clock_in\"),\n",
        "    date_format(\"Clock_out\", \"dd-MM-yyyy HH:mm:ss\").alias(\"Clock_out\"),\n",
        "    \"work_hours\"\n",
        ").show(truncate=False)\n",
        "\n",
        "print(\"\\n=== Absences ===\")\n",
        "absences.show()\n",
        "\n",
        "print(\"\\n=== Department Statistics ===\")\n",
        "department_stats.show()\n",
        "\n",
        "# Save results\n",
        "department_stats.write.csv(\"department_attendance_metrics\", mode=\"overwrite\")"
      ],
      "metadata": {
        "colab": {
          "base_uri": "https://localhost:8080/"
        },
        "id": "ECiiBOdHr3Zl",
        "outputId": "5637461a-a573-47c4-c6e7-10542c601815"
      },
      "execution_count": 14,
      "outputs": [
        {
          "output_type": "stream",
          "name": "stdout",
          "text": [
            "=== Late Logins===\n",
            "+-----------+----------+-------------------+-------------------+----------+\n",
            "|Employee_ID|Department|Clock_in           |Clock_out          |work_hours|\n",
            "+-----------+----------+-------------------+-------------------+----------+\n",
            "|1          |IT        |03-06-2025 09:15:00|03-06-2025 17:30:00|8.25      |\n",
            "|3          |Retail    |02-06-2025 09:45:00|02-06-2025 16:30:00|6.75      |\n",
            "|3          |Retail    |04-06-2025 11:00:00|04-06-2025 15:00:00|4.0       |\n",
            "+-----------+----------+-------------------+-------------------+----------+\n",
            "\n",
            "\n",
            "=== Absences ===\n",
            "+-------------+-----------+----------+--------+---------+------------+----------+\n",
            "|Attendance_ID|Employee_ID|      Date|Clock_in|Clock_out|  Department|work_hours|\n",
            "+-------------+-----------+----------+--------+---------+------------+----------+\n",
            "|           10|          4|04-06-2025|    NULL|     NULL|Supply Chain|      NULL|\n",
            "+-------------+-----------+----------+--------+---------+------------+----------+\n",
            "\n",
            "\n",
            "=== Department Statistics ===\n",
            "+------------+-----------------+--------+----------+\n",
            "|  Department|        avg_hours|absences|late_count|\n",
            "+------------+-----------------+--------+----------+\n",
            "|          HR|9.041666666666668|       0|         0|\n",
            "|Supply Chain|              3.5|       1|         0|\n",
            "|          IT|8.216666666666667|       0|         1|\n",
            "|      Retail|            5.375|       0|         2|\n",
            "+------------+-----------------+--------+----------+\n",
            "\n"
          ]
        }
      ]
    }
  ]
}