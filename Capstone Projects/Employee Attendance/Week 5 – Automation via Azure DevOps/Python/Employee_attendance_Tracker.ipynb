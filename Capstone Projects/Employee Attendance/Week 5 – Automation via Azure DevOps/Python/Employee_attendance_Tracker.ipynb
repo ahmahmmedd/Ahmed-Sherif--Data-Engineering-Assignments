{
  "nbformat": 4,
  "nbformat_minor": 0,
  "metadata": {
    "colab": {
      "provenance": []
    },
    "kernelspec": {
      "name": "python3",
      "display_name": "Python 3"
    },
    "language_info": {
      "name": "python"
    }
  },
  "cells": [
    {
      "cell_type": "code",
      "execution_count": 26,
      "metadata": {
        "colab": {
          "base_uri": "https://localhost:8080/",
          "height": 219
        },
        "id": "Cpqb66oYTbYZ",
        "outputId": "0c2ecda0-3c8d-41b2-8fa3-386d1d230ff1"
      },
      "outputs": [
        {
          "output_type": "execute_result",
          "data": {
            "text/plain": [
              "<pyspark.sql.session.SparkSession at 0x780d197184d0>"
            ],
            "text/html": [
              "\n",
              "            <div>\n",
              "                <p><b>SparkSession - in-memory</b></p>\n",
              "                \n",
              "        <div>\n",
              "            <p><b>SparkContext</b></p>\n",
              "\n",
              "            <p><a href=\"http://345e1f187a1a:4040\">Spark UI</a></p>\n",
              "\n",
              "            <dl>\n",
              "              <dt>Version</dt>\n",
              "                <dd><code>v3.5.1</code></dd>\n",
              "              <dt>Master</dt>\n",
              "                <dd><code>local[*]</code></dd>\n",
              "              <dt>AppName</dt>\n",
              "                <dd><code>AttendanceReport</code></dd>\n",
              "            </dl>\n",
              "        </div>\n",
              "        \n",
              "            </div>\n",
              "        "
            ]
          },
          "metadata": {},
          "execution_count": 26
        }
      ],
      "source": [
        "from pyspark.sql import SparkSession\n",
        "from pyspark.sql.functions import *\n",
        "spark = SparkSession.builder.appName(\"AttendanceReport\").getOrCreate()\n",
        "spark\n"
      ]
    },
    {
      "cell_type": "code",
      "source": [
        "cleaned_df = spark.read.csv(\"cleaned_attendance_tasks.csv\", header=True, inferSchema=True)\n",
        "cleaned_df.printSchema()"
      ],
      "metadata": {
        "colab": {
          "base_uri": "https://localhost:8080/"
        },
        "id": "MkiKWvsqfczb",
        "outputId": "af35e3e4-45ae-40b4-a814-3469346c4ff3"
      },
      "execution_count": 27,
      "outputs": [
        {
          "output_type": "stream",
          "name": "stdout",
          "text": [
            "root\n",
            " |-- Attendance_ID: integer (nullable = true)\n",
            " |-- Employee_ID: integer (nullable = true)\n",
            " |-- Date: string (nullable = true)\n",
            " |-- Clock_in: string (nullable = true)\n",
            " |-- Clock_out: string (nullable = true)\n",
            " |-- work_hours: double (nullable = true)\n",
            " |-- tasks_completed: integer (nullable = true)\n",
            " |-- productivity_score: double (nullable = true)\n",
            " |-- Department: string (nullable = true)\n",
            " |-- Status: string (nullable = true)\n",
            "\n"
          ]
        }
      ]
    },
    {
      "cell_type": "code",
      "source": [
        "# 1. Top 5 Absentees\n",
        "top_absentees = cleaned_df.filter(col(\"Clock_out\").isNull()) \\\n",
        "    .groupBy(\"Employee_ID\") \\\n",
        "    .agg(count(\"*\").alias(\"Absence_Days\")) \\\n",
        "    .orderBy(desc(\"Absence_Days\")) \\\n",
        "    .limit(5)\n",
        "top_absentees.show()\n",
        "\n",
        "# 2. Lowest Performing Departments\n",
        "dept_performance = cleaned_df.groupBy(\"Department\") \\\n",
        "    .agg(avg(\"work_hours\").alias(\"Avg_Hours\"),\n",
        "         avg(when(col(\"Status\") == \"completed\", 1).otherwise(0)).alias(\"Completion_Rate\")) \\\n",
        "    .orderBy(\"Completion_Rate\") \\\n",
        "    .limit(5)\n",
        "dept_performance.show()\n",
        "\n",
        "top_absentees.toPandas().to_csv(\"top_absentees.csv\", index=False)\n",
        "dept_performance.toPandas().to_csv(\"lowest_performing_depts.csv\", index=False)"
      ],
      "metadata": {
        "colab": {
          "base_uri": "https://localhost:8080/"
        },
        "id": "ljP2VlewfrkK",
        "outputId": "b6a3ec4a-bc16-44e1-d08d-87bddc7baae0"
      },
      "execution_count": 31,
      "outputs": [
        {
          "output_type": "stream",
          "name": "stdout",
          "text": [
            "+-----------+------------+\n",
            "|Employee_ID|Absence_Days|\n",
            "+-----------+------------+\n",
            "|          4|           1|\n",
            "+-----------+------------+\n",
            "\n",
            "+------------+-------------+---------------+\n",
            "|  Department|    Avg_Hours|Completion_Rate|\n",
            "+------------+-------------+---------------+\n",
            "|          HR| 9.0416666665|            0.5|\n",
            "|      Retail|        5.375|            0.5|\n",
            "|Supply Chain|          0.0|            1.0|\n",
            "|          IT|8.21666666675|            1.0|\n",
            "+------------+-------------+---------------+\n",
            "\n"
          ]
        }
      ]
    }
  ]
}