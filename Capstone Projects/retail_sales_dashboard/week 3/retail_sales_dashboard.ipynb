{
  "cells": [
    {
      "cell_type": "code",
      "execution_count": 1,
      "metadata": {
        "colab": {
          "base_uri": "https://localhost:8080/",
          "height": 219
        },
        "id": "k0BFOjUrI_LN",
        "outputId": "b0fae8c3-87f6-4204-9287-1eefad2d58bc"
      },
      "outputs": [
        {
          "data": {
            "text/html": [
              "\n",
              "            <div>\n",
              "                <p><b>SparkSession - in-memory</b></p>\n",
              "                \n",
              "        <div>\n",
              "            <p><b>SparkContext</b></p>\n",
              "\n",
              "            <p><a href=\"http://c834d29fac8a:4040\">Spark UI</a></p>\n",
              "\n",
              "            <dl>\n",
              "              <dt>Version</dt>\n",
              "                <dd><code>v3.5.1</code></dd>\n",
              "              <dt>Master</dt>\n",
              "                <dd><code>local[*]</code></dd>\n",
              "              <dt>AppName</dt>\n",
              "                <dd><code>EmployeeData</code></dd>\n",
              "            </dl>\n",
              "        </div>\n",
              "        \n",
              "            </div>\n",
              "        "
            ],
            "text/plain": [
              "<pyspark.sql.session.SparkSession at 0x79ae62edb810>"
            ]
          },
          "execution_count": 1,
          "metadata": {},
          "output_type": "execute_result"
        }
      ],
      "source": [
        "from pyspark.sql import SparkSession\n",
        "\n",
        "spark=SparkSession.builder.appName(\"EmployeeData\").getOrCreate()\n",
        "spark"
      ]
    },
    {
      "cell_type": "code",
      "execution_count": 6,
      "metadata": {
        "colab": {
          "base_uri": "https://localhost:8080/"
        },
        "id": "MPQDKv0WJx9I",
        "outputId": "9e5bc6d6-782a-4a15-ec76-913edb89382d"
      },
      "outputs": [
        {
          "name": "stdout",
          "output_type": "stream",
          "text": [
            "Mounted at /content/drive\n"
          ]
        }
      ],
      "source": [
        "from google.colab import drive\n",
        "drive.mount('/content/drive',force_remount=True)\n",
        "\n",
        "sales =spark.read.csv('/content/drive/MyDrive/PysparkDemo/retail_sales.csv',header=True,inferSchema=True)\n"
      ]
    },
    {
      "cell_type": "code",
      "execution_count": 9,
      "metadata": {
        "colab": {
          "base_uri": "https://localhost:8080/"
        },
        "id": "ZMpU7L7wJxvX",
        "outputId": "e0d1ca9d-238c-44a9-932a-245022c1f426"
      },
      "outputs": [
        {
          "name": "stdout",
          "output_type": "stream",
          "text": [
            "+---------+--------------------+-------+----------+---------+---------+-------+-----+----+-------+\n",
            "|ProductID|         ProductName|StoreID|      Date|UnitsSold|UnitPrice|Returns|Month|Year|Revenue|\n",
            "+---------+--------------------+-------+----------+---------+---------+-------+-----+----+-------+\n",
            "|     1001|     Apple iPhone 14|      1|2025-01-10|      120|    799.0|      4|    1|2025|95880.0|\n",
            "|     1002|  Samsung Galaxy S23|      1|2025-01-15|       85|    749.0|      6|    1|2025|63665.0|\n",
            "|     1003|  Dell XPS 13 Laptop|      2|2025-01-18|       30|    999.0|     12|    1|2025|29970.0|\n",
            "|     1004|   Apple MacBook Air|      2|2025-02-01|       45|   1099.0|      3|    2|2025|49455.0|\n",
            "|     1005|Sony WH-1000XM5 H...|      3|2025-02-12|       18|    399.0|     14|    2|2025| 7182.0|\n",
            "|     1006|Bose QuietComfort 45|      3|2025-02-18|       22|    329.0|      2|    2|2025| 7238.0|\n",
            "|     1007|     Nintendo Switch|      1|2025-03-10|      200|    299.0|      5|    3|2025|59800.0|\n",
            "|     1008|     Amazon Echo Dot|      2|2025-03-12|      300|     49.0|     10|    3|2025|14700.0|\n",
            "|     1009|        HP Envy x360|      3|2025-04-05|       28|    849.0|     15|    4|2025|23772.0|\n",
            "|     1010|      Google Pixel 8|      1|2025-04-10|       12|    699.0|      9|    4|2025| 8388.0|\n",
            "|     1011|Samsung 55-inch S...|      2|2025-05-08|        5|    599.0|     11|    5|2025| 2995.0|\n",
            "|     1012|Apple Watch Series 9|      3|2025-05-15|      100|    399.0|      2|    5|2025|39900.0|\n",
            "+---------+--------------------+-------+----------+---------+---------+-------+-----+----+-------+\n",
            "\n",
            "+-------+------------------+\n",
            "|StoreID| AvgMonthlyRevenue|\n",
            "+-------+------------------+\n",
            "|      1|           75911.0|\n",
            "|      3|26030.666666666668|\n",
            "|      2|           24280.0|\n",
            "+-------+------------------+\n",
            "\n"
          ]
        }
      ],
      "source": [
        "from pyspark.sql import SparkSession\n",
        "from pyspark.sql.functions import col, sum, avg, month, year\n",
        "\n",
        "#Filter underperforming products\n",
        "underperforming_df = sales.filter((col(\"UnitsSold\") < 50) | (col(\"Returns\") > 10))\n",
        "underperforming_df.write.mode(\"overwrite\").csv(\"output/underperforming_products\", header=True)\n",
        "\n",
        "sales= sales.withColumn(\"Month\", month(\"Date\")).withColumn(\"Year\", year(\"Date\"))\n",
        "\n",
        "sales = sales.withColumn(\"Revenue\", col(\"UnitsSold\") * col(\"UnitPrice\"))\n",
        "\n",
        "sales.show()\n",
        "\n",
        "monthly_revenue = sales.groupBy(\"StoreID\", \"Year\", \"Month\").agg(sum(\"Revenue\").alias(\"MonthlyRevenue\"))\n",
        "\n",
        "#average monthly revenue per store\n",
        "average_revenue_per_store = monthly_revenue.groupBy(\"StoreID\").agg(avg(\"MonthlyRevenue\").alias(\"AvgMonthlyRevenue\"))\n",
        "\n",
        "#store-wise average revenue\n",
        "average_revenue_per_store.write.mode(\"overwrite\").csv(\"output/average_monthly_revenue\", header=True)\n",
        "\n",
        "average_revenue_per_store.show()\n"
      ]
    }
  ],
  "metadata": {
    "colab": {
      "provenance": []
    },
    "kernelspec": {
      "display_name": "Python 3",
      "name": "python3"
    },
    "language_info": {
      "name": "python"
    }
  },
  "nbformat": 4,
  "nbformat_minor": 0
}
