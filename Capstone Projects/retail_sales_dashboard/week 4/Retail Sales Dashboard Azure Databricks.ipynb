{
 "cells": [
  {
   "cell_type": "code",
   "execution_count": 0,
   "metadata": {
    "application/vnd.databricks.v1+cell": {
     "cellMetadata": {
      "byteLimit": 2048000,
      "rowLimit": 10000
     },
     "inputWidgets": {},
     "nuid": "4536a92a-592c-4d3c-bfda-2213fd319dce",
     "showTitle": false,
     "tableResultSettingsMap": {},
     "title": ""
    }
   },
   "outputs": [
    {
     "output_type": "execute_result",
     "data": {
      "text/plain": [
       "<pyspark.sql.connect.session.SparkSession at 0x7fe2957e8b50>"
      ]
     },
     "execution_count": 3,
     "metadata": {},
     "output_type": "execute_result"
    }
   ],
   "source": [
    "spark"
   ]
  },
  {
   "cell_type": "code",
   "execution_count": 0,
   "metadata": {
    "application/vnd.databricks.v1+cell": {
     "cellMetadata": {
      "byteLimit": 2048000,
      "rowLimit": 10000
     },
     "inputWidgets": {},
     "nuid": "2054849f-7ec9-4e10-9060-f772752f52d7",
     "showTitle": false,
     "tableResultSettingsMap": {},
     "title": ""
    }
   },
   "outputs": [
    {
     "output_type": "stream",
     "name": "stdout",
     "output_type": "stream",
     "text": [
      "+----------+-----------------+-----------+----------+-------------+\n|product_id|             name|   category|cost_price|selling_price|\n+----------+-----------------+-----------+----------+-------------+\n|         1|   Wireless Mouse|Electronics|        10|           15|\n|         2|Bluetooth Speaker|Electronics|        20|           30|\n|         3|     Office Chair|  Furniture|        50|           80|\n|         4|    Standing Desk|  Furniture|       120|          180|\n|         5|         Yoga Mat|     Sports|         8|           15|\n|         6|    Running Shoes|     Sports|        45|           70|\n|         7|      LED Monitor|Electronics|        90|          130|\n|         8|     Water Bottle|     Sports|         5|           10|\n|         9|     Laptop Stand|Accessories|        12|           20|\n|        10|       Phone Case|Accessories|         3|            8|\n|        11|        USB Cable|Electronics|         2|            5|\n|        12|       Headphones|Electronics|        25|           40|\n|        13|  Gaming Keyboard|Electronics|        40|           60|\n|        14|         Notebook| Stationery|         2|            3|\n|        15|          Pen Set| Stationery|         2|            5|\n+----------+-----------------+-----------+----------+-------------+\n\n+-------+----------+--------+----------+\n|sale_id|product_id|quantity| sale_date|\n+-------+----------+--------+----------+\n|    101|         1|       3|2025-06-01|\n|    102|         2|       2|2025-06-01|\n|    103|         3|       1|2025-06-02|\n|    104|         4|       1|2025-06-03|\n|    105|         5|       5|2025-06-03|\n|    106|         6|       2|2025-06-04|\n|    107|         7|       1|2025-06-05|\n|    108|         8|      10|2025-06-05|\n|    109|         9|       4|2025-06-06|\n|    110|        10|       7|2025-06-06|\n|    111|        11|       6|2025-06-06|\n|    112|        12|       3|2025-06-07|\n|    113|        13|       2|2025-06-07|\n|    114|        14|      10|2025-06-08|\n|    115|        15|       8|2025-06-08|\n+-------+----------+--------+----------+\n\n"
     ]
    },
    {
     "output_type": "display_data",
     "data": {
      "text/html": [
       "<style scoped>\n",
       "  .table-result-container {\n",
       "    max-height: 300px;\n",
       "    overflow: auto;\n",
       "  }\n",
       "  table, th, td {\n",
       "    border: 1px solid black;\n",
       "    border-collapse: collapse;\n",
       "  }\n",
       "  th, td {\n",
       "    padding: 5px;\n",
       "  }\n",
       "  th {\n",
       "    text-align: left;\n",
       "  }\n",
       "</style><div class='table-result-container'><table class='table-result'><thead style='background-color: white'><tr><th>category</th><th>total_revenue</th><th>total_cost</th><th>total_profit</th><th>profit_margin_percent</th></tr></thead><tbody><tr><td>Accessories</td><td>136</td><td>69</td><td>67</td><td>49.26</td></tr><tr><td>Furniture</td><td>260</td><td>170</td><td>90</td><td>34.62</td></tr><tr><td>Stationery</td><td>70</td><td>36</td><td>34</td><td>48.57</td></tr><tr><td>Sports</td><td>315</td><td>180</td><td>135</td><td>42.86</td></tr><tr><td>Electronics</td><td>505</td><td>327</td><td>178</td><td>35.25</td></tr></tbody></table></div>"
      ]
     },
     "metadata": {
      "application/vnd.databricks.v1+output": {
       "addedWidgets": {},
       "aggData": [],
       "aggError": "",
       "aggOverflow": false,
       "aggSchema": [],
       "aggSeriesLimitReached": false,
       "aggType": "",
       "arguments": {},
       "columnCustomDisplayInfos": {},
       "data": [
        [
         "Accessories",
         136,
         69,
         67,
         49.26
        ],
        [
         "Furniture",
         260,
         170,
         90,
         34.62
        ],
        [
         "Stationery",
         70,
         36,
         34,
         48.57
        ],
        [
         "Sports",
         315,
         180,
         135,
         42.86
        ],
        [
         "Electronics",
         505,
         327,
         178,
         35.25
        ]
       ],
       "datasetInfos": [],
       "dbfsResultPath": null,
       "isJsonSchema": true,
       "metadata": {},
       "overflow": false,
       "plotOptions": {
        "customPlotOptions": {},
        "displayType": "table",
        "pivotAggregation": null,
        "pivotColumns": null,
        "xColumns": null,
        "yColumns": null
       },
       "removedWidgets": [],
       "schema": [
        {
         "metadata": "{}",
         "name": "category",
         "type": "\"string\""
        },
        {
         "metadata": "{}",
         "name": "total_revenue",
         "type": "\"long\""
        },
        {
         "metadata": "{}",
         "name": "total_cost",
         "type": "\"long\""
        },
        {
         "metadata": "{}",
         "name": "total_profit",
         "type": "\"long\""
        },
        {
         "metadata": "{}",
         "name": "profit_margin_percent",
         "type": "\"double\""
        }
       ],
       "type": "table"
      }
     },
     "output_type": "display_data"
    },
    {
     "output_type": "display_data",
     "data": {
      "text/html": [
       "<style scoped>\n",
       "  .table-result-container {\n",
       "    max-height: 300px;\n",
       "    overflow: auto;\n",
       "  }\n",
       "  table, th, td {\n",
       "    border: 1px solid black;\n",
       "    border-collapse: collapse;\n",
       "  }\n",
       "  th, td {\n",
       "    padding: 5px;\n",
       "  }\n",
       "  th {\n",
       "    text-align: left;\n",
       "  }\n",
       "</style><div class='table-result-container'><table class='table-result'><thead style='background-color: white'><tr><th>path</th><th>name</th><th>size</th><th>modificationTime</th></tr></thead><tbody><tr><td>dbfs:/FileStore/output/category_metrics_csv/</td><td>category_metrics_csv/</td><td>0</td><td>1750008888000</td></tr><tr><td>dbfs:/FileStore/output/category_metrics_delta/</td><td>category_metrics_delta/</td><td>0</td><td>1750008887000</td></tr></tbody></table></div>"
      ]
     },
     "metadata": {
      "application/vnd.databricks.v1+output": {
       "addedWidgets": {},
       "aggData": [],
       "aggError": "",
       "aggOverflow": false,
       "aggSchema": [],
       "aggSeriesLimitReached": false,
       "aggType": "",
       "arguments": {},
       "columnCustomDisplayInfos": {},
       "data": [
        [
         "dbfs:/FileStore/output/category_metrics_csv/",
         "category_metrics_csv/",
         0,
         1750008888000
        ],
        [
         "dbfs:/FileStore/output/category_metrics_delta/",
         "category_metrics_delta/",
         0,
         1750008887000
        ]
       ],
       "datasetInfos": [],
       "dbfsResultPath": null,
       "isJsonSchema": true,
       "metadata": {},
       "overflow": false,
       "plotOptions": {
        "customPlotOptions": {},
        "displayType": "table",
        "pivotAggregation": null,
        "pivotColumns": null,
        "xColumns": null,
        "yColumns": null
       },
       "removedWidgets": [],
       "schema": [
        {
         "metadata": "{}",
         "name": "path",
         "type": "\"string\""
        },
        {
         "metadata": "{}",
         "name": "name",
         "type": "\"string\""
        },
        {
         "metadata": "{}",
         "name": "size",
         "type": "\"long\""
        },
        {
         "metadata": "{}",
         "name": "modificationTime",
         "type": "\"long\""
        }
       ],
       "type": "table"
      }
     },
     "output_type": "display_data"
    },
    {
     "output_type": "stream",
     "name": "stdout",
     "output_type": "stream",
     "text": [
      "+------------+-------------------+-------------+\n|product_name|total_quantity_sold|total_revenue|\n+------------+-------------------+-------------+\n|    Notebook|                 10|           30|\n|Water Bottle|                 10|          100|\n|     Pen Set|                  8|           40|\n+------------+-------------------+-------------+\n\n"
     ]
    }
   ],
   "source": [
    "from pyspark.sql.functions import *\n",
    "productsdf = spark.read.csv(\"dbfs:/FileStore/tables/products.csv\", header=True, inferSchema=True)\n",
    "salesdf = spark.read.csv(\"dbfs:/FileStore/tables/sales.csv\", header=True, inferSchema=True)\n",
    "productsdf.show()\n",
    "salesdf.show()\n",
    "\n",
    "# Join product and sales data\n",
    "joined = salesdf.join(productsdf, on=\"product_id\", how=\"inner\")\n",
    "\n",
    "# Transform - calculate total revenue, total cost, profit margin\n",
    "from pyspark.sql.functions import col, expr, round\n",
    "\n",
    "metricsdf = joined.withColumn(\"revenue\", col(\"quantity\") * col(\"selling_price\")) \\\n",
    "                      .withColumn(\"cost\", col(\"quantity\") * col(\"cost_price\")) \\\n",
    "                      .withColumn(\"profit\", col(\"revenue\") - col(\"cost\")) \\\n",
    "                      .withColumn(\"profit_margin\", round(col(\"profit\") / col(\"revenue\") * 100, 2))\n",
    "\n",
    "# Aggregate - profit margin by category\n",
    "category_metrics = metricsdf.groupBy(\"category\") \\\n",
    "                             .agg(\n",
    "                                 expr(\"sum(revenue) as total_revenue\"),\n",
    "                                 expr(\"sum(cost) as total_cost\"),\n",
    "                                 expr(\"sum(profit) as total_profit\"),\n",
    "                                 round(expr(\"sum(profit) / sum(revenue) * 100\"), 2).alias(\"profit_margin_percent\")\n",
    "                             )\n",
    "\n",
    "\n",
    "display(category_metrics)\n",
    "\n",
    "#Save Delta table and csv\n",
    "delta_path = \"dbfs:/FileStore/output/category_metrics_delta\"\n",
    "csv_path = \"/dbfs/FileStore/output/category_metrics.csv\"\n",
    "\n",
    "(category_metrics.write.format(\"delta\").mode(\"overwrite\").save(delta_path))\n",
    "category_metrics.write \\\n",
    "    .format(\"csv\") \\\n",
    "    .option(\"header\", \"true\") \\\n",
    "    .mode(\"overwrite\") \\\n",
    "    .save(\"dbfs:/FileStore/output/category_metrics_csv\")\n",
    "\n",
    "display(dbutils.fs.ls(\"dbfs:/FileStore/output/\"))\n",
    "\n",
    "metricsdf.createOrReplaceTempView(\"product_sales_metrics\")\n",
    "\n",
    "result = spark.sql(\n",
    "    \"\"\"\n",
    "    SELECT \n",
    "        name AS product_name, \n",
    "        SUM(quantity) AS total_quantity_sold, \n",
    "        SUM(revenue) AS total_revenue \n",
    "    FROM \n",
    "        product_sales_metrics \n",
    "    GROUP BY \n",
    "        name \n",
    "    ORDER BY \n",
    "        total_quantity_sold DESC \n",
    "    LIMIT 3\n",
    "\"\"\")\n",
    "result.show()\n"
   ]
  }
 ],
 "metadata": {
  "application/vnd.databricks.v1+notebook": {
   "computePreferences": null,
   "dashboards": [],
   "environmentMetadata": {
    "base_environment": "",
    "environment_version": "2"
   },
   "inputWidgetPreferences": null,
   "language": "python",
   "notebookMetadata": {
    "pythonIndentUnit": 4
   },
   "notebookName": "Retail Sales Dashboard Azure Databricks",
   "widgets": {}
  },
  "language_info": {
   "name": "python"
  }
 },
 "nbformat": 4,
 "nbformat_minor": 0
}