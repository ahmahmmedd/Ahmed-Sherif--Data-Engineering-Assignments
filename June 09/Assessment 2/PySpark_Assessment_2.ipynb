{
  "nbformat": 4,
  "nbformat_minor": 0,
  "metadata": {
    "colab": {
      "provenance": []
    },
    "kernelspec": {
      "name": "python3",
      "display_name": "Python 3"
    },
    "language_info": {
      "name": "python"
    }
  },
  "cells": [
    {
      "cell_type": "code",
      "execution_count": 1,
      "metadata": {
        "id": "gPaXdx55Ws3s"
      },
      "outputs": [],
      "source": [
        "from pyspark.sql import SparkSession\n",
        "from pyspark.sql.functions import *\n",
        "from pyspark.sql.types import *\n",
        "from pyspark.sql import Window\n",
        "spark = SparkSession.builder \\\n",
        "    .appName(\"HRAnalytics\") \\\n",
        "    .getOrCreate()"
      ]
    },
    {
      "cell_type": "markdown",
      "source": [
        "**Task 1: Ingestion & Exploration**"
      ],
      "metadata": {
        "id": "p-EeOmbEaWU-"
      }
    },
    {
      "cell_type": "code",
      "source": [
        "# Read datasets\n",
        "employees = spark.read.option(\"header\", True).option(\"inferSchema\", True).csv(\"employees.csv\")\n",
        "attendance = spark.read.option(\"header\", True).option(\"inferSchema\", True).csv(\"attendance.csv\")\n",
        "bonuses = spark.read.json(\"bonuses.json\")\n",
        "\n",
        "# Show schemas and sample records\n",
        "print(\"Employees schema:\")\n",
        "employees.printSchema()\n",
        "employees.show()\n",
        "\n",
        "print(\"\\nAttendance schema:\")\n",
        "attendance.printSchema()\n",
        "attendance.show()\n",
        "\n",
        "print(\"\\nBonuses schema:\")\n",
        "bonuses.printSchema()\n",
        "bonuses.show()\n",
        "\n",
        "# Count distinct departments\n",
        "print(\"\\nDistinct departments:\")\n",
        "employees.select(\"Department\").distinct().show()"
      ],
      "metadata": {
        "colab": {
          "base_uri": "https://localhost:8080/"
        },
        "id": "tZlK531AaX8Q",
        "outputId": "1299b0e8-fcca-44b7-c3c9-4ec6c994334b"
      },
      "execution_count": 3,
      "outputs": [
        {
          "output_type": "stream",
          "name": "stdout",
          "text": [
            "Employees schema:\n",
            "root\n",
            " |-- EmpID: integer (nullable = true)\n",
            " |-- Name: string (nullable = true)\n",
            " |-- Department: string (nullable = true)\n",
            " |-- JoinDate: date (nullable = true)\n",
            " |-- Salary: integer (nullable = true)\n",
            " |-- ManagerID: integer (nullable = true)\n",
            "\n",
            "+-----+------+-----------+----------+------+---------+\n",
            "|EmpID|  Name| Department|  JoinDate|Salary|ManagerID|\n",
            "+-----+------+-----------+----------+------+---------+\n",
            "|    1| Anita|         HR|2021-05-01| 55000|     NULL|\n",
            "|    2|   Raj|Engineering|2020-03-15| 80000|        1|\n",
            "|    3|Simran|Engineering|2022-07-10| 75000|        1|\n",
            "|    4| Aamir|  Marketing|2019-11-20| 60000|        1|\n",
            "|    5| Nisha|         HR|2023-01-05| 50000|        1|\n",
            "+-----+------+-----------+----------+------+---------+\n",
            "\n",
            "\n",
            "Attendance schema:\n",
            "root\n",
            " |-- EmpID: integer (nullable = true)\n",
            " |-- Date: date (nullable = true)\n",
            " |-- Status: string (nullable = true)\n",
            "\n",
            "+-----+----------+-------+\n",
            "|EmpID|      Date| Status|\n",
            "+-----+----------+-------+\n",
            "|    1|2024-04-01|Present|\n",
            "|    1|2024-04-02|Present|\n",
            "|    2|2024-04-01| Absent|\n",
            "|    2|2024-04-02|Present|\n",
            "|    3|2024-04-01|Present|\n",
            "|    3|2024-04-02|Present|\n",
            "|    4|2024-04-01| Absent|\n",
            "|    4|2024-04-02| Absent|\n",
            "|    5|2024-04-01|Present|\n",
            "|    5|2024-04-02|Present|\n",
            "+-----+----------+-------+\n",
            "\n",
            "\n",
            "Bonuses schema:\n",
            "root\n",
            " |-- Bonus: long (nullable = true)\n",
            " |-- EmpID: long (nullable = true)\n",
            " |-- Year: long (nullable = true)\n",
            " |-- _corrupt_record: string (nullable = true)\n",
            "\n",
            "+-----+-----+----+---------------+\n",
            "|Bonus|EmpID|Year|_corrupt_record|\n",
            "+-----+-----+----+---------------+\n",
            "| NULL| NULL|NULL|              [|\n",
            "| 5000|    1|2023|           NULL|\n",
            "| 7000|    2|2023|           NULL|\n",
            "| 6500|    3|2023|           NULL|\n",
            "| 6000|    4|2023|           NULL|\n",
            "| 4000|    5|2023|           NULL|\n",
            "| NULL| NULL|NULL|              ]|\n",
            "+-----+-----+----+---------------+\n",
            "\n",
            "\n",
            "Distinct departments:\n",
            "+-----------+\n",
            "| Department|\n",
            "+-----------+\n",
            "|Engineering|\n",
            "|         HR|\n",
            "|  Marketing|\n",
            "+-----------+\n",
            "\n"
          ]
        }
      ]
    },
    {
      "cell_type": "markdown",
      "source": [
        "**Task 2: DataFrame Operations**"
      ],
      "metadata": {
        "id": "8_wSbMPPcfWG"
      }
    },
    {
      "cell_type": "code",
      "source": [
        "# Add TenureYears column\n",
        "employees = employees.withColumn(\"TenureYears\", round(datediff(current_date(), col(\"JoinDate\"))/365, 1))\n",
        "employees.select(\"EmpID\", \"JoinDate\", \"TenureYears\").show()\n",
        "\n",
        "# Calculate TotalCompensation (after joining with bonuses)\n",
        "emp_bonus_df = employees.join(bonuses, on=\"EmpID\", how=\"left\")\n",
        "emp_bonus_df = emp_bonus_df.withColumn(\"TotalCompensation\", col(\"Salary\") + col(\"Bonus\"))\n",
        "emp_bonus_df.select(\"EmpID\", \"Salary\", \"Bonus\", \"TotalCompensation\").show()\n",
        "\n",
        "# Filter employees with >2 years tenure\n",
        "tenured_employees = employees.filter(col(\"TenureYears\") > 2)\n",
        "tenured_employees.show()\n",
        "\n",
        "# Show employees with managers\n",
        "has_manager = employees.filter(col(\"ManagerID\").isNotNull())\n",
        "has_manager.show()"
      ],
      "metadata": {
        "colab": {
          "base_uri": "https://localhost:8080/"
        },
        "id": "1GRoGm2iclnF",
        "outputId": "acd695e5-6488-48a8-dd56-a31f8e71133e"
      },
      "execution_count": 5,
      "outputs": [
        {
          "output_type": "stream",
          "name": "stdout",
          "text": [
            "+-----+----------+-----------+\n",
            "|EmpID|  JoinDate|TenureYears|\n",
            "+-----+----------+-----------+\n",
            "|    1|2021-05-01|        4.1|\n",
            "|    2|2020-03-15|        5.2|\n",
            "|    3|2022-07-10|        2.9|\n",
            "|    4|2019-11-20|        5.6|\n",
            "|    5|2023-01-05|        2.4|\n",
            "+-----+----------+-----------+\n",
            "\n",
            "+-----+------+-----+-----------------+\n",
            "|EmpID|Salary|Bonus|TotalCompensation|\n",
            "+-----+------+-----+-----------------+\n",
            "|    1| 55000| 5000|            60000|\n",
            "|    2| 80000| 7000|            87000|\n",
            "|    3| 75000| 6500|            81500|\n",
            "|    4| 60000| 6000|            66000|\n",
            "|    5| 50000| 4000|            54000|\n",
            "+-----+------+-----+-----------------+\n",
            "\n",
            "+-----+------+-----------+----------+------+---------+-----------+\n",
            "|EmpID|  Name| Department|  JoinDate|Salary|ManagerID|TenureYears|\n",
            "+-----+------+-----------+----------+------+---------+-----------+\n",
            "|    1| Anita|         HR|2021-05-01| 55000|     NULL|        4.1|\n",
            "|    2|   Raj|Engineering|2020-03-15| 80000|        1|        5.2|\n",
            "|    3|Simran|Engineering|2022-07-10| 75000|        1|        2.9|\n",
            "|    4| Aamir|  Marketing|2019-11-20| 60000|        1|        5.6|\n",
            "|    5| Nisha|         HR|2023-01-05| 50000|        1|        2.4|\n",
            "+-----+------+-----------+----------+------+---------+-----------+\n",
            "\n",
            "+-----+------+-----------+----------+------+---------+-----------+\n",
            "|EmpID|  Name| Department|  JoinDate|Salary|ManagerID|TenureYears|\n",
            "+-----+------+-----------+----------+------+---------+-----------+\n",
            "|    2|   Raj|Engineering|2020-03-15| 80000|        1|        5.2|\n",
            "|    3|Simran|Engineering|2022-07-10| 75000|        1|        2.9|\n",
            "|    4| Aamir|  Marketing|2019-11-20| 60000|        1|        5.6|\n",
            "|    5| Nisha|         HR|2023-01-05| 50000|        1|        2.4|\n",
            "+-----+------+-----------+----------+------+---------+-----------+\n",
            "\n"
          ]
        }
      ]
    },
    {
      "cell_type": "markdown",
      "source": [
        "**Task 3: Aggregation**"
      ],
      "metadata": {
        "id": "gc6rEmUPeRvJ"
      }
    },
    {
      "cell_type": "code",
      "source": [
        "# Average salary per department\n",
        "avg_salary = employees.groupBy(\"Department\") \\\n",
        ".agg(avg(\"Salary\").alias(\"AvgSalary\")) \\\n",
        ".orderBy(\"AvgSalary\", ascending=False)\n",
        "avg_salary.show()\n",
        "\n",
        "# Number of employees per manager\n",
        "employees_per_manager = employees.groupBy(\"ManagerID\") \\\n",
        ".agg(count(\"*\").alias(\"TeamSize\")) \\\n",
        ".filter(col(\"ManagerID\").isNotNull())\n",
        "employees_per_manager.show()\n",
        "\n",
        "# Count of absences per employee\n",
        "absences = attendance.filter(col(\"Status\") == \"Absent\") \\\n",
        ".groupBy(\"EmpID\") \\\n",
        ".agg(count(\"*\").alias(\"AbsenceCount\"))\n",
        "absences.show()"
      ],
      "metadata": {
        "colab": {
          "base_uri": "https://localhost:8080/"
        },
        "id": "qSbIWbPHeV6T",
        "outputId": "bbdc167f-a613-4515-f61d-017461b61801"
      },
      "execution_count": 7,
      "outputs": [
        {
          "output_type": "stream",
          "name": "stdout",
          "text": [
            "+-----------+---------+\n",
            "| Department|AvgSalary|\n",
            "+-----------+---------+\n",
            "|Engineering|  77500.0|\n",
            "|  Marketing|  60000.0|\n",
            "|         HR|  52500.0|\n",
            "+-----------+---------+\n",
            "\n",
            "+---------+--------+\n",
            "|ManagerID|TeamSize|\n",
            "+---------+--------+\n",
            "|        1|       4|\n",
            "+---------+--------+\n",
            "\n",
            "+-----+------------+\n",
            "|EmpID|AbsenceCount|\n",
            "+-----+------------+\n",
            "|    4|           2|\n",
            "|    2|           1|\n",
            "+-----+------------+\n",
            "\n"
          ]
        }
      ]
    },
    {
      "cell_type": "markdown",
      "source": [
        "**Task 4: Joins**"
      ],
      "metadata": {
        "id": "ICTc_Wk2g2rf"
      }
    },
    {
      "cell_type": "code",
      "source": [
        "# Join employees and attendance for attendance percentage\n",
        "stats = employees.join(attendance.groupBy(\"EmpID\").agg(count(\"*\").alias(\"TotalDays\"),\n",
        "sum(when(col(\"Status\") == \"Present\", 1).otherwise(0)).alias(\"PresentDays\")),\"EmpID\").withColumn(\"AttendancePct\", round(col(\"PresentDays\")/col(\"TotalDays\")*100, 2))\n",
        "stats.show()\n",
        "\n",
        "# Join employees and bonuses for compensation\n",
        "compensation = employees.join(bonuses, \"EmpID\") \\\n",
        ".withColumn(\"TotalCompensation\", col(\"Salary\") + col(\"Bonus\")) \\\n",
        ".orderBy(\"TotalCompensation\", ascending=False)\n",
        "compensation.show()\n",
        "\n",
        "# Multi-level join\n",
        "full_join = employees.join(bonuses, \"EmpID\") \\\n",
        ".join(stats, \"EmpID\")\n",
        "full_join.show()"
      ],
      "metadata": {
        "colab": {
          "base_uri": "https://localhost:8080/"
        },
        "id": "NELK7-iLg3nT",
        "outputId": "ad85216d-44cb-49c4-d2a9-2e88fbe3fbf1"
      },
      "execution_count": 8,
      "outputs": [
        {
          "output_type": "stream",
          "name": "stdout",
          "text": [
            "+-----+------+-----------+----------+------+---------+-----------+---------+-----------+-------------+\n",
            "|EmpID|  Name| Department|  JoinDate|Salary|ManagerID|TenureYears|TotalDays|PresentDays|AttendancePct|\n",
            "+-----+------+-----------+----------+------+---------+-----------+---------+-----------+-------------+\n",
            "|    1| Anita|         HR|2021-05-01| 55000|     NULL|        4.1|        2|          2|        100.0|\n",
            "|    2|   Raj|Engineering|2020-03-15| 80000|        1|        5.2|        2|          1|         50.0|\n",
            "|    3|Simran|Engineering|2022-07-10| 75000|        1|        2.9|        2|          2|        100.0|\n",
            "|    4| Aamir|  Marketing|2019-11-20| 60000|        1|        5.6|        2|          0|          0.0|\n",
            "|    5| Nisha|         HR|2023-01-05| 50000|        1|        2.4|        2|          2|        100.0|\n",
            "+-----+------+-----------+----------+------+---------+-----------+---------+-----------+-------------+\n",
            "\n",
            "+-----+------+-----------+----------+------+---------+-----------+-----+----+---------------+-----------------+\n",
            "|EmpID|  Name| Department|  JoinDate|Salary|ManagerID|TenureYears|Bonus|Year|_corrupt_record|TotalCompensation|\n",
            "+-----+------+-----------+----------+------+---------+-----------+-----+----+---------------+-----------------+\n",
            "|    2|   Raj|Engineering|2020-03-15| 80000|        1|        5.2| 7000|2023|           NULL|            87000|\n",
            "|    3|Simran|Engineering|2022-07-10| 75000|        1|        2.9| 6500|2023|           NULL|            81500|\n",
            "|    4| Aamir|  Marketing|2019-11-20| 60000|        1|        5.6| 6000|2023|           NULL|            66000|\n",
            "|    1| Anita|         HR|2021-05-01| 55000|     NULL|        4.1| 5000|2023|           NULL|            60000|\n",
            "|    5| Nisha|         HR|2023-01-05| 50000|        1|        2.4| 4000|2023|           NULL|            54000|\n",
            "+-----+------+-----------+----------+------+---------+-----------+-----+----+---------------+-----------------+\n",
            "\n",
            "+-----+------+-----------+----------+------+---------+-----------+-----+----+---------------+------+-----------+----------+------+---------+-----------+---------+-----------+-------------+\n",
            "|EmpID|  Name| Department|  JoinDate|Salary|ManagerID|TenureYears|Bonus|Year|_corrupt_record|  Name| Department|  JoinDate|Salary|ManagerID|TenureYears|TotalDays|PresentDays|AttendancePct|\n",
            "+-----+------+-----------+----------+------+---------+-----------+-----+----+---------------+------+-----------+----------+------+---------+-----------+---------+-----------+-------------+\n",
            "|    1| Anita|         HR|2021-05-01| 55000|     NULL|        4.1| 5000|2023|           NULL| Anita|         HR|2021-05-01| 55000|     NULL|        4.1|        2|          2|        100.0|\n",
            "|    2|   Raj|Engineering|2020-03-15| 80000|        1|        5.2| 7000|2023|           NULL|   Raj|Engineering|2020-03-15| 80000|        1|        5.2|        2|          1|         50.0|\n",
            "|    3|Simran|Engineering|2022-07-10| 75000|        1|        2.9| 6500|2023|           NULL|Simran|Engineering|2022-07-10| 75000|        1|        2.9|        2|          2|        100.0|\n",
            "|    4| Aamir|  Marketing|2019-11-20| 60000|        1|        5.6| 6000|2023|           NULL| Aamir|  Marketing|2019-11-20| 60000|        1|        5.6|        2|          0|          0.0|\n",
            "|    5| Nisha|         HR|2023-01-05| 50000|        1|        2.4| 4000|2023|           NULL| Nisha|         HR|2023-01-05| 50000|        1|        2.4|        2|          2|        100.0|\n",
            "+-----+------+-----------+----------+------+---------+-----------+-----+----+---------------+------+-----------+----------+------+---------+-----------+---------+-----------+-------------+\n",
            "\n"
          ]
        }
      ]
    },
    {
      "cell_type": "markdown",
      "source": [
        "**Task 5: String & Date Functions**"
      ],
      "metadata": {
        "id": "vGeeHgcuhdW4"
      }
    },
    {
      "cell_type": "code",
      "source": [
        "#Extract year and month from JoinDate\n",
        "employees = employees.withColumn(\"JoinYear\", year(col(\"JoinDate\"))) \\\n",
        ".withColumn(\"JoinMonth\", month(col(\"JoinDate\")))\n",
        "employees.select(\"EmpID\", \"JoinDate\", \"JoinYear\", \"JoinMonth\").show()\n",
        "\n",
        "# Mask employee names\n",
        "employees = employees.withColumn(\"MaskedName\",\n",
        "regexp_replace(col(\"Name\"), \"(?<=.).\", \"*\"))\n",
        "employees.select(\"EmpID\", \"Name\", \"MaskedName\").show()\n",
        "\n",
        "# Create EmpCode\n",
        "employees = employees.withColumn(\"EmpCode\",\n",
        "concat(lit(\"EMP\"), lpad(col(\"EmpID\"), 3, \"0\")))\n",
        "employees.select(\"EmpID\", \"EmpCode\").show()"
      ],
      "metadata": {
        "colab": {
          "base_uri": "https://localhost:8080/"
        },
        "id": "IhjzxITUhgIc",
        "outputId": "51269ff6-d2bf-4bf4-83ff-9ab5f0148851"
      },
      "execution_count": 9,
      "outputs": [
        {
          "output_type": "stream",
          "name": "stdout",
          "text": [
            "+-----+----------+--------+---------+\n",
            "|EmpID|  JoinDate|JoinYear|JoinMonth|\n",
            "+-----+----------+--------+---------+\n",
            "|    1|2021-05-01|    2021|        5|\n",
            "|    2|2020-03-15|    2020|        3|\n",
            "|    3|2022-07-10|    2022|        7|\n",
            "|    4|2019-11-20|    2019|       11|\n",
            "|    5|2023-01-05|    2023|        1|\n",
            "+-----+----------+--------+---------+\n",
            "\n",
            "+-----+------+----------+\n",
            "|EmpID|  Name|MaskedName|\n",
            "+-----+------+----------+\n",
            "|    1| Anita|     A****|\n",
            "|    2|   Raj|       R**|\n",
            "|    3|Simran|    S*****|\n",
            "|    4| Aamir|     A****|\n",
            "|    5| Nisha|     N****|\n",
            "+-----+------+----------+\n",
            "\n",
            "+-----+-------+\n",
            "|EmpID|EmpCode|\n",
            "+-----+-------+\n",
            "|    1| EMP001|\n",
            "|    2| EMP002|\n",
            "|    3| EMP003|\n",
            "|    4| EMP004|\n",
            "|    5| EMP005|\n",
            "+-----+-------+\n",
            "\n"
          ]
        }
      ]
    },
    {
      "cell_type": "markdown",
      "source": [
        "**Task 6: Conditional & Null Handling**"
      ],
      "metadata": {
        "id": "_Q-JD3Ngh7zn"
      }
    },
    {
      "cell_type": "code",
      "source": [
        "# Label performance based on bonus\n",
        "bonuses = bonuses.withColumn(\"Performance\",\n",
        "when(col(\"Bonus\") > 6000, \"High\").when((col(\"Bonus\") >= 4000) & (col(\"Bonus\") <= 6000), \"Medium\").otherwise(\"Low\"))\n",
        "bonuses.show()\n",
        "\n",
        "# Handle missing ManagerID\n",
        "employees = employees.na.fill({\"ManagerID\": \"No Manager\"})\n",
        "employees.select(\"EmpID\", \"Name\", \"ManagerID\").show()"
      ],
      "metadata": {
        "colab": {
          "base_uri": "https://localhost:8080/"
        },
        "id": "WnqcXqL4h-qc",
        "outputId": "79381560-64ac-4c16-e4f5-43de85d47f49"
      },
      "execution_count": 10,
      "outputs": [
        {
          "output_type": "stream",
          "name": "stdout",
          "text": [
            "+-----+-----+----+---------------+-----------+\n",
            "|Bonus|EmpID|Year|_corrupt_record|Performance|\n",
            "+-----+-----+----+---------------+-----------+\n",
            "| NULL| NULL|NULL|              [|        Low|\n",
            "| 5000|    1|2023|           NULL|     Medium|\n",
            "| 7000|    2|2023|           NULL|       High|\n",
            "| 6500|    3|2023|           NULL|       High|\n",
            "| 6000|    4|2023|           NULL|     Medium|\n",
            "| 4000|    5|2023|           NULL|     Medium|\n",
            "| NULL| NULL|NULL|              ]|        Low|\n",
            "+-----+-----+----+---------------+-----------+\n",
            "\n",
            "+-----+------+---------+\n",
            "|EmpID|  Name|ManagerID|\n",
            "+-----+------+---------+\n",
            "|    1| Anita|     NULL|\n",
            "|    2|   Raj|        1|\n",
            "|    3|Simran|        1|\n",
            "|    4| Aamir|        1|\n",
            "|    5| Nisha|        1|\n",
            "+-----+------+---------+\n",
            "\n"
          ]
        }
      ]
    },
    {
      "cell_type": "markdown",
      "source": [
        "**Task 7: Spark SQL**"
      ],
      "metadata": {
        "id": "PxZzgGPWicGx"
      }
    },
    {
      "cell_type": "code",
      "source": [
        "# Create HR database\n",
        "spark.sql(\"create database hr\")\n",
        "spark.catalog.setCurrentDatabase(\"hr\")\n",
        "\n",
        "# Save as tables\n",
        "employees.write.mode(\"overwrite\").saveAsTable(\"employees\")\n",
        "attendance.write.mode(\"overwrite\").saveAsTable(\"attendance\")\n",
        "bonuses.write.mode(\"overwrite\").saveAsTable(\"bonuses\")\n",
        "\n",
        "# SQL Queries\n",
        "spark.sql(\"\"\"select e.Department, e.Name, e.Salary\n",
        "from employees e\n",
        "join (select Department, max(Salary) as MaxSalary\n",
        "from employees group by Department) max_sal\n",
        "on e.Department = max_sal.Department and e.Salary = max_sal.MaxSalary;\"\"\").show()\n",
        "\n",
        "spark.sql(\"\"\"select e.Department,\n",
        "round(sum(case when a.Status = 'Present' then 1 else 0 END) * 100.0/ count(a.Status), 2) as AttendanceRate\n",
        "from employees e join attendance a ON e.EmpID = a.EmpID\n",
        "group by e.Department;\"\"\").show()\n",
        "\n",
        "spark.sql(\"\"\"select * from employees\n",
        "where year(JoinDate) > 2021 AND salary > 70000\"\"\").show()"
      ],
      "metadata": {
        "colab": {
          "base_uri": "https://localhost:8080/"
        },
        "id": "Lz-mNAyuimr6",
        "outputId": "98f4cd1e-8723-4f45-dc75-1e6c3e3a44ee"
      },
      "execution_count": 13,
      "outputs": [
        {
          "output_type": "stream",
          "name": "stdout",
          "text": [
            "+-----------+-----+------+\n",
            "| Department| Name|Salary|\n",
            "+-----------+-----+------+\n",
            "|         HR|Anita| 55000|\n",
            "|Engineering|  Raj| 80000|\n",
            "|  Marketing|Aamir| 60000|\n",
            "+-----------+-----+------+\n",
            "\n",
            "+-----------+--------------+\n",
            "| Department|AttendanceRate|\n",
            "+-----------+--------------+\n",
            "|Engineering|         75.00|\n",
            "|         HR|        100.00|\n",
            "|  Marketing|          0.00|\n",
            "+-----------+--------------+\n",
            "\n",
            "+-----+------+-----------+----------+------+---------+-----------+--------+---------+----------+-------+\n",
            "|EmpID|  Name| Department|  JoinDate|Salary|ManagerID|TenureYears|JoinYear|JoinMonth|MaskedName|EmpCode|\n",
            "+-----+------+-----------+----------+------+---------+-----------+--------+---------+----------+-------+\n",
            "|    3|Simran|Engineering|2022-07-10| 75000|        1|        2.9|    2022|        7|    S*****| EMP003|\n",
            "+-----+------+-----------+----------+------+---------+-----------+--------+---------+----------+-------+\n",
            "\n"
          ]
        }
      ]
    },
    {
      "cell_type": "markdown",
      "source": [
        "**Task 8: Advanced**"
      ],
      "metadata": {
        "id": "O-xxFeeQkvLC"
      }
    },
    {
      "cell_type": "code",
      "source": [
        "# UDF for department classification\n",
        "def dept_classifier(dept):\n",
        "    return \"Tech\" if dept in [\"Engineering\", \"IT\"] else \"Non-Tech\"\n",
        "\n",
        "dept_classifier_udf = udf(dept_classifier, StringType())\n",
        "employees = employees.withColumn(\"DeptType\", dept_classifier_udf(col(\"Department\")))\n",
        "employees.select(\"EmpID\", \"Department\", \"DeptType\").show()\n",
        "\n",
        "# Create view\n",
        "stats.createOrReplaceTempView(\"emp_attendance_summary\")\n",
        "\n",
        "# Save as Parquet partitioned by Department\n",
        "employees.write.partitionBy(\"Department\") \\\n",
        ".mode(\"overwrite\") \\\n",
        ".parquet(\"hr_employees_partitioned.parquet\")\n",
        "\n",
        "print(\"\\nPerformance ratings:\")\n",
        "bonuses.select(\"EmpID\", \"Bonus\", \"Performance\").show()"
      ],
      "metadata": {
        "colab": {
          "base_uri": "https://localhost:8080/"
        },
        "id": "4Nof8Aapk0sw",
        "outputId": "8087e134-a913-46bb-920d-3a89a8147d34"
      },
      "execution_count": 18,
      "outputs": [
        {
          "output_type": "stream",
          "name": "stdout",
          "text": [
            "+-----+-----------+--------+\n",
            "|EmpID| Department|DeptType|\n",
            "+-----+-----------+--------+\n",
            "|    1|         HR|Non-Tech|\n",
            "|    2|Engineering|    Tech|\n",
            "|    3|Engineering|    Tech|\n",
            "|    4|  Marketing|Non-Tech|\n",
            "|    5|         HR|Non-Tech|\n",
            "+-----+-----------+--------+\n",
            "\n",
            "\n",
            "Performance ratings:\n",
            "+-----+-----+-----------+\n",
            "|EmpID|Bonus|Performance|\n",
            "+-----+-----+-----------+\n",
            "| NULL| NULL|        Low|\n",
            "|    1| 5000|     Medium|\n",
            "|    2| 7000|       High|\n",
            "|    3| 6500|       High|\n",
            "|    4| 6000|     Medium|\n",
            "|    5| 4000|     Medium|\n",
            "| NULL| NULL|        Low|\n",
            "+-----+-----+-----------+\n",
            "\n"
          ]
        }
      ]
    }
  ]
}