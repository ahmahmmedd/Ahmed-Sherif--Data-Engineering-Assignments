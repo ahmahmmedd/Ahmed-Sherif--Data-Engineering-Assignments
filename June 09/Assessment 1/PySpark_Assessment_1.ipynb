{
  "nbformat": 4,
  "nbformat_minor": 0,
  "metadata": {
    "colab": {
      "provenance": []
    },
    "kernelspec": {
      "name": "python3",
      "display_name": "Python 3"
    },
    "language_info": {
      "name": "python"
    }
  },
  "cells": [
    {
      "cell_type": "code",
      "execution_count": 65,
      "metadata": {
        "id": "JqSRhdV0861t"
      },
      "outputs": [],
      "source": [
        "import time\n",
        "from pyspark.sql import SparkSession\n",
        "from pyspark.sql.functions import *\n",
        "from pyspark.sql.types import *\n",
        "from pyspark.sql import Window\n",
        "spark = SparkSession.builder \\\n",
        ".appName(\"PySparkAssessment\") \\\n",
        ".getOrCreate()"
      ]
    },
    {
      "cell_type": "markdown",
      "source": [
        "**Task 1: Data Ingestion & Exploration**"
      ],
      "metadata": {
        "id": "0XkA3kB6AJUM"
      }
    },
    {
      "cell_type": "code",
      "source": [
        "# Load datasets with schema inference\n",
        "customers = spark.read.option(\"header\", True).option(\"inferSchema\", True).csv(\"customers.csv\")\n",
        "orders = spark.read.option(\"header\", True).option(\"inferSchema\", True).csv(\"orders.csv\")\n",
        "\n",
        "# List all columns and data types\n",
        "print(\"Customers schema:\")\n",
        "customers.printSchema()\n",
        "print(\"\\nOrders schema:\")\n",
        "orders.printSchema()\n",
        "\n",
        "# Count total number of customers and orders\n",
        "print(f\"Total customers: {customers.count()}\")\n",
        "print(f\"Total orders: {orders.count()}\")\n",
        "\n",
        "# Show distinct cities\n",
        "print(\"\\nDistinct cities:\")\n",
        "customers.select(\"City\").distinct().show()"
      ],
      "metadata": {
        "colab": {
          "base_uri": "https://localhost:8080/"
        },
        "id": "Zp89d6ZqAOY7",
        "outputId": "2c5e7898-c9b9-4fe1-e6f3-bd86bdf4ffae"
      },
      "execution_count": 4,
      "outputs": [
        {
          "output_type": "stream",
          "name": "stdout",
          "text": [
            "Customers schema:\n",
            "root\n",
            " |-- CustomerID: integer (nullable = true)\n",
            " |-- Name: string (nullable = true)\n",
            " |-- Email: string (nullable = true)\n",
            " |-- City: string (nullable = true)\n",
            " |-- SignupDate: date (nullable = true)\n",
            "\n",
            "\n",
            "Orders schema:\n",
            "root\n",
            " |-- OrderID: integer (nullable = true)\n",
            " |-- CustomerID: integer (nullable = true)\n",
            " |-- Product: string (nullable = true)\n",
            " |-- Category: string (nullable = true)\n",
            " |-- Quantity: integer (nullable = true)\n",
            " |-- Price: double (nullable = true)\n",
            " |-- OrderDate: date (nullable = true)\n",
            "\n",
            "Total customers: 5\n",
            "Total orders: 7\n",
            "\n",
            "Distinct cities:\n",
            "+---------+\n",
            "|     City|\n",
            "+---------+\n",
            "|Bangalore|\n",
            "|  Chennai|\n",
            "|   Mumbai|\n",
            "|    Delhi|\n",
            "|Hyderabad|\n",
            "+---------+\n",
            "\n"
          ]
        }
      ]
    },
    {
      "cell_type": "markdown",
      "source": [
        "**Task 2: DataFrame Transformations**"
      ],
      "metadata": {
        "id": "b2Mf1xnVA51c"
      }
    },
    {
      "cell_type": "code",
      "source": [
        "# Add TotalAmount column\n",
        "orders = orders.withColumn(\"TotalAmount\", col(\"Price\") * col(\"Quantity\"))\n",
        "orders.select(\"OrderID\", \"TotalAmount\").show()\n",
        "\n",
        "# Create OrderYear column\n",
        "orders = orders.withColumn(\"OrderYear\", year(col(\"OrderDate\")))\n",
        "orders.select(\"OrderYear\").show()\n",
        "\n",
        "# Filter orders with TotalAmount > 10,000\n",
        "high = orders.filter(col(\"TotalAmount\") > 10000)\n",
        "high.show()\n",
        "\n",
        "# Drop Email column from customers\n",
        "customers = customers.drop(\"Email\")\n",
        "customers.show()"
      ],
      "metadata": {
        "colab": {
          "base_uri": "https://localhost:8080/"
        },
        "id": "RE09eoJVA9by",
        "outputId": "03ea98c0-9016-42e4-993b-881cd45a3650"
      },
      "execution_count": 8,
      "outputs": [
        {
          "output_type": "stream",
          "name": "stdout",
          "text": [
            "+-------+-----------+\n",
            "|OrderID|TotalAmount|\n",
            "+-------+-----------+\n",
            "|      1|   100000.0|\n",
            "|      2|     1200.0|\n",
            "|      3|    20000.0|\n",
            "|      4|     3500.0|\n",
            "|      5|     5000.0|\n",
            "|      6|     2500.0|\n",
            "|      7|    30000.0|\n",
            "+-------+-----------+\n",
            "\n",
            "+---------+\n",
            "|OrderYear|\n",
            "+---------+\n",
            "|     2024|\n",
            "|     2024|\n",
            "|     2024|\n",
            "|     2024|\n",
            "|     2024|\n",
            "|     2024|\n",
            "|     2024|\n",
            "+---------+\n",
            "\n",
            "+-------+----------+-------+-----------+--------+-------+----------+-----------+---------+\n",
            "|OrderID|CustomerID|Product|   Category|Quantity|  Price| OrderDate|TotalAmount|OrderYear|\n",
            "+-------+----------+-------+-----------+--------+-------+----------+-----------+---------+\n",
            "|      1|       101| Laptop|Electronics|       2|50000.0|2024-01-10|   100000.0|     2024|\n",
            "|      3|       102| Tablet|Electronics|       1|20000.0|2024-02-01|    20000.0|     2024|\n",
            "|      7|       102|  Phone|Electronics|       1|30000.0|2024-03-02|    30000.0|     2024|\n",
            "+-------+----------+-------+-----------+--------+-------+----------+-----------+---------+\n",
            "\n",
            "+----------+-----+---------+----------+\n",
            "|CustomerID| Name|     City|SignupDate|\n",
            "+----------+-----+---------+----------+\n",
            "|       101|  All|   Mumbai|2022-05-10|\n",
            "|       102| Neha|    Delhi|2023-01-15|\n",
            "|       103| Ravi|Bangalore|2021-11-01|\n",
            "|       104|Sneha|Hyderabad|2020-07-22|\n",
            "|       105| Amit|  Chennai|2023-03-10|\n",
            "+----------+-----+---------+----------+\n",
            "\n"
          ]
        }
      ]
    },
    {
      "cell_type": "markdown",
      "source": [
        "**Task 3: Handling Nulls & Conditionals**"
      ],
      "metadata": {
        "id": "YurOGO4BDKnF"
      }
    },
    {
      "cell_type": "code",
      "source": [
        "# Simulate a null in City and fill it with \"Unknown\"\n",
        "customers = customers.withColumn(\"City\", when(col(\"CustomerID\") == 102, None).otherwise(col(\"City\")))\n",
        "customers = customers.na.fill({\"City\": \"Unknown\"})\n",
        "customers.select(\"CustomerID\", \"Name\", \"City\").show()\n",
        "\n",
        "# Label customers as \"Loyal\" or \"New\"\n",
        "customers = customers.withColumn(\"CustomerType\",when(year(col(\"SignupDate\")) < 2022, \"Loyal\").otherwise(\"New\"))\n",
        "customers.select(\"customerid\", \"name\", \"signupdate\",\"customertype\").show()\n",
        "\n",
        "# Create OrderType column\n",
        "orders = orders.withColumn(\"OrderType\",\n",
        "when(col(\"TotalAmount\")<5000, \"Low\")\n",
        ".otherwise(\"High\"))\n",
        "orders.select(\"OrderID\", \"TotalAmount\", \"OrderType\").show()"
      ],
      "metadata": {
        "colab": {
          "base_uri": "https://localhost:8080/"
        },
        "id": "WH7zmi3IDUgA",
        "outputId": "74604f42-d1eb-4bf6-fb21-926916358799"
      },
      "execution_count": 12,
      "outputs": [
        {
          "output_type": "stream",
          "name": "stdout",
          "text": [
            "+----------+-----+---------+\n",
            "|CustomerID| Name|     City|\n",
            "+----------+-----+---------+\n",
            "|       101|  All|   Mumbai|\n",
            "|       102| Neha|  Unknown|\n",
            "|       103| Ravi|Bangalore|\n",
            "|       104|Sneha|Hyderabad|\n",
            "|       105| Amit|  Chennai|\n",
            "+----------+-----+---------+\n",
            "\n",
            "+----------+-----+----------+------------+\n",
            "|customerid| name|signupdate|customertype|\n",
            "+----------+-----+----------+------------+\n",
            "|       101|  All|2022-05-10|         New|\n",
            "|       102| Neha|2023-01-15|         New|\n",
            "|       103| Ravi|2021-11-01|       Loyal|\n",
            "|       104|Sneha|2020-07-22|       Loyal|\n",
            "|       105| Amit|2023-03-10|         New|\n",
            "+----------+-----+----------+------------+\n",
            "\n",
            "+-------+-----------+---------+\n",
            "|OrderID|TotalAmount|OrderType|\n",
            "+-------+-----------+---------+\n",
            "|      1|   100000.0|     High|\n",
            "|      2|     1200.0|      Low|\n",
            "|      3|    20000.0|     High|\n",
            "|      4|     3500.0|      Low|\n",
            "|      5|     5000.0|     High|\n",
            "|      6|     2500.0|      Low|\n",
            "|      7|    30000.0|     High|\n",
            "+-------+-----------+---------+\n",
            "\n"
          ]
        }
      ]
    },
    {
      "cell_type": "markdown",
      "source": [
        "**Task 4: Joins & Aggregations**"
      ],
      "metadata": {
        "id": "mEucGX7tFcpC"
      }
    },
    {
      "cell_type": "code",
      "source": [
        "# Join customers and orders\n",
        "customer_orders = customers.join(orders, \"CustomerID\")\n",
        "customer_orders.show()\n",
        "\n",
        "# Get total orders and revenue per city\n",
        "city_stats = customer_orders.groupBy(\"City\") \\\n",
        ".agg(count(\"OrderID\").alias(\"TotalOrders\"),\n",
        "sum(\"TotalAmount\").alias(\"TotalRevenue\")) \\\n",
        ".orderBy(\"TotalRevenue\", ascending=False)\n",
        "city_stats.show()\n",
        "\n",
        "# Show top 3 customers by total spend\n",
        "top_customers = customer_orders.groupBy(\"CustomerID\", \"Name\") \\\n",
        ".agg(sum(\"TotalAmount\").alias(\"TotalSpend\")) \\\n",
        ".orderBy(\"TotalSpend\", ascending=False) \\\n",
        ".limit(3)\n",
        "top_customers.show()\n",
        "\n",
        "# Count products sold per category\n",
        "category_stats = orders.groupBy(\"Category\") \\\n",
        "    .agg(sum(\"Quantity\").alias(\"ProductsSold\")) \\\n",
        "    .orderBy(\"ProductsSold\", ascending=False)\n",
        "category_stats.show()"
      ],
      "metadata": {
        "colab": {
          "base_uri": "https://localhost:8080/"
        },
        "id": "gcL6tQeAFh4R",
        "outputId": "25d51b7a-39dd-4af3-fabf-502f6243a19b"
      },
      "execution_count": 14,
      "outputs": [
        {
          "output_type": "stream",
          "name": "stdout",
          "text": [
            "+----------+-----+---------+----------+------------+-------+---------+-----------+--------+-------+----------+-----------+---------+---------+\n",
            "|CustomerID| Name|     City|SignupDate|CustomerType|OrderID|  Product|   Category|Quantity|  Price| OrderDate|TotalAmount|OrderYear|OrderType|\n",
            "+----------+-----+---------+----------+------------+-------+---------+-----------+--------+-------+----------+-----------+---------+---------+\n",
            "|       101|  All|   Mumbai|2022-05-10|         New|      1|   Laptop|Electronics|       2|50000.0|2024-01-10|   100000.0|     2024|     High|\n",
            "|       101|  All|   Mumbai|2022-05-10|         New|      2|    Mouse|Electronics|       1| 1200.0|2024-01-15|     1200.0|     2024|      Low|\n",
            "|       102| Neha|  Unknown|2023-01-15|         New|      3|   Tablet|Electronics|       1|20000.0|2024-02-01|    20000.0|     2024|     High|\n",
            "|       103| Ravi|Bangalore|2021-11-01|       Loyal|      4|Bookshelf|  Furniture|       1| 3500.0|2024-02-10|     3500.0|     2024|      Low|\n",
            "|       104|Sneha|Hyderabad|2020-07-22|       Loyal|      5|    Mixer| Appliances|       1| 5000.0|2024-02-15|     5000.0|     2024|     High|\n",
            "|       105| Amit|  Chennai|2023-03-10|         New|      6| Notebook| Stationery|       5|  500.0|2024-03-01|     2500.0|     2024|      Low|\n",
            "|       102| Neha|  Unknown|2023-01-15|         New|      7|    Phone|Electronics|       1|30000.0|2024-03-02|    30000.0|     2024|     High|\n",
            "+----------+-----+---------+----------+------------+-------+---------+-----------+--------+-------+----------+-----------+---------+---------+\n",
            "\n",
            "+---------+-----------+------------+\n",
            "|     City|TotalOrders|TotalRevenue|\n",
            "+---------+-----------+------------+\n",
            "|   Mumbai|          2|    101200.0|\n",
            "|  Unknown|          2|     50000.0|\n",
            "|Hyderabad|          1|      5000.0|\n",
            "|Bangalore|          1|      3500.0|\n",
            "|  Chennai|          1|      2500.0|\n",
            "+---------+-----------+------------+\n",
            "\n",
            "+----------+-----+----------+\n",
            "|CustomerID| Name|TotalSpend|\n",
            "+----------+-----+----------+\n",
            "|       101|  All|  101200.0|\n",
            "|       102| Neha|   50000.0|\n",
            "|       104|Sneha|    5000.0|\n",
            "+----------+-----+----------+\n",
            "\n",
            "+-----------+------------+\n",
            "|   Category|ProductsSold|\n",
            "+-----------+------------+\n",
            "| Stationery|           5|\n",
            "|Electronics|           5|\n",
            "|  Furniture|           1|\n",
            "| Appliances|           1|\n",
            "+-----------+------------+\n",
            "\n"
          ]
        }
      ]
    },
    {
      "cell_type": "markdown",
      "source": [
        "**Task 5: Spark SQL Tasks**"
      ],
      "metadata": {
        "id": "yCrHIh_sHXqa"
      }
    },
    {
      "cell_type": "code",
      "source": [
        "# Create sales database and switch to it\n",
        "spark.sql(\"create database sales\")\n",
        "spark.catalog.setCurrentDatabase(\"sales\")\n",
        "\n",
        "# Save datasets as tables\n",
        "customers.write.mode(\"overwrite\").saveAsTable(\"customers\")\n",
        "orders.write.mode(\"overwrite\").saveAsTable(\"orders\")\n",
        "\n",
        "# SQL queries\n",
        "# List all orders by customers from \"Delhi\"\n",
        "spark.sql(\"\"\"select o.*\n",
        "from orders o\n",
        "join customers c on o.CustomerID = c.CustomerID\n",
        "where c.City = 'Delhi'\"\"\").show()\n",
        "\n",
        "# Find average order value in each category\n",
        "spark.sql(\"\"\"select Category, AVG(TotalAmount) as AvgOrderValue\n",
        "from orders\n",
        "group by Category\"\"\").show()\n",
        "\n",
        "# Create view with month-wise total amount\n",
        "spark.sql(\"\"\"create or replace view monthly_orders AS\n",
        "select date_format(OrderDate, 'yyyy-MM') as Month, sum(TotalAmount) as MonthlyTotal\n",
        "from orders\n",
        "group by date_format(OrderDate, 'yyyy-MM')\"\"\")\n",
        "spark.sql(\"SELECT * FROM monthly_orders ORDER BY Month\").show()\n"
      ],
      "metadata": {
        "colab": {
          "base_uri": "https://localhost:8080/"
        },
        "id": "K8vfJMr-Ha5O",
        "outputId": "a67c8551-2e10-47f5-ecc1-27d5fbe2c5f0"
      },
      "execution_count": 59,
      "outputs": [
        {
          "output_type": "stream",
          "name": "stdout",
          "text": [
            "+-------+----------+-------+-----------+--------+------+----------+-----------+---------+---------+\n",
            "|OrderID|CustomerID|Product|   Category|Quantity| Price| OrderDate|TotalAmount|OrderYear|OrderType|\n",
            "+-------+----------+-------+-----------+--------+------+----------+-----------+---------+---------+\n",
            "|      8|       106| Laptop|Electronics|       2|2500.0|2024-06-09|     5000.0|     2024|      Low|\n",
            "+-------+----------+-------+-----------+--------+------+----------+-----------+---------+---------+\n",
            "\n",
            "+-----------+-------------+\n",
            "|   Category|AvgOrderValue|\n",
            "+-----------+-------------+\n",
            "| Stationery|       2500.0|\n",
            "|Electronics|      31240.0|\n",
            "|  Furniture|       3500.0|\n",
            "| Appliances|       5000.0|\n",
            "+-----------+-------------+\n",
            "\n",
            "+-------+------------+\n",
            "|  Month|MonthlyTotal|\n",
            "+-------+------------+\n",
            "|2024-01|    101200.0|\n",
            "|2024-02|     28500.0|\n",
            "|2024-03|     32500.0|\n",
            "|2024-06|      5000.0|\n",
            "+-------+------------+\n",
            "\n"
          ]
        }
      ]
    },
    {
      "cell_type": "markdown",
      "source": [
        "**Task 6: String & Date Functions**"
      ],
      "metadata": {
        "id": "HR2gl19ASW4P"
      }
    },
    {
      "cell_type": "code",
      "source": [
        "# Mask emails (assuming we reload original customers with email)\n",
        "email = spark.read.option(\"header\", True).option(\"inferSchema\", True).csv(\"customers.csv\")\n",
        "masked = email.withColumn(\"Email\",\n",
        "regexp_replace(col(\"Email\"), \"(?<=.).(?=.*@)\", \"*\"))\n",
        "masked.show()\n",
        "\n",
        "# Concatenate Name and City\n",
        "customers = customers.withColumn(\"NameCity\",\n",
        "concat(col(\"Name\"), lit(\" from \"), col(\"City\")))\n",
        "customers.select(\"customerid\",\"Name\",\"NameCity\").show()\n",
        "\n",
        "# Calculate customer age in days\n",
        "customers = customers.withColumn(\"CustomerAgeDays\",\n",
        "    datediff(current_date(), col(\"SignupDate\")))\n",
        "customers.select(\"customerid\",\"Name\",\"customeragedays\").show()\n",
        "\n",
        "# Extract month name from OrderDate\n",
        "orders = orders.withColumn(\"OrderMonth\",\n",
        "date_format(col(\"OrderDate\"), \"MMMM\"))\n",
        "orders.select(\"OrderID\",\"OrderDate\",\"OrderMonth\").show()\n"
      ],
      "metadata": {
        "colab": {
          "base_uri": "https://localhost:8080/"
        },
        "id": "r5g1P_hqSYQL",
        "outputId": "1304b364-1774-4bf9-bc6f-ecdaec264aa3"
      },
      "execution_count": 62,
      "outputs": [
        {
          "output_type": "stream",
          "name": "stdout",
          "text": [
            "+----------+-----+-----------------+---------+----------+\n",
            "|CustomerID| Name|            Email|     City|SignupDate|\n",
            "+----------+-----+-----------------+---------+----------+\n",
            "|       101|  All|    a**@gmail.com|   Mumbai|2022-05-10|\n",
            "|       102| Neha|   n***@yahoo.com|    Delhi|2023-01-15|\n",
            "|       103| Ravi| r***@hotmail.com|Bangalore|2021-11-01|\n",
            "|       104|Sneha|s****@outlook.com|Hyderabad|2020-07-22|\n",
            "|       105| Amit|   a***@gmail.com|  Chennai|2023-03-10|\n",
            "+----------+-----+-----------------+---------+----------+\n",
            "\n",
            "+----------+-----+--------------------+\n",
            "|customerid| Name|            NameCity|\n",
            "+----------+-----+--------------------+\n",
            "|       101|  All|     All from Mumbai|\n",
            "|       102| Neha|   Neha from Unknown|\n",
            "|       103| Ravi| Ravi from Bangalore|\n",
            "|       104|Sneha|Sneha from Hyderabad|\n",
            "|       105| Amit|   Amit from Chennai|\n",
            "+----------+-----+--------------------+\n",
            "\n",
            "+----------+-----+---------------+\n",
            "|customerid| Name|customeragedays|\n",
            "+----------+-----+---------------+\n",
            "|       101|  All|           1126|\n",
            "|       102| Neha|            876|\n",
            "|       103| Ravi|           1316|\n",
            "|       104|Sneha|           1783|\n",
            "|       105| Amit|            822|\n",
            "+----------+-----+---------------+\n",
            "\n",
            "+-------+----------+----------+\n",
            "|OrderID| OrderDate|OrderMonth|\n",
            "+-------+----------+----------+\n",
            "|      1|2024-01-10|   January|\n",
            "|      2|2024-01-15|   January|\n",
            "|      3|2024-02-01|  February|\n",
            "|      4|2024-02-10|  February|\n",
            "|      5|2024-02-15|  February|\n",
            "|      6|2024-03-01|     March|\n",
            "|      7|2024-03-02|     March|\n",
            "+-------+----------+----------+\n",
            "\n"
          ]
        }
      ]
    },
    {
      "cell_type": "markdown",
      "source": [
        "**Task 7: UDFs and Complex Logic**"
      ],
      "metadata": {
        "id": "MZbXgvSNT0hf"
      }
    },
    {
      "cell_type": "code",
      "source": [
        "# UDF to tag customers by spend\n",
        "def customer_tag(total_spend):\n",
        "    if total_spend < 10000:\n",
        "        return \"Bronze\"\n",
        "    elif total_spend >= 10000 and total_spend <= 50000:\n",
        "        return \"Silver\"\n",
        "    else:\n",
        "        return \"Gold\"\n",
        "\n",
        "customer_tag_udf = udf(customer_tag, StringType())\n",
        "customer_spend = customer_orders.groupBy(\"CustomerID\") \\\n",
        "    .agg(sum(\"TotalAmount\").alias(\"TotalSpend\"))\n",
        "customer_spend = customer_spend.withColumn(\"CustomerTag\", customer_tag_udf(col(\"TotalSpend\")))\n",
        "customer_spend.show()\n",
        "\n",
        "# UDF to shorten product names\n",
        "def shorten_product(name):\n",
        "    return name[:3] + \"...\"\n",
        "\n",
        "shorten_product_udf = udf(shorten_product, StringType())\n",
        "orders = orders.withColumn(\"ShortProduct\", shorten_product_udf(col(\"Product\")))\n",
        "orders.select(\"OrderID\", \"Product\", \"ShortProduct\", \"TotalAmount\").show()"
      ],
      "metadata": {
        "colab": {
          "base_uri": "https://localhost:8080/"
        },
        "id": "FKlVO40jT3kQ",
        "outputId": "f0ee5908-280c-4a69-cdfe-33c942589ca5"
      },
      "execution_count": 64,
      "outputs": [
        {
          "output_type": "stream",
          "name": "stdout",
          "text": [
            "+----------+----------+-----------+\n",
            "|CustomerID|TotalSpend|CustomerTag|\n",
            "+----------+----------+-----------+\n",
            "|       101|  101200.0|       Gold|\n",
            "|       103|    3500.0|     Bronze|\n",
            "|       102|   50000.0|     Silver|\n",
            "|       105|    2500.0|     Bronze|\n",
            "|       104|    5000.0|     Bronze|\n",
            "+----------+----------+-----------+\n",
            "\n",
            "+-------+---------+------------+-----------+\n",
            "|OrderID|  Product|ShortProduct|TotalAmount|\n",
            "+-------+---------+------------+-----------+\n",
            "|      1|   Laptop|      Lap...|   100000.0|\n",
            "|      2|    Mouse|      Mou...|     1200.0|\n",
            "|      3|   Tablet|      Tab...|    20000.0|\n",
            "|      4|Bookshelf|      Boo...|     3500.0|\n",
            "|      5|    Mixer|      Mix...|     5000.0|\n",
            "|      6| Notebook|      Not...|     2500.0|\n",
            "|      7|    Phone|      Pho...|    30000.0|\n",
            "+-------+---------+------------+-----------+\n",
            "\n"
          ]
        }
      ]
    },
    {
      "cell_type": "markdown",
      "source": [
        "**Task 8: Parquet & Views**"
      ],
      "metadata": {
        "id": "NA7Uy-s4VdVc"
      }
    },
    {
      "cell_type": "code",
      "source": [
        "# Save joined result as Parquet\n",
        "customer_orders.write.mode(\"overwrite\").parquet(\"customer_orders.parquet\")\n",
        "\n",
        "# Read back and verify schema\n",
        "parquet_df = spark.read.parquet(\"customer_orders.parquet\")\n",
        "print(\"\\nParquet file schema:\")\n",
        "parquet_df.printSchema()\n",
        "\n",
        "# Create and query global temp view\n",
        "customer_orders.createGlobalTempView(\"global_customer_orders\")\n",
        "spark.sql(\"SELECT * FROM global_temp.global_customer_orders LIMIT 5\").show()\n",
        "\n",
        "# Performance comparison\n",
        "start_time = time.time()\n",
        "csv_df = spark.read.option(\"header\", True).csv(\"orders.csv\")\n",
        "csv_df.count()\n",
        "print(f\"CSV read time: {time.time() - start_time} seconds\")\n",
        "\n",
        "start_time = time.time()\n",
        "parquet_df = spark.read.parquet(\"customer_orders.parquet\")\n",
        "parquet_df.count()\n",
        "print(f\"Parquet read time: {time.time() - start_time} seconds\")"
      ],
      "metadata": {
        "colab": {
          "base_uri": "https://localhost:8080/"
        },
        "id": "tsCqf0w4ViSZ",
        "outputId": "c333cca7-7c52-427d-c6dc-4419b802dbe4"
      },
      "execution_count": 66,
      "outputs": [
        {
          "output_type": "stream",
          "name": "stdout",
          "text": [
            "\n",
            "Parquet file schema:\n",
            "root\n",
            " |-- CustomerID: integer (nullable = true)\n",
            " |-- Name: string (nullable = true)\n",
            " |-- City: string (nullable = true)\n",
            " |-- SignupDate: date (nullable = true)\n",
            " |-- CustomerType: string (nullable = true)\n",
            " |-- OrderID: integer (nullable = true)\n",
            " |-- Product: string (nullable = true)\n",
            " |-- Category: string (nullable = true)\n",
            " |-- Quantity: integer (nullable = true)\n",
            " |-- Price: double (nullable = true)\n",
            " |-- OrderDate: date (nullable = true)\n",
            " |-- TotalAmount: double (nullable = true)\n",
            " |-- OrderYear: integer (nullable = true)\n",
            " |-- OrderType: string (nullable = true)\n",
            "\n",
            "+----------+-----+---------+----------+------------+-------+---------+-----------+--------+-------+----------+-----------+---------+---------+\n",
            "|CustomerID| Name|     City|SignupDate|CustomerType|OrderID|  Product|   Category|Quantity|  Price| OrderDate|TotalAmount|OrderYear|OrderType|\n",
            "+----------+-----+---------+----------+------------+-------+---------+-----------+--------+-------+----------+-----------+---------+---------+\n",
            "|       101|  All|   Mumbai|2022-05-10|         New|      1|   Laptop|Electronics|       2|50000.0|2024-01-10|   100000.0|     2024|     High|\n",
            "|       101|  All|   Mumbai|2022-05-10|         New|      2|    Mouse|Electronics|       1| 1200.0|2024-01-15|     1200.0|     2024|      Low|\n",
            "|       102| Neha|  Unknown|2023-01-15|         New|      3|   Tablet|Electronics|       1|20000.0|2024-02-01|    20000.0|     2024|     High|\n",
            "|       103| Ravi|Bangalore|2021-11-01|       Loyal|      4|Bookshelf|  Furniture|       1| 3500.0|2024-02-10|     3500.0|     2024|      Low|\n",
            "|       104|Sneha|Hyderabad|2020-07-22|       Loyal|      5|    Mixer| Appliances|       1| 5000.0|2024-02-15|     5000.0|     2024|     High|\n",
            "+----------+-----+---------+----------+------------+-------+---------+-----------+--------+-------+----------+-----------+---------+---------+\n",
            "\n",
            "CSV read time: 0.7467000484466553 seconds\n",
            "Parquet read time: 0.6122148036956787 seconds\n"
          ]
        }
      ]
    },
    {
      "cell_type": "markdown",
      "source": [],
      "metadata": {
        "id": "qwUrvVwpR4Ui"
      }
    }
  ]
}