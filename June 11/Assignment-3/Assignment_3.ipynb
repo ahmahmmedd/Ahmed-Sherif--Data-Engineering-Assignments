{
 "cells": [
  {
   "cell_type": "code",
   "execution_count": 0,
   "metadata": {
    "application/vnd.databricks.v1+cell": {
     "cellMetadata": {
      "byteLimit": 2048000,
      "rowLimit": 10000
     },
     "inputWidgets": {},
     "nuid": "fe234404-3a1d-46fd-b8a8-5cf35fd3b49d",
     "showTitle": false,
     "tableResultSettingsMap": {},
     "title": ""
    }
   },
   "outputs": [
    {
     "output_type": "execute_result",
     "data": {
      "text/plain": [
       "<pyspark.sql.connect.session.SparkSession at 0x7f9476dd0590>"
      ]
     },
     "execution_count": 4,
     "metadata": {},
     "output_type": "execute_result"
    }
   ],
   "source": [
    "from pyspark.sql import SparkSession\n",
    "from pyspark.sql.functions import *\n",
    "from pyspark.sql.types import *\n",
    "import random\n",
    "spark=SparkSession.builder\\\n",
    "      .appName(\"Combining-data\")\\\n",
    "      .getOrCreate()\n",
    "spark"
   ]
  },
  {
   "cell_type": "code",
   "execution_count": 0,
   "metadata": {
    "application/vnd.databricks.v1+cell": {
     "cellMetadata": {
      "byteLimit": 2048000,
      "rowLimit": 10000
     },
     "inputWidgets": {},
     "nuid": "e9b68b80-3433-4c3c-9518-97d546b767cd",
     "showTitle": false,
     "tableResultSettingsMap": {},
     "title": ""
    }
   },
   "outputs": [
    {
     "output_type": "stream",
     "name": "stdout",
     "output_type": "stream",
     "text": [
      "+------+-----------+------+\n|  Name| Department|Salary|\n+------+-----------+------+\n|Ananya|         HR| 52000|\n| Rahul|Engineering| 65000|\n| Priya|Engineering| 60000|\n|  Zoya|  Marketing| 48000|\n| Karan|         HR| 53000|\n|Naveen|Engineering| 70000|\n|Fatima|  Marketing| 45000|\n+------+-----------+------+\n\n+------+----+------+\n|  Name|Year|Rating|\n+------+----+------+\n|Ananya|2023|   4.5|\n| Rahul|2023|   4.9|\n| Priya|2023|   4.3|\n|  Zoya|2023|   3.8|\n| Karan|2023|   4.1|\n|Naveen|2023|   4.7|\n|Fatima|2023|   3.9|\n+------+----+------+\n\n+------+----------------+-----------+\n|  Name|         Project|HoursWorked|\n+------+----------------+-----------+\n|Ananya|       HR Portal|        129|\n| Rahul|   Data Platform|        200|\n| Priya|   Data Platform|        180|\n|  Zoya|Campaign Tracker|        100|\n| Karan|       HR Portal|        130|\n|Naveen|     ML Pipeline|        220|\n|Fatima|Campaign Tracker|         90|\n+------+----------------+-----------+\n\n"
     ]
    }
   ],
   "source": [
    "data = [(\"Ananya\", \"HR\", 52000),\n",
    "(\"Rahul\", \"Engineering\", 65000),\n",
    "(\"Priya\", \"Engineering\", 60000),\n",
    "(\"Zoya\", \"Marketing\", 48000),\n",
    "(\"Karan\", \"HR\", 53000),\n",
    "(\"Naveen\", \"Engineering\", 70000),\n",
    "(\"Fatima\", \"Marketing\", 45000)]\n",
    "columns = [\"Name\", \"Department\", \"Salary\"]\n",
    "df = spark.createDataFrame(data, columns)\n",
    "df.show()\n",
    "\n",
    "performance = [\n",
    "    (\"Ananya\", 2023, 4.5),\n",
    "    (\"Rahul\", 2023, 4.9),\n",
    "    (\"Priya\", 2023, 4.3),\n",
    "    (\"Zoya\", 2023, 3.8),\n",
    "    (\"Karan\", 2023, 4.1),\n",
    "    (\"Naveen\", 2023, 4.7),\n",
    "    (\"Fatima\", 2023, 3.9)\n",
    "]\n",
    "columns_perf = [\"Name\", \"Year\", \"Rating\"]\n",
    "df_perf = spark.createDataFrame(performance, columns_perf)\n",
    "df_perf.show()\n",
    "\n",
    "project_data = [\n",
    "    (\"Ananya\", \"HR Portal\", 129),\n",
    "    (\"Rahul\", \"Data Platform\", 200),\n",
    "    (\"Priya\", \"Data Platform\", 180),\n",
    "    (\"Zoya\", \"Campaign Tracker\", 100),\n",
    "    (\"Karan\", \"HR Portal\", 130),\n",
    "    (\"Naveen\", \"ML Pipeline\", 220),\n",
    "    (\"Fatima\", \"Campaign Tracker\", 90)\n",
    "]\n",
    "df_proj = spark.createDataFrame(project_data, [\"Name\", \"Project\", \"HoursWorked\"])\n",
    "df_proj.show()"
   ]
  },
  {
   "cell_type": "code",
   "execution_count": 0,
   "metadata": {
    "application/vnd.databricks.v1+cell": {
     "cellMetadata": {
      "byteLimit": 2048000,
      "rowLimit": 10000
     },
     "inputWidgets": {},
     "nuid": "ce862f0b-2bf1-4481-a7ca-ae28584c8144",
     "showTitle": true,
     "tableResultSettingsMap": {},
     "title": "Joins and Advanced Aggregations"
    }
   },
   "outputs": [
    {
     "output_type": "display_data",
     "data": {
      "text/html": [
       "<style scoped>\n",
       "  .table-result-container {\n",
       "    max-height: 300px;\n",
       "    overflow: auto;\n",
       "  }\n",
       "  table, th, td {\n",
       "    border: 1px solid black;\n",
       "    border-collapse: collapse;\n",
       "  }\n",
       "  th, td {\n",
       "    padding: 5px;\n",
       "  }\n",
       "  th {\n",
       "    text-align: left;\n",
       "  }\n",
       "</style><div class='table-result-container'><table class='table-result'><thead style='background-color: white'><tr><th>Name</th><th>Department</th><th>Salary</th><th>Year</th><th>Rating</th><th>Project</th><th>HoursWorked</th></tr></thead><tbody><tr><td>Ananya</td><td>HR</td><td>52000</td><td>2023</td><td>4.5</td><td>HR Portal</td><td>129</td></tr><tr><td>Rahul</td><td>Engineering</td><td>65000</td><td>2023</td><td>4.9</td><td>Data Platform</td><td>200</td></tr><tr><td>Priya</td><td>Engineering</td><td>60000</td><td>2023</td><td>4.3</td><td>Data Platform</td><td>180</td></tr><tr><td>Zoya</td><td>Marketing</td><td>48000</td><td>2023</td><td>3.8</td><td>Campaign Tracker</td><td>100</td></tr><tr><td>Karan</td><td>HR</td><td>53000</td><td>2023</td><td>4.1</td><td>HR Portal</td><td>130</td></tr><tr><td>Naveen</td><td>Engineering</td><td>70000</td><td>2023</td><td>4.7</td><td>ML Pipeline</td><td>220</td></tr><tr><td>Fatima</td><td>Marketing</td><td>45000</td><td>2023</td><td>3.9</td><td>Campaign Tracker</td><td>90</td></tr></tbody></table></div>"
      ]
     },
     "metadata": {
      "application/vnd.databricks.v1+output": {
       "addedWidgets": {},
       "aggData": [],
       "aggError": "",
       "aggOverflow": false,
       "aggSchema": [],
       "aggSeriesLimitReached": false,
       "aggType": "",
       "arguments": {},
       "columnCustomDisplayInfos": {},
       "data": [
        [
         "Ananya",
         "HR",
         52000,
         2023,
         4.5,
         "HR Portal",
         129
        ],
        [
         "Rahul",
         "Engineering",
         65000,
         2023,
         4.9,
         "Data Platform",
         200
        ],
        [
         "Priya",
         "Engineering",
         60000,
         2023,
         4.3,
         "Data Platform",
         180
        ],
        [
         "Zoya",
         "Marketing",
         48000,
         2023,
         3.8,
         "Campaign Tracker",
         100
        ],
        [
         "Karan",
         "HR",
         53000,
         2023,
         4.1,
         "HR Portal",
         130
        ],
        [
         "Naveen",
         "Engineering",
         70000,
         2023,
         4.7,
         "ML Pipeline",
         220
        ],
        [
         "Fatima",
         "Marketing",
         45000,
         2023,
         3.9,
         "Campaign Tracker",
         90
        ]
       ],
       "datasetInfos": [],
       "dbfsResultPath": null,
       "isJsonSchema": true,
       "metadata": {},
       "overflow": false,
       "plotOptions": {
        "customPlotOptions": {},
        "displayType": "table",
        "pivotAggregation": null,
        "pivotColumns": null,
        "xColumns": null,
        "yColumns": null
       },
       "removedWidgets": [],
       "schema": [
        {
         "metadata": "{}",
         "name": "Name",
         "type": "\"string\""
        },
        {
         "metadata": "{}",
         "name": "Department",
         "type": "\"string\""
        },
        {
         "metadata": "{}",
         "name": "Salary",
         "type": "\"long\""
        },
        {
         "metadata": "{}",
         "name": "Year",
         "type": "\"long\""
        },
        {
         "metadata": "{}",
         "name": "Rating",
         "type": "\"double\""
        },
        {
         "metadata": "{}",
         "name": "Project",
         "type": "\"string\""
        },
        {
         "metadata": "{}",
         "name": "HoursWorked",
         "type": "\"long\""
        }
       ],
       "type": "table"
      }
     },
     "output_type": "display_data"
    },
    {
     "output_type": "display_data",
     "data": {
      "text/html": [
       "<style scoped>\n",
       "  .table-result-container {\n",
       "    max-height: 300px;\n",
       "    overflow: auto;\n",
       "  }\n",
       "  table, th, td {\n",
       "    border: 1px solid black;\n",
       "    border-collapse: collapse;\n",
       "  }\n",
       "  th, td {\n",
       "    padding: 5px;\n",
       "  }\n",
       "  th {\n",
       "    text-align: left;\n",
       "  }\n",
       "</style><div class='table-result-container'><table class='table-result'><thead style='background-color: white'><tr><th>Department</th><th>Total_Hours</th></tr></thead><tbody><tr><td>HR</td><td>259</td></tr><tr><td>Engineering</td><td>600</td></tr><tr><td>Marketing</td><td>190</td></tr></tbody></table></div>"
      ]
     },
     "metadata": {
      "application/vnd.databricks.v1+output": {
       "addedWidgets": {},
       "aggData": [],
       "aggError": "",
       "aggOverflow": false,
       "aggSchema": [],
       "aggSeriesLimitReached": false,
       "aggType": "",
       "arguments": {},
       "columnCustomDisplayInfos": {},
       "data": [
        [
         "HR",
         259
        ],
        [
         "Engineering",
         600
        ],
        [
         "Marketing",
         190
        ]
       ],
       "datasetInfos": [],
       "dbfsResultPath": null,
       "isJsonSchema": true,
       "metadata": {},
       "overflow": false,
       "plotOptions": {
        "customPlotOptions": {},
        "displayType": "table",
        "pivotAggregation": null,
        "pivotColumns": null,
        "xColumns": null,
        "yColumns": null
       },
       "removedWidgets": [],
       "schema": [
        {
         "metadata": "{}",
         "name": "Department",
         "type": "\"string\""
        },
        {
         "metadata": "{}",
         "name": "Total_Hours",
         "type": "\"long\""
        }
       ],
       "type": "table"
      }
     },
     "output_type": "display_data"
    },
    {
     "output_type": "display_data",
     "data": {
      "text/html": [
       "<style scoped>\n",
       "  .table-result-container {\n",
       "    max-height: 300px;\n",
       "    overflow: auto;\n",
       "  }\n",
       "  table, th, td {\n",
       "    border: 1px solid black;\n",
       "    border-collapse: collapse;\n",
       "  }\n",
       "  th, td {\n",
       "    padding: 5px;\n",
       "  }\n",
       "  th {\n",
       "    text-align: left;\n",
       "  }\n",
       "</style><div class='table-result-container'><table class='table-result'><thead style='background-color: white'><tr><th>Project</th><th>Avg_Rating</th></tr></thead><tbody><tr><td>HR Portal</td><td>4.3</td></tr><tr><td>Data Platform</td><td>4.6</td></tr><tr><td>Campaign Tracker</td><td>3.8499999999999996</td></tr><tr><td>ML Pipeline</td><td>4.7</td></tr></tbody></table></div>"
      ]
     },
     "metadata": {
      "application/vnd.databricks.v1+output": {
       "addedWidgets": {},
       "aggData": [],
       "aggError": "",
       "aggOverflow": false,
       "aggSchema": [],
       "aggSeriesLimitReached": false,
       "aggType": "",
       "arguments": {},
       "columnCustomDisplayInfos": {},
       "data": [
        [
         "HR Portal",
         4.3
        ],
        [
         "Data Platform",
         4.6
        ],
        [
         "Campaign Tracker",
         3.8499999999999996
        ],
        [
         "ML Pipeline",
         4.7
        ]
       ],
       "datasetInfos": [],
       "dbfsResultPath": null,
       "isJsonSchema": true,
       "metadata": {},
       "overflow": false,
       "plotOptions": {
        "customPlotOptions": {},
        "displayType": "table",
        "pivotAggregation": null,
        "pivotColumns": null,
        "xColumns": null,
        "yColumns": null
       },
       "removedWidgets": [],
       "schema": [
        {
         "metadata": "{}",
         "name": "Project",
         "type": "\"string\""
        },
        {
         "metadata": "{}",
         "name": "Avg_Rating",
         "type": "\"double\""
        }
       ],
       "type": "table"
      }
     },
     "output_type": "display_data"
    }
   ],
   "source": [
    "#1. Join employee_data, performance_data, and project_data\n",
    "merged_df = df.join(df_perf, \"Name\").join(df_proj, \"Name\")\n",
    "display(merged_df)\n",
    "\n",
    "#2. Compute total hours worked per department\n",
    "hours_by_dept = merged_df.groupBy(\"Department\").agg(sum(\"HoursWorked\").alias(\"Total_Hours\"))\n",
    "display(hours_by_dept)\n",
    "\n",
    "#3. Compute average rating per project\n",
    "avg_rating = merged_df.groupBy(\"Project\").agg(avg(\"Rating\").alias(\"Avg_Rating\"))\n",
    "display(avg_rating)"
   ]
  },
  {
   "cell_type": "code",
   "execution_count": 0,
   "metadata": {
    "application/vnd.databricks.v1+cell": {
     "cellMetadata": {
      "byteLimit": 2048000,
      "rowLimit": 10000
     },
     "inputWidgets": {},
     "nuid": "f535adc4-2a41-4e8f-84a8-21bc2b397953",
     "showTitle": true,
     "tableResultSettingsMap": {},
     "title": "Handling Missing Data"
    }
   },
   "outputs": [
    {
     "output_type": "display_data",
     "data": {
      "text/html": [
       "<style scoped>\n",
       "  .table-result-container {\n",
       "    max-height: 300px;\n",
       "    overflow: auto;\n",
       "  }\n",
       "  table, th, td {\n",
       "    border: 1px solid black;\n",
       "    border-collapse: collapse;\n",
       "  }\n",
       "  th, td {\n",
       "    padding: 5px;\n",
       "  }\n",
       "  th {\n",
       "    text-align: left;\n",
       "  }\n",
       "</style><div class='table-result-container'><table class='table-result'><thead style='background-color: white'><tr><th>Name</th><th>Year</th><th>Rating</th></tr></thead><tbody><tr><td>Ananya</td><td>2023</td><td>4.5</td></tr><tr><td>Rahul</td><td>2023</td><td>4.9</td></tr><tr><td>Priya</td><td>2023</td><td>4.3</td></tr><tr><td>Zoya</td><td>2023</td><td>3.8</td></tr><tr><td>Karan</td><td>2023</td><td>4.1</td></tr><tr><td>Naveen</td><td>2023</td><td>4.7</td></tr><tr><td>Fatima</td><td>2023</td><td>3.9</td></tr><tr><td>Zahira</td><td>2025</td><td>null</td></tr></tbody></table></div>"
      ]
     },
     "metadata": {
      "application/vnd.databricks.v1+output": {
       "addedWidgets": {},
       "aggData": [],
       "aggError": "",
       "aggOverflow": false,
       "aggSchema": [],
       "aggSeriesLimitReached": false,
       "aggType": "",
       "arguments": {},
       "columnCustomDisplayInfos": {},
       "data": [
        [
         "Ananya",
         2023,
         4.5
        ],
        [
         "Rahul",
         2023,
         4.9
        ],
        [
         "Priya",
         2023,
         4.3
        ],
        [
         "Zoya",
         2023,
         3.8
        ],
        [
         "Karan",
         2023,
         4.1
        ],
        [
         "Naveen",
         2023,
         4.7
        ],
        [
         "Fatima",
         2023,
         3.9
        ],
        [
         "Zahira",
         2025,
         null
        ]
       ],
       "datasetInfos": [],
       "dbfsResultPath": null,
       "isJsonSchema": true,
       "metadata": {},
       "overflow": false,
       "plotOptions": {
        "customPlotOptions": {},
        "displayType": "table",
        "pivotAggregation": null,
        "pivotColumns": null,
        "xColumns": null,
        "yColumns": null
       },
       "removedWidgets": [],
       "schema": [
        {
         "metadata": "{}",
         "name": "Name",
         "type": "\"string\""
        },
        {
         "metadata": "{}",
         "name": "Year",
         "type": "\"long\""
        },
        {
         "metadata": "{}",
         "name": "Rating",
         "type": "\"float\""
        }
       ],
       "type": "table"
      }
     },
     "output_type": "display_data"
    },
    {
     "output_type": "display_data",
     "data": {
      "text/html": [
       "<style scoped>\n",
       "  .table-result-container {\n",
       "    max-height: 300px;\n",
       "    overflow: auto;\n",
       "  }\n",
       "  table, th, td {\n",
       "    border: 1px solid black;\n",
       "    border-collapse: collapse;\n",
       "  }\n",
       "  th, td {\n",
       "    padding: 5px;\n",
       "  }\n",
       "  th {\n",
       "    text-align: left;\n",
       "  }\n",
       "</style><div class='table-result-container'><table class='table-result'><thead style='background-color: white'><tr><th>Name</th><th>Year</th><th>Rating</th></tr></thead><tbody><tr><td>Zahira</td><td>2025</td><td>null</td></tr></tbody></table></div>"
      ]
     },
     "metadata": {
      "application/vnd.databricks.v1+output": {
       "addedWidgets": {},
       "aggData": [],
       "aggError": "",
       "aggOverflow": false,
       "aggSchema": [],
       "aggSeriesLimitReached": false,
       "aggType": "",
       "arguments": {},
       "columnCustomDisplayInfos": {},
       "data": [
        [
         "Zahira",
         2025,
         null
        ]
       ],
       "datasetInfos": [],
       "dbfsResultPath": null,
       "isJsonSchema": true,
       "metadata": {},
       "overflow": false,
       "plotOptions": {
        "customPlotOptions": {},
        "displayType": "table",
        "pivotAggregation": null,
        "pivotColumns": null,
        "xColumns": null,
        "yColumns": null
       },
       "removedWidgets": [],
       "schema": [
        {
         "metadata": "{}",
         "name": "Name",
         "type": "\"string\""
        },
        {
         "metadata": "{}",
         "name": "Year",
         "type": "\"long\""
        },
        {
         "metadata": "{}",
         "name": "Rating",
         "type": "\"float\""
        }
       ],
       "type": "table"
      }
     },
     "output_type": "display_data"
    },
    {
     "output_type": "display_data",
     "data": {
      "text/html": [
       "<style scoped>\n",
       "  .table-result-container {\n",
       "    max-height: 300px;\n",
       "    overflow: auto;\n",
       "  }\n",
       "  table, th, td {\n",
       "    border: 1px solid black;\n",
       "    border-collapse: collapse;\n",
       "  }\n",
       "  th, td {\n",
       "    padding: 5px;\n",
       "  }\n",
       "  th {\n",
       "    text-align: left;\n",
       "  }\n",
       "</style><div class='table-result-container'><table class='table-result'><thead style='background-color: white'><tr><th>Name</th><th>Department</th><th>Rating</th></tr></thead><tbody><tr><td>Rahul</td><td>Engineering</td><td>4.900000095367432</td></tr><tr><td>Priya</td><td>Engineering</td><td>4.300000190734863</td></tr><tr><td>Naveen</td><td>Engineering</td><td>4.699999809265137</td></tr><tr><td>Ananya</td><td>HR</td><td>4.5</td></tr><tr><td>Karan</td><td>HR</td><td>4.099999904632568</td></tr><tr><td>Zoya</td><td>Marketing</td><td>3.799999952316284</td></tr><tr><td>Fatima</td><td>Marketing</td><td>3.9000000953674316</td></tr></tbody></table></div>"
      ]
     },
     "metadata": {
      "application/vnd.databricks.v1+output": {
       "addedWidgets": {},
       "aggData": [],
       "aggError": "",
       "aggOverflow": false,
       "aggSchema": [],
       "aggSeriesLimitReached": false,
       "aggType": "",
       "arguments": {},
       "columnCustomDisplayInfos": {},
       "data": [
        [
         "Rahul",
         "Engineering",
         4.900000095367432
        ],
        [
         "Priya",
         "Engineering",
         4.300000190734863
        ],
        [
         "Naveen",
         "Engineering",
         4.699999809265137
        ],
        [
         "Ananya",
         "HR",
         4.5
        ],
        [
         "Karan",
         "HR",
         4.099999904632568
        ],
        [
         "Zoya",
         "Marketing",
         3.799999952316284
        ],
        [
         "Fatima",
         "Marketing",
         3.9000000953674316
        ]
       ],
       "datasetInfos": [],
       "dbfsResultPath": null,
       "isJsonSchema": true,
       "metadata": {},
       "overflow": false,
       "plotOptions": {
        "customPlotOptions": {},
        "displayType": "table",
        "pivotAggregation": null,
        "pivotColumns": null,
        "xColumns": null,
        "yColumns": null
       },
       "removedWidgets": [],
       "schema": [
        {
         "metadata": "{}",
         "name": "Name",
         "type": "\"string\""
        },
        {
         "metadata": "{}",
         "name": "Department",
         "type": "\"string\""
        },
        {
         "metadata": "{}",
         "name": "Rating",
         "type": "\"double\""
        }
       ],
       "type": "table"
      }
     },
     "output_type": "display_data"
    }
   ],
   "source": [
    "#4. Add a row to performance_data with a None rating\n",
    "from pyspark.sql import Row\n",
    "from pyspark.sql.functions import when, avg\n",
    "new_perf_row = Row(\"Zahira\", 2025, None)\n",
    "df_null = df_perf.union(spark.createDataFrame([new_perf_row], df_perf.schema))\n",
    "display(df_null)\n",
    "\n",
    "#5. Filter rows with null values\n",
    "null_ratings = df_null.filter(col(\"Rating\").isNull())\n",
    "display(null_ratings)\n",
    "\n",
    "#6. Replace null ratings with the department average\n",
    "from pyspark.sql.window import Window\n",
    "perf_with_dept = df_null.join(df, \"Name\")\n",
    "window_spec = Window.partitionBy(\"Department\")\n",
    "avg_rating_by_dept = avg(\"Rating\").over(window_spec)\n",
    "filled_ratings = perf_with_dept.withColumn(\"Rating\", coalesce(col(\"Rating\"), avg_rating_by_dept))\n",
    "display(filled_ratings.select(\"Name\", \"Department\", \"Rating\"))"
   ]
  },
  {
   "cell_type": "code",
   "execution_count": 0,
   "metadata": {
    "application/vnd.databricks.v1+cell": {
     "cellMetadata": {
      "byteLimit": 2048000,
      "rowLimit": 10000
     },
     "inputWidgets": {},
     "nuid": "685dbcd5-404f-497b-9aac-745b63223057",
     "showTitle": true,
     "tableResultSettingsMap": {},
     "title": "Built-In Functions and UDF"
    }
   },
   "outputs": [
    {
     "output_type": "stream",
     "name": "stdout",
     "output_type": "stream",
     "text": [
      "+------+------+-------------------+\n|  Name|Rating|PerformanceCategory|\n+------+------+-------------------+\n|Ananya|   4.5|               Good|\n| Rahul|   4.9|          Excellent|\n| Priya|   4.3|               Good|\n|  Zoya|   3.8|            Average|\n| Karan|   4.1|               Good|\n|Naveen|   4.7|          Excellent|\n|Fatima|   3.9|            Average|\n+------+------+-------------------+\n\n+------+-----------+------+\n|  Name|HoursWorked| Bonus|\n+------+-----------+------+\n|Ananya|        129| 15000|\n| Rahul|        200| 15000|\n| Priya|        180| 15000|\n|  Zoya|        100| 15000|\n| Karan|        130| 15000|\n|Naveen|        220|110000|\n|Fatima|         90| 15000|\n+------+-----------+------+\n\n"
     ]
    }
   ],
   "source": [
    "#7. Create PerformanceCategory column\n",
    "performance_categories = merged_df.withColumn(\"PerformanceCategory\",when(col(\"Rating\") >= 4.7, \"Excellent\")\n",
    "    .when((col(\"Rating\") >= 4.0) & (col(\"Rating\") < 4.7), \"Good\").otherwise(\"Average\"))\n",
    "performance_categories.select(\"Name\", \"Rating\", \"PerformanceCategory\").show()\n",
    "\n",
    "#8. Create a UDF to assign bonus\n",
    "from pyspark.sql.functions import udf\n",
    "from pyspark.sql.types import IntegerType\n",
    "def calculate_bonus(hours):\n",
    "    return 110000 if hours > 200 else 15000\n",
    "bonus_udf = udf(calculate_bonus, IntegerType())\n",
    "bonus = merged_df.withColumn(\"Bonus\", bonus_udf(col(\"HoursWorked\")))\n",
    "bonus.select(\"Name\", \"HoursWorked\", \"Bonus\").show()"
   ]
  },
  {
   "cell_type": "code",
   "execution_count": 0,
   "metadata": {
    "application/vnd.databricks.v1+cell": {
     "cellMetadata": {
      "byteLimit": 2048000,
      "rowLimit": 10000
     },
     "inputWidgets": {},
     "nuid": "bedafb08-a9da-4ee8-be1f-40d40f5ee6da",
     "showTitle": true,
     "tableResultSettingsMap": {},
     "title": "Date and Time Functions"
    }
   },
   "outputs": [
    {
     "output_type": "display_data",
     "data": {
      "text/html": [
       "<style scoped>\n",
       "  .table-result-container {\n",
       "    max-height: 300px;\n",
       "    overflow: auto;\n",
       "  }\n",
       "  table, th, td {\n",
       "    border: 1px solid black;\n",
       "    border-collapse: collapse;\n",
       "  }\n",
       "  th, td {\n",
       "    padding: 5px;\n",
       "  }\n",
       "  th {\n",
       "    text-align: left;\n",
       "  }\n",
       "</style><div class='table-result-container'><table class='table-result'><thead style='background-color: white'><tr><th>Name</th><th>JoinDate</th><th>MonthsWorked</th></tr></thead><tbody><tr><td>Ananya</td><td>2021-06-01</td><td>48.32258065</td></tr><tr><td>Rahul</td><td>2021-06-01</td><td>48.32258065</td></tr><tr><td>Priya</td><td>2021-06-01</td><td>48.32258065</td></tr><tr><td>Zoya</td><td>2021-06-01</td><td>48.32258065</td></tr><tr><td>Karan</td><td>2021-06-01</td><td>48.32258065</td></tr><tr><td>Naveen</td><td>2021-06-01</td><td>48.32258065</td></tr><tr><td>Fatima</td><td>2021-06-01</td><td>48.32258065</td></tr></tbody></table></div>"
      ]
     },
     "metadata": {
      "application/vnd.databricks.v1+output": {
       "addedWidgets": {},
       "aggData": [],
       "aggError": "",
       "aggOverflow": false,
       "aggSchema": [],
       "aggSeriesLimitReached": false,
       "aggType": "",
       "arguments": {},
       "columnCustomDisplayInfos": {},
       "data": [
        [
         "Ananya",
         "2021-06-01",
         48.32258065
        ],
        [
         "Rahul",
         "2021-06-01",
         48.32258065
        ],
        [
         "Priya",
         "2021-06-01",
         48.32258065
        ],
        [
         "Zoya",
         "2021-06-01",
         48.32258065
        ],
        [
         "Karan",
         "2021-06-01",
         48.32258065
        ],
        [
         "Naveen",
         "2021-06-01",
         48.32258065
        ],
        [
         "Fatima",
         "2021-06-01",
         48.32258065
        ]
       ],
       "datasetInfos": [],
       "dbfsResultPath": null,
       "isJsonSchema": true,
       "metadata": {},
       "overflow": false,
       "plotOptions": {
        "customPlotOptions": {},
        "displayType": "table",
        "pivotAggregation": null,
        "pivotColumns": null,
        "xColumns": null,
        "yColumns": null
       },
       "removedWidgets": [],
       "schema": [
        {
         "metadata": "{}",
         "name": "Name",
         "type": "\"string\""
        },
        {
         "metadata": "{}",
         "name": "JoinDate",
         "type": "\"date\""
        },
        {
         "metadata": "{}",
         "name": "MonthsWorked",
         "type": "\"double\""
        }
       ],
       "type": "table"
      }
     },
     "output_type": "display_data"
    },
    {
     "output_type": "stream",
     "name": "stdout",
     "output_type": "stream",
     "text": [
      "Number of employees who joined before 2022: 7\n"
     ]
    }
   ],
   "source": [
    "#9. Add JoinDate and Monthsworked columns\n",
    "join_date = merged_df.withColumn(\"JoinDate\", to_date(lit(\"2021-06-01\")))\n",
    "months_worked = join_date.withColumn(\"MonthsWorked\", months_between(current_date(), col(\"JoinDate\"))).select(\"Name\", \"JoinDate\", \"MonthsWorked\")\n",
    "display(months_worked)\n",
    "\n",
    "#10. Calculate how many employees joined before 2022\n",
    "dated = join_date.filter(year(col(\"JoinDate\")) < 2022).count()\n",
    "print(f\"Number of employees who joined before 2022: {dated}\")"
   ]
  },
  {
   "cell_type": "code",
   "execution_count": 0,
   "metadata": {
    "application/vnd.databricks.v1+cell": {
     "cellMetadata": {
      "byteLimit": 2048000,
      "rowLimit": 10000
     },
     "inputWidgets": {},
     "nuid": "7d17c355-d5e0-4ac8-8132-687bd61f992e",
     "showTitle": true,
     "tableResultSettingsMap": {},
     "title": "Unions"
    }
   },
   "outputs": [
    {
     "output_type": "display_data",
     "data": {
      "text/html": [
       "<style scoped>\n",
       "  .table-result-container {\n",
       "    max-height: 300px;\n",
       "    overflow: auto;\n",
       "  }\n",
       "  table, th, td {\n",
       "    border: 1px solid black;\n",
       "    border-collapse: collapse;\n",
       "  }\n",
       "  th, td {\n",
       "    padding: 5px;\n",
       "  }\n",
       "  th {\n",
       "    text-align: left;\n",
       "  }\n",
       "</style><div class='table-result-container'><table class='table-result'><thead style='background-color: white'><tr><th>Name</th><th>Department</th><th>Salary</th></tr></thead><tbody><tr><td>Ananya</td><td>HR</td><td>52000</td></tr><tr><td>Rahul</td><td>Engineering</td><td>65000</td></tr><tr><td>Priya</td><td>Engineering</td><td>60000</td></tr><tr><td>Zoya</td><td>Marketing</td><td>48000</td></tr><tr><td>Karan</td><td>HR</td><td>53000</td></tr><tr><td>Naveen</td><td>Engineering</td><td>70000</td></tr><tr><td>Fatima</td><td>Marketing</td><td>45000</td></tr><tr><td>Meena</td><td>HR</td><td>48000</td></tr><tr><td>Raj</td><td>Marketing</td><td>51000</td></tr></tbody></table></div>"
      ]
     },
     "metadata": {
      "application/vnd.databricks.v1+output": {
       "addedWidgets": {},
       "aggData": [],
       "aggError": "",
       "aggOverflow": false,
       "aggSchema": [],
       "aggSeriesLimitReached": false,
       "aggType": "",
       "arguments": {},
       "columnCustomDisplayInfos": {},
       "data": [
        [
         "Ananya",
         "HR",
         52000
        ],
        [
         "Rahul",
         "Engineering",
         65000
        ],
        [
         "Priya",
         "Engineering",
         60000
        ],
        [
         "Zoya",
         "Marketing",
         48000
        ],
        [
         "Karan",
         "HR",
         53000
        ],
        [
         "Naveen",
         "Engineering",
         70000
        ],
        [
         "Fatima",
         "Marketing",
         45000
        ],
        [
         "Meena",
         "HR",
         48000
        ],
        [
         "Raj",
         "Marketing",
         51000
        ]
       ],
       "datasetInfos": [],
       "dbfsResultPath": null,
       "isJsonSchema": true,
       "metadata": {},
       "overflow": false,
       "plotOptions": {
        "customPlotOptions": {},
        "displayType": "table",
        "pivotAggregation": null,
        "pivotColumns": null,
        "xColumns": null,
        "yColumns": null
       },
       "removedWidgets": [],
       "schema": [
        {
         "metadata": "{}",
         "name": "Name",
         "type": "\"string\""
        },
        {
         "metadata": "{}",
         "name": "Department",
         "type": "\"string\""
        },
        {
         "metadata": "{}",
         "name": "Salary",
         "type": "\"long\""
        }
       ],
       "type": "table"
      }
     },
     "output_type": "display_data"
    }
   ],
   "source": [
    "#11. Union with extra employees\n",
    "extra_employees = [\n",
    "    (\"Meena\", \"HR\", 48000),\n",
    "    (\"Raj\", \"Marketing\", 51000)\n",
    "]\n",
    "df_extra = spark.createDataFrame(extra_employees, [\"Name\", \"Department\", \"Salary\"])\n",
    "all_employees = df.union(df_extra)\n",
    "display(all_employees)"
   ]
  },
  {
   "cell_type": "code",
   "execution_count": 0,
   "metadata": {
    "application/vnd.databricks.v1+cell": {
     "cellMetadata": {
      "byteLimit": 2048000,
      "rowLimit": 10000
     },
     "inputWidgets": {},
     "nuid": "16288270-5750-4fb8-99e1-6373903a64e6",
     "showTitle": true,
     "tableResultSettingsMap": {},
     "title": "Saving Results"
    }
   },
   "outputs": [],
   "source": [
    "merged_df.write.partitionBy(\"Department\").parquet(\"employee_partitioned.parquet\")\n"
   ]
  }
 ],
 "metadata": {
  "application/vnd.databricks.v1+notebook": {
   "computePreferences": null,
   "dashboards": [],
   "environmentMetadata": {
    "base_environment": "",
    "environment_version": "2"
   },
   "inputWidgetPreferences": null,
   "language": "python",
   "notebookMetadata": {
    "pythonIndentUnit": 4
   },
   "notebookName": "Assignment_3",
   "widgets": {}
  },
  "language_info": {
   "name": "python"
  }
 },
 "nbformat": 4,
 "nbformat_minor": 0
}