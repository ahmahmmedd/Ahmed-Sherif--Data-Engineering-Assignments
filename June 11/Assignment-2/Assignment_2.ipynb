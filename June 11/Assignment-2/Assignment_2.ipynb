{
 "cells": [
  {
   "cell_type": "code",
   "execution_count": 0,
   "metadata": {
    "application/vnd.databricks.v1+cell": {
     "cellMetadata": {
      "byteLimit": 2048000,
      "rowLimit": 10000
     },
     "inputWidgets": {},
     "nuid": "5a702f70-13e8-4f16-bd92-c80177e999e7",
     "showTitle": false,
     "tableResultSettingsMap": {},
     "title": ""
    }
   },
   "outputs": [
    {
     "output_type": "execute_result",
     "data": {
      "text/plain": [
       "<pyspark.sql.connect.session.SparkSession at 0x7fb4662d7c50>"
      ]
     },
     "execution_count": 76,
     "metadata": {},
     "output_type": "execute_result"
    }
   ],
   "source": [
    "from pyspark.sql import SparkSession\n",
    "from pyspark.sql.functions import *\n",
    "from pyspark.sql.window import Window\n",
    "import random\n",
    "from datetime import datetime, timedelta\n",
    "\n",
    "from pyspark.sql import SparkSession\n",
    "spark=SparkSession.builder.appName(\"azureToColab\").getOrCreate()\n",
    "spark"
   ]
  },
  {
   "cell_type": "code",
   "execution_count": 0,
   "metadata": {
    "application/vnd.databricks.v1+cell": {
     "cellMetadata": {
      "byteLimit": 2048000,
      "rowLimit": 10000
     },
     "inputWidgets": {},
     "nuid": "1d83a124-9774-4bb5-a63a-0c3b81f81929",
     "showTitle": false,
     "tableResultSettingsMap": {},
     "title": ""
    }
   },
   "outputs": [
    {
     "output_type": "stream",
     "name": "stdout",
     "output_type": "stream",
     "text": [
      "+------+-----------+------+\n|  Name| Department|Salary|\n+------+-----------+------+\n|Ananya|         HR| 52000|\n| Rahul|Engineering| 65000|\n| Priya|Engineering| 60000|\n|  Zoya|  Marketing| 48000|\n| Karan|         HR| 53000|\n|Naveen|Engineering| 70000|\n|Fatima|  Marketing| 45000|\n+------+-----------+------+\n\n+------+----+------+\n|  Name|Year|Rating|\n+------+----+------+\n|Ananya|2023|   4.5|\n| Rahul|2023|   4.9|\n| Priya|2023|   4.3|\n|  Zoya|2023|   3.8|\n| Karan|2023|   4.1|\n|Naveen|2023|   4.7|\n|Fatima|2023|   3.9|\n+------+----+------+\n\n"
     ]
    }
   ],
   "source": [
    "data = [(\"Ananya\", \"HR\", 52000),\n",
    "(\"Rahul\", \"Engineering\", 65000),\n",
    "(\"Priya\", \"Engineering\", 60000),\n",
    "(\"Zoya\", \"Marketing\", 48000),\n",
    "(\"Karan\", \"HR\", 53000),\n",
    "(\"Naveen\", \"Engineering\", 70000),\n",
    "(\"Fatima\", \"Marketing\", 45000)]\n",
    "columns = [\"Name\", \"Department\", \"Salary\"]\n",
    "df = spark.createDataFrame(data, columns)\n",
    "df.show()\n",
    "\n",
    "performance = [\n",
    "    (\"Ananya\", 2023, 4.5),\n",
    "    (\"Rahul\", 2023, 4.9),\n",
    "    (\"Priya\", 2023, 4.3),\n",
    "    (\"Zoya\", 2023, 3.8),\n",
    "    (\"Karan\", 2023, 4.1),\n",
    "    (\"Naveen\", 2023, 4.7),\n",
    "    (\"Fatima\", 2023, 3.9)\n",
    "]\n",
    "columns_perf = [\"Name\", \"Year\", \"Rating\"]\n",
    "df_perf = spark.createDataFrame(performance, columns_perf)\n",
    "df_perf.show()"
   ]
  },
  {
   "cell_type": "code",
   "execution_count": 0,
   "metadata": {
    "application/vnd.databricks.v1+cell": {
     "cellMetadata": {
      "byteLimit": 2048000,
      "rowLimit": 10000
     },
     "inputWidgets": {},
     "nuid": "a014a357-6868-4f84-8613-1fc3799a466f",
     "showTitle": true,
     "tableResultSettingsMap": {},
     "title": "GroupBy and Aggregations"
    }
   },
   "outputs": [
    {
     "output_type": "display_data",
     "data": {
      "text/html": [
       "<style scoped>\n",
       "  .table-result-container {\n",
       "    max-height: 300px;\n",
       "    overflow: auto;\n",
       "  }\n",
       "  table, th, td {\n",
       "    border: 1px solid black;\n",
       "    border-collapse: collapse;\n",
       "  }\n",
       "  th, td {\n",
       "    padding: 5px;\n",
       "  }\n",
       "  th {\n",
       "    text-align: left;\n",
       "  }\n",
       "</style><div class='table-result-container'><table class='table-result'><thead style='background-color: white'><tr><th>Department</th><th>AvgSalary</th></tr></thead><tbody><tr><td>HR</td><td>52500.0</td></tr><tr><td>Engineering</td><td>65000.0</td></tr><tr><td>Marketing</td><td>46500.0</td></tr></tbody></table></div>"
      ]
     },
     "metadata": {
      "application/vnd.databricks.v1+output": {
       "addedWidgets": {},
       "aggData": [],
       "aggError": "",
       "aggOverflow": false,
       "aggSchema": [],
       "aggSeriesLimitReached": false,
       "aggType": "",
       "arguments": {},
       "columnCustomDisplayInfos": {},
       "data": [
        [
         "HR",
         52500.0
        ],
        [
         "Engineering",
         65000.0
        ],
        [
         "Marketing",
         46500.0
        ]
       ],
       "datasetInfos": [],
       "dbfsResultPath": null,
       "isJsonSchema": true,
       "metadata": {},
       "overflow": false,
       "plotOptions": {
        "customPlotOptions": {},
        "displayType": "table",
        "pivotAggregation": null,
        "pivotColumns": null,
        "xColumns": null,
        "yColumns": null
       },
       "removedWidgets": [],
       "schema": [
        {
         "metadata": "{}",
         "name": "Department",
         "type": "\"string\""
        },
        {
         "metadata": "{}",
         "name": "AvgSalary",
         "type": "\"double\""
        }
       ],
       "type": "table"
      }
     },
     "output_type": "display_data"
    },
    {
     "output_type": "display_data",
     "data": {
      "text/html": [
       "<style scoped>\n",
       "  .table-result-container {\n",
       "    max-height: 300px;\n",
       "    overflow: auto;\n",
       "  }\n",
       "  table, th, td {\n",
       "    border: 1px solid black;\n",
       "    border-collapse: collapse;\n",
       "  }\n",
       "  th, td {\n",
       "    padding: 5px;\n",
       "  }\n",
       "  th {\n",
       "    text-align: left;\n",
       "  }\n",
       "</style><div class='table-result-container'><table class='table-result'><thead style='background-color: white'><tr><th>Department</th><th>count</th></tr></thead><tbody><tr><td>HR</td><td>2</td></tr><tr><td>Engineering</td><td>3</td></tr><tr><td>Marketing</td><td>2</td></tr></tbody></table></div>"
      ]
     },
     "metadata": {
      "application/vnd.databricks.v1+output": {
       "addedWidgets": {},
       "aggData": [],
       "aggError": "",
       "aggOverflow": false,
       "aggSchema": [],
       "aggSeriesLimitReached": false,
       "aggType": "",
       "arguments": {},
       "columnCustomDisplayInfos": {},
       "data": [
        [
         "HR",
         2
        ],
        [
         "Engineering",
         3
        ],
        [
         "Marketing",
         2
        ]
       ],
       "datasetInfos": [],
       "dbfsResultPath": null,
       "isJsonSchema": true,
       "metadata": {},
       "overflow": false,
       "plotOptions": {
        "customPlotOptions": {},
        "displayType": "table",
        "pivotAggregation": null,
        "pivotColumns": null,
        "xColumns": null,
        "yColumns": null
       },
       "removedWidgets": [],
       "schema": [
        {
         "metadata": "{}",
         "name": "Department",
         "type": "\"string\""
        },
        {
         "metadata": "{}",
         "name": "count",
         "type": "\"long\""
        }
       ],
       "type": "table"
      }
     },
     "output_type": "display_data"
    },
    {
     "output_type": "display_data",
     "data": {
      "text/html": [
       "<style scoped>\n",
       "  .table-result-container {\n",
       "    max-height: 300px;\n",
       "    overflow: auto;\n",
       "  }\n",
       "  table, th, td {\n",
       "    border: 1px solid black;\n",
       "    border-collapse: collapse;\n",
       "  }\n",
       "  th, td {\n",
       "    padding: 5px;\n",
       "  }\n",
       "  th {\n",
       "    text-align: left;\n",
       "  }\n",
       "</style><div class='table-result-container'><table class='table-result'><thead style='background-color: white'><tr><th>MaxSalary</th><th>MinSalary</th></tr></thead><tbody><tr><td>70000</td><td>60000</td></tr></tbody></table></div>"
      ]
     },
     "metadata": {
      "application/vnd.databricks.v1+output": {
       "addedWidgets": {},
       "aggData": [],
       "aggError": "",
       "aggOverflow": false,
       "aggSchema": [],
       "aggSeriesLimitReached": false,
       "aggType": "",
       "arguments": {},
       "columnCustomDisplayInfos": {},
       "data": [
        [
         70000,
         60000
        ]
       ],
       "datasetInfos": [],
       "dbfsResultPath": null,
       "isJsonSchema": true,
       "metadata": {},
       "overflow": false,
       "plotOptions": {
        "customPlotOptions": {},
        "displayType": "table",
        "pivotAggregation": null,
        "pivotColumns": null,
        "xColumns": null,
        "yColumns": null
       },
       "removedWidgets": [],
       "schema": [
        {
         "metadata": "{}",
         "name": "MaxSalary",
         "type": "\"long\""
        },
        {
         "metadata": "{}",
         "name": "MinSalary",
         "type": "\"long\""
        }
       ],
       "type": "table"
      }
     },
     "output_type": "display_data"
    }
   ],
   "source": [
    "#1. Get the average salary by department\n",
    "avg_sal= df.groupBy(\"Department\").agg(avg(\"Salary\").alias(\"AvgSalary\"))\n",
    "display(avg_sal)\n",
    "\n",
    "#2. Count of employees per department\n",
    "emp_count= df.groupBy(\"Department\").count()\n",
    "display(emp_count)\n",
    "\n",
    "#3. Maximum and minimum salary in Engineering\n",
    "\n",
    "max_min = df.filter(col(\"Department\") == \"Engineering\") \\\n",
    ".agg(max(\"Salary\").alias(\"MaxSalary\"), min(\"Salary\").alias(\"MinSalary\"))\n",
    "display(max_min)"
   ]
  },
  {
   "cell_type": "code",
   "execution_count": 0,
   "metadata": {
    "application/vnd.databricks.v1+cell": {
     "cellMetadata": {
      "byteLimit": 2048000,
      "rowLimit": 10000
     },
     "inputWidgets": {},
     "nuid": "16653c21-c14f-47b2-bf5d-991ec260d70c",
     "showTitle": true,
     "tableResultSettingsMap": {},
     "title": "Join and Combine Data"
    }
   },
   "outputs": [
    {
     "output_type": "display_data",
     "data": {
      "text/html": [
       "<style scoped>\n",
       "  .table-result-container {\n",
       "    max-height: 300px;\n",
       "    overflow: auto;\n",
       "  }\n",
       "  table, th, td {\n",
       "    border: 1px solid black;\n",
       "    border-collapse: collapse;\n",
       "  }\n",
       "  th, td {\n",
       "    padding: 5px;\n",
       "  }\n",
       "  th {\n",
       "    text-align: left;\n",
       "  }\n",
       "</style><div class='table-result-container'><table class='table-result'><thead style='background-color: white'><tr><th>Name</th><th>Department</th><th>Salary</th><th>Year</th><th>Rating</th></tr></thead><tbody><tr><td>Ananya</td><td>HR</td><td>52000</td><td>2023</td><td>4.5</td></tr><tr><td>Rahul</td><td>Engineering</td><td>65000</td><td>2023</td><td>4.9</td></tr><tr><td>Priya</td><td>Engineering</td><td>60000</td><td>2023</td><td>4.3</td></tr><tr><td>Zoya</td><td>Marketing</td><td>48000</td><td>2023</td><td>3.8</td></tr><tr><td>Karan</td><td>HR</td><td>53000</td><td>2023</td><td>4.1</td></tr><tr><td>Naveen</td><td>Engineering</td><td>70000</td><td>2023</td><td>4.7</td></tr><tr><td>Fatima</td><td>Marketing</td><td>45000</td><td>2023</td><td>3.9</td></tr></tbody></table></div>"
      ]
     },
     "metadata": {
      "application/vnd.databricks.v1+output": {
       "addedWidgets": {},
       "aggData": [],
       "aggError": "",
       "aggOverflow": false,
       "aggSchema": [],
       "aggSeriesLimitReached": false,
       "aggType": "",
       "arguments": {},
       "columnCustomDisplayInfos": {},
       "data": [
        [
         "Ananya",
         "HR",
         52000,
         2023,
         4.5
        ],
        [
         "Rahul",
         "Engineering",
         65000,
         2023,
         4.9
        ],
        [
         "Priya",
         "Engineering",
         60000,
         2023,
         4.3
        ],
        [
         "Zoya",
         "Marketing",
         48000,
         2023,
         3.8
        ],
        [
         "Karan",
         "HR",
         53000,
         2023,
         4.1
        ],
        [
         "Naveen",
         "Engineering",
         70000,
         2023,
         4.7
        ],
        [
         "Fatima",
         "Marketing",
         45000,
         2023,
         3.9
        ]
       ],
       "datasetInfos": [],
       "dbfsResultPath": null,
       "isJsonSchema": true,
       "metadata": {},
       "overflow": false,
       "plotOptions": {
        "customPlotOptions": {},
        "displayType": "table",
        "pivotAggregation": null,
        "pivotColumns": null,
        "xColumns": null,
        "yColumns": null
       },
       "removedWidgets": [],
       "schema": [
        {
         "metadata": "{}",
         "name": "Name",
         "type": "\"string\""
        },
        {
         "metadata": "{}",
         "name": "Department",
         "type": "\"string\""
        },
        {
         "metadata": "{}",
         "name": "Salary",
         "type": "\"long\""
        },
        {
         "metadata": "{}",
         "name": "Year",
         "type": "\"long\""
        },
        {
         "metadata": "{}",
         "name": "Rating",
         "type": "\"double\""
        }
       ],
       "type": "table"
      }
     },
     "output_type": "display_data"
    },
    {
     "output_type": "display_data",
     "data": {
      "text/html": [
       "<style scoped>\n",
       "  .table-result-container {\n",
       "    max-height: 300px;\n",
       "    overflow: auto;\n",
       "  }\n",
       "  table, th, td {\n",
       "    border: 1px solid black;\n",
       "    border-collapse: collapse;\n",
       "  }\n",
       "  th, td {\n",
       "    padding: 5px;\n",
       "  }\n",
       "  th {\n",
       "    text-align: left;\n",
       "  }\n",
       "</style><div class='table-result-container'><table class='table-result'><thead style='background-color: white'><tr><th>name</th><th>salary</th><th>rating</th></tr></thead><tbody><tr><td>Ananya</td><td>52000</td><td>4.5</td></tr><tr><td>Rahul</td><td>65000</td><td>4.9</td></tr><tr><td>Priya</td><td>60000</td><td>4.3</td></tr><tr><td>Zoya</td><td>48000</td><td>3.8</td></tr><tr><td>Karan</td><td>53000</td><td>4.1</td></tr><tr><td>Naveen</td><td>70000</td><td>4.7</td></tr><tr><td>Fatima</td><td>45000</td><td>3.9</td></tr></tbody></table></div>"
      ]
     },
     "metadata": {
      "application/vnd.databricks.v1+output": {
       "addedWidgets": {},
       "aggData": [],
       "aggError": "",
       "aggOverflow": false,
       "aggSchema": [],
       "aggSeriesLimitReached": false,
       "aggType": "",
       "arguments": {},
       "columnCustomDisplayInfos": {},
       "data": [
        [
         "Ananya",
         52000,
         4.5
        ],
        [
         "Rahul",
         65000,
         4.9
        ],
        [
         "Priya",
         60000,
         4.3
        ],
        [
         "Zoya",
         48000,
         3.8
        ],
        [
         "Karan",
         53000,
         4.1
        ],
        [
         "Naveen",
         70000,
         4.7
        ],
        [
         "Fatima",
         45000,
         3.9
        ]
       ],
       "datasetInfos": [],
       "dbfsResultPath": null,
       "isJsonSchema": true,
       "metadata": {},
       "overflow": false,
       "plotOptions": {
        "customPlotOptions": {},
        "displayType": "table",
        "pivotAggregation": null,
        "pivotColumns": null,
        "xColumns": null,
        "yColumns": null
       },
       "removedWidgets": [],
       "schema": [
        {
         "metadata": "{}",
         "name": "name",
         "type": "\"string\""
        },
        {
         "metadata": "{}",
         "name": "salary",
         "type": "\"long\""
        },
        {
         "metadata": "{}",
         "name": "rating",
         "type": "\"double\""
        }
       ],
       "type": "table"
      }
     },
     "output_type": "display_data"
    },
    {
     "output_type": "display_data",
     "data": {
      "text/html": [
       "<style scoped>\n",
       "  .table-result-container {\n",
       "    max-height: 300px;\n",
       "    overflow: auto;\n",
       "  }\n",
       "  table, th, td {\n",
       "    border: 1px solid black;\n",
       "    border-collapse: collapse;\n",
       "  }\n",
       "  th, td {\n",
       "    padding: 5px;\n",
       "  }\n",
       "  th {\n",
       "    text-align: left;\n",
       "  }\n",
       "</style><div class='table-result-container'><table class='table-result'><thead style='background-color: white'><tr><th>Name</th><th>Department</th><th>Salary</th><th>Year</th><th>Rating</th></tr></thead><tbody><tr><td>Rahul</td><td>Engineering</td><td>65000</td><td>2023</td><td>4.9</td></tr><tr><td>Naveen</td><td>Engineering</td><td>70000</td><td>2023</td><td>4.7</td></tr></tbody></table></div>"
      ]
     },
     "metadata": {
      "application/vnd.databricks.v1+output": {
       "addedWidgets": {},
       "aggData": [],
       "aggError": "",
       "aggOverflow": false,
       "aggSchema": [],
       "aggSeriesLimitReached": false,
       "aggType": "",
       "arguments": {},
       "columnCustomDisplayInfos": {},
       "data": [
        [
         "Rahul",
         "Engineering",
         65000,
         2023,
         4.9
        ],
        [
         "Naveen",
         "Engineering",
         70000,
         2023,
         4.7
        ]
       ],
       "datasetInfos": [],
       "dbfsResultPath": null,
       "isJsonSchema": true,
       "metadata": {},
       "overflow": false,
       "plotOptions": {
        "customPlotOptions": {},
        "displayType": "table",
        "pivotAggregation": null,
        "pivotColumns": null,
        "xColumns": null,
        "yColumns": null
       },
       "removedWidgets": [],
       "schema": [
        {
         "metadata": "{}",
         "name": "Name",
         "type": "\"string\""
        },
        {
         "metadata": "{}",
         "name": "Department",
         "type": "\"string\""
        },
        {
         "metadata": "{}",
         "name": "Salary",
         "type": "\"long\""
        },
        {
         "metadata": "{}",
         "name": "Year",
         "type": "\"long\""
        },
        {
         "metadata": "{}",
         "name": "Rating",
         "type": "\"double\""
        }
       ],
       "type": "table"
      }
     },
     "output_type": "display_data"
    }
   ],
   "source": [
    "#4. Perform an inner join between employee_data and performance_data on Name\n",
    "joined_df = df.join(df_perf, \"name\", \"inner\")\n",
    "display(joined_df)\n",
    "\n",
    "#5. Show each employee's salary and performance ratin\n",
    "rating = joined_df.select(\"name\", \"salary\", \"rating\")\n",
    "display(rating)\n",
    "\n",
    "#6. Filter employees with rating > 4.5 and salary > 60000\n",
    "high_perf = joined_df.filter((col(\"Rating\") > 4.5) & (col(\"salary\") > 60000))\n",
    "display(high_perf)"
   ]
  },
  {
   "cell_type": "code",
   "execution_count": 0,
   "metadata": {
    "application/vnd.databricks.v1+cell": {
     "cellMetadata": {
      "byteLimit": 2048000,
      "rowLimit": 10000
     },
     "inputWidgets": {},
     "nuid": "6ad7e904-85c6-4fd9-80cc-de0689d4fad8",
     "showTitle": true,
     "tableResultSettingsMap": {},
     "title": "Window & Rank (Bonus Challenge)"
    }
   },
   "outputs": [
    {
     "output_type": "display_data",
     "data": {
      "text/html": [
       "<style scoped>\n",
       "  .table-result-container {\n",
       "    max-height: 300px;\n",
       "    overflow: auto;\n",
       "  }\n",
       "  table, th, td {\n",
       "    border: 1px solid black;\n",
       "    border-collapse: collapse;\n",
       "  }\n",
       "  th, td {\n",
       "    padding: 5px;\n",
       "  }\n",
       "  th {\n",
       "    text-align: left;\n",
       "  }\n",
       "</style><div class='table-result-container'><table class='table-result'><thead style='background-color: white'><tr><th>Name</th><th>Department</th><th>Salary</th><th>Year</th><th>Rating</th><th>SalaryRank</th></tr></thead><tbody><tr><td>Naveen</td><td>Engineering</td><td>70000</td><td>2023</td><td>4.7</td><td>1</td></tr><tr><td>Rahul</td><td>Engineering</td><td>65000</td><td>2023</td><td>4.9</td><td>2</td></tr><tr><td>Priya</td><td>Engineering</td><td>60000</td><td>2023</td><td>4.3</td><td>3</td></tr><tr><td>Karan</td><td>HR</td><td>53000</td><td>2023</td><td>4.1</td><td>1</td></tr><tr><td>Ananya</td><td>HR</td><td>52000</td><td>2023</td><td>4.5</td><td>2</td></tr><tr><td>Zoya</td><td>Marketing</td><td>48000</td><td>2023</td><td>3.8</td><td>1</td></tr><tr><td>Fatima</td><td>Marketing</td><td>45000</td><td>2023</td><td>3.9</td><td>2</td></tr></tbody></table></div>"
      ]
     },
     "metadata": {
      "application/vnd.databricks.v1+output": {
       "addedWidgets": {},
       "aggData": [],
       "aggError": "",
       "aggOverflow": false,
       "aggSchema": [],
       "aggSeriesLimitReached": false,
       "aggType": "",
       "arguments": {},
       "columnCustomDisplayInfos": {},
       "data": [
        [
         "Naveen",
         "Engineering",
         70000,
         2023,
         4.7,
         1
        ],
        [
         "Rahul",
         "Engineering",
         65000,
         2023,
         4.9,
         2
        ],
        [
         "Priya",
         "Engineering",
         60000,
         2023,
         4.3,
         3
        ],
        [
         "Karan",
         "HR",
         53000,
         2023,
         4.1,
         1
        ],
        [
         "Ananya",
         "HR",
         52000,
         2023,
         4.5,
         2
        ],
        [
         "Zoya",
         "Marketing",
         48000,
         2023,
         3.8,
         1
        ],
        [
         "Fatima",
         "Marketing",
         45000,
         2023,
         3.9,
         2
        ]
       ],
       "datasetInfos": [],
       "dbfsResultPath": null,
       "isJsonSchema": true,
       "metadata": {},
       "overflow": false,
       "plotOptions": {
        "customPlotOptions": {},
        "displayType": "table",
        "pivotAggregation": null,
        "pivotColumns": null,
        "xColumns": null,
        "yColumns": null
       },
       "removedWidgets": [],
       "schema": [
        {
         "metadata": "{}",
         "name": "Name",
         "type": "\"string\""
        },
        {
         "metadata": "{}",
         "name": "Department",
         "type": "\"string\""
        },
        {
         "metadata": "{}",
         "name": "Salary",
         "type": "\"long\""
        },
        {
         "metadata": "{}",
         "name": "Year",
         "type": "\"long\""
        },
        {
         "metadata": "{}",
         "name": "Rating",
         "type": "\"double\""
        },
        {
         "metadata": "{}",
         "name": "SalaryRank",
         "type": "\"integer\""
        }
       ],
       "type": "table"
      }
     },
     "output_type": "display_data"
    },
    {
     "output_type": "display_data",
     "data": {
      "text/html": [
       "<style scoped>\n",
       "  .table-result-container {\n",
       "    max-height: 300px;\n",
       "    overflow: auto;\n",
       "  }\n",
       "  table, th, td {\n",
       "    border: 1px solid black;\n",
       "    border-collapse: collapse;\n",
       "  }\n",
       "  th, td {\n",
       "    padding: 5px;\n",
       "  }\n",
       "  th {\n",
       "    text-align: left;\n",
       "  }\n",
       "</style><div class='table-result-container'><table class='table-result'><thead style='background-color: white'><tr><th>Name</th><th>Department</th><th>Salary</th><th>Year</th><th>Rating</th><th>CumulativeSalary</th></tr></thead><tbody><tr><td>Priya</td><td>Engineering</td><td>60000</td><td>2023</td><td>4.3</td><td>60000</td></tr><tr><td>Rahul</td><td>Engineering</td><td>65000</td><td>2023</td><td>4.9</td><td>125000</td></tr><tr><td>Naveen</td><td>Engineering</td><td>70000</td><td>2023</td><td>4.7</td><td>195000</td></tr><tr><td>Ananya</td><td>HR</td><td>52000</td><td>2023</td><td>4.5</td><td>52000</td></tr><tr><td>Karan</td><td>HR</td><td>53000</td><td>2023</td><td>4.1</td><td>105000</td></tr><tr><td>Fatima</td><td>Marketing</td><td>45000</td><td>2023</td><td>3.9</td><td>45000</td></tr><tr><td>Zoya</td><td>Marketing</td><td>48000</td><td>2023</td><td>3.8</td><td>93000</td></tr></tbody></table></div>"
      ]
     },
     "metadata": {
      "application/vnd.databricks.v1+output": {
       "addedWidgets": {},
       "aggData": [],
       "aggError": "",
       "aggOverflow": false,
       "aggSchema": [],
       "aggSeriesLimitReached": false,
       "aggType": "",
       "arguments": {},
       "columnCustomDisplayInfos": {},
       "data": [
        [
         "Priya",
         "Engineering",
         60000,
         2023,
         4.3,
         60000
        ],
        [
         "Rahul",
         "Engineering",
         65000,
         2023,
         4.9,
         125000
        ],
        [
         "Naveen",
         "Engineering",
         70000,
         2023,
         4.7,
         195000
        ],
        [
         "Ananya",
         "HR",
         52000,
         2023,
         4.5,
         52000
        ],
        [
         "Karan",
         "HR",
         53000,
         2023,
         4.1,
         105000
        ],
        [
         "Fatima",
         "Marketing",
         45000,
         2023,
         3.9,
         45000
        ],
        [
         "Zoya",
         "Marketing",
         48000,
         2023,
         3.8,
         93000
        ]
       ],
       "datasetInfos": [],
       "dbfsResultPath": null,
       "isJsonSchema": true,
       "metadata": {},
       "overflow": false,
       "plotOptions": {
        "customPlotOptions": {},
        "displayType": "table",
        "pivotAggregation": null,
        "pivotColumns": null,
        "xColumns": null,
        "yColumns": null
       },
       "removedWidgets": [],
       "schema": [
        {
         "metadata": "{}",
         "name": "Name",
         "type": "\"string\""
        },
        {
         "metadata": "{}",
         "name": "Department",
         "type": "\"string\""
        },
        {
         "metadata": "{}",
         "name": "Salary",
         "type": "\"long\""
        },
        {
         "metadata": "{}",
         "name": "Year",
         "type": "\"long\""
        },
        {
         "metadata": "{}",
         "name": "Rating",
         "type": "\"double\""
        },
        {
         "metadata": "{}",
         "name": "CumulativeSalary",
         "type": "\"long\""
        }
       ],
       "type": "table"
      }
     },
     "output_type": "display_data"
    }
   ],
   "source": [
    "#7. Rank employees by salary department-wise\n",
    "dept_wise = Window.partitionBy(\"Department\").orderBy(col(\"Salary\").desc())\n",
    "ranked_employees = joined_df.withColumn(\"SalaryRank\", rank().over(dept_wise))\n",
    "display(ranked_employees)\n",
    "\n",
    "#8. Calculate cumulative salary in each department\n",
    "sal_cumulative = Window.partitionBy(\"Department\").orderBy(\"Salary\").rowsBetween(Window.unboundedPreceding, Window.currentRow)\n",
    "cumulative_sal = joined_df.withColumn(\"CumulativeSalary\", sum(\"Salary\").over(sal_cumulative))\n",
    "display(cumulative_sal)"
   ]
  },
  {
   "cell_type": "code",
   "execution_count": 0,
   "metadata": {
    "application/vnd.databricks.v1+cell": {
     "cellMetadata": {
      "byteLimit": 2048000,
      "rowLimit": 10000
     },
     "inputWidgets": {},
     "nuid": "a9338d64-b048-4fc8-89e4-aef390a04fed",
     "showTitle": true,
     "tableResultSettingsMap": {},
     "title": "Date Operations"
    }
   },
   "outputs": [
    {
     "output_type": "display_data",
     "data": {
      "text/html": [
       "<style scoped>\n",
       "  .table-result-container {\n",
       "    max-height: 300px;\n",
       "    overflow: auto;\n",
       "  }\n",
       "  table, th, td {\n",
       "    border: 1px solid black;\n",
       "    border-collapse: collapse;\n",
       "  }\n",
       "  th, td {\n",
       "    padding: 5px;\n",
       "  }\n",
       "  th {\n",
       "    text-align: left;\n",
       "  }\n",
       "</style><div class='table-result-container'><table class='table-result'><thead style='background-color: white'><tr><th>Name</th><th>Department</th><th>Salary</th><th>JoinDate</th><th>YearsWithCompany</th></tr></thead><tbody><tr><td>Ananya</td><td>HR</td><td>52000</td><td>2023-02-24</td><td>2.3</td></tr><tr><td>Rahul</td><td>Engineering</td><td>65000</td><td>2021-03-03</td><td>4.3</td></tr><tr><td>Priya</td><td>Engineering</td><td>60000</td><td>2022-03-31</td><td>3.2</td></tr><tr><td>Zoya</td><td>Marketing</td><td>48000</td><td>2020-09-07</td><td>4.8</td></tr><tr><td>Karan</td><td>HR</td><td>53000</td><td>2022-02-03</td><td>3.4</td></tr><tr><td>Naveen</td><td>Engineering</td><td>70000</td><td>2021-09-29</td><td>3.7</td></tr><tr><td>Fatima</td><td>Marketing</td><td>45000</td><td>2020-05-02</td><td>5.1</td></tr></tbody></table></div>"
      ]
     },
     "metadata": {
      "application/vnd.databricks.v1+output": {
       "addedWidgets": {},
       "aggData": [],
       "aggError": "",
       "aggOverflow": false,
       "aggSchema": [],
       "aggSeriesLimitReached": false,
       "aggType": "",
       "arguments": {},
       "columnCustomDisplayInfos": {},
       "data": [
        [
         "Ananya",
         "HR",
         52000,
         "2023-02-24",
         2.3
        ],
        [
         "Rahul",
         "Engineering",
         65000,
         "2021-03-03",
         4.3
        ],
        [
         "Priya",
         "Engineering",
         60000,
         "2022-03-31",
         3.2
        ],
        [
         "Zoya",
         "Marketing",
         48000,
         "2020-09-07",
         4.8
        ],
        [
         "Karan",
         "HR",
         53000,
         "2022-02-03",
         3.4
        ],
        [
         "Naveen",
         "Engineering",
         70000,
         "2021-09-29",
         3.7
        ],
        [
         "Fatima",
         "Marketing",
         45000,
         "2020-05-02",
         5.1
        ]
       ],
       "datasetInfos": [],
       "dbfsResultPath": null,
       "isJsonSchema": true,
       "metadata": {},
       "overflow": false,
       "plotOptions": {
        "customPlotOptions": {},
        "displayType": "table",
        "pivotAggregation": null,
        "pivotColumns": null,
        "xColumns": null,
        "yColumns": null
       },
       "removedWidgets": [],
       "schema": [
        {
         "metadata": "{}",
         "name": "Name",
         "type": "\"string\""
        },
        {
         "metadata": "{}",
         "name": "Department",
         "type": "\"string\""
        },
        {
         "metadata": "{}",
         "name": "Salary",
         "type": "\"long\""
        },
        {
         "metadata": "{}",
         "name": "JoinDate",
         "type": "\"date\""
        },
        {
         "metadata": "{}",
         "name": "YearsWithCompany",
         "type": "\"double\""
        }
       ],
       "type": "table"
      }
     },
     "output_type": "display_data"
    }
   ],
   "source": [
    "#9. Add a new column JoinDate with random dates between 2020 and 2023\n",
    "def random_date(start_year, end_year):\n",
    "    start = datetime(start_year, 1, 1)\n",
    "    end = datetime(end_year, 12, 31)\n",
    "    delta = end - start\n",
    "    random_days = random.randint(0, delta.days)\n",
    "    return (start + timedelta(days=random_days)).strftime('%Y-%m-%d')\n",
    "random_date_udf = udf(random_date, StringType())\n",
    "\n",
    "emp_str = df.withColumn(\"JoinDate\", random_date_udf(lit(2020), lit(2023)))\n",
    "emp_with_date = emp_str.withColumn(\"JoinDate\", to_date(col(\"JoinDate\"), \"yyyy-MM-dd\"))\n",
    "\n",
    "#10. Add column YearsWithCompany using current_date() and datediff()\n",
    "years = emp_with_date.withColumn(\"YearsWithCompany\",round(datediff(current_date(), col(\"JoinDate\")) / 365, 1))\n",
    "display(years)"
   ]
  },
  {
   "cell_type": "code",
   "execution_count": 0,
   "metadata": {
    "application/vnd.databricks.v1+cell": {
     "cellMetadata": {
      "byteLimit": 2048000,
      "rowLimit": 10000
     },
     "inputWidgets": {},
     "nuid": "f2861dea-e036-4966-9e54-b3c567338f3c",
     "showTitle": true,
     "tableResultSettingsMap": {},
     "title": "Writing to Files"
    }
   },
   "outputs": [
    {
     "output_type": "display_data",
     "data": {
      "text/html": [
       "<style scoped>\n",
       "  .table-result-container {\n",
       "    max-height: 300px;\n",
       "    overflow: auto;\n",
       "  }\n",
       "  table, th, td {\n",
       "    border: 1px solid black;\n",
       "    border-collapse: collapse;\n",
       "  }\n",
       "  th, td {\n",
       "    padding: 5px;\n",
       "  }\n",
       "  th {\n",
       "    text-align: left;\n",
       "  }\n",
       "</style><div class='table-result-container'><table class='table-result'><thead style='background-color: white'><tr><th>Name</th><th>Department</th><th>Salary</th><th>JoinDate</th><th>YearsWithCompany</th></tr></thead><tbody><tr><td>Naveen</td><td>Engineering</td><td>70000</td><td>2022-01-13</td><td>3.4</td></tr><tr><td>Rahul</td><td>Engineering</td><td>65000</td><td>2023-11-18</td><td>1.6</td></tr><tr><td>Priya</td><td>Engineering</td><td>60000</td><td>2021-09-22</td><td>3.7</td></tr><tr><td>Fatima</td><td>Marketing</td><td>45000</td><td>2020-09-29</td><td>4.7</td></tr><tr><td>Zoya</td><td>Marketing</td><td>48000</td><td>2020-04-24</td><td>5.1</td></tr><tr><td>Ananya</td><td>HR</td><td>52000</td><td>2023-11-06</td><td>1.6</td></tr><tr><td>Karan</td><td>HR</td><td>53000</td><td>2021-08-20</td><td>3.8</td></tr></tbody></table></div>"
      ]
     },
     "metadata": {
      "application/vnd.databricks.v1+output": {
       "addedWidgets": {},
       "aggData": [],
       "aggError": "",
       "aggOverflow": false,
       "aggSchema": [],
       "aggSeriesLimitReached": false,
       "aggType": "",
       "arguments": {},
       "columnCustomDisplayInfos": {},
       "data": [
        [
         "Naveen",
         "Engineering",
         "70000",
         "2022-01-13",
         "3.4"
        ],
        [
         "Rahul",
         "Engineering",
         "65000",
         "2023-11-18",
         "1.6"
        ],
        [
         "Priya",
         "Engineering",
         "60000",
         "2021-09-22",
         "3.7"
        ],
        [
         "Fatima",
         "Marketing",
         "45000",
         "2020-09-29",
         "4.7"
        ],
        [
         "Zoya",
         "Marketing",
         "48000",
         "2020-04-24",
         "5.1"
        ],
        [
         "Ananya",
         "HR",
         "52000",
         "2023-11-06",
         "1.6"
        ],
        [
         "Karan",
         "HR",
         "53000",
         "2021-08-20",
         "3.8"
        ]
       ],
       "datasetInfos": [],
       "dbfsResultPath": null,
       "isJsonSchema": true,
       "metadata": {},
       "overflow": false,
       "plotOptions": {
        "customPlotOptions": {},
        "displayType": "table",
        "pivotAggregation": null,
        "pivotColumns": null,
        "xColumns": null,
        "yColumns": null
       },
       "removedWidgets": [],
       "schema": [
        {
         "metadata": "{}",
         "name": "Name",
         "type": "\"string\""
        },
        {
         "metadata": "{}",
         "name": "Department",
         "type": "\"string\""
        },
        {
         "metadata": "{}",
         "name": "Salary",
         "type": "\"string\""
        },
        {
         "metadata": "{}",
         "name": "JoinDate",
         "type": "\"string\""
        },
        {
         "metadata": "{}",
         "name": "YearsWithCompany",
         "type": "\"string\""
        }
       ],
       "type": "table"
      }
     },
     "output_type": "display_data"
    },
    {
     "output_type": "display_data",
     "data": {
      "text/html": [
       "<style scoped>\n",
       "  .table-result-container {\n",
       "    max-height: 300px;\n",
       "    overflow: auto;\n",
       "  }\n",
       "  table, th, td {\n",
       "    border: 1px solid black;\n",
       "    border-collapse: collapse;\n",
       "  }\n",
       "  th, td {\n",
       "    padding: 5px;\n",
       "  }\n",
       "  th {\n",
       "    text-align: left;\n",
       "  }\n",
       "</style><div class='table-result-container'><table class='table-result'><thead style='background-color: white'><tr><th>Name</th><th>Department</th><th>Salary</th><th>Year</th><th>Rating</th></tr></thead><tbody><tr><td>Naveen</td><td>Engineering</td><td>70000</td><td>2023</td><td>4.7</td></tr><tr><td>Rahul</td><td>Engineering</td><td>65000</td><td>2023</td><td>4.9</td></tr><tr><td>Priya</td><td>Engineering</td><td>60000</td><td>2023</td><td>4.3</td></tr><tr><td>Fatima</td><td>Marketing</td><td>45000</td><td>2023</td><td>3.9</td></tr><tr><td>Zoya</td><td>Marketing</td><td>48000</td><td>2023</td><td>3.8</td></tr><tr><td>Ananya</td><td>HR</td><td>52000</td><td>2023</td><td>4.5</td></tr><tr><td>Karan</td><td>HR</td><td>53000</td><td>2023</td><td>4.1</td></tr></tbody></table></div>"
      ]
     },
     "metadata": {
      "application/vnd.databricks.v1+output": {
       "addedWidgets": {},
       "aggData": [],
       "aggError": "",
       "aggOverflow": false,
       "aggSchema": [],
       "aggSeriesLimitReached": false,
       "aggType": "",
       "arguments": {},
       "columnCustomDisplayInfos": {},
       "data": [
        [
         "Naveen",
         "Engineering",
         70000,
         2023,
         4.7
        ],
        [
         "Rahul",
         "Engineering",
         65000,
         2023,
         4.9
        ],
        [
         "Priya",
         "Engineering",
         60000,
         2023,
         4.3
        ],
        [
         "Fatima",
         "Marketing",
         45000,
         2023,
         3.9
        ],
        [
         "Zoya",
         "Marketing",
         48000,
         2023,
         3.8
        ],
        [
         "Ananya",
         "HR",
         52000,
         2023,
         4.5
        ],
        [
         "Karan",
         "HR",
         53000,
         2023,
         4.1
        ]
       ],
       "datasetInfos": [],
       "dbfsResultPath": null,
       "isJsonSchema": true,
       "metadata": {},
       "overflow": false,
       "plotOptions": {
        "customPlotOptions": {},
        "displayType": "table",
        "pivotAggregation": null,
        "pivotColumns": null,
        "xColumns": null,
        "yColumns": null
       },
       "removedWidgets": [],
       "schema": [
        {
         "metadata": "{}",
         "name": "Name",
         "type": "\"string\""
        },
        {
         "metadata": "{}",
         "name": "Department",
         "type": "\"string\""
        },
        {
         "metadata": "{}",
         "name": "Salary",
         "type": "\"long\""
        },
        {
         "metadata": "{}",
         "name": "Year",
         "type": "\"long\""
        },
        {
         "metadata": "{}",
         "name": "Rating",
         "type": "\"double\""
        }
       ],
       "type": "table"
      }
     },
     "output_type": "display_data"
    }
   ],
   "source": [
    "#11. Write the full employee DataFrame to CSV with headers\n",
    "years.write.csv(\"/FileStore/employee_data\", header=True, mode=\"overwrite\")\n",
    "display(spark.read.csv(\"/FileStore/employee_data\", header=True))\n",
    "\n",
    "\n",
    "#12. Save the joined DataFrame to a Parquet file\n",
    "joined_df.write.parquet(\"/FileStore/employee_perf\", mode=\"overwrite\")\n",
    "display(spark.read.parquet(\"/FileStore/employee_perf\"))"
   ]
  }
 ],
 "metadata": {
  "application/vnd.databricks.v1+notebook": {
   "computePreferences": null,
   "dashboards": [],
   "environmentMetadata": {
    "base_environment": "",
    "environment_version": "2"
   },
   "inputWidgetPreferences": null,
   "language": "python",
   "notebookMetadata": {
    "pythonIndentUnit": 4
   },
   "notebookName": "Assignment_2",
   "widgets": {}
  },
  "language_info": {
   "name": "python"
  }
 },
 "nbformat": 4,
 "nbformat_minor": 0
}