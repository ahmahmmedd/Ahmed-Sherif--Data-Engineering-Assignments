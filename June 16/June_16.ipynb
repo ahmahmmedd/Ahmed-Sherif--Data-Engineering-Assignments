{
  "nbformat": 4,
  "nbformat_minor": 0,
  "metadata": {
    "colab": {
      "provenance": []
    },
    "kernelspec": {
      "name": "python3",
      "display_name": "Python 3"
    },
    "language_info": {
      "name": "python"
    }
  },
  "cells": [
    {
      "cell_type": "code",
      "execution_count": 2,
      "metadata": {
        "colab": {
          "base_uri": "https://localhost:8080/",
          "height": 219
        },
        "id": "f_1qlRcc4u6M",
        "outputId": "c001c56b-dfe5-46af-a1d0-3ba133c12f43"
      },
      "outputs": [
        {
          "output_type": "execute_result",
          "data": {
            "text/plain": [
              "<pyspark.sql.session.SparkSession at 0x79ac01c9a850>"
            ],
            "text/html": [
              "\n",
              "            <div>\n",
              "                <p><b>SparkSession - in-memory</b></p>\n",
              "                \n",
              "        <div>\n",
              "            <p><b>SparkContext</b></p>\n",
              "\n",
              "            <p><a href=\"http://1f9291fdc395:4040\">Spark UI</a></p>\n",
              "\n",
              "            <dl>\n",
              "              <dt>Version</dt>\n",
              "                <dd><code>v3.5.1</code></dd>\n",
              "              <dt>Master</dt>\n",
              "                <dd><code>local[*]</code></dd>\n",
              "              <dt>AppName</dt>\n",
              "                <dd><code>OnlineCourseAnalysis</code></dd>\n",
              "            </dl>\n",
              "        </div>\n",
              "        \n",
              "            </div>\n",
              "        "
            ]
          },
          "metadata": {},
          "execution_count": 2
        }
      ],
      "source": [
        "from pyspark.sql import SparkSession\n",
        "from pyspark.sql.functions import *\n",
        "from pyspark.sql.types import *\n",
        "spark = SparkSession.builder \\\n",
        "    .appName(\"OnlineCourseAnalysis\") \\\n",
        "    .getOrCreate()\n",
        "\n",
        "spark"
      ]
    },
    {
      "cell_type": "markdown",
      "source": [
        "**Data Loading**"
      ],
      "metadata": {
        "id": "FQbToJ5a5gvN"
      }
    },
    {
      "cell_type": "code",
      "source": [
        "#1. Load the data with schema inference enabled.\n",
        "df_inferred = spark.read.csv(\"course_enrollments.csv\", header=True, inferSchema=True)\n",
        "df_inferred.printSchema()"
      ],
      "metadata": {
        "colab": {
          "base_uri": "https://localhost:8080/"
        },
        "id": "-lldM8Go5VUf",
        "outputId": "6502cdf6-4b5a-42d2-d538-7425b96da176"
      },
      "execution_count": 6,
      "outputs": [
        {
          "output_type": "stream",
          "name": "stdout",
          "text": [
            "root\n",
            " |-- EnrollmentID: string (nullable = true)\n",
            " |-- StudentName: string (nullable = true)\n",
            " |-- CourseName: string (nullable = true)\n",
            " |-- Category: string (nullable = true)\n",
            " |-- EnrollDate: date (nullable = true)\n",
            " |-- ProgressPercent: integer (nullable = true)\n",
            " |-- Rating: double (nullable = true)\n",
            " |-- Status: string (nullable = true)\n",
            "\n"
          ]
        }
      ]
    },
    {
      "cell_type": "code",
      "source": [
        "#2. Manually define schema and compare both approaches.\n",
        "manual_schema = StructType([\n",
        "    StructField(\"EnrollmentID\", StringType(), True),\n",
        "    StructField(\"StudentName\", StringType(), True),\n",
        "    StructField(\"CourseName\", StringType(), True),\n",
        "    StructField(\"Category\", StringType(), True),\n",
        "    StructField(\"EnrollDate\", DateType(), True),\n",
        "    StructField(\"ProgressPercent\", IntegerType(), True),\n",
        "    StructField(\"Rating\", DoubleType(), True),\n",
        "    StructField(\"Status\", StringType(), True)\n",
        "])\n",
        "df_manual = spark.read.csv(\"course_enrollments.csv\", header=True, schema=manual_schema)\n",
        "\n",
        "# Compare schemas\n",
        "print(\"Inferred schema types:\")\n",
        "df_manual.printSchema()\n",
        "\n",
        "print(\"\\nManual schema types:\")\n",
        "df_inferred.printSchema()"
      ],
      "metadata": {
        "colab": {
          "base_uri": "https://localhost:8080/"
        },
        "id": "RxLLTrlI592u",
        "outputId": "2bbf9603-369d-442e-83d5-3b9d4bd42738"
      },
      "execution_count": 13,
      "outputs": [
        {
          "output_type": "stream",
          "name": "stdout",
          "text": [
            "Inferred schema types:\n",
            "root\n",
            " |-- EnrollmentID: string (nullable = true)\n",
            " |-- StudentName: string (nullable = true)\n",
            " |-- CourseName: string (nullable = true)\n",
            " |-- Category: string (nullable = true)\n",
            " |-- EnrollDate: date (nullable = true)\n",
            " |-- ProgressPercent: integer (nullable = true)\n",
            " |-- Rating: double (nullable = true)\n",
            " |-- Status: string (nullable = true)\n",
            "\n",
            "\n",
            "Manual schema types:\n",
            "root\n",
            " |-- EnrollmentID: string (nullable = true)\n",
            " |-- StudentName: string (nullable = true)\n",
            " |-- CourseName: string (nullable = true)\n",
            " |-- Category: string (nullable = true)\n",
            " |-- EnrollDate: date (nullable = true)\n",
            " |-- ProgressPercent: integer (nullable = true)\n",
            " |-- Rating: double (nullable = true)\n",
            " |-- Status: string (nullable = true)\n",
            "\n"
          ]
        }
      ]
    },
    {
      "cell_type": "markdown",
      "source": [
        "**Filtering and Transformation**"
      ],
      "metadata": {
        "id": "4OWfRkkH5d5d"
      }
    },
    {
      "cell_type": "code",
      "source": [
        "#3. Filter records where ProgressPercent < 50 .\n",
        "low= df_manual.filter(col(\"ProgressPercent\") < 50)\n",
        "low.show()"
      ],
      "metadata": {
        "colab": {
          "base_uri": "https://localhost:8080/"
        },
        "id": "isqzvcs25824",
        "outputId": "deebff01-d56a-4705-d0b7-d7f577693c18"
      },
      "execution_count": 15,
      "outputs": [
        {
          "output_type": "stream",
          "name": "stdout",
          "text": [
            "+------------+-----------+-------------------+-----------+----------+---------------+------+--------+\n",
            "|EnrollmentID|StudentName|         CourseName|   Category|EnrollDate|ProgressPercent|Rating|  Status|\n",
            "+------------+-----------+-------------------+-----------+----------+---------------+------+--------+\n",
            "|      ENR003|     Aakash|Power BI Essentials|  Analytics|2024-05-13|             30|   3.8|  Active|\n",
            "|      ENR004|       Neha|        Java Basics|Programming|2024-05-15|              0|  NULL|Inactive|\n",
            "+------------+-----------+-------------------+-----------+----------+---------------+------+--------+\n",
            "\n"
          ]
        }
      ]
    },
    {
      "cell_type": "code",
      "source": [
        "#4. Replace null ratings with average rating.\n",
        "avg_rating = df_manual.select(avg(\"Rating\")).collect()[0][0]\n",
        "df_fill = df_manual.na.fill(avg_rating, subset=[\"Rating\"])\n",
        "df_fill.show()"
      ],
      "metadata": {
        "colab": {
          "base_uri": "https://localhost:8080/"
        },
        "id": "gPqZOuF87Q-V",
        "outputId": "0259a603-7cae-49d3-9d77-dcfb5c21c5e1"
      },
      "execution_count": 17,
      "outputs": [
        {
          "output_type": "stream",
          "name": "stdout",
          "text": [
            "+------------+-----------+--------------------+-----------+----------+---------------+-----------------+---------+\n",
            "|EnrollmentID|StudentName|          CourseName|   Category|EnrollDate|ProgressPercent|           Rating|   Status|\n",
            "+------------+-----------+--------------------+-----------+----------+---------------+-----------------+---------+\n",
            "|      ENR001|     Aditya|Python for Beginners|Programming|2024-05-10|             80|              4.5|   Active|\n",
            "|      ENR002|     Simran|Data Analysis wit...|  Analytics|2024-05-12|            100|              4.7|Completed|\n",
            "|      ENR003|     Aakash| Power BI Essentials|  Analytics|2024-05-13|             30|              3.8|   Active|\n",
            "|      ENR004|       Neha|         Java Basics|Programming|2024-05-15|              0|4.359999999999999| Inactive|\n",
            "|      ENR005|       Zara|Machine Learning 101|         AI|2024-05-17|             60|              4.2|   Active|\n",
            "|      ENR006|    Ibrahim|Python for Beginners|Programming|2024-05-18|             90|              4.6|Completed|\n",
            "+------------+-----------+--------------------+-----------+----------+---------------+-----------------+---------+\n",
            "\n"
          ]
        }
      ]
    },
    {
      "cell_type": "code",
      "source": [
        "#5. Add column IsActive → 1 if Status is Active, else 0.\n",
        "df_with_active = df_fill.withColumn(\"IsActive\", when(col(\"Status\")==\"Active\", 1).otherwise(0))\n",
        "df_with_active.show()"
      ],
      "metadata": {
        "colab": {
          "base_uri": "https://localhost:8080/"
        },
        "id": "1ChHlLK07rbG",
        "outputId": "56014acd-2b94-4a0a-a055-a66184a74a60"
      },
      "execution_count": 18,
      "outputs": [
        {
          "output_type": "stream",
          "name": "stdout",
          "text": [
            "+------------+-----------+--------------------+-----------+----------+---------------+-----------------+---------+--------+\n",
            "|EnrollmentID|StudentName|          CourseName|   Category|EnrollDate|ProgressPercent|           Rating|   Status|IsActive|\n",
            "+------------+-----------+--------------------+-----------+----------+---------------+-----------------+---------+--------+\n",
            "|      ENR001|     Aditya|Python for Beginners|Programming|2024-05-10|             80|              4.5|   Active|       1|\n",
            "|      ENR002|     Simran|Data Analysis wit...|  Analytics|2024-05-12|            100|              4.7|Completed|       0|\n",
            "|      ENR003|     Aakash| Power BI Essentials|  Analytics|2024-05-13|             30|              3.8|   Active|       1|\n",
            "|      ENR004|       Neha|         Java Basics|Programming|2024-05-15|              0|4.359999999999999| Inactive|       0|\n",
            "|      ENR005|       Zara|Machine Learning 101|         AI|2024-05-17|             60|              4.2|   Active|       1|\n",
            "|      ENR006|    Ibrahim|Python for Beginners|Programming|2024-05-18|             90|              4.6|Completed|       0|\n",
            "+------------+-----------+--------------------+-----------+----------+---------------+-----------------+---------+--------+\n",
            "\n"
          ]
        }
      ]
    },
    {
      "cell_type": "markdown",
      "source": [
        "**Aggregations & Metrics**"
      ],
      "metadata": {
        "id": "rOZKRAqU7in1"
      }
    },
    {
      "cell_type": "code",
      "source": [
        "#6. Find average progress by course.\n",
        "avg_progress = df_with_active.groupBy(\"CourseName\").agg(avg(\"ProgressPercent\").alias(\"AvgProgress\"))\n",
        "avg_progress.show()"
      ],
      "metadata": {
        "colab": {
          "base_uri": "https://localhost:8080/"
        },
        "id": "c9ZHzCbJ7eqN",
        "outputId": "ff232085-d5bb-4532-f033-b40361f2b3ff"
      },
      "execution_count": 20,
      "outputs": [
        {
          "output_type": "stream",
          "name": "stdout",
          "text": [
            "+--------------------+-----------+\n",
            "|          CourseName|AvgProgress|\n",
            "+--------------------+-----------+\n",
            "|Data Analysis wit...|      100.0|\n",
            "|         Java Basics|        0.0|\n",
            "|Machine Learning 101|       60.0|\n",
            "|Python for Beginners|       85.0|\n",
            "| Power BI Essentials|       30.0|\n",
            "+--------------------+-----------+\n",
            "\n"
          ]
        }
      ]
    },
    {
      "cell_type": "code",
      "source": [
        "#7. Get count of students in each course category.\n",
        "category_count = df_with_active.groupBy(\"Category\").count().orderBy(\"count\", ascending=False)\n",
        "category_count.show()"
      ],
      "metadata": {
        "colab": {
          "base_uri": "https://localhost:8080/"
        },
        "id": "RKuUU6vC8KPl",
        "outputId": "842ee716-93de-49b6-c975-1ddbb85acccb"
      },
      "execution_count": 21,
      "outputs": [
        {
          "output_type": "stream",
          "name": "stdout",
          "text": [
            "+-----------+-----+\n",
            "|   Category|count|\n",
            "+-----------+-----+\n",
            "|Programming|    3|\n",
            "|  Analytics|    2|\n",
            "|         AI|    1|\n",
            "+-----------+-----+\n",
            "\n"
          ]
        }
      ]
    },
    {
      "cell_type": "code",
      "source": [
        "#8. Identify the most enrolled course.\n",
        "most_enrolled = df_with_active.groupBy(\"CourseName\").count().orderBy(\"count\", ascending=False).limit(1)\n",
        "most_enrolled.show()"
      ],
      "metadata": {
        "colab": {
          "base_uri": "https://localhost:8080/"
        },
        "id": "_lpw-0_G8WOv",
        "outputId": "93696b1f-23d4-40b8-caca-126d22051631"
      },
      "execution_count": 22,
      "outputs": [
        {
          "output_type": "stream",
          "name": "stdout",
          "text": [
            "+--------------------+-----+\n",
            "|          CourseName|count|\n",
            "+--------------------+-----+\n",
            "|Python for Beginners|    2|\n",
            "+--------------------+-----+\n",
            "\n"
          ]
        }
      ]
    },
    {
      "cell_type": "markdown",
      "source": [
        "**Joins**"
      ],
      "metadata": {
        "id": "QIDsP--88hlO"
      }
    },
    {
      "cell_type": "code",
      "source": [
        "#9. Create second CSV: course_details.csv\n",
        "course_details= spark.read.csv(\"course_details.csv\", header=True, inferSchema=True)\n",
        "course_details.show()"
      ],
      "metadata": {
        "colab": {
          "base_uri": "https://localhost:8080/"
        },
        "id": "Xl0jud8S8krC",
        "outputId": "bc65253e-c738-447e-8d3a-656b8745bae8"
      },
      "execution_count": 25,
      "outputs": [
        {
          "output_type": "stream",
          "name": "stdout",
          "text": [
            "+--------------------+-------------+----------+\n",
            "|          CourseName|DurationWeeks|Instructor|\n",
            "+--------------------+-------------+----------+\n",
            "|Python for Beginners|            4|    Rakesh|\n",
            "|Data Analysis wit...|            3|    Anjali|\n",
            "| Power BI Essentials|            5|     Rekha|\n",
            "|         Java Basics|            6|     Manoj|\n",
            "|Machine Learning 101|            8|     Samir|\n",
            "+--------------------+-------------+----------+\n",
            "\n"
          ]
        }
      ]
    },
    {
      "cell_type": "code",
      "source": [
        "#10. Join course_enrollments with course_details to include duration and instructor.\n",
        "join_df = df_with_active.join(course_details, \"CourseName\", \"left\")\n",
        "join_df.show()"
      ],
      "metadata": {
        "colab": {
          "base_uri": "https://localhost:8080/"
        },
        "id": "BSeVSTTj8pIw",
        "outputId": "a263bbcc-5b33-4b82-bb24-3f1c2e2f75fc"
      },
      "execution_count": 26,
      "outputs": [
        {
          "output_type": "stream",
          "name": "stdout",
          "text": [
            "+--------------------+------------+-----------+-----------+----------+---------------+-----------------+---------+--------+-------------+----------+\n",
            "|          CourseName|EnrollmentID|StudentName|   Category|EnrollDate|ProgressPercent|           Rating|   Status|IsActive|DurationWeeks|Instructor|\n",
            "+--------------------+------------+-----------+-----------+----------+---------------+-----------------+---------+--------+-------------+----------+\n",
            "|Python for Beginners|      ENR001|     Aditya|Programming|2024-05-10|             80|              4.5|   Active|       1|            4|    Rakesh|\n",
            "|Data Analysis wit...|      ENR002|     Simran|  Analytics|2024-05-12|            100|              4.7|Completed|       0|            3|    Anjali|\n",
            "| Power BI Essentials|      ENR003|     Aakash|  Analytics|2024-05-13|             30|              3.8|   Active|       1|            5|     Rekha|\n",
            "|         Java Basics|      ENR004|       Neha|Programming|2024-05-15|              0|4.359999999999999| Inactive|       0|            6|     Manoj|\n",
            "|Machine Learning 101|      ENR005|       Zara|         AI|2024-05-17|             60|              4.2|   Active|       1|            8|     Samir|\n",
            "|Python for Beginners|      ENR006|    Ibrahim|Programming|2024-05-18|             90|              4.6|Completed|       0|            4|    Rakesh|\n",
            "+--------------------+------------+-----------+-----------+----------+---------------+-----------------+---------+--------+-------------+----------+\n",
            "\n"
          ]
        }
      ]
    },
    {
      "cell_type": "markdown",
      "source": [
        "**Window Functions**"
      ],
      "metadata": {
        "id": "oIV-S5DJ9ip2"
      }
    },
    {
      "cell_type": "code",
      "source": [
        "#11. Rank students in each course based on ProgressPercent .\n",
        "from pyspark.sql.window import Window\n",
        "window_spec = Window.partitionBy(\"CourseName\").orderBy(col(\"ProgressPercent\").desc())\n",
        "ranked_df = join_df.withColumn(\"Rank\", rank().over(window_spec))\n",
        "ranked_df.show()"
      ],
      "metadata": {
        "colab": {
          "base_uri": "https://localhost:8080/"
        },
        "id": "dRFewgTW9ktx",
        "outputId": "8d56fe42-2333-45a6-a79b-9f930b07d680"
      },
      "execution_count": 27,
      "outputs": [
        {
          "output_type": "stream",
          "name": "stdout",
          "text": [
            "+--------------------+------------+-----------+-----------+----------+---------------+-----------------+---------+--------+-------------+----------+----+\n",
            "|          CourseName|EnrollmentID|StudentName|   Category|EnrollDate|ProgressPercent|           Rating|   Status|IsActive|DurationWeeks|Instructor|Rank|\n",
            "+--------------------+------------+-----------+-----------+----------+---------------+-----------------+---------+--------+-------------+----------+----+\n",
            "|Data Analysis wit...|      ENR002|     Simran|  Analytics|2024-05-12|            100|              4.7|Completed|       0|            3|    Anjali|   1|\n",
            "|         Java Basics|      ENR004|       Neha|Programming|2024-05-15|              0|4.359999999999999| Inactive|       0|            6|     Manoj|   1|\n",
            "|Machine Learning 101|      ENR005|       Zara|         AI|2024-05-17|             60|              4.2|   Active|       1|            8|     Samir|   1|\n",
            "| Power BI Essentials|      ENR003|     Aakash|  Analytics|2024-05-13|             30|              3.8|   Active|       1|            5|     Rekha|   1|\n",
            "|Python for Beginners|      ENR006|    Ibrahim|Programming|2024-05-18|             90|              4.6|Completed|       0|            4|    Rakesh|   1|\n",
            "|Python for Beginners|      ENR001|     Aditya|Programming|2024-05-10|             80|              4.5|   Active|       1|            4|    Rakesh|   2|\n",
            "+--------------------+------------+-----------+-----------+----------+---------------+-----------------+---------+--------+-------------+----------+----+\n",
            "\n"
          ]
        }
      ]
    },
    {
      "cell_type": "code",
      "source": [
        "#12. Get lead and lag of EnrollDate by Category.\n",
        "category_window = Window.partitionBy(\"Category\").orderBy(\"EnrollDate\")\n",
        "date_diff_df = ranked_df.withColumn(\"NextEnrollment\", lead(\"EnrollDate\").over(category_window)) \\\n",
        ".withColumn(\"PrevEnrollment\", lag(\"EnrollDate\").over(category_window))\n",
        "date_diff_df.show()"
      ],
      "metadata": {
        "colab": {
          "base_uri": "https://localhost:8080/"
        },
        "id": "xlKS5wN2908p",
        "outputId": "4ad38db5-cd42-4844-b990-c515ae041ea6"
      },
      "execution_count": 28,
      "outputs": [
        {
          "output_type": "stream",
          "name": "stdout",
          "text": [
            "+--------------------+------------+-----------+-----------+----------+---------------+-----------------+---------+--------+-------------+----------+----+--------------+--------------+\n",
            "|          CourseName|EnrollmentID|StudentName|   Category|EnrollDate|ProgressPercent|           Rating|   Status|IsActive|DurationWeeks|Instructor|Rank|NextEnrollment|PrevEnrollment|\n",
            "+--------------------+------------+-----------+-----------+----------+---------------+-----------------+---------+--------+-------------+----------+----+--------------+--------------+\n",
            "|Machine Learning 101|      ENR005|       Zara|         AI|2024-05-17|             60|              4.2|   Active|       1|            8|     Samir|   1|          NULL|          NULL|\n",
            "|Data Analysis wit...|      ENR002|     Simran|  Analytics|2024-05-12|            100|              4.7|Completed|       0|            3|    Anjali|   1|    2024-05-13|          NULL|\n",
            "| Power BI Essentials|      ENR003|     Aakash|  Analytics|2024-05-13|             30|              3.8|   Active|       1|            5|     Rekha|   1|          NULL|    2024-05-12|\n",
            "|Python for Beginners|      ENR001|     Aditya|Programming|2024-05-10|             80|              4.5|   Active|       1|            4|    Rakesh|   2|    2024-05-15|          NULL|\n",
            "|         Java Basics|      ENR004|       Neha|Programming|2024-05-15|              0|4.359999999999999| Inactive|       0|            6|     Manoj|   1|    2024-05-18|    2024-05-10|\n",
            "|Python for Beginners|      ENR006|    Ibrahim|Programming|2024-05-18|             90|              4.6|Completed|       0|            4|    Rakesh|   1|          NULL|    2024-05-15|\n",
            "+--------------------+------------+-----------+-----------+----------+---------------+-----------------+---------+--------+-------------+----------+----+--------------+--------------+\n",
            "\n"
          ]
        }
      ]
    },
    {
      "cell_type": "markdown",
      "source": [
        "**Pivoting & Formatting**"
      ],
      "metadata": {
        "id": "wIPIueTQ-Cyq"
      }
    },
    {
      "cell_type": "code",
      "source": [
        "#13. Pivot data to show total enrollments by Category and Status.\n",
        "pivot_df = date_diff_df.groupBy(\"Category\").pivot(\"Status\").count().na.fill(0)\n",
        "pivot_df.show()"
      ],
      "metadata": {
        "colab": {
          "base_uri": "https://localhost:8080/"
        },
        "id": "i22RzCG0-Ffl",
        "outputId": "f4cb5a62-f98e-465b-9a93-b7b216b97491"
      },
      "execution_count": 29,
      "outputs": [
        {
          "output_type": "stream",
          "name": "stdout",
          "text": [
            "+-----------+------+---------+--------+\n",
            "|   Category|Active|Completed|Inactive|\n",
            "+-----------+------+---------+--------+\n",
            "|Programming|     1|        1|       1|\n",
            "|         AI|     1|        0|       0|\n",
            "|  Analytics|     1|        1|       0|\n",
            "+-----------+------+---------+--------+\n",
            "\n"
          ]
        }
      ]
    },
    {
      "cell_type": "code",
      "source": [
        "#14. Extract year and month from EnrollDate .\n",
        "date_extracted = date_diff_df.withColumn(\"EnrollYear\", year(\"EnrollDate\")) \\\n",
        ".withColumn(\"EnrollMonth\", month(\"EnrollDate\"))\n",
        "date_extracted.show()"
      ],
      "metadata": {
        "colab": {
          "base_uri": "https://localhost:8080/"
        },
        "id": "90KGZ60N-Ml1",
        "outputId": "5b1e33b9-94c5-4910-f57b-6680d7711db0"
      },
      "execution_count": 30,
      "outputs": [
        {
          "output_type": "stream",
          "name": "stdout",
          "text": [
            "+--------------------+------------+-----------+-----------+----------+---------------+-----------------+---------+--------+-------------+----------+----+--------------+--------------+----------+-----------+\n",
            "|          CourseName|EnrollmentID|StudentName|   Category|EnrollDate|ProgressPercent|           Rating|   Status|IsActive|DurationWeeks|Instructor|Rank|NextEnrollment|PrevEnrollment|EnrollYear|EnrollMonth|\n",
            "+--------------------+------------+-----------+-----------+----------+---------------+-----------------+---------+--------+-------------+----------+----+--------------+--------------+----------+-----------+\n",
            "|Machine Learning 101|      ENR005|       Zara|         AI|2024-05-17|             60|              4.2|   Active|       1|            8|     Samir|   1|          NULL|          NULL|      2024|          5|\n",
            "|Data Analysis wit...|      ENR002|     Simran|  Analytics|2024-05-12|            100|              4.7|Completed|       0|            3|    Anjali|   1|    2024-05-13|          NULL|      2024|          5|\n",
            "| Power BI Essentials|      ENR003|     Aakash|  Analytics|2024-05-13|             30|              3.8|   Active|       1|            5|     Rekha|   1|          NULL|    2024-05-12|      2024|          5|\n",
            "|Python for Beginners|      ENR001|     Aditya|Programming|2024-05-10|             80|              4.5|   Active|       1|            4|    Rakesh|   2|    2024-05-15|          NULL|      2024|          5|\n",
            "|         Java Basics|      ENR004|       Neha|Programming|2024-05-15|              0|4.359999999999999| Inactive|       0|            6|     Manoj|   1|    2024-05-18|    2024-05-10|      2024|          5|\n",
            "|Python for Beginners|      ENR006|    Ibrahim|Programming|2024-05-18|             90|              4.6|Completed|       0|            4|    Rakesh|   1|          NULL|    2024-05-15|      2024|          5|\n",
            "+--------------------+------------+-----------+-----------+----------+---------------+-----------------+---------+--------+-------------+----------+----+--------------+--------------+----------+-----------+\n",
            "\n"
          ]
        }
      ]
    },
    {
      "cell_type": "markdown",
      "source": [
        "**Cleaning and Deduplication**"
      ],
      "metadata": {
        "id": "q6m01Ysg-TZ5"
      }
    },
    {
      "cell_type": "code",
      "source": [
        "#15. Drop rows where Status is null or empty.\n",
        "drop_df = date_extracted.filter(col(\"Status\").isNotNull() & (col(\"Status\") != \"\"))\n",
        "drop_df.show()"
      ],
      "metadata": {
        "colab": {
          "base_uri": "https://localhost:8080/"
        },
        "id": "6aK_guxt-WS2",
        "outputId": "1d4ac17a-97e2-453e-e6a3-1939ef5fecd7"
      },
      "execution_count": 31,
      "outputs": [
        {
          "output_type": "stream",
          "name": "stdout",
          "text": [
            "+--------------------+------------+-----------+-----------+----------+---------------+-----------------+---------+--------+-------------+----------+----+--------------+--------------+----------+-----------+\n",
            "|          CourseName|EnrollmentID|StudentName|   Category|EnrollDate|ProgressPercent|           Rating|   Status|IsActive|DurationWeeks|Instructor|Rank|NextEnrollment|PrevEnrollment|EnrollYear|EnrollMonth|\n",
            "+--------------------+------------+-----------+-----------+----------+---------------+-----------------+---------+--------+-------------+----------+----+--------------+--------------+----------+-----------+\n",
            "|Machine Learning 101|      ENR005|       Zara|         AI|2024-05-17|             60|              4.2|   Active|       1|            8|     Samir|   1|          NULL|          NULL|      2024|          5|\n",
            "|Data Analysis wit...|      ENR002|     Simran|  Analytics|2024-05-12|            100|              4.7|Completed|       0|            3|    Anjali|   1|    2024-05-13|          NULL|      2024|          5|\n",
            "| Power BI Essentials|      ENR003|     Aakash|  Analytics|2024-05-13|             30|              3.8|   Active|       1|            5|     Rekha|   1|          NULL|    2024-05-12|      2024|          5|\n",
            "|Python for Beginners|      ENR001|     Aditya|Programming|2024-05-10|             80|              4.5|   Active|       1|            4|    Rakesh|   2|    2024-05-15|          NULL|      2024|          5|\n",
            "|         Java Basics|      ENR004|       Neha|Programming|2024-05-15|              0|4.359999999999999| Inactive|       0|            6|     Manoj|   1|    2024-05-18|    2024-05-10|      2024|          5|\n",
            "|Python for Beginners|      ENR006|    Ibrahim|Programming|2024-05-18|             90|              4.6|Completed|       0|            4|    Rakesh|   1|          NULL|    2024-05-15|      2024|          5|\n",
            "+--------------------+------------+-----------+-----------+----------+---------------+-----------------+---------+--------+-------------+----------+----+--------------+--------------+----------+-----------+\n",
            "\n"
          ]
        }
      ]
    },
    {
      "cell_type": "code",
      "source": [
        "#16. Remove duplicate enrollments using dropDuplicates() .\n",
        "dupe_df = drop_df.dropDuplicates([\"EnrollmentID\"])\n",
        "dupe_df.show()"
      ],
      "metadata": {
        "colab": {
          "base_uri": "https://localhost:8080/"
        },
        "id": "3xFJNbTG-hRH",
        "outputId": "471a94bc-b938-4cd8-c970-c751b9e5d53a"
      },
      "execution_count": 32,
      "outputs": [
        {
          "output_type": "stream",
          "name": "stdout",
          "text": [
            "+--------------------+------------+-----------+-----------+----------+---------------+-----------------+---------+--------+-------------+----------+----+--------------+--------------+----------+-----------+\n",
            "|          CourseName|EnrollmentID|StudentName|   Category|EnrollDate|ProgressPercent|           Rating|   Status|IsActive|DurationWeeks|Instructor|Rank|NextEnrollment|PrevEnrollment|EnrollYear|EnrollMonth|\n",
            "+--------------------+------------+-----------+-----------+----------+---------------+-----------------+---------+--------+-------------+----------+----+--------------+--------------+----------+-----------+\n",
            "|Python for Beginners|      ENR001|     Aditya|Programming|2024-05-10|             80|              4.5|   Active|       1|            4|    Rakesh|   2|    2024-05-15|          NULL|      2024|          5|\n",
            "|Data Analysis wit...|      ENR002|     Simran|  Analytics|2024-05-12|            100|              4.7|Completed|       0|            3|    Anjali|   1|    2024-05-13|          NULL|      2024|          5|\n",
            "| Power BI Essentials|      ENR003|     Aakash|  Analytics|2024-05-13|             30|              3.8|   Active|       1|            5|     Rekha|   1|          NULL|    2024-05-12|      2024|          5|\n",
            "|         Java Basics|      ENR004|       Neha|Programming|2024-05-15|              0|4.359999999999999| Inactive|       0|            6|     Manoj|   1|    2024-05-18|    2024-05-10|      2024|          5|\n",
            "|Machine Learning 101|      ENR005|       Zara|         AI|2024-05-17|             60|              4.2|   Active|       1|            8|     Samir|   1|          NULL|          NULL|      2024|          5|\n",
            "|Python for Beginners|      ENR006|    Ibrahim|Programming|2024-05-18|             90|              4.6|Completed|       0|            4|    Rakesh|   1|          NULL|    2024-05-15|      2024|          5|\n",
            "+--------------------+------------+-----------+-----------+----------+---------------+-----------------+---------+--------+-------------+----------+----+--------------+--------------+----------+-----------+\n",
            "\n"
          ]
        }
      ]
    },
    {
      "cell_type": "markdown",
      "source": [
        "**Export**"
      ],
      "metadata": {
        "id": "hTjE9wsK-s31"
      }
    },
    {
      "cell_type": "code",
      "source": [
        "#17. Write the final cleaned DataFrame to:\n",
        "#CSV (overwrite mode)\n",
        "dupe_df.write.csv(\"final_enrollments_csv\", header=True, mode=\"overwrite\")\n",
        "#JSON (overwrite mode)\n",
        "dupe_df.write.json(\"final_enrollments_json\", mode=\"overwrite\")\n",
        "#Parquet (snappy compression)\n",
        "dupe_df.write.parquet(\"final_enrollments_parquet\", mode=\"overwrite\", compression=\"snappy\")"
      ],
      "metadata": {
        "id": "o9m-f0_d-t38"
      },
      "execution_count": 33,
      "outputs": []
    }
  ]
}