{
 "cells": [
  {
   "cell_type": "code",
   "execution_count": 0,
   "metadata": {
    "application/vnd.databricks.v1+cell": {
     "cellMetadata": {
      "byteLimit": 2048000,
      "rowLimit": 10000
     },
     "inputWidgets": {},
     "nuid": "8ab6e5cc-22cb-4177-8e6b-fc62e41f111a",
     "showTitle": false,
     "tableResultSettingsMap": {},
     "title": ""
    }
   },
   "outputs": [],
   "source": [
    "from pyspark.sql import SparkSession\n",
    "from pyspark.sql.functions import *\n",
    "from pyspark.sql.types import *\n",
    "from pyspark.sql.window import Window\n",
    "from delta.tables import *\n",
    "\n",
    "# Initialize Spark with Delta Lake\n",
    "spark = SparkSession.builder \\\n",
    "    .appName(\"SaaSAnalytics\") \\\n",
    "    .config(\"spark.sql.extensions\", \"io.delta.sql.DeltaSparkSessionExtension\") \\\n",
    "    .config(\"spark.sql.catalog.spark_catalog\", \"org.apache.spark.sql.delta.catalog.DeltaCatalog\") \\\n",
    "    .getOrCreate()"
   ]
  },
  {
   "cell_type": "code",
   "execution_count": 0,
   "metadata": {
    "application/vnd.databricks.v1+cell": {
     "cellMetadata": {
      "byteLimit": 2048000,
      "rowLimit": 10000
     },
     "inputWidgets": {},
     "nuid": "46224261-7384-4277-8635-552f954411f5",
     "showTitle": false,
     "tableResultSettingsMap": {},
     "title": ""
    }
   },
   "outputs": [],
   "source": [
    "subscriptions = spark.read.csv(\"/FileStore/tables/subscriptions.csv\", header=True, inferSchema=True)\n",
    "user_activity = spark.read.csv(\"/FileStore/tables/user_activity.csv\", header=True, inferSchema=True) \\\n",
    ".withColumn(\"EventTime\", to_timestamp(col(\"EventTime\")))"
   ]
  },
  {
   "cell_type": "code",
   "execution_count": 0,
   "metadata": {
    "application/vnd.databricks.v1+cell": {
     "cellMetadata": {
      "byteLimit": 2048000,
      "rowLimit": 10000
     },
     "inputWidgets": {},
     "nuid": "0015dda1-884b-4f61-9b0e-047deee11fbb",
     "showTitle": true,
     "tableResultSettingsMap": {},
     "title": "A. Subscription Engagement Score"
    }
   },
   "outputs": [
    {
     "output_type": "display_data",
     "data": {
      "text/html": [
       "<style scoped>\n",
       "  .table-result-container {\n",
       "    max-height: 300px;\n",
       "    overflow: auto;\n",
       "  }\n",
       "  table, th, td {\n",
       "    border: 1px solid black;\n",
       "    border-collapse: collapse;\n",
       "  }\n",
       "  th, td {\n",
       "    padding: 5px;\n",
       "  }\n",
       "  th {\n",
       "    text-align: left;\n",
       "  }\n",
       "</style><div class='table-result-container'><table class='table-result'><thead style='background-color: white'><tr><th>UserID</th><th>SubscriptionID</th><th>PlanType</th><th>StartDate</th><th>EndDate</th><th>PriceUSD</th><th>IsActive</th><th>AutoRenew</th><th>active_days</th><th>event_count</th><th>engagement_score</th></tr></thead><tbody><tr><td>U001</td><td>SUB001</td><td>Basic</td><td>2024-01-01</td><td>2024-04-01</td><td>30.0</td><td>true</td><td>true</td><td>91</td><td>2</td><td>0.6593406593406594</td></tr><tr><td>U002</td><td>SUB002</td><td>Pro</td><td>2024-02-15</td><td>2024-05-15</td><td>90.0</td><td>true</td><td>false</td><td>90</td><td>1</td><td>1.0</td></tr><tr><td>U003</td><td>SUB003</td><td>Pro</td><td>2024-03-10</td><td>2024-06-10</td><td>90.0</td><td>false</td><td>false</td><td>92</td><td>1</td><td>0.9782608695652174</td></tr><tr><td>U001</td><td>SUB004</td><td>Premium</td><td>2024-04-05</td><td>2024-07-05</td><td>120.0</td><td>true</td><td>true</td><td>91</td><td>2</td><td>2.6373626373626378</td></tr><tr><td>U004</td><td>SUB005</td><td>Basic</td><td>2024-01-20</td><td>2024-04-20</td><td>30.0</td><td>false</td><td>false</td><td>91</td><td>1</td><td>0.3296703296703297</td></tr></tbody></table></div>"
      ]
     },
     "metadata": {
      "application/vnd.databricks.v1+output": {
       "addedWidgets": {},
       "aggData": [],
       "aggError": "",
       "aggOverflow": false,
       "aggSchema": [],
       "aggSeriesLimitReached": false,
       "aggType": "",
       "arguments": {},
       "columnCustomDisplayInfos": {},
       "data": [
        [
         "U001",
         "SUB001",
         "Basic",
         "2024-01-01",
         "2024-04-01",
         30.0,
         true,
         true,
         91,
         2,
         0.6593406593406594
        ],
        [
         "U002",
         "SUB002",
         "Pro",
         "2024-02-15",
         "2024-05-15",
         90.0,
         true,
         false,
         90,
         1,
         1.0
        ],
        [
         "U003",
         "SUB003",
         "Pro",
         "2024-03-10",
         "2024-06-10",
         90.0,
         false,
         false,
         92,
         1,
         0.9782608695652174
        ],
        [
         "U001",
         "SUB004",
         "Premium",
         "2024-04-05",
         "2024-07-05",
         120.0,
         true,
         true,
         91,
         2,
         2.6373626373626378
        ],
        [
         "U004",
         "SUB005",
         "Basic",
         "2024-01-20",
         "2024-04-20",
         30.0,
         false,
         false,
         91,
         1,
         0.3296703296703297
        ]
       ],
       "datasetInfos": [],
       "dbfsResultPath": null,
       "isJsonSchema": true,
       "metadata": {},
       "overflow": false,
       "plotOptions": {
        "customPlotOptions": {},
        "displayType": "table",
        "pivotAggregation": null,
        "pivotColumns": null,
        "xColumns": null,
        "yColumns": null
       },
       "removedWidgets": [],
       "schema": [
        {
         "metadata": "{}",
         "name": "UserID",
         "type": "\"string\""
        },
        {
         "metadata": "{}",
         "name": "SubscriptionID",
         "type": "\"string\""
        },
        {
         "metadata": "{}",
         "name": "PlanType",
         "type": "\"string\""
        },
        {
         "metadata": "{\"__detected_date_formats\": \"yyyy-M-d\"}",
         "name": "StartDate",
         "type": "\"date\""
        },
        {
         "metadata": "{\"__detected_date_formats\": \"yyyy-M-d\"}",
         "name": "EndDate",
         "type": "\"date\""
        },
        {
         "metadata": "{}",
         "name": "PriceUSD",
         "type": "\"double\""
        },
        {
         "metadata": "{}",
         "name": "IsActive",
         "type": "\"boolean\""
        },
        {
         "metadata": "{}",
         "name": "AutoRenew",
         "type": "\"boolean\""
        },
        {
         "metadata": "{}",
         "name": "active_days",
         "type": "\"integer\""
        },
        {
         "metadata": "{}",
         "name": "event_count",
         "type": "\"long\""
        },
        {
         "metadata": "{}",
         "name": "engagement_score",
         "type": "\"double\""
        }
       ],
       "type": "table"
      }
     },
     "output_type": "display_data"
    }
   ],
   "source": [
    "# Calculate active days for each subscription\n",
    "subscriptions_with_days = subscriptions.withColumn(\"active_days\", datediff(col(\"EndDate\"), col(\"StartDate\")))\n",
    "\n",
    "# Count events per user\n",
    "events_per_user = user_activity.groupBy(\"UserID\").agg(count(\"EventType\").alias(\"event_count\"))\n",
    "\n",
    "# Calculate engagement score\n",
    "engagement_scores = subscriptions_with_days.join(events_per_user, \"UserID\", \"left\").withColumn(\"engagement_score\",\n",
    "(col(\"event_count\") / col(\"active_days\")) * col(\"PriceUSD\"))\n",
    "\n",
    "display(engagement_scores)"
   ]
  },
  {
   "cell_type": "code",
   "execution_count": 0,
   "metadata": {
    "application/vnd.databricks.v1+cell": {
     "cellMetadata": {
      "byteLimit": 2048000,
      "rowLimit": 10000
     },
     "inputWidgets": {},
     "nuid": "e441cb9f-e59f-4d76-8848-caee99f4f98e",
     "showTitle": true,
     "tableResultSettingsMap": {},
     "title": "B. Anomaly Detection via SQL"
    }
   },
   "outputs": [
    {
     "output_type": "stream",
     "name": "stdout",
     "output_type": "stream",
     "text": [
      "+--------------+------+--------+-------------------+\n|SubscriptionID|UserID|IsActive|      last_activity|\n+--------------+------+--------+-------------------+\n|        SUB005|  U004|   false|2024-04-11 12:00:00|\n|        SUB003|  U003|   false|2024-04-09 09:45:00|\n+--------------+------+--------+-------------------+\n\n+--------------+------+---------+-------------------+\n|SubscriptionID|UserID|AutoRenew|      last_activity|\n+--------------+------+---------+-------------------+\n|        SUB004|  U001|     true|2024-04-10 16:00:00|\n|        SUB001|  U001|     true|2024-04-10 16:00:00|\n+--------------+------+---------+-------------------+\n\n"
     ]
    }
   ],
   "source": [
    "subscriptions.createOrReplaceTempView(\"subscriptions\")\n",
    "user_activity.createOrReplaceTempView(\"user_activity\")\n",
    "\n",
    "# Identify inactive subscriptions with recent activity\n",
    "spark.sql(\"\"\"create or replace TEMP view inactive_with_activity as\n",
    "select s.SubscriptionID, s.UserID, s.IsActive, MAX(a.EventTime) as last_activity\n",
    "from subscriptions s join  user_activity a on s.UserID = a.UserID\n",
    "where s.IsActive = false group by s.SubscriptionID, s.UserID, s.IsActive\n",
    "having datediff(to_date('2024-04-15'), last_activity) < 30\"\"\")\n",
    "\n",
    "spark.sql(\"SELECT * FROM inactive_with_activity\").show()\n",
    "\n",
    "# Identify autorenew with no recent activity\n",
    "spark.sql(\"\"\"create or replace TEMP view autorenew_no_activity as\n",
    "select s.SubscriptionID, s.UserID, s.AutoRenew, MAX(a.EventTime) as last_activity\n",
    "from subscriptions s left join user_activity a on s.UserID = a.UserID\n",
    "where s.AutoRenew = true group by s.SubscriptionID, s.UserID, s.AutoRenew\n",
    "having last_activity is null or datediff(current_date(), last_activity) > 30\"\"\")\n",
    "\n",
    "spark.sql(\"SELECT * FROM autorenew_no_activity\").show()"
   ]
  },
  {
   "cell_type": "code",
   "execution_count": 0,
   "metadata": {
    "application/vnd.databricks.v1+cell": {
     "cellMetadata": {
      "byteLimit": 2048000,
      "rowLimit": 10000
     },
     "inputWidgets": {},
     "nuid": "95e4e836-070d-4447-9672-310ad1e6b443",
     "showTitle": false,
     "tableResultSettingsMap": {},
     "title": ""
    }
   },
   "outputs": [
    {
     "output_type": "display_data",
     "data": {
      "text/html": [
       "<style scoped>\n",
       "  .table-result-container {\n",
       "    max-height: 300px;\n",
       "    overflow: auto;\n",
       "  }\n",
       "  table, th, td {\n",
       "    border: 1px solid black;\n",
       "    border-collapse: collapse;\n",
       "  }\n",
       "  th, td {\n",
       "    padding: 5px;\n",
       "  }\n",
       "  th {\n",
       "    text-align: left;\n",
       "  }\n",
       "</style><div class='table-result-container'><table class='table-result'><thead style='background-color: white'><tr><th>SubscriptionID</th><th>UserID</th><th>PlanType</th><th>StartDate</th><th>EndDate</th><th>PriceUSD</th><th>IsActive</th><th>AutoRenew</th></tr></thead><tbody><tr><td>SUB001</td><td>U001</td><td>Basic</td><td>2024-01-01</td><td>2024-04-01</td><td>30.0</td><td>true</td><td>true</td></tr><tr><td>SUB002</td><td>U002</td><td>Pro</td><td>2024-02-15</td><td>2024-05-15</td><td>90.0</td><td>true</td><td>false</td></tr><tr><td>SUB004</td><td>U001</td><td>Premium</td><td>2024-04-05</td><td>2024-07-05</td><td>120.0</td><td>true</td><td>true</td></tr><tr><td>SUB005</td><td>U004</td><td>Basic</td><td>2024-01-20</td><td>2024-04-20</td><td>30.0</td><td>false</td><td>false</td></tr><tr><td>SUB003</td><td>U003</td><td>Pro</td><td>2024-03-10</td><td>2024-06-10</td><td>95.0</td><td>false</td><td>false</td></tr></tbody></table></div>"
      ]
     },
     "metadata": {
      "application/vnd.databricks.v1+output": {
       "addedWidgets": {},
       "aggData": [],
       "aggError": "",
       "aggOverflow": false,
       "aggSchema": [],
       "aggSeriesLimitReached": false,
       "aggType": "",
       "arguments": {},
       "columnCustomDisplayInfos": {},
       "data": [
        [
         "SUB001",
         "U001",
         "Basic",
         "2024-01-01",
         "2024-04-01",
         30.0,
         true,
         true
        ],
        [
         "SUB002",
         "U002",
         "Pro",
         "2024-02-15",
         "2024-05-15",
         90.0,
         true,
         false
        ],
        [
         "SUB004",
         "U001",
         "Premium",
         "2024-04-05",
         "2024-07-05",
         120.0,
         true,
         true
        ],
        [
         "SUB005",
         "U004",
         "Basic",
         "2024-01-20",
         "2024-04-20",
         30.0,
         false,
         false
        ],
        [
         "SUB003",
         "U003",
         "Pro",
         "2024-03-10",
         "2024-06-10",
         95.0,
         false,
         false
        ]
       ],
       "datasetInfos": [],
       "dbfsResultPath": null,
       "isJsonSchema": true,
       "metadata": {},
       "overflow": false,
       "plotOptions": {
        "customPlotOptions": {},
        "displayType": "table",
        "pivotAggregation": null,
        "pivotColumns": null,
        "xColumns": null,
        "yColumns": null
       },
       "removedWidgets": [],
       "schema": [
        {
         "metadata": "{}",
         "name": "SubscriptionID",
         "type": "\"string\""
        },
        {
         "metadata": "{}",
         "name": "UserID",
         "type": "\"string\""
        },
        {
         "metadata": "{}",
         "name": "PlanType",
         "type": "\"string\""
        },
        {
         "metadata": "{\"__detected_date_formats\": \"yyyy-M-d\"}",
         "name": "StartDate",
         "type": "\"date\""
        },
        {
         "metadata": "{\"__detected_date_formats\": \"yyyy-M-d\"}",
         "name": "EndDate",
         "type": "\"date\""
        },
        {
         "metadata": "{}",
         "name": "PriceUSD",
         "type": "\"double\""
        },
        {
         "metadata": "{}",
         "name": "IsActive",
         "type": "\"boolean\""
        },
        {
         "metadata": "{}",
         "name": "AutoRenew",
         "type": "\"boolean\""
        }
       ],
       "type": "table"
      }
     },
     "output_type": "display_data"
    }
   ],
   "source": [
    "# Convert to Delta table\n",
    "delta_path = \"/dbfs/deltalake/subscriptions\"\n",
    "subscriptions.write.format(\"delta\").mode(\"overwrite\").save(delta_path)\n",
    "delta_table = DeltaTable.forPath(spark, delta_path)\n",
    "\n",
    "delta_table.alias(\"target\").merge(subscriptions.alias(\"source\").filter(col(\"PlanType\") == \"Pro\").filter(month(col(\"StartDate\")) == 3),\n",
    "\"target.SubscriptionID = source.SubscriptionID\").whenMatchedUpdate(set={\"PriceUSD\": \"source.PriceUSD + 5\"}).execute()\n",
    "\n",
    "display(spark.read.format(\"delta\").load(delta_path))"
   ]
  },
  {
   "cell_type": "code",
   "execution_count": 0,
   "metadata": {
    "application/vnd.databricks.v1+cell": {
     "cellMetadata": {
      "byteLimit": 2048000,
      "rowLimit": 10000
     },
     "inputWidgets": {},
     "nuid": "6083706f-14c1-435e-8fda-6470dd6a49a9",
     "showTitle": true,
     "tableResultSettingsMap": {},
     "title": "D. Time Travel Debugging"
    }
   },
   "outputs": [
    {
     "output_type": "stream",
     "name": "stdout",
     "output_type": "stream",
     "text": [
      "+-------+-------------------+---------------+--------------------+---------+--------------------+----+--------+--------------------+-----------+-----------------+-------------+--------------------+------------+--------------------+\n|version|          timestamp|         userId|            userName|operation| operationParameters| job|notebook|           clusterId|readVersion|   isolationLevel|isBlindAppend|    operationMetrics|userMetadata|          engineInfo|\n+-------+-------------------+---------------+--------------------+---------+--------------------+----+--------+--------------------+-----------+-----------------+-------------+--------------------+------------+--------------------+\n|     12|2025-06-16 11:19:27|442779750304833|azuser3547_mml.lo...| OPTIMIZE|{predicate -> [],...|NULL|    NULL|0616-103841-l1w2z...|         11|SnapshotIsolation|        false|{numRemovedFiles ...|        NULL|Databricks-Runtim...|\n|     11|2025-06-16 11:19:26|442779750304833|azuser3547_mml.lo...|    MERGE|{predicate -> [\"(...|NULL|    NULL|0616-103841-l1w2z...|         10|WriteSerializable|        false|{numTargetRowsCop...|        NULL|Databricks-Runtim...|\n|     10|2025-06-16 11:19:24|442779750304833|azuser3547_mml.lo...|    WRITE|{mode -> Overwrit...|NULL|    NULL|0616-103841-l1w2z...|          9|WriteSerializable|        false|{numFiles -> 1, n...|        NULL|Databricks-Runtim...|\n|      9|2025-06-16 11:19:17|442779750304833|azuser3547_mml.lo...| OPTIMIZE|{predicate -> [],...|NULL|    NULL|0616-103841-l1w2z...|          8|SnapshotIsolation|        false|{numRemovedFiles ...|        NULL|Databricks-Runtim...|\n|      8|2025-06-16 11:19:16|442779750304833|azuser3547_mml.lo...|    MERGE|{predicate -> [\"(...|NULL|    NULL|0616-103841-l1w2z...|          7|WriteSerializable|        false|{numTargetRowsCop...|        NULL|Databricks-Runtim...|\n|      7|2025-06-16 11:19:14|442779750304833|azuser3547_mml.lo...|    WRITE|{mode -> Overwrit...|NULL|    NULL|0616-103841-l1w2z...|          6|WriteSerializable|        false|{numFiles -> 1, n...|        NULL|Databricks-Runtim...|\n|      6|2025-06-16 11:17:36|442779750304833|azuser3547_mml.lo...| OPTIMIZE|{predicate -> [],...|NULL|    NULL|0616-103841-l1w2z...|          5|SnapshotIsolation|        false|{numRemovedFiles ...|        NULL|Databricks-Runtim...|\n|      5|2025-06-16 11:17:35|442779750304833|azuser3547_mml.lo...|    MERGE|{predicate -> [\"(...|NULL|    NULL|0616-103841-l1w2z...|          4|WriteSerializable|        false|{numTargetRowsCop...|        NULL|Databricks-Runtim...|\n|      4|2025-06-16 11:17:30|442779750304833|azuser3547_mml.lo...|    WRITE|{mode -> Overwrit...|NULL|    NULL|0616-103841-l1w2z...|          3|WriteSerializable|        false|{numFiles -> 1, n...|        NULL|Databricks-Runtim...|\n|      3|2025-06-16 11:17:07|442779750304833|azuser3547_mml.lo...|    WRITE|{mode -> Overwrit...|NULL|    NULL|0616-103841-l1w2z...|          2|WriteSerializable|        false|{numFiles -> 1, n...|        NULL|Databricks-Runtim...|\n|      2|2025-06-16 11:16:19|442779750304833|azuser3547_mml.lo...|    WRITE|{mode -> Overwrit...|NULL|    NULL|0616-103841-l1w2z...|          1|WriteSerializable|        false|{numFiles -> 1, n...|        NULL|Databricks-Runtim...|\n|      1|2025-06-16 11:13:30|442779750304833|azuser3547_mml.lo...|    WRITE|{mode -> Overwrit...|NULL|    NULL|0616-103841-l1w2z...|          0|WriteSerializable|        false|{numFiles -> 1, n...|        NULL|Databricks-Runtim...|\n|      0|2025-06-16 11:10:43|442779750304833|azuser3547_mml.lo...|    WRITE|{mode -> ErrorIfE...|NULL|    NULL|0616-103841-l1w2z...|       NULL|WriteSerializable|         true|{numFiles -> 1, n...|        NULL|Databricks-Runtim...|\n+-------+-------------------+---------------+--------------------+---------+--------------------+----+--------+--------------------+-----------+-----------------+-------------+--------------------+------------+--------------------+\n\nBefore the change:\n+--------------+------+--------+----------+----------+--------+--------+---------+\n|SubscriptionID|UserID|PlanType| StartDate|   EndDate|PriceUSD|IsActive|AutoRenew|\n+--------------+------+--------+----------+----------+--------+--------+---------+\n|        SUB003|  U003|     Pro|2024-03-10|2024-06-10|    90.0|   false|    false|\n+--------------+------+--------+----------+----------+--------+--------+---------+\n\nAfter the change:\n+--------------+------+--------+----------+----------+--------+--------+---------+\n|SubscriptionID|UserID|PlanType| StartDate|   EndDate|PriceUSD|IsActive|AutoRenew|\n+--------------+------+--------+----------+----------+--------+--------+---------+\n|        SUB003|  U003|     Pro|2024-03-10|2024-06-10|    95.0|   false|    false|\n+--------------+------+--------+----------+----------+--------+--------+---------+\n\n"
     ]
    }
   ],
   "source": [
    "# Describe history\n",
    "delta_table.history().show()\n",
    "\n",
    "# Query before the change\n",
    "print(\"Before the change:\")\n",
    "spark.read.format(\"delta\") \\\n",
    "    .option(\"versionAsOf\", 0) \\\n",
    "    .load(delta_path) \\\n",
    "    .filter((col(\"PlanType\") == \"Pro\") & (month(col(\"StartDate\")) == 3)) \\\n",
    "    .show()\n",
    "\n",
    "# Query after the change \n",
    "print(\"After the change:\")\n",
    "spark.read.format(\"delta\") \\\n",
    "    .load(delta_path) \\\n",
    "    .filter((col(\"PlanType\") == \"Pro\") & (month(col(\"StartDate\")) == 3)) \\\n",
    "    .show()"
   ]
  },
  {
   "cell_type": "code",
   "execution_count": 0,
   "metadata": {
    "application/vnd.databricks.v1+cell": {
     "cellMetadata": {
      "byteLimit": 2048000,
      "rowLimit": 10000
     },
     "inputWidgets": {},
     "nuid": "37d8db67-1f80-4e31-b260-7e02b7defc2d",
     "showTitle": true,
     "tableResultSettingsMap": {},
     "title": "E. Build Tier Migration Table"
    }
   },
   "outputs": [
    {
     "output_type": "stream",
     "name": "stdout",
     "output_type": "stream",
     "text": [
      "+------+---------+--------+---------+\n|UserID|prev_plan|PlanType|StartDate|\n+------+---------+--------+---------+\n+------+---------+--------+---------+\n\n"
     ]
    }
   ],
   "source": [
    "from pyspark.sql.window import Window\n",
    "from pyspark.sql.functions import lag\n",
    "\n",
    "win = Window.partitionBy(\"UserID\").orderBy(\"StartDate\")\n",
    "\n",
    "# Detect plan migration\n",
    "df_migration = subscriptions.withColumn(\"prev_plan\", lag(\"PlanType\").over(win))\n",
    "\n",
    "# Filter: Basic to Pro, or Pro to Premium\n",
    "df_migration.filter(\n",
    "    ((col(\"prev_plan\") == \"Basic\") & (col(\"PlanType\") == \"Pro\")) |\n",
    "    ((col(\"prev_plan\") == \"Pro\") & (col(\"PlanType\") == \"Premium\"))\n",
    ").select(\"UserID\", \"prev_plan\", \"PlanType\", \"StartDate\").show()"
   ]
  },
  {
   "cell_type": "code",
   "execution_count": 0,
   "metadata": {
    "application/vnd.databricks.v1+cell": {
     "cellMetadata": {
      "byteLimit": 2048000,
      "rowLimit": 10000
     },
     "inputWidgets": {},
     "nuid": "571959c9-76b3-47ca-a8b1-00b9821524f3",
     "showTitle": true,
     "tableResultSettingsMap": {},
     "title": "F. Power Users Detection"
    }
   },
   "outputs": [
    {
     "output_type": "display_data",
     "data": {
      "text/html": [
       "<style scoped>\n",
       "  .table-result-container {\n",
       "    max-height: 300px;\n",
       "    overflow: auto;\n",
       "  }\n",
       "  table, th, td {\n",
       "    border: 1px solid black;\n",
       "    border-collapse: collapse;\n",
       "  }\n",
       "  th, td {\n",
       "    padding: 5px;\n",
       "  }\n",
       "  th {\n",
       "    text-align: left;\n",
       "  }\n",
       "</style><div class='table-result-container'><table class='table-result'><thead style='background-color: white'><tr><th>UserID</th><th>user_type</th></tr></thead><tbody></tbody></table></div>"
      ]
     },
     "metadata": {
      "application/vnd.databricks.v1+output": {
       "addedWidgets": {},
       "aggData": [],
       "aggError": "",
       "aggOverflow": false,
       "aggSchema": [],
       "aggSeriesLimitReached": false,
       "aggType": "",
       "arguments": {},
       "columnCustomDisplayInfos": {},
       "data": [],
       "datasetInfos": [],
       "dbfsResultPath": null,
       "isJsonSchema": true,
       "metadata": {},
       "overflow": false,
       "plotOptions": {
        "customPlotOptions": {},
        "displayType": "table",
        "pivotAggregation": null,
        "pivotColumns": null,
        "xColumns": null,
        "yColumns": null
       },
       "removedWidgets": [],
       "schema": [
        {
         "metadata": "{}",
         "name": "UserID",
         "type": "\"string\""
        },
        {
         "metadata": "{}",
         "name": "user_type",
         "type": "\"string\""
        }
       ],
       "type": "table"
      }
     },
     "output_type": "display_data"
    }
   ],
   "source": [
    "# Calculate feature usage\n",
    "feature_usage = user_activity.groupBy(\"UserID\", \"FeatureUsed\") \\\n",
    "    .agg(count(\"*\").alias(\"feature_count\"))\n",
    "\n",
    "# Calculate login counts\n",
    "login_counts = user_activity.filter(col(\"EventType\") == \"login\") \\\n",
    "    .groupBy(\"UserID\") \\\n",
    "    .agg(count(\"*\").alias(\"login_count\"))\n",
    "\n",
    "# Identify power users\n",
    "power_users = feature_usage.groupBy(\"UserID\") \\\n",
    "    .agg(countDistinct(\"FeatureUsed\").alias(\"distinct_features\")) \\\n",
    "    .join(login_counts, \"UserID\") \\\n",
    "    .filter((col(\"distinct_features\") >= 2) & (col(\"login_count\") >= 3)) \\\n",
    "    .select(\"UserID\", lit(\"power_user\").alias(\"user_type\"))\n",
    "\n",
    "# Save as Delta table\n",
    "power_users.write.format(\"delta\") \\\n",
    "    .mode(\"overwrite\") \\\n",
    "    .save(\"dbfs:/deltalake/power_users\")\n",
    "display(power_users)"
   ]
  },
  {
   "cell_type": "code",
   "execution_count": 0,
   "metadata": {
    "application/vnd.databricks.v1+cell": {
     "cellMetadata": {
      "byteLimit": 2048000,
      "rowLimit": 10000
     },
     "inputWidgets": {},
     "nuid": "d8d1adf1-3e8c-49f0-a550-8c2ca2439d1b",
     "showTitle": true,
     "tableResultSettingsMap": {},
     "title": "G. Session Replay View"
    }
   },
   "outputs": [
    {
     "output_type": "stream",
     "name": "stdout",
     "output_type": "stream",
     "text": [
      "+------+----------+-------------------+------------+\n|UserID|prev_event|          EventTime|session_secs|\n+------+----------+-------------------+------------+\n|  U001|     login|2024-04-10 16:00:00|      279480|\n+------+----------+-------------------+------------+\n\n"
     ]
    }
   ],
   "source": [
    "from pyspark.sql.functions import when,unix_timestamp\n",
    "\n",
    "window_spec = Window.partitionBy(\"UserID\").orderBy(\"EventTime\")\n",
    "\n",
    "df_session = user_activity.withColumn(\"event_ts\", unix_timestamp(\"EventTime\")) \\\n",
    "    .withColumn(\"prev_ts\", lag(\"event_ts\").over(window_spec)) \\\n",
    "    .withColumn(\"prev_event\", lag(\"EventType\").over(window_spec)) \\\n",
    "    .withColumn(\"session_secs\", \n",
    "                when(col(\"EventType\") == \"logout\", col(\"event_ts\") - col(\"prev_ts\"))) \\\n",
    "    .filter(col(\"EventType\") == \"logout\")\n",
    "\n",
    "df_session.select(\"UserID\", \"prev_event\", \"EventTime\", \"session_secs\").show()"
   ]
  }
 ],
 "metadata": {
  "application/vnd.databricks.v1+notebook": {
   "computePreferences": null,
   "dashboards": [],
   "environmentMetadata": {
    "base_environment": "",
    "environment_version": "2"
   },
   "inputWidgetPreferences": null,
   "language": "python",
   "notebookMetadata": {
    "pythonIndentUnit": 4
   },
   "notebookName": "Untitled Notebook 2025-06-16 16:05:55",
   "widgets": {}
  },
  "language_info": {
   "name": "python"
  }
 },
 "nbformat": 4,
 "nbformat_minor": 0
}