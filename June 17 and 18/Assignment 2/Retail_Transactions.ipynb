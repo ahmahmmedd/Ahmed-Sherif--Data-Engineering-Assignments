{
 "cells": [
  {
   "cell_type": "code",
   "execution_count": 0,
   "metadata": {
    "application/vnd.databricks.v1+cell": {
     "cellMetadata": {
      "byteLimit": 2048000,
      "rowLimit": 10000
     },
     "inputWidgets": {},
     "nuid": "3e6015ca-3f43-459f-81d0-09e4fe589b8e",
     "showTitle": false,
     "tableResultSettingsMap": {},
     "title": ""
    }
   },
   "outputs": [
    {
     "output_type": "execute_result",
     "data": {
      "text/plain": [
       "<pyspark.sql.connect.session.SparkSession at 0x76d8e8d2ac90>"
      ]
     },
     "execution_count": 16,
     "metadata": {},
     "output_type": "execute_result"
    }
   ],
   "source": [
    "from pyspark.sql import SparkSession\n",
    "from pyspark.sql.functions import *\n",
    "from pyspark.sql.types import *\n",
    "from pyspark.sql.window import Window\n",
    "\n",
    "# Initialize Spark session\n",
    "spark = SparkSession.builder.appName(\"Retail_Transactions\").getOrCreate()\n",
    "spark "
   ]
  },
  {
   "cell_type": "code",
   "execution_count": 0,
   "metadata": {
    "application/vnd.databricks.v1+cell": {
     "cellMetadata": {
      "byteLimit": 2048000,
      "rowLimit": 10000
     },
     "inputWidgets": {},
     "nuid": "13b9982e-ad58-45e4-9a53-1fd50b332a3e",
     "showTitle": false,
     "tableResultSettingsMap": {},
     "title": ""
    }
   },
   "outputs": [
    {
     "output_type": "stream",
     "name": "stdout",
     "output_type": "stream",
     "text": [
      "root\n |-- TransactionID: string (nullable = true)\n |-- Customer: string (nullable = true)\n |-- City: string (nullable = true)\n |-- Product: string (nullable = true)\n |-- Category: string (nullable = true)\n |-- Quantity: string (nullable = true)\n |-- UnitPrice: string (nullable = true)\n |-- TotalPrice: string (nullable = true)\n |-- TransactionDate: string (nullable = true)\n |-- PaymentMode: string (nullable = true)\n\nroot\n |-- TransactionID: string (nullable = true)\n |-- Customer: string (nullable = true)\n |-- City: string (nullable = true)\n |-- Product: string (nullable = true)\n |-- Category: string (nullable = true)\n |-- Quantity: integer (nullable = true)\n |-- UnitPrice: integer (nullable = true)\n |-- TotalPrice: integer (nullable = true)\n |-- TransactionDate: date (nullable = true)\n |-- PaymentMode: string (nullable = true)\n\n"
     ]
    }
   ],
   "source": [
    "# 1. Load retail_data.csv and display schema\n",
    "retail_df = spark.read.csv(\"/FileStore/tables/retail_data.csv\", header=True)\n",
    "retail_df.printSchema()\n",
    "\n",
    "# 2. Infer schema as False, then manually cast columns\n",
    "retail_df_no_infer = spark.read.csv(\"/FileStore/tables/retail_data.csv\", header=True, inferSchema=False)\n",
    "retail_df_manual = retail_df_no_infer.withColumn(\"Quantity\", col(\"Quantity\").cast(IntegerType())) \\\n",
    "    .withColumn(\"UnitPrice\", col(\"UnitPrice\").cast(IntegerType())) \\\n",
    "    .withColumn(\"TotalPrice\", col(\"TotalPrice\").cast(IntegerType())) \\\n",
    "    .withColumn(\"TransactionDate\", col(\"TransactionDate\").cast(DateType()))\n",
    "retail_df_manual.printSchema()"
   ]
  },
  {
   "cell_type": "code",
   "execution_count": 0,
   "metadata": {
    "application/vnd.databricks.v1+cell": {
     "cellMetadata": {
      "byteLimit": 2048000,
      "rowLimit": 10000
     },
     "inputWidgets": {},
     "nuid": "26480930-2f25-4162-886a-c33404fb9b31",
     "showTitle": false,
     "tableResultSettingsMap": {},
     "title": ""
    }
   },
   "outputs": [
    {
     "output_type": "stream",
     "name": "stdout",
     "output_type": "stream",
     "text": [
      "+-------------+--------+---------+-------+-----------+--------+---------+----------+---------------+-----------+\n|TransactionID|Customer|     City|Product|   Category|Quantity|UnitPrice|TotalPrice|TransactionDate|PaymentMode|\n+-------------+--------+---------+-------+-----------+--------+---------+----------+---------------+-----------+\n|        T1002|    Neha|Bangalore| Tablet|Electronics|       2|    30000|     60000|     2024-01-20|        UPI|\n|        T1005|   Karan|   Mumbai|  Phone|Electronics|       1|    50000|     50000|     2024-02-15|       Card|\n|        T1001|     Ali|   Mumbai| Laptop|Electronics|       1|    70000|     70000|     2024-01-15|       Card|\n+-------------+--------+---------+-------+-----------+--------+---------+----------+---------------+-----------+\n\n+---------+\n|     City|\n+---------+\n|Hyderabad|\n|Bangalore|\n|   Mumbai|\n|    Delhi|\n+---------+\n\n+-------------+--------+-----+-------+-----------+--------+---------+----------+---------------+-----------+\n|TransactionID|Customer| City|Product|   Category|Quantity|UnitPrice|TotalPrice|TransactionDate|PaymentMode|\n+-------------+--------+-----+-------+-----------+--------+---------+----------+---------------+-----------+\n|        T1006|   Farah|Delhi|  Mouse|Electronics|       3|     1000|      3000|     2024-02-18|       Cash|\n|        T1004|    Zoya|Delhi|  Chair|  Furniture|       4|     5000|     20000|     2024-02-12|       Card|\n+-------------+--------+-----+-------+-----------+--------+---------+----------+---------------+-----------+\n\n+-------------+--------+-----+-------+-----------+--------+---------+----------+---------------+-----------+\n|TransactionID|Customer| City|Product|   Category|Quantity|UnitPrice|TotalPrice|TransactionDate|PaymentMode|\n+-------------+--------+-----+-------+-----------+--------+---------+----------+---------------+-----------+\n|        T1006|   Farah|Delhi|  Mouse|Electronics|       3|     1000|      3000|     2024-02-18|       Cash|\n|        T1004|    Zoya|Delhi|  Chair|  Furniture|       4|     5000|     20000|     2024-02-12|       Card|\n+-------------+--------+-----+-------+-----------+--------+---------+----------+---------------+-----------+\n\n"
     ]
    }
   ],
   "source": [
    "# 3. Filter transactions where TotalPrice > 40000\n",
    "high_value = retail_df.filter(col(\"TotalPrice\") > 40000)\n",
    "high_value.show()\n",
    "\n",
    "# 4. Get unique cities from the dataset\n",
    "unique_cities = retail_df.select(\"City\").distinct()\n",
    "unique_cities.show()\n",
    "\n",
    "# 5. Find all transactions from \"Delhi\" using .filter() and .where()\n",
    "delhi_filter = retail_df.filter(col(\"City\") == \"Delhi\")\n",
    "delhi_where = retail_df.where(col(\"City\") == \"Delhi\")\n",
    "delhi_filter.show()\n",
    "delhi_where.show()"
   ]
  },
  {
   "cell_type": "code",
   "execution_count": 0,
   "metadata": {
    "application/vnd.databricks.v1+cell": {
     "cellMetadata": {
      "byteLimit": 2048000,
      "rowLimit": 10000
     },
     "inputWidgets": {},
     "nuid": "54d222be-f5da-4f15-9c28-df143b895829",
     "showTitle": false,
     "tableResultSettingsMap": {},
     "title": ""
    }
   },
   "outputs": [
    {
     "output_type": "stream",
     "name": "stdout",
     "output_type": "stream",
     "text": [
      "+-------------+--------+---------+-------+-----------+--------+----------+----------+-----------+---------------+\n|TransactionID|Customer|     City|Product|   Category|Quantity|TotalPrice|   TxnDate|PaymentMode|DiscountedPrice|\n+-------------+--------+---------+-------+-----------+--------+----------+----------+-----------+---------------+\n|        T1003|    Ravi|Hyderabad|   Desk|  Furniture|       1|     15000|2024-02-10|Net Banking|        13500.0|\n|        T1002|    Neha|Bangalore| Tablet|Electronics|       2|     60000|2024-01-20|        UPI|        54000.0|\n|        T1005|   Karan|   Mumbai|  Phone|Electronics|       1|     50000|2024-02-15|       Card|        45000.0|\n|        T1001|     Ali|   Mumbai| Laptop|Electronics|       1|     70000|2024-01-15|       Card|        63000.0|\n|        T1006|   Farah|    Delhi|  Mouse|Electronics|       3|      3000|2024-02-18|       Cash|         2700.0|\n|        T1004|    Zoya|    Delhi|  Chair|  Furniture|       4|     20000|2024-02-12|       Card|        18000.0|\n+-------------+--------+---------+-------+-----------+--------+----------+----------+-----------+---------------+\n\n+-------------+--------+---------+-------+-----------+--------+----------+----------+-----------+---------------+\n|TransactionID|Customer|     City|Product|   Category|Quantity|TotalPrice|   TxnDate|PaymentMode|DiscountedPrice|\n+-------------+--------+---------+-------+-----------+--------+----------+----------+-----------+---------------+\n|        T1003|    Ravi|Hyderabad|   Desk|  Furniture|       1|     15000|2024-02-10|Net Banking|        13500.0|\n|        T1002|    Neha|Bangalore| Tablet|Electronics|       2|     60000|2024-01-20|        UPI|        54000.0|\n|        T1005|   Karan|   Mumbai|  Phone|Electronics|       1|     50000|2024-02-15|       Card|        45000.0|\n|        T1001|     Ali|   Mumbai| Laptop|Electronics|       1|     70000|2024-01-15|       Card|        63000.0|\n|        T1006|   Farah|    Delhi|  Mouse|Electronics|       3|      3000|2024-02-18|       Cash|         2700.0|\n|        T1004|    Zoya|    Delhi|  Chair|  Furniture|       4|     20000|2024-02-12|       Card|        18000.0|\n+-------------+--------+---------+-------+-----------+--------+----------+----------+-----------+---------------+\n\n+-------------+--------+---------+-------+-----------+--------+----------+----------+-----------+---------------+\n|TransactionID|Customer|     City|Product|   Category|Quantity|TotalPrice|   TxnDate|PaymentMode|DiscountedPrice|\n+-------------+--------+---------+-------+-----------+--------+----------+----------+-----------+---------------+\n|        T1003|    Ravi|Hyderabad|   Desk|  Furniture|       1|     15000|2024-02-10|Net Banking|        13500.0|\n|        T1002|    Neha|Bangalore| Tablet|Electronics|       2|     60000|2024-01-20|        UPI|        54000.0|\n|        T1005|   Karan|   Mumbai|  Phone|Electronics|       1|     50000|2024-02-15|       Card|        45000.0|\n|        T1001|     Ali|   Mumbai| Laptop|Electronics|       1|     70000|2024-01-15|       Card|        63000.0|\n|        T1006|   Farah|    Delhi|  Mouse|Electronics|       3|      3000|2024-02-18|       Cash|         2700.0|\n|        T1004|    Zoya|    Delhi|  Chair|  Furniture|       4|     20000|2024-02-12|       Card|        18000.0|\n+-------------+--------+---------+-------+-----------+--------+----------+----------+-----------+---------------+\n\n"
     ]
    }
   ],
   "source": [
    "# 6. Add a column DiscountedPrice = TotalPrice - 10%\n",
    "retail_df = retail_df.withColumn(\"DiscountedPrice\", col(\"TotalPrice\") * 0.9)\n",
    "retail_df.show()\n",
    "\n",
    "# 7. Rename TransactionDate to TxnDate\n",
    "retail_df = retail_df.withColumnRenamed(\"TransactionDate\", \"TxnDate\")\n",
    "retail_df.show()\n",
    "\n",
    "# 8. Drop the column UnitPrice\n",
    "retail_df = retail_df.drop(\"UnitPrice\")\n",
    "retail_df.show()"
   ]
  },
  {
   "cell_type": "code",
   "execution_count": 0,
   "metadata": {
    "application/vnd.databricks.v1+cell": {
     "cellMetadata": {
      "byteLimit": 2048000,
      "rowLimit": 10000
     },
     "inputWidgets": {},
     "nuid": "63b2da78-9c33-42e9-b709-8afc5bc878a8",
     "showTitle": false,
     "tableResultSettingsMap": {},
     "title": ""
    }
   },
   "outputs": [
    {
     "output_type": "stream",
     "name": "stdout",
     "output_type": "stream",
     "text": [
      "+---------+----------+\n|     City|TotalSales|\n+---------+----------+\n|Hyderabad|   15000.0|\n|Bangalore|   60000.0|\n|   Mumbai|  120000.0|\n|    Delhi|   23000.0|\n+---------+----------+\n\n+-----------+-----------------+\n|   Category|     AvgUnitPrice|\n+-----------+-----------------+\n|  Furniture|           7000.0|\n|Electronics|26142.85714285714|\n+-----------+-----------------+\n\n+-----------+-----+\n|PaymentMode|count|\n+-----------+-----+\n|Net Banking|    1|\n|        UPI|    1|\n|       Card|    3|\n|       Cash|    1|\n+-----------+-----+\n\n"
     ]
    }
   ],
   "source": [
    "# 9. Get total sales by city\n",
    "total_sales_by_city = retail_df.groupBy(\"City\").agg(sum(\"TotalPrice\").alias(\"TotalSales\"))\n",
    "total_sales_by_city.show()\n",
    "\n",
    "# 10. Get average unit price by category\n",
    "avg_price_by_category = retail_df.groupBy(\"Category\").agg(\n",
    "    (sum(\"TotalPrice\")/sum(\"Quantity\")).alias(\"AvgUnitPrice\"))\n",
    "avg_price_by_category.show()\n",
    "\n",
    "# 11. Count of transactions grouped by PaymentMode\n",
    "txn_count_by_payment = retail_df.groupBy(\"PaymentMode\").count()\n",
    "txn_count_by_payment.show()"
   ]
  },
  {
   "cell_type": "code",
   "execution_count": 0,
   "metadata": {
    "application/vnd.databricks.v1+cell": {
     "cellMetadata": {
      "byteLimit": 2048000,
      "rowLimit": 10000
     },
     "inputWidgets": {},
     "nuid": "529cac67-7e38-4759-9968-54e22e9f29df",
     "showTitle": false,
     "tableResultSettingsMap": {},
     "title": ""
    }
   },
   "outputs": [
    {
     "output_type": "stream",
     "name": "stdout",
     "output_type": "stream",
     "text": [
      "+-------------+--------+---------+-------+-----------+--------+----------+----------+-----------+---------------+----+\n|TransactionID|Customer|     City|Product|   Category|Quantity|TotalPrice|   TxnDate|PaymentMode|DiscountedPrice|rank|\n+-------------+--------+---------+-------+-----------+--------+----------+----------+-----------+---------------+----+\n|        T1002|    Neha|Bangalore| Tablet|Electronics|       2|     60000|2024-01-20|        UPI|        54000.0|   1|\n|        T1006|   Farah|    Delhi|  Mouse|Electronics|       3|      3000|2024-02-18|       Cash|         2700.0|   1|\n|        T1004|    Zoya|    Delhi|  Chair|  Furniture|       4|     20000|2024-02-12|       Card|        18000.0|   2|\n|        T1003|    Ravi|Hyderabad|   Desk|  Furniture|       1|     15000|2024-02-10|Net Banking|        13500.0|   1|\n|        T1001|     Ali|   Mumbai| Laptop|Electronics|       1|     70000|2024-01-15|       Card|        63000.0|   1|\n|        T1005|   Karan|   Mumbai|  Phone|Electronics|       1|     50000|2024-02-15|       Card|        45000.0|   2|\n+-------------+--------+---------+-------+-----------+--------+----------+----------+-----------+---------------+----+\n\n+-------------+--------+---------+-------+-----------+--------+----------+----------+-----------+---------------+-----------+\n|TransactionID|Customer|     City|Product|   Category|Quantity|TotalPrice|   TxnDate|PaymentMode|DiscountedPrice|prev_amount|\n+-------------+--------+---------+-------+-----------+--------+----------+----------+-----------+---------------+-----------+\n|        T1002|    Neha|Bangalore| Tablet|Electronics|       2|     60000|2024-01-20|        UPI|        54000.0|       NULL|\n|        T1004|    Zoya|    Delhi|  Chair|  Furniture|       4|     20000|2024-02-12|       Card|        18000.0|       NULL|\n|        T1006|   Farah|    Delhi|  Mouse|Electronics|       3|      3000|2024-02-18|       Cash|         2700.0|      20000|\n|        T1003|    Ravi|Hyderabad|   Desk|  Furniture|       1|     15000|2024-02-10|Net Banking|        13500.0|       NULL|\n|        T1001|     Ali|   Mumbai| Laptop|Electronics|       1|     70000|2024-01-15|       Card|        63000.0|       NULL|\n|        T1005|   Karan|   Mumbai|  Phone|Electronics|       1|     50000|2024-02-15|       Card|        45000.0|      70000|\n+-------------+--------+---------+-------+-----------+--------+----------+----------+-----------+---------------+-----------+\n\n"
     ]
    }
   ],
   "source": [
    "# 12. Use a window partitioned by City to rank transactions by TotalPrice\n",
    "window_spec = Window.partitionBy(\"City\").orderBy(col(\"TotalPrice\").desc())\n",
    "ranked_df = retail_df.withColumn(\"rank\", rank().over(window_spec))\n",
    "ranked_df.show()\n",
    "\n",
    "# 13. Use lag function to get previous transaction amount per city\n",
    "window_spec_lag = Window.partitionBy(\"City\").orderBy(\"TxnDate\")\n",
    "lag_df = retail_df.withColumn(\"prev_amount\", lag(\"TotalPrice\").over(window_spec_lag))\n",
    "lag_df.show()"
   ]
  },
  {
   "cell_type": "code",
   "execution_count": 0,
   "metadata": {
    "application/vnd.databricks.v1+cell": {
     "cellMetadata": {
      "byteLimit": 2048000,
      "rowLimit": 10000
     },
     "inputWidgets": {},
     "nuid": "2ce2f81e-5ca9-4e04-acb9-2844da3a14fe",
     "showTitle": false,
     "tableResultSettingsMap": {},
     "title": ""
    }
   },
   "outputs": [
    {
     "output_type": "stream",
     "name": "stdout",
     "output_type": "stream",
     "text": [
      "+------+----------+\n|Region|TotalSales|\n+------+----------+\n| South|   75000.0|\n|  West|  120000.0|\n| North|   23000.0|\n+------+----------+\n\n"
     ]
    }
   ],
   "source": [
    "# 14. Create city_region DataFrame\n",
    "city_region_data = [\n",
    "    (\"Mumbai\", \"West\"),\n",
    "    (\"Delhi\", \"North\"),\n",
    "    (\"Bangalore\", \"South\"),\n",
    "    (\"Hyderabad\", \"South\")\n",
    "]\n",
    "city_region_df = spark.createDataFrame(city_region_data, [\"City\", \"Region\"])\n",
    "\n",
    "# 15. Join with main DataFrame and group total sales by Region\n",
    "joined_df = retail_df.join(city_region_df, \"City\", \"left\")\n",
    "sales_by_region = joined_df.groupBy(\"Region\").agg(sum(\"TotalPrice\").alias(\"TotalSales\"))\n",
    "sales_by_region.show()"
   ]
  },
  {
   "cell_type": "code",
   "execution_count": 0,
   "metadata": {
    "application/vnd.databricks.v1+cell": {
     "cellMetadata": {
      "byteLimit": 2048000,
      "rowLimit": 10000
     },
     "inputWidgets": {},
     "nuid": "8e8a9b3f-7afd-4dee-bff5-12c8094b7b41",
     "showTitle": false,
     "tableResultSettingsMap": {},
     "title": ""
    }
   },
   "outputs": [
    {
     "output_type": "stream",
     "name": "stdout",
     "output_type": "stream",
     "text": [
      "+-------------+--------+---------+-------+-----------+--------+----------+----------+-----------+---------------+\n|TransactionID|Customer|     City|Product|   Category|Quantity|TotalPrice|   TxnDate|PaymentMode|DiscountedPrice|\n+-------------+--------+---------+-------+-----------+--------+----------+----------+-----------+---------------+\n|        T1003|    Ravi|Hyderabad|   Desk|  Furniture|       1|     15000|2024-02-10|Net Banking|        13500.0|\n|        T1002|    Neha|Bangalore| Tablet|Electronics|       2|     60000|2024-01-20|    Unknown|        54000.0|\n|        T1005|   Karan|   Mumbai|  Phone|Electronics|       1|     50000|2024-02-15|    Unknown|        45000.0|\n|        T1001|     Ali|   Mumbai| Laptop|Electronics|       1|     70000|2024-01-15|       Card|        63000.0|\n|        T1006|   Farah|    Delhi|  Mouse|Electronics|       3|      3000|2024-02-18|       Cash|         2700.0|\n|        T1004|    Zoya|    Delhi|  Chair|  Furniture|       4|     20000|2024-02-12|    Unknown|        18000.0|\n+-------------+--------+---------+-------+-----------+--------+----------+----------+-----------+---------------+\n\n+-------------+--------+---------+-------+-----------+--------+----------+----------+-----------+---------------+\n|TransactionID|Customer|     City|Product|   Category|Quantity|TotalPrice|   TxnDate|PaymentMode|DiscountedPrice|\n+-------------+--------+---------+-------+-----------+--------+----------+----------+-----------+---------------+\n|        T1002|    Neha|Bangalore| Tablet|Electronics|       2|     60000|2024-01-20|       NULL|        54000.0|\n|        T1005|   Karan|   Mumbai|  Phone|Electronics|       1|     50000|2024-02-15|       NULL|        45000.0|\n|        T1001|     Ali|   Mumbai| Laptop|Electronics|       1|     70000|2024-01-15|       Card|        63000.0|\n|        T1006|   Farah|    Delhi|  Mouse|Electronics|       3|      3000|2024-02-18|       Cash|         2700.0|\n|        T1004|    Zoya|    Delhi|  Chair|  Furniture|       4|     20000|2024-02-12|       NULL|        18000.0|\n+-------------+--------+---------+-------+-----------+--------+----------+----------+-----------+---------------+\n\n+-------------+--------+---------+-------+-----------+--------+----------+----------+-----------+---------------+\n|TransactionID|Customer|     City|Product|   Category|Quantity|TotalPrice|   TxnDate|PaymentMode|DiscountedPrice|\n+-------------+--------+---------+-------+-----------+--------+----------+----------+-----------+---------------+\n|        T1003|    Ravi|Hyderabad|   Desk|  Furniture|    NULL|     15000|2024-02-10|Net Banking|        13500.0|\n|        T1002|    Neha|Bangalore| Tablet|Electronics|       2|     60000|2024-01-20|    Unknown|        54000.0|\n|        T1005|   Karan|   Mumbai|  Phone|Electronics|       1|     50000|2024-02-15|    Unknown|        45000.0|\n|        T1001|     Ali|   Mumbai| Laptop|Electronics|       1|     70000|2024-01-15|       Card|        63000.0|\n|        T1006|   Farah|    Delhi|  Mouse|Electronics|       3|      3000|2024-02-18|       Cash|         2700.0|\n|        T1004|    Zoya|    Delhi|  Chair|  Furniture|       4|     20000|2024-02-12|    Unknown|        18000.0|\n+-------------+--------+---------+-------+-----------+--------+----------+----------+-----------+---------------+\n\n"
     ]
    }
   ],
   "source": [
    "# 16. Introduce some nulls and replace them with default values\n",
    "# First create a copy with nulls\n",
    "from pyspark.sql.functions import when, rand\n",
    "\n",
    "retail_with_nulls = retail_df.withColumn(\"Quantity\", \n",
    "    when(rand() > 0.7, None).otherwise(col(\"Quantity\"))) \\\n",
    "    .withColumn(\"PaymentMode\", \n",
    "    when(rand() > 0.7, None).otherwise(col(\"PaymentMode\")))\n",
    "\n",
    "# Replace nulls with defaults\n",
    "retail_filled = retail_with_nulls.fillna({\n",
    "    \"Quantity\": 1,\n",
    "    \"PaymentMode\": \"Unknown\"\n",
    "})\n",
    "retail_filled.show()\n",
    "\n",
    "# 17. Drop rows where Quantity is null\n",
    "retail_no_null_qty = retail_with_nulls.na.drop(subset=[\"Quantity\"])\n",
    "retail_no_null_qty.show()\n",
    "\n",
    "# 18. Fill null PaymentMode with \"Unknown\"\n",
    "retail_filled_payment = retail_with_nulls.fillna(\"Unknown\", subset=[\"PaymentMode\"])\n",
    "retail_filled_payment.show()"
   ]
  },
  {
   "cell_type": "code",
   "execution_count": 0,
   "metadata": {
    "application/vnd.databricks.v1+cell": {
     "cellMetadata": {
      "byteLimit": 2048000,
      "rowLimit": 10000
     },
     "inputWidgets": {},
     "nuid": "6d2f57e3-e586-4e8b-b740-c598c56266db",
     "showTitle": false,
     "tableResultSettingsMap": {},
     "title": ""
    }
   },
   "outputs": [
    {
     "output_type": "stream",
     "name": "stdout",
     "output_type": "stream",
     "text": [
      "+-------------+----------+----------+\n|TransactionID|TotalPrice|OrderLabel|\n+-------------+----------+----------+\n|        T1003|     15000|       Low|\n|        T1002|     60000|      High|\n|        T1005|     50000|    Medium|\n|        T1001|     70000|      High|\n|        T1006|      3000|       Low|\n|        T1004|     20000|       Low|\n+-------------+----------+----------+\n\n"
     ]
    }
   ],
   "source": [
    "# 19. Write a UDF to label orders\n",
    "from pyspark.sql.functions import udf\n",
    "from pyspark.sql.types import StringType\n",
    "\n",
    "# 1. First ensure TotalPrice is numeric\n",
    "retail_df = retail_df.withColumn(\"TotalPrice\", col(\"TotalPrice\").cast(\"integer\"))\n",
    "\n",
    "# 2. Define the UDF\n",
    "def label_order(amount):\n",
    "    if amount > 50000: \n",
    "        return \"High\"\n",
    "    elif amount >= 30000: \n",
    "        return \"Medium\"\n",
    "    else: \n",
    "        return \"Low\"\n",
    "\n",
    "label_order_udf = udf(label_order, StringType())\n",
    "\n",
    "# 3. Apply the UDF\n",
    "retail_df = retail_df.withColumn(\"OrderLabel\", label_order_udf(col(\"TotalPrice\")))\n",
    "\n",
    "# 4. Show results\n",
    "retail_df.select(\"TransactionID\", \"TotalPrice\", \"OrderLabel\").show()"
   ]
  },
  {
   "cell_type": "code",
   "execution_count": 0,
   "metadata": {
    "application/vnd.databricks.v1+cell": {
     "cellMetadata": {
      "byteLimit": 2048000,
      "rowLimit": 10000
     },
     "inputWidgets": {},
     "nuid": "54861e47-7f49-4d62-b1b1-10e65eee9711",
     "showTitle": false,
     "tableResultSettingsMap": {},
     "title": ""
    }
   },
   "outputs": [
    {
     "output_type": "stream",
     "name": "stdout",
     "output_type": "stream",
     "text": [
      "+-------------+--------+---------+-------+-----------+--------+----------+----------+-----------+---------------+----------+----+-----+---+\n|TransactionID|Customer|     City|Product|   Category|Quantity|TotalPrice|   TxnDate|PaymentMode|DiscountedPrice|OrderLabel|Year|Month|Day|\n+-------------+--------+---------+-------+-----------+--------+----------+----------+-----------+---------------+----------+----+-----+---+\n|        T1003|    Ravi|Hyderabad|   Desk|  Furniture|       1|     15000|2024-02-10|Net Banking|        13500.0|       Low|2024|    2| 10|\n|        T1002|    Neha|Bangalore| Tablet|Electronics|       2|     60000|2024-01-20|        UPI|        54000.0|      High|2024|    1| 20|\n|        T1005|   Karan|   Mumbai|  Phone|Electronics|       1|     50000|2024-02-15|       Card|        45000.0|    Medium|2024|    2| 15|\n|        T1001|     Ali|   Mumbai| Laptop|Electronics|       1|     70000|2024-01-15|       Card|        63000.0|      High|2024|    1| 15|\n|        T1006|   Farah|    Delhi|  Mouse|Electronics|       3|      3000|2024-02-18|       Cash|         2700.0|       Low|2024|    2| 18|\n|        T1004|    Zoya|    Delhi|  Chair|  Furniture|       4|     20000|2024-02-12|       Card|        18000.0|       Low|2024|    2| 12|\n+-------------+--------+---------+-------+-----------+--------+----------+----------+-----------+---------------+----------+----+-----+---+\n\n+-------------+--------+---------+-------+-----------+--------+----------+----------+-----------+---------------+----------+----+-----+---+\n|TransactionID|Customer|     City|Product|   Category|Quantity|TotalPrice|   TxnDate|PaymentMode|DiscountedPrice|OrderLabel|Year|Month|Day|\n+-------------+--------+---------+-------+-----------+--------+----------+----------+-----------+---------------+----------+----+-----+---+\n|        T1003|    Ravi|Hyderabad|   Desk|  Furniture|       1|     15000|2024-02-10|Net Banking|        13500.0|       Low|2024|    2| 10|\n|        T1005|   Karan|   Mumbai|  Phone|Electronics|       1|     50000|2024-02-15|       Card|        45000.0|    Medium|2024|    2| 15|\n|        T1006|   Farah|    Delhi|  Mouse|Electronics|       3|      3000|2024-02-18|       Cash|         2700.0|       Low|2024|    2| 18|\n|        T1004|    Zoya|    Delhi|  Chair|  Furniture|       4|     20000|2024-02-12|       Card|        18000.0|       Low|2024|    2| 12|\n+-------------+--------+---------+-------+-----------+--------+----------+----------+-----------+---------------+----------+----+-----+---+\n\n"
     ]
    }
   ],
   "source": [
    "# 20. Extract year, month, and day from TxnDate\n",
    "retail_df = retail_df.withColumn(\"Year\", year(col(\"TxnDate\"))) \\\n",
    "    .withColumn(\"Month\", month(col(\"TxnDate\"))) \\\n",
    "    .withColumn(\"Day\", dayofmonth(col(\"TxnDate\")))\n",
    "retail_df.show()\n",
    "\n",
    "# 21. Filter transactions that happened in February\n",
    "feb_txns = retail_df.filter(month(col(\"TxnDate\")) == 2)\n",
    "feb_txns.show()"
   ]
  },
  {
   "cell_type": "code",
   "execution_count": 0,
   "metadata": {
    "application/vnd.databricks.v1+cell": {
     "cellMetadata": {
      "byteLimit": 2048000,
      "rowLimit": 10000
     },
     "inputWidgets": {},
     "nuid": "7b21d365-46a3-4056-9127-ed39d31a2a38",
     "showTitle": false,
     "tableResultSettingsMap": {},
     "title": ""
    }
   },
   "outputs": [
    {
     "output_type": "stream",
     "name": "stdout",
     "output_type": "stream",
     "text": [
      "Original count: 6, Duplicated count: 12, Deduped count: 6\n"
     ]
    }
   ],
   "source": [
    "# 22. Duplicate the DataFrame using union() and remove duplicates\n",
    "duplicated_df = retail_df.union(retail_df)\n",
    "deduped_df = duplicated_df.dropDuplicates()\n",
    "print(f\"Original count: {retail_df.count()}, Duplicated count: {duplicated_df.count()}, Deduped count: {deduped_df.count()}\")"
   ]
  }
 ],
 "metadata": {
  "application/vnd.databricks.v1+notebook": {
   "computePreferences": null,
   "dashboards": [],
   "environmentMetadata": {
    "base_environment": "",
    "environment_version": "2"
   },
   "inputWidgetPreferences": null,
   "language": "python",
   "notebookMetadata": {
    "pythonIndentUnit": 4
   },
   "notebookName": "Retail_Transactions",
   "widgets": {}
  },
  "language_info": {
   "name": "python"
  }
 },
 "nbformat": 4,
 "nbformat_minor": 0
}