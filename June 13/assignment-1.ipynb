{
 "cells": [
  {
   "cell_type": "code",
   "execution_count": 0,
   "metadata": {
    "application/vnd.databricks.v1+cell": {
     "cellMetadata": {
      "byteLimit": 2048000,
      "rowLimit": 10000
     },
     "inputWidgets": {},
     "nuid": "e9666703-87ba-4cd8-bd4d-2d1bb4ee69ff",
     "showTitle": false,
     "tableResultSettingsMap": {},
     "title": ""
    }
   },
   "outputs": [],
   "source": [
    "from pyspark.sql import SparkSession\n",
    "from pyspark.sql.functions import col, avg, sum, count\n",
    "from pyspark.sql.types import DateType"
   ]
  },
  {
   "cell_type": "code",
   "execution_count": 0,
   "metadata": {
    "application/vnd.databricks.v1+cell": {
     "cellMetadata": {
      "byteLimit": 2048000,
      "rowLimit": 10000
     },
     "inputWidgets": {},
     "nuid": "2c342354-a2b6-4bea-952f-fc707ec7ea2d",
     "showTitle": false,
     "tableResultSettingsMap": {},
     "title": ""
    }
   },
   "outputs": [
    {
     "output_type": "execute_result",
     "data": {
      "text/plain": [
       "<pyspark.sql.connect.session.SparkSession at 0x7f60a0139010>"
      ]
     },
     "execution_count": 21,
     "metadata": {},
     "output_type": "execute_result"
    }
   ],
   "source": [
    "spark = SparkSession.builder.appName(\"CustomerOrdersAnalysis\").getOrCreate()\n",
    "spark"
   ]
  },
  {
   "cell_type": "code",
   "execution_count": 0,
   "metadata": {
    "application/vnd.databricks.v1+cell": {
     "cellMetadata": {
      "byteLimit": 2048000,
      "rowLimit": 10000
     },
     "inputWidgets": {},
     "nuid": "b30a802b-2a73-4018-8f8d-bdc753afb71b",
     "showTitle": false,
     "tableResultSettingsMap": {},
     "title": ""
    }
   },
   "outputs": [],
   "source": [
    "customers_df = spark.read.csv(\"/FileStore/tables/customers-1.csv\", header=True, inferSchema=True)\n",
    "orders_df = spark.read.csv(\"/FileStore/tables/orders-2.csv\", header=True, inferSchema=True)"
   ]
  },
  {
   "cell_type": "code",
   "execution_count": 0,
   "metadata": {
    "application/vnd.databricks.v1+cell": {
     "cellMetadata": {
      "byteLimit": 2048000,
      "rowLimit": 10000
     },
     "inputWidgets": {},
     "nuid": "838c463a-5a1a-4795-b88c-f0fe2ebacd80",
     "showTitle": false,
     "tableResultSettingsMap": {},
     "title": ""
    }
   },
   "outputs": [
    {
     "output_type": "stream",
     "name": "stdout",
     "output_type": "stream",
     "text": [
      "Customers Schema:\nroot\n |-- CustomerID: integer (nullable = true)\n |-- Name: string (nullable = true)\n |-- City: string (nullable = true)\n |-- Age: integer (nullable = true)\n\n\nOrders Schema:\nroot\n |-- OrderID: integer (nullable = true)\n |-- CustomerID: integer (nullable = true)\n |-- Product: string (nullable = true)\n |-- Quantity: integer (nullable = true)\n |-- Price: integer (nullable = true)\n |-- OrderDate: timestamp (nullable = true)\n\n"
     ]
    }
   ],
   "source": [
    "print(\"Customers Schema:\")\n",
    "customers_df.printSchema()\n",
    "print(\"\\nOrders Schema:\")\n",
    "orders_df.printSchema()"
   ]
  },
  {
   "cell_type": "code",
   "execution_count": 0,
   "metadata": {
    "application/vnd.databricks.v1+cell": {
     "cellMetadata": {
      "byteLimit": 2048000,
      "rowLimit": 10000
     },
     "inputWidgets": {},
     "nuid": "d54ec702-b7a4-4c53-9659-d131b1e65911",
     "showTitle": false,
     "tableResultSettingsMap": {},
     "title": ""
    }
   },
   "outputs": [
    {
     "output_type": "display_data",
     "data": {
      "text/html": [
       "<style scoped>\n",
       "  .table-result-container {\n",
       "    max-height: 300px;\n",
       "    overflow: auto;\n",
       "  }\n",
       "  table, th, td {\n",
       "    border: 1px solid black;\n",
       "    border-collapse: collapse;\n",
       "  }\n",
       "  th, td {\n",
       "    padding: 5px;\n",
       "  }\n",
       "  th {\n",
       "    text-align: left;\n",
       "  }\n",
       "</style><div class='table-result-container'><table class='table-result'><thead style='background-color: white'><tr><th>OrderID</th><th>CustomerID</th><th>Product</th><th>Quantity</th><th>Price</th><th>OrderDate</th><th>TotalAmount</th></tr></thead><tbody><tr><td>1001</td><td>101</td><td>Laptop</td><td>1</td><td>70000</td><td>2024-01-05T00:00:00.000Z</td><td>70000</td></tr><tr><td>1002</td><td>102</td><td> Mobile</td><td>2</td><td>25000</td><td>2024-02-10T00:00:00.000Z</td><td>50000</td></tr><tr><td>1003</td><td>103</td><td> Desk</td><td>1</td><td>10000</td><td>2024-03-15T00:00:00.000Z</td><td>10000</td></tr><tr><td>1004</td><td>101</td><td> Mouse</td><td>3</td><td>1000</td><td>2024-04-01T00:00:00.000Z</td><td>3000</td></tr><tr><td>1005</td><td>104</td><td> Monitor</td><td>1</td><td>12000</td><td>2024-04-25T00:00:00.000Z</td><td>12000</td></tr></tbody></table></div>"
      ]
     },
     "metadata": {
      "application/vnd.databricks.v1+output": {
       "addedWidgets": {},
       "aggData": [],
       "aggError": "",
       "aggOverflow": false,
       "aggSchema": [],
       "aggSeriesLimitReached": false,
       "aggType": "",
       "arguments": {},
       "columnCustomDisplayInfos": {},
       "data": [
        [
         1001,
         101,
         "Laptop",
         1,
         70000,
         "2024-01-05T00:00:00.000Z",
         70000
        ],
        [
         1002,
         102,
         " Mobile",
         2,
         25000,
         "2024-02-10T00:00:00.000Z",
         50000
        ],
        [
         1003,
         103,
         " Desk",
         1,
         10000,
         "2024-03-15T00:00:00.000Z",
         10000
        ],
        [
         1004,
         101,
         " Mouse",
         3,
         1000,
         "2024-04-01T00:00:00.000Z",
         3000
        ],
        [
         1005,
         104,
         " Monitor",
         1,
         12000,
         "2024-04-25T00:00:00.000Z",
         12000
        ]
       ],
       "datasetInfos": [],
       "dbfsResultPath": null,
       "isJsonSchema": true,
       "metadata": {},
       "overflow": false,
       "plotOptions": {
        "customPlotOptions": {},
        "displayType": "table",
        "pivotAggregation": null,
        "pivotColumns": null,
        "xColumns": null,
        "yColumns": null
       },
       "removedWidgets": [],
       "schema": [
        {
         "metadata": "{}",
         "name": "OrderID",
         "type": "\"integer\""
        },
        {
         "metadata": "{}",
         "name": "CustomerID",
         "type": "\"integer\""
        },
        {
         "metadata": "{}",
         "name": "Product",
         "type": "\"string\""
        },
        {
         "metadata": "{}",
         "name": "Quantity",
         "type": "\"integer\""
        },
        {
         "metadata": "{}",
         "name": "Price",
         "type": "\"integer\""
        },
        {
         "metadata": "{}",
         "name": "OrderDate",
         "type": "\"timestamp\""
        },
        {
         "metadata": "{}",
         "name": "TotalAmount",
         "type": "\"integer\""
        }
       ],
       "type": "table"
      }
     },
     "output_type": "display_data"
    }
   ],
   "source": [
    "# 3. Add TotalAmount column\n",
    "orders_df = orders_df.withColumn(\"TotalAmount\", col(\"Quantity\") * col(\"Price\"))\n",
    "display(orders_df)"
   ]
  },
  {
   "cell_type": "code",
   "execution_count": 0,
   "metadata": {
    "application/vnd.databricks.v1+cell": {
     "cellMetadata": {
      "byteLimit": 2048000,
      "rowLimit": 10000
     },
     "inputWidgets": {},
     "nuid": "830af08e-3509-4ca9-8e90-5fa29cbea010",
     "showTitle": false,
     "tableResultSettingsMap": {},
     "title": ""
    }
   },
   "outputs": [
    {
     "output_type": "display_data",
     "data": {
      "text/html": [
       "<style scoped>\n",
       "  .table-result-container {\n",
       "    max-height: 300px;\n",
       "    overflow: auto;\n",
       "  }\n",
       "  table, th, td {\n",
       "    border: 1px solid black;\n",
       "    border-collapse: collapse;\n",
       "  }\n",
       "  th, td {\n",
       "    padding: 5px;\n",
       "  }\n",
       "  th {\n",
       "    text-align: left;\n",
       "  }\n",
       "</style><div class='table-result-container'><table class='table-result'><thead style='background-color: white'><tr><th>CustomerID</th><th>OrderID</th><th>Product</th><th>Quantity</th><th>Price</th><th>OrderDate</th><th>TotalAmount</th><th>Name</th><th>City</th><th>Age</th></tr></thead><tbody><tr><td>101</td><td>1001</td><td>Laptop</td><td>1</td><td>70000</td><td>2024-01-05T00:00:00.000Z</td><td>70000</td><td> Aditi</td><td>Mumbai</td><td>28</td></tr><tr><td>102</td><td>1002</td><td> Mobile</td><td>2</td><td>25000</td><td>2024-02-10T00:00:00.000Z</td><td>50000</td><td> Rohan</td><td>Delhi</td><td>35</td></tr><tr><td>103</td><td>1003</td><td> Desk</td><td>1</td><td>10000</td><td>2024-03-15T00:00:00.000Z</td><td>10000</td><td> Meena</td><td>Bangalore</td><td>41</td></tr><tr><td>101</td><td>1004</td><td> Mouse</td><td>3</td><td>1000</td><td>2024-04-01T00:00:00.000Z</td><td>3000</td><td> Aditi</td><td>Mumbai</td><td>28</td></tr><tr><td>104</td><td>1005</td><td> Monitor</td><td>1</td><td>12000</td><td>2024-04-25T00:00:00.000Z</td><td>12000</td><td> Kabir</td><td>Hyderabad</td><td>30</td></tr></tbody></table></div>"
      ]
     },
     "metadata": {
      "application/vnd.databricks.v1+output": {
       "addedWidgets": {},
       "aggData": [],
       "aggError": "",
       "aggOverflow": false,
       "aggSchema": [],
       "aggSeriesLimitReached": false,
       "aggType": "",
       "arguments": {},
       "columnCustomDisplayInfos": {},
       "data": [
        [
         101,
         1001,
         "Laptop",
         1,
         70000,
         "2024-01-05T00:00:00.000Z",
         70000,
         " Aditi",
         "Mumbai",
         28
        ],
        [
         102,
         1002,
         " Mobile",
         2,
         25000,
         "2024-02-10T00:00:00.000Z",
         50000,
         " Rohan",
         "Delhi",
         35
        ],
        [
         103,
         1003,
         " Desk",
         1,
         10000,
         "2024-03-15T00:00:00.000Z",
         10000,
         " Meena",
         "Bangalore",
         41
        ],
        [
         101,
         1004,
         " Mouse",
         3,
         1000,
         "2024-04-01T00:00:00.000Z",
         3000,
         " Aditi",
         "Mumbai",
         28
        ],
        [
         104,
         1005,
         " Monitor",
         1,
         12000,
         "2024-04-25T00:00:00.000Z",
         12000,
         " Kabir",
         "Hyderabad",
         30
        ]
       ],
       "datasetInfos": [],
       "dbfsResultPath": null,
       "isJsonSchema": true,
       "metadata": {},
       "overflow": false,
       "plotOptions": {
        "customPlotOptions": {},
        "displayType": "table",
        "pivotAggregation": null,
        "pivotColumns": null,
        "xColumns": null,
        "yColumns": null
       },
       "removedWidgets": [],
       "schema": [
        {
         "metadata": "{}",
         "name": "CustomerID",
         "type": "\"integer\""
        },
        {
         "metadata": "{}",
         "name": "OrderID",
         "type": "\"integer\""
        },
        {
         "metadata": "{}",
         "name": "Product",
         "type": "\"string\""
        },
        {
         "metadata": "{}",
         "name": "Quantity",
         "type": "\"integer\""
        },
        {
         "metadata": "{}",
         "name": "Price",
         "type": "\"integer\""
        },
        {
         "metadata": "{}",
         "name": "OrderDate",
         "type": "\"timestamp\""
        },
        {
         "metadata": "{}",
         "name": "TotalAmount",
         "type": "\"integer\""
        },
        {
         "metadata": "{}",
         "name": "Name",
         "type": "\"string\""
        },
        {
         "metadata": "{}",
         "name": "City",
         "type": "\"string\""
        },
        {
         "metadata": "{}",
         "name": "Age",
         "type": "\"integer\""
        }
       ],
       "type": "table"
      }
     },
     "output_type": "display_data"
    }
   ],
   "source": [
    "# 4. Join DataFrames on CustomerID\n",
    "joined_df = orders_df.join(customers_df, \"CustomerID\", \"inner\")\n",
    "display(joined_df)"
   ]
  },
  {
   "cell_type": "code",
   "execution_count": 0,
   "metadata": {
    "application/vnd.databricks.v1+cell": {
     "cellMetadata": {
      "byteLimit": 2048000,
      "rowLimit": 10000
     },
     "inputWidgets": {},
     "nuid": "ec44c611-fbe7-4491-98cd-98759f75c2e0",
     "showTitle": false,
     "tableResultSettingsMap": {},
     "title": ""
    }
   },
   "outputs": [
    {
     "output_type": "stream",
     "name": "stdout",
     "output_type": "stream",
     "text": [
      "\nOrders with TotalAmount > 20000:\n"
     ]
    },
    {
     "output_type": "display_data",
     "data": {
      "text/html": [
       "<style scoped>\n",
       "  .table-result-container {\n",
       "    max-height: 300px;\n",
       "    overflow: auto;\n",
       "  }\n",
       "  table, th, td {\n",
       "    border: 1px solid black;\n",
       "    border-collapse: collapse;\n",
       "  }\n",
       "  th, td {\n",
       "    padding: 5px;\n",
       "  }\n",
       "  th {\n",
       "    text-align: left;\n",
       "  }\n",
       "</style><div class='table-result-container'><table class='table-result'><thead style='background-color: white'><tr><th>CustomerID</th><th>OrderID</th><th>Product</th><th>Quantity</th><th>Price</th><th>OrderDate</th><th>TotalAmount</th><th>Name</th><th>City</th><th>Age</th></tr></thead><tbody><tr><td>101</td><td>1001</td><td>Laptop</td><td>1</td><td>70000</td><td>2024-01-05T00:00:00.000Z</td><td>70000</td><td> Aditi</td><td>Mumbai</td><td>28</td></tr><tr><td>102</td><td>1002</td><td> Mobile</td><td>2</td><td>25000</td><td>2024-02-10T00:00:00.000Z</td><td>50000</td><td> Rohan</td><td>Delhi</td><td>35</td></tr></tbody></table></div>"
      ]
     },
     "metadata": {
      "application/vnd.databricks.v1+output": {
       "addedWidgets": {},
       "aggData": [],
       "aggError": "",
       "aggOverflow": false,
       "aggSchema": [],
       "aggSeriesLimitReached": false,
       "aggType": "",
       "arguments": {},
       "columnCustomDisplayInfos": {},
       "data": [
        [
         101,
         1001,
         "Laptop",
         1,
         70000,
         "2024-01-05T00:00:00.000Z",
         70000,
         " Aditi",
         "Mumbai",
         28
        ],
        [
         102,
         1002,
         " Mobile",
         2,
         25000,
         "2024-02-10T00:00:00.000Z",
         50000,
         " Rohan",
         "Delhi",
         35
        ]
       ],
       "datasetInfos": [],
       "dbfsResultPath": null,
       "isJsonSchema": true,
       "metadata": {},
       "overflow": false,
       "plotOptions": {
        "customPlotOptions": {},
        "displayType": "table",
        "pivotAggregation": null,
        "pivotColumns": null,
        "xColumns": null,
        "yColumns": null
       },
       "removedWidgets": [],
       "schema": [
        {
         "metadata": "{}",
         "name": "CustomerID",
         "type": "\"integer\""
        },
        {
         "metadata": "{}",
         "name": "OrderID",
         "type": "\"integer\""
        },
        {
         "metadata": "{}",
         "name": "Product",
         "type": "\"string\""
        },
        {
         "metadata": "{}",
         "name": "Quantity",
         "type": "\"integer\""
        },
        {
         "metadata": "{}",
         "name": "Price",
         "type": "\"integer\""
        },
        {
         "metadata": "{}",
         "name": "OrderDate",
         "type": "\"timestamp\""
        },
        {
         "metadata": "{}",
         "name": "TotalAmount",
         "type": "\"integer\""
        },
        {
         "metadata": "{}",
         "name": "Name",
         "type": "\"string\""
        },
        {
         "metadata": "{}",
         "name": "City",
         "type": "\"string\""
        },
        {
         "metadata": "{}",
         "name": "Age",
         "type": "\"integer\""
        }
       ],
       "type": "table"
      }
     },
     "output_type": "display_data"
    }
   ],
   "source": [
    "# 5. Filter orders where TotalAmount > 20000\n",
    "high_val = joined_df.filter(col(\"TotalAmount\") > 20000)\n",
    "print(\"\\nOrders with TotalAmount > 20000:\")\n",
    "display(high_val)"
   ]
  },
  {
   "cell_type": "code",
   "execution_count": 0,
   "metadata": {
    "application/vnd.databricks.v1+cell": {
     "cellMetadata": {
      "byteLimit": 2048000,
      "rowLimit": 10000
     },
     "inputWidgets": {},
     "nuid": "f99d8581-5aab-4690-84f8-dce5ab3bd8ff",
     "showTitle": false,
     "tableResultSettingsMap": {},
     "title": ""
    }
   },
   "outputs": [
    {
     "output_type": "stream",
     "name": "stdout",
     "output_type": "stream",
     "text": [
      "\nCustomers with more than 1 order:\n"
     ]
    },
    {
     "output_type": "display_data",
     "data": {
      "text/html": [
       "<style scoped>\n",
       "  .table-result-container {\n",
       "    max-height: 300px;\n",
       "    overflow: auto;\n",
       "  }\n",
       "  table, th, td {\n",
       "    border: 1px solid black;\n",
       "    border-collapse: collapse;\n",
       "  }\n",
       "  th, td {\n",
       "    padding: 5px;\n",
       "  }\n",
       "  th {\n",
       "    text-align: left;\n",
       "  }\n",
       "</style><div class='table-result-container'><table class='table-result'><thead style='background-color: white'><tr><th>CustomerID</th><th>Name</th><th>OrderCount</th></tr></thead><tbody><tr><td>101</td><td> Aditi</td><td>2</td></tr></tbody></table></div>"
      ]
     },
     "metadata": {
      "application/vnd.databricks.v1+output": {
       "addedWidgets": {},
       "aggData": [],
       "aggError": "",
       "aggOverflow": false,
       "aggSchema": [],
       "aggSeriesLimitReached": false,
       "aggType": "",
       "arguments": {},
       "columnCustomDisplayInfos": {},
       "data": [
        [
         101,
         " Aditi",
         2
        ]
       ],
       "datasetInfos": [],
       "dbfsResultPath": null,
       "isJsonSchema": true,
       "metadata": {},
       "overflow": false,
       "plotOptions": {
        "customPlotOptions": {},
        "displayType": "table",
        "pivotAggregation": null,
        "pivotColumns": null,
        "xColumns": null,
        "yColumns": null
       },
       "removedWidgets": [],
       "schema": [
        {
         "metadata": "{}",
         "name": "CustomerID",
         "type": "\"integer\""
        },
        {
         "metadata": "{}",
         "name": "Name",
         "type": "\"string\""
        },
        {
         "metadata": "{}",
         "name": "OrderCount",
         "type": "\"long\""
        }
       ],
       "type": "table"
      }
     },
     "output_type": "display_data"
    }
   ],
   "source": [
    "# 6. Show customers who placed more than 1 order\n",
    "mul_orders = joined_df.groupBy(\"CustomerID\", \"Name\").agg(count(\"OrderID\").alias(\"OrderCount\")) \\\n",
    "    .filter(col(\"OrderCount\") > 1)\n",
    "print(\"\\nCustomers with more than 1 order:\")\n",
    "display(mul_orders)"
   ]
  },
  {
   "cell_type": "code",
   "execution_count": 0,
   "metadata": {
    "application/vnd.databricks.v1+cell": {
     "cellMetadata": {
      "byteLimit": 2048000,
      "rowLimit": 10000
     },
     "inputWidgets": {},
     "nuid": "7338e6a8-99ed-4361-ab86-8c2266210afa",
     "showTitle": false,
     "tableResultSettingsMap": {},
     "title": ""
    }
   },
   "outputs": [
    {
     "output_type": "stream",
     "name": "stdout",
     "output_type": "stream",
     "text": [
      "\nAverage order value by city:\n"
     ]
    },
    {
     "output_type": "display_data",
     "data": {
      "text/html": [
       "<style scoped>\n",
       "  .table-result-container {\n",
       "    max-height: 300px;\n",
       "    overflow: auto;\n",
       "  }\n",
       "  table, th, td {\n",
       "    border: 1px solid black;\n",
       "    border-collapse: collapse;\n",
       "  }\n",
       "  th, td {\n",
       "    padding: 5px;\n",
       "  }\n",
       "  th {\n",
       "    text-align: left;\n",
       "  }\n",
       "</style><div class='table-result-container'><table class='table-result'><thead style='background-color: white'><tr><th>City</th><th>AvgOrderValue</th></tr></thead><tbody><tr><td>Bangalore</td><td>10000.0</td></tr><tr><td>Delhi</td><td>50000.0</td></tr><tr><td>Mumbai</td><td>36500.0</td></tr><tr><td>Hyderabad</td><td>12000.0</td></tr></tbody></table></div>"
      ]
     },
     "metadata": {
      "application/vnd.databricks.v1+output": {
       "addedWidgets": {},
       "aggData": [],
       "aggError": "",
       "aggOverflow": false,
       "aggSchema": [],
       "aggSeriesLimitReached": false,
       "aggType": "",
       "arguments": {},
       "columnCustomDisplayInfos": {},
       "data": [
        [
         "Bangalore",
         10000.0
        ],
        [
         "Delhi",
         50000.0
        ],
        [
         "Mumbai",
         36500.0
        ],
        [
         "Hyderabad",
         12000.0
        ]
       ],
       "datasetInfos": [],
       "dbfsResultPath": null,
       "isJsonSchema": true,
       "metadata": {},
       "overflow": false,
       "plotOptions": {
        "customPlotOptions": {},
        "displayType": "table",
        "pivotAggregation": null,
        "pivotColumns": null,
        "xColumns": null,
        "yColumns": null
       },
       "removedWidgets": [],
       "schema": [
        {
         "metadata": "{}",
         "name": "City",
         "type": "\"string\""
        },
        {
         "metadata": "{}",
         "name": "AvgOrderValue",
         "type": "\"double\""
        }
       ],
       "type": "table"
      }
     },
     "output_type": "display_data"
    }
   ],
   "source": [
    "# 7. Group orders by City and get average order value\n",
    "avg_orde = joined_df.groupBy(\"City\").agg(avg(\"TotalAmount\").alias(\"AvgOrderValue\"))\n",
    "print(\"\\nAverage order value by city:\")\n",
    "display(avg_orde)"
   ]
  },
  {
   "cell_type": "code",
   "execution_count": 0,
   "metadata": {
    "application/vnd.databricks.v1+cell": {
     "cellMetadata": {
      "byteLimit": 2048000,
      "rowLimit": 10000
     },
     "inputWidgets": {},
     "nuid": "438e1322-4b22-4db1-91d6-8d21ce30ac4e",
     "showTitle": false,
     "tableResultSettingsMap": {},
     "title": ""
    }
   },
   "outputs": [
    {
     "output_type": "stream",
     "name": "stdout",
     "output_type": "stream",
     "text": [
      "\nOrders sorted by date (descending):\n"
     ]
    },
    {
     "output_type": "display_data",
     "data": {
      "text/html": [
       "<style scoped>\n",
       "  .table-result-container {\n",
       "    max-height: 300px;\n",
       "    overflow: auto;\n",
       "  }\n",
       "  table, th, td {\n",
       "    border: 1px solid black;\n",
       "    border-collapse: collapse;\n",
       "  }\n",
       "  th, td {\n",
       "    padding: 5px;\n",
       "  }\n",
       "  th {\n",
       "    text-align: left;\n",
       "  }\n",
       "</style><div class='table-result-container'><table class='table-result'><thead style='background-color: white'><tr><th>CustomerID</th><th>OrderID</th><th>Product</th><th>Quantity</th><th>Price</th><th>OrderDate</th><th>TotalAmount</th><th>Name</th><th>City</th><th>Age</th></tr></thead><tbody><tr><td>104</td><td>1005</td><td> Monitor</td><td>1</td><td>12000</td><td>2024-04-25T00:00:00.000Z</td><td>12000</td><td> Kabir</td><td>Hyderabad</td><td>30</td></tr><tr><td>101</td><td>1004</td><td> Mouse</td><td>3</td><td>1000</td><td>2024-04-01T00:00:00.000Z</td><td>3000</td><td> Aditi</td><td>Mumbai</td><td>28</td></tr><tr><td>103</td><td>1003</td><td> Desk</td><td>1</td><td>10000</td><td>2024-03-15T00:00:00.000Z</td><td>10000</td><td> Meena</td><td>Bangalore</td><td>41</td></tr><tr><td>102</td><td>1002</td><td> Mobile</td><td>2</td><td>25000</td><td>2024-02-10T00:00:00.000Z</td><td>50000</td><td> Rohan</td><td>Delhi</td><td>35</td></tr><tr><td>101</td><td>1001</td><td>Laptop</td><td>1</td><td>70000</td><td>2024-01-05T00:00:00.000Z</td><td>70000</td><td> Aditi</td><td>Mumbai</td><td>28</td></tr></tbody></table></div>"
      ]
     },
     "metadata": {
      "application/vnd.databricks.v1+output": {
       "addedWidgets": {},
       "aggData": [],
       "aggError": "",
       "aggOverflow": false,
       "aggSchema": [],
       "aggSeriesLimitReached": false,
       "aggType": "",
       "arguments": {},
       "columnCustomDisplayInfos": {},
       "data": [
        [
         104,
         1005,
         " Monitor",
         1,
         12000,
         "2024-04-25T00:00:00.000Z",
         12000,
         " Kabir",
         "Hyderabad",
         30
        ],
        [
         101,
         1004,
         " Mouse",
         3,
         1000,
         "2024-04-01T00:00:00.000Z",
         3000,
         " Aditi",
         "Mumbai",
         28
        ],
        [
         103,
         1003,
         " Desk",
         1,
         10000,
         "2024-03-15T00:00:00.000Z",
         10000,
         " Meena",
         "Bangalore",
         41
        ],
        [
         102,
         1002,
         " Mobile",
         2,
         25000,
         "2024-02-10T00:00:00.000Z",
         50000,
         " Rohan",
         "Delhi",
         35
        ],
        [
         101,
         1001,
         "Laptop",
         1,
         70000,
         "2024-01-05T00:00:00.000Z",
         70000,
         " Aditi",
         "Mumbai",
         28
        ]
       ],
       "datasetInfos": [],
       "dbfsResultPath": null,
       "isJsonSchema": true,
       "metadata": {},
       "overflow": false,
       "plotOptions": {
        "customPlotOptions": {},
        "displayType": "table",
        "pivotAggregation": null,
        "pivotColumns": null,
        "xColumns": null,
        "yColumns": null
       },
       "removedWidgets": [],
       "schema": [
        {
         "metadata": "{}",
         "name": "CustomerID",
         "type": "\"integer\""
        },
        {
         "metadata": "{}",
         "name": "OrderID",
         "type": "\"integer\""
        },
        {
         "metadata": "{}",
         "name": "Product",
         "type": "\"string\""
        },
        {
         "metadata": "{}",
         "name": "Quantity",
         "type": "\"integer\""
        },
        {
         "metadata": "{}",
         "name": "Price",
         "type": "\"integer\""
        },
        {
         "metadata": "{}",
         "name": "OrderDate",
         "type": "\"timestamp\""
        },
        {
         "metadata": "{}",
         "name": "TotalAmount",
         "type": "\"integer\""
        },
        {
         "metadata": "{}",
         "name": "Name",
         "type": "\"string\""
        },
        {
         "metadata": "{}",
         "name": "City",
         "type": "\"string\""
        },
        {
         "metadata": "{}",
         "name": "Age",
         "type": "\"integer\""
        }
       ],
       "type": "table"
      }
     },
     "output_type": "display_data"
    }
   ],
   "source": [
    "# 8. Sort orders by OrderDate in descending order\n",
    "sorted_orders = joined_df.orderBy(col(\"OrderDate\").desc())\n",
    "print(\"\\nOrders sorted by date (descending):\")\n",
    "display(sorted_orders)"
   ]
  },
  {
   "cell_type": "code",
   "execution_count": 0,
   "metadata": {
    "application/vnd.databricks.v1+cell": {
     "cellMetadata": {
      "byteLimit": 2048000,
      "rowLimit": 10000
     },
     "inputWidgets": {},
     "nuid": "e430a472-c071-4b18-a86d-e4463309d544",
     "showTitle": false,
     "tableResultSettingsMap": {},
     "title": ""
    }
   },
   "outputs": [],
   "source": [
    "# 9. Write final result as Parquet partitioned by City\n",
    "joined_df.write.partitionBy(\"City\").mode(\"overwrite\").parquet(\"output/customer_orders_analysis.parquet\")"
   ]
  },
  {
   "cell_type": "code",
   "execution_count": 0,
   "metadata": {
    "application/vnd.databricks.v1+cell": {
     "cellMetadata": {
      "byteLimit": 2048000,
      "rowLimit": 10000
     },
     "inputWidgets": {},
     "nuid": "0ee51616-8903-4e8e-aec7-d89fb1139c1d",
     "showTitle": false,
     "tableResultSettingsMap": {},
     "title": ""
    }
   },
   "outputs": [
    {
     "output_type": "stream",
     "name": "stdout",
     "output_type": "stream",
     "text": [
      "+----------+-------+--------+--------+-----+-------------------+-----------+------+---------+---+\n|CustomerID|OrderID| Product|Quantity|Price|          OrderDate|TotalAmount|  Name|     City|Age|\n+----------+-------+--------+--------+-----+-------------------+-----------+------+---------+---+\n|       101|   1001|  Laptop|       1|70000|2024-01-05 00:00:00|      70000| Aditi|   Mumbai| 28|\n|       102|   1002|  Mobile|       2|25000|2024-02-10 00:00:00|      50000| Rohan|    Delhi| 35|\n|       103|   1003|    Desk|       1|10000|2024-03-15 00:00:00|      10000| Meena|Bangalore| 41|\n|       101|   1004|   Mouse|       3| 1000|2024-04-01 00:00:00|       3000| Aditi|   Mumbai| 28|\n|       104|   1005| Monitor|       1|12000|2024-04-25 00:00:00|      12000| Kabir|Hyderabad| 30|\n+----------+-------+--------+--------+-----+-------------------+-----------+------+---------+---+\n\n"
     ]
    }
   ],
   "source": [
    "# 10. Create temporary view and run Spark SQL\n",
    "joined_df.createOrReplaceTempView(\"customer_orders\")\n",
    "spark.sql(\"SELECT * FROM customer_orders\").show()"
   ]
  },
  {
   "cell_type": "code",
   "execution_count": 0,
   "metadata": {
    "application/vnd.databricks.v1+cell": {
     "cellMetadata": {
      "byteLimit": 2048000,
      "rowLimit": 10000
     },
     "inputWidgets": {},
     "nuid": "c67c856c-1f10-42e5-a2eb-86736d80781c",
     "showTitle": false,
     "tableResultSettingsMap": {},
     "title": ""
    }
   },
   "outputs": [
    {
     "output_type": "stream",
     "name": "stdout",
     "output_type": "stream",
     "text": [
      "\nTotal sales by customer:\n+----------+------+----------+\n|customerid|  name|totalspent|\n+----------+------+----------+\n|       101| Aditi|    146000|\n|       102| Rohan|     50000|\n|       104| Kabir|     12000|\n|       103| Meena|     10000|\n+----------+------+----------+\n\n\ncount of products per city:\n+---------+------------+\n|     city|productcount|\n+---------+------------+\n|   Mumbai|           2|\n|    Delhi|           1|\n|Bangalore|           1|\n|Hyderabad|           1|\n+---------+------------+\n\n\ntop 2 cities by revenue:\n+------+------------+\n|  city|totalrevenue|\n+------+------------+\n|Mumbai|       73000|\n| Delhi|       50000|\n+------+------------+\n\n"
     ]
    }
   ],
   "source": [
    "# Total sales by customer\n",
    "print(\"\\nTotal sales by customer:\")\n",
    "spark.sql(\"\"\"\n",
    "    select c.customerid, c.name, sum(o.totalamount) as totalspent\n",
    "    from customer_orders o\n",
    "    join customer_orders c on o.customerid = c.customerid\n",
    "    group by c.customerid, c.name\n",
    "    order by totalspent desc\n",
    "\"\"\").show()\n",
    "\n",
    "# count of products per city\n",
    "print(\"\\ncount of products per city:\")\n",
    "spark.sql(\"\"\"\n",
    "    select city, count(product) as productcount\n",
    "    from customer_orders\n",
    "    group by city\n",
    "    order by productcount desc\n",
    "\"\"\").show()\n",
    "\n",
    "# top 2 cities by revenue\n",
    "print(\"\\ntop 2 cities by revenue:\")\n",
    "spark.sql(\"\"\"\n",
    "    select city, sum(totalamount) as totalrevenue\n",
    "    from customer_orders\n",
    "    group by city\n",
    "    order by totalrevenue desc\n",
    "    limit 2\n",
    "\"\"\").show()"
   ]
  }
 ],
 "metadata": {
  "application/vnd.databricks.v1+notebook": {
   "computePreferences": null,
   "dashboards": [],
   "environmentMetadata": {
    "base_environment": "",
    "environment_version": "2"
   },
   "inputWidgetPreferences": null,
   "language": "python",
   "notebookMetadata": {
    "pythonIndentUnit": 4
   },
   "notebookName": "assignment-1",
   "widgets": {}
  },
  "language_info": {
   "name": "python"
  }
 },
 "nbformat": 4,
 "nbformat_minor": 0
}